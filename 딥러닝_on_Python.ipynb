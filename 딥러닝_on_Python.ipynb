{
  "nbformat": 4,
  "nbformat_minor": 0,
  "metadata": {
    "colab": {
      "name": "딥러닝 on Python.ipynb",
      "provenance": [],
      "authorship_tag": "ABX9TyMXkx/wUd2KQy52k3JbYX1x",
      "include_colab_link": true
    },
    "kernelspec": {
      "name": "python3",
      "display_name": "Python 3"
    },
    "language_info": {
      "name": "python"
    }
  },
  "cells": [
    {
      "cell_type": "markdown",
      "metadata": {
        "id": "view-in-github",
        "colab_type": "text"
      },
      "source": [
        "<a href=\"https://colab.research.google.com/github/tjy2202/Personal_training/blob/main/%EB%94%A5%EB%9F%AC%EB%8B%9D_on_Python.ipynb\" target=\"_parent\"><img src=\"https://colab.research.google.com/assets/colab-badge.svg\" alt=\"Open In Colab\"/></a>"
      ]
    },
    {
      "cell_type": "markdown",
      "metadata": {
        "id": "Pm3JWqbuByro"
      },
      "source": [
        "## I.딥러닝"
      ]
    },
    {
      "cell_type": "code",
      "metadata": {
        "id": "12dhJANTBrYX"
      },
      "source": [
        "# 텐서플로우 구글. 핵심코드 c++ 직관적 고수준 API, 실무사용 #텐서플로우 2.0 확인 2020 발표\n",
        "# 케라스 직관적 쉬운 API CPU,GPU 실행가능, 텐서플로우 백엔드 활용\n",
        "# 파이토치 , 페이스북 ,GPU 가속연산 => 사용 급증"
      ],
      "execution_count": null,
      "outputs": []
    },
    {
      "cell_type": "markdown",
      "metadata": {
        "id": "q35X_bVCI-dM"
      },
      "source": [
        "### 1.신경망 기초수학"
      ]
    },
    {
      "cell_type": "markdown",
      "metadata": {
        "id": "eji6_oXnSB1W"
      },
      "source": [
        "#### ㄱ.특정 구간 내에서 최소값 구하기"
      ]
    },
    {
      "cell_type": "code",
      "metadata": {
        "id": "9y42Nkcz9QDo",
        "colab": {
          "base_uri": "https://localhost:8080/",
          "height": 309
        },
        "outputId": "ab2e4b4f-cdc9-470e-c8a8-c4e486c341df"
      },
      "source": [
        "def get_minimum(x1,x2,f):\n",
        "  x = np.arange(x1,x2,0.01)\n",
        "  y = f(x)\n",
        "\n",
        "  plt.plot(x,y)\n",
        "  plt.xlabel('x')\n",
        "  plt.ylabel('y')\n",
        "  plt.title('get_minimum')\n",
        "  plt.show()\n",
        "\n",
        "  return min(y)"
      ],
      "execution_count": null,
      "outputs": [
        {
          "output_type": "display_data",
          "data": {
            "image/png": "[encoded data removed]",
            "text/plain": [
              "<Figure size 432x288 with 1 Axes>"
            ]
          },
          "metadata": {
            "tags": []
          }
        },
        {
          "output_type": "stream",
          "text": [
            "7.75\n"
          ],
          "name": "stdout"
        }
      ]
    },
    {
      "cell_type": "markdown",
      "metadata": {
        "id": "bIGRxW_GSLfG"
      },
      "source": [
        "#### ㄴ.지수함수 / 로그함수\n",
        "\n",
        "- 지수함수-로그함수는 역함수 관계 ($y=x$ 직선 대칭 단, 밑이 같을 때)\n",
        "- 파이썬으로 직접 구현 가능"
      ]
    },
    {
      "cell_type": "markdown",
      "metadata": {
        "id": "JhnA-MybSdsI"
      },
      "source": [
        "##### 지수함수\n",
        "\n",
        "- $y = a^x$ ($a \\ne 0$) (기본형)\n",
        "- $y = e^x$ ($e = 2.71828...$)"
      ]
    },
    {
      "cell_type": "code",
      "metadata": {
        "id": "de0TQqLw9jam",
        "colab": {
          "base_uri": "https://localhost:8080/",
          "height": 291
        },
        "outputId": "b0591760-079e-431b-d59c-b5026a5f2794"
      },
      "source": [
        "def exponenetial_function(x):\n",
        "  a = 4\n",
        "  return a**x\n",
        "\n",
        "def exponenetial_function2(x):\n",
        "  a = 4\n",
        "  return math.pow(a,x)\n",
        "\n",
        "x = np.arange(-3,2,0.1)\n",
        "y = exponenetial_function(x)\n",
        "\n",
        "plt.plot(x,y)\n",
        "plt.xlabel('x')\n",
        "plt.ylabel('y')\n",
        "plt.ylim(-1,15)\n",
        "plt.xlim(-4,3)\n",
        "plt.title('Exponential_function')\n",
        "plt.show()\n",
        "\n",
        "====================================================================================\n",
        "import math\n",
        "math.exp(4) #밑이 e인 지수함수\n",
        "np.exp(4)"
      ],
      "execution_count": null,
      "outputs": [
        {
          "output_type": "display_data",
          "data": {
            "image/png": "[encoded data removed]",
            "text/plain": [
              "<Figure size 432x288 with 1 Axes>"
            ]
          },
          "metadata": {
            "tags": []
          }
        }
      ]
    },
    {
      "cell_type": "markdown",
      "metadata": {
        "id": "Y2jfwY1aYNhg"
      },
      "source": [
        "##### 로그함수\n",
        "\n",
        "  <img src=\"https://upload.wikimedia.org/wikipedia/commons/thumb/7/73/Logarithms.svg/630px-Logarithms.svg.png\" width=\"300\">\n",
        "\n",
        "- $y = log_a(x)$ ($a \\ne 1$) (기본형)\n",
        "- $y=log_{10}(x)$ (상용로그)\n",
        "- $y = ln(x)$ (밑이 $e$인 자연로그)"
      ]
    },
    {
      "cell_type": "code",
      "metadata": {
        "id": "3wC2a9MfYSsf"
      },
      "source": [
        "math.log(2,3)\n",
        "np.log2(4)\n",
        "np.log(4)"
      ],
      "execution_count": null,
      "outputs": []
    },
    {
      "cell_type": "markdown",
      "metadata": {
        "id": "-ffmOsozYesJ"
      },
      "source": [
        "##### 함수 조작\n",
        "- $y = -log_a(x)$와 $y = -log_a(1-x)$  \n",
        "  x=0.5 대칭\n",
        "- Logistic Regression을 위한 함수"
      ]
    },
    {
      "cell_type": "code",
      "metadata": {
        "id": "FVYLpUvz93Bd",
        "colab": {
          "base_uri": "https://localhost:8080/",
          "height": 338
        },
        "outputId": "543f2593-5d34-47ed-8357-9bd6c3329ebd"
      },
      "source": [
        "x = np.arange(-10,10,0.01)\n",
        "y1 = -np.log(x)\n",
        "y2 = -np.log(1-x)\n",
        "\n",
        "plt.axvline(x=0, color='k')\n",
        "plt.axhline(y=0, color='k')\n",
        "\n",
        "plt.grid()\n",
        "plt.plot(x, y1, 'b-', x, y2, 'r-')\n",
        "plt.text(0.9, 2.0, 'y=-log(1-x)', fontsize=15)\n",
        "plt.text(0.1, 3, 'y=-log(x)', fontsize=15)\n",
        "plt.xlim(-0.3,1.4)\n",
        "plt.ylim(-0.5,4)\n",
        "plt.scatter(0.5,-np.log(0.5))\n",
        "plt.show()"
      ],
      "execution_count": null,
      "outputs": [
        {
          "output_type": "stream",
          "text": [
            "/usr/local/lib/python3.6/dist-packages/ipykernel_launcher.py:2: RuntimeWarning: invalid value encountered in log\n",
            "  \n",
            "/usr/local/lib/python3.6/dist-packages/ipykernel_launcher.py:3: RuntimeWarning: invalid value encountered in log\n",
            "  This is separate from the ipykernel package so we can avoid doing imports until\n"
          ],
          "name": "stderr"
        },
        {
          "output_type": "display_data",
          "data": {
            "image/png": "[encoded data removed]",
            "text/plain": [
              "<Figure size 432x288 with 1 Axes>"
            ]
          },
          "metadata": {
            "tags": []
          }
        }
      ]
    },
    {
      "cell_type": "markdown",
      "metadata": {
        "id": "QlKDuKmHSb4Z"
      },
      "source": [
        "#### ㄷ.극한\n",
        "- 극한에 대해서는 어떠한 식을 코드로 표현할 수 있다 정도로만 이해하며 참고\n",
        "- 극한에서 알아야 사실은 x가 어떤 값 a에 가까이 다가갈 때 a에 '한없이 가까이 간다'일 뿐, a에 도달하지 않는다는 점\n",
        "- 이를 표현할 때, 엡실론(epsilon)이라는 아주 작은 값(ex, 0.0001) 등으로 표현\n"
      ]
    },
    {
      "cell_type": "code",
      "metadata": {
        "id": "-nsOgiRA_F8T"
      },
      "source": [
        "from sympy import *\n",
        "\n",
        "init_printing()\n",
        "\n",
        "x, y, z=symbols('x y z')\n",
        "a, b,c, t = symbols('a b c t')"
      ],
      "execution_count": null,
      "outputs": []
    },
    {
      "cell_type": "markdown",
      "metadata": {
        "id": "kc3wHOt9_Jne"
      },
      "source": [
        "- $\\lim_{x \\to 1} \\left(\\frac{x^3-1}{x-1} \\right) = 3$\n",
        "\n",
        "- $\\lim_{x \\to \\infty} \\left(\\frac{1+x}{x} \\right)$\n",
        "\n",
        "- $\\lim_{x \\to 1}\\frac{\\sqrt{x+3}-2}{x-1} = \\frac {1}{4}$"
      ]
    },
    {
      "cell_type": "code",
      "metadata": {
        "id": "meQajCbp_HLj",
        "colab": {
          "base_uri": "https://localhost:8080/",
          "height": 389
        },
        "outputId": "10e45e24-4940-4a49-9eac-8495b578fe0c"
      },
      "source": [
        "from sympy import limit, plot\n",
        "\n",
        "print('극한값:',limit((x**3-1) / (x-1), x, 1))\n",
        "print('극한값:',limit((1+x) / x, x, oo))\n",
        "print('극한값:',limit( (sqrt(x+3) - 2) / (x-1), x, 1))\n",
        "\n",
        "plot( ((x**3-1) / (x-1)), xlim=(-5,5), ylim = (-1,10) );"
      ],
      "execution_count": null,
      "outputs": [
        {
          "output_type": "stream",
          "text": [
            "극한값: 3\n"
          ],
          "name": "stdout"
        },
        {
          "output_type": "stream",
          "text": [
            "/usr/local/lib/python3.6/dist-packages/sympy/plotting/plot.py:890: MatplotlibDeprecationWarning: \n",
            "The set_smart_bounds function was deprecated in Matplotlib 3.2 and will be removed two minor releases later.\n",
            "  self.ax.spines['left'].set_smart_bounds(True)\n",
            "/usr/local/lib/python3.6/dist-packages/sympy/plotting/plot.py:891: MatplotlibDeprecationWarning: \n",
            "The set_smart_bounds function was deprecated in Matplotlib 3.2 and will be removed two minor releases later.\n",
            "  self.ax.spines['bottom'].set_smart_bounds(False)\n"
          ],
          "name": "stderr"
        },
        {
          "output_type": "display_data",
          "data": {
            "image/png": "[encoded data removed]",
            "text/plain": [
              "<Figure size 432x288 with 1 Axes>"
            ]
          },
          "metadata": {
            "tags": []
          }
        }
      ]
    },
    {
      "cell_type": "markdown",
      "metadata": {
        "id": "zP043nPyY6Aj"
      },
      "source": [
        "##### 삼각함수의 극한\n",
        "\n",
        "- $\\lim_{x \\to \\frac{\\pi}{2} +0}\\ \\tan x = -\\infty$\n",
        "\n",
        "- $\\lim_{x \\to \\frac{\\pi}{2} -0}\\ \\tan x = \\infty$\n",
        "\n",
        "- $\\lim_{x \\to 0} \\left(\\frac{\\sin x}{x} \\right) = 1$\n",
        "\n",
        "- $\\lim_{x \\to 0} x \\sin \\left(\\frac{1}{x} \\right)$"
      ]
    },
    {
      "cell_type": "code",
      "metadata": {
        "id": "aU3AHChm_HFP",
        "colab": {
          "base_uri": "https://localhost:8080/",
          "height": 424
        },
        "outputId": "2f0782e3-1d6c-4985-f3af-e60ca3c6089d"
      },
      "source": [
        "print('극한값: ',limit( tan(x), x, pi/2, '+'))\n",
        "print('극한값: ',limit( tan(x), x, pi/2, '-'))\n",
        "print('극한값: ',limit( sin(x)/ x, x,0))\n",
        "print('극한값:', limit( x * sin(1/x), x, 0))\n",
        "\n",
        "plot( tan(x), xlim=(-3.14, 3.14), ylim=(-6,6))"
      ],
      "execution_count": null,
      "outputs": [
        {
          "output_type": "stream",
          "text": [
            "극한값:  -oo\n",
            "극한값:  oo\n"
          ],
          "name": "stdout"
        },
        {
          "output_type": "stream",
          "text": [
            "/usr/local/lib/python3.6/dist-packages/sympy/plotting/plot.py:890: MatplotlibDeprecationWarning: \n",
            "The set_smart_bounds function was deprecated in Matplotlib 3.2 and will be removed two minor releases later.\n",
            "  self.ax.spines['left'].set_smart_bounds(True)\n",
            "/usr/local/lib/python3.6/dist-packages/sympy/plotting/plot.py:891: MatplotlibDeprecationWarning: \n",
            "The set_smart_bounds function was deprecated in Matplotlib 3.2 and will be removed two minor releases later.\n",
            "  self.ax.spines['bottom'].set_smart_bounds(False)\n"
          ],
          "name": "stderr"
        },
        {
          "output_type": "display_data",
          "data": {
            "image/png": "[encoded data removed]",
            "text/plain": [
              "<Figure size 432x288 with 1 Axes>"
            ]
          },
          "metadata": {
            "tags": []
          }
        },
        {
          "output_type": "execute_result",
          "data": {
            "text/plain": [
              "<sympy.plotting.plot.Plot at 0x7f195cbdddd8>"
            ]
          },
          "metadata": {
            "tags": []
          },
          "execution_count": 49
        }
      ]
    },
    {
      "cell_type": "markdown",
      "metadata": {
        "id": "7EpNbQ7o_v5w"
      },
      "source": [
        "##### 지수함수, 로그함수의 극한\n",
        "\n",
        "- $\\lim_{x \\to \\infty} \\left( \\frac{2^x - 2^{-x}}{2^x + 2^{-x}} \\right)$\n",
        "\n",
        "- $lim_{x \\to \\infty} \\left (\\ log_2(x+1) - log_2(x) \\ \\right) = 0$"
      ]
    },
    {
      "cell_type": "code",
      "metadata": {
        "id": "bMaFU3cS_G91",
        "colab": {
          "base_uri": "https://localhost:8080/",
          "height": 400
        },
        "outputId": "8a2855e5-28e6-47f8-cb01-332987108156"
      },
      "source": [
        "print('극한값:', limit( (2**x-2**(-x)) / (2**x+2**(-x)), x, oo))\n",
        "print('극한값:', limit( log(x+1, 2) - log(x,2), x, oo)) # o '오' 두개\n",
        "plot( (2**x-2**(-x)) / (2**x+2**(-x)), xlim=(-10,10),ylim=(-3,3))"
      ],
      "execution_count": null,
      "outputs": [
        {
          "output_type": "stream",
          "text": [
            "극한값: 1\n"
          ],
          "name": "stdout"
        },
        {
          "output_type": "stream",
          "text": [
            "/usr/local/lib/python3.6/dist-packages/sympy/plotting/plot.py:890: MatplotlibDeprecationWarning: \n",
            "The set_smart_bounds function was deprecated in Matplotlib 3.2 and will be removed two minor releases later.\n",
            "  self.ax.spines['left'].set_smart_bounds(True)\n",
            "/usr/local/lib/python3.6/dist-packages/sympy/plotting/plot.py:891: MatplotlibDeprecationWarning: \n",
            "The set_smart_bounds function was deprecated in Matplotlib 3.2 and will be removed two minor releases later.\n",
            "  self.ax.spines['bottom'].set_smart_bounds(False)\n"
          ],
          "name": "stderr"
        },
        {
          "output_type": "display_data",
          "data": {
            "image/png": "[encoded data removed]",
            "text/plain": [
              "<Figure size 432x288 with 1 Axes>"
            ]
          },
          "metadata": {
            "tags": []
          }
        },
        {
          "output_type": "execute_result",
          "data": {
            "text/plain": [
              "<sympy.plotting.plot.Plot at 0x7f195c7c8f60>"
            ]
          },
          "metadata": {
            "tags": []
          },
          "execution_count": 56
        }
      ]
    },
    {
      "cell_type": "markdown",
      "metadata": {
        "id": "lNqX2xM2__Bd"
      },
      "source": [
        "##### 자연로그(e)의 밑\n",
        "(1) $lim_{x \\to \\infty} \\ (1 + \\frac{1}{x})^x \\ = e$  \n",
        "(2) $\\lim_{x \\to \\infty} \\ (1 + \\frac{2}{x}^x) \\ = e^2$  \n",
        "(3) $\\lim_{x \\to 0} \\ \\frac{(e^x - 1)}{x} = 1$  \n",
        "(4) $\\lim_{x \\to 0} \\ \\frac{ln(1 + x)}{x} = 1$"
      ]
    },
    {
      "cell_type": "code",
      "metadata": {
        "id": "lDchRaWv_-yb",
        "colab": {
          "base_uri": "https://localhost:8080/",
          "height": 454
        },
        "outputId": "d629eb4e-046e-476d-f149-4946b78deebb"
      },
      "source": [
        "print('(1): ',limit( (1+1/x)**x, x, oo))\n",
        "print('(2): ',limit( (1+2/x)**x, x, oo))\n",
        "print('(3): ',limit( (exp(x)-1) / x, x, 0 ))\n",
        "print('(4): ',limit( log(1+x) / x, x, 0 ))\n",
        "\n",
        "plot( ln(1+x) / x, xlim=(-4,6), ylim=(-2,8) )"
      ],
      "execution_count": null,
      "outputs": [
        {
          "output_type": "stream",
          "text": [
            "(1):  E\n",
            "(2):  exp(2)\n",
            "(3):  1\n",
            "(4):  1\n"
          ],
          "name": "stdout"
        },
        {
          "output_type": "stream",
          "text": [
            "/usr/local/lib/python3.6/dist-packages/sympy/plotting/plot.py:890: MatplotlibDeprecationWarning: \n",
            "The set_smart_bounds function was deprecated in Matplotlib 3.2 and will be removed two minor releases later.\n",
            "  self.ax.spines['left'].set_smart_bounds(True)\n",
            "/usr/local/lib/python3.6/dist-packages/sympy/plotting/plot.py:891: MatplotlibDeprecationWarning: \n",
            "The set_smart_bounds function was deprecated in Matplotlib 3.2 and will be removed two minor releases later.\n",
            "  self.ax.spines['bottom'].set_smart_bounds(False)\n"
          ],
          "name": "stderr"
        },
        {
          "output_type": "display_data",
          "data": {
            "image/png": "[encoded data removed]",
            "text/plain": [
              "<Figure size 432x288 with 1 Axes>"
            ]
          },
          "metadata": {
            "tags": []
          }
        },
        {
          "output_type": "execute_result",
          "data": {
            "text/plain": [
              "<sympy.plotting.plot.Plot at 0x7f195ce169e8>"
            ]
          },
          "metadata": {
            "tags": []
          },
          "execution_count": 66
        }
      ]
    },
    {
      "cell_type": "markdown",
      "metadata": {
        "id": "qIe2kNuvScRk"
      },
      "source": [
        "#### ㄹ.미분\n",
        "- 어떤 한 순간의 변화량을 표시한 것"
      ]
    },
    {
      "cell_type": "markdown",
      "metadata": {
        "id": "S4zEKXvTAey8"
      },
      "source": [
        "- $\\frac{d}{dx} (c) = 0\\ (c는 상수)$\n",
        "\n",
        "- $\\frac{d}{dx} [cf(x)] = cf^\\prime (x)$\n",
        "\n",
        "- $\\frac{d}{dx} [f(x) + g(x)] = f^\\prime(x) + g^\\prime(x)$\n",
        "\n",
        "- $\\frac{d}{dx} [f(x)-g(x)] = f^\\prime(x)\\ - \\ g^\\prime(x)$\n",
        "\n",
        "- $\\frac{d}{dx} [f(x)g(x)] = f(x)g^\\prime(x)\\ + \\ f^\\prime(x)g(x)\\ (곱셈공식)$\n",
        "\n",
        "- $\\frac{d}{dx} [\\frac{f(x)}{g(x)}] = \\frac{g(x)f^\\prime(x)\\ - \\ f(x)g^\\prime(x)}{[g(x)]^2}$\n",
        "\n",
        "- $\\frac{d}{dx} [x^n] = nx^n-1$"
      ]
    },
    {
      "cell_type": "markdown",
      "metadata": {
        "id": "cd2lfAH1hckk"
      },
      "source": [
        "##### 미분과 기울기\n",
        "\n",
        "- 어떤 함수를 나타내는 그래프에서 한 점의 미분값(미분계수)를 구하는 것은 해당 점에서의 접선을 의미\n",
        "\n",
        "![](https://upload.wikimedia.org/wikipedia/commons/thumb/0/0f/Tangent_to_a_curve.svg/440px-Tangent_to_a_curve.svg.png)\n",
        "<br /><sub>출처: https://ko.wikipedia.org/wiki/%EB%AF%B8%EB%B6%84</sub>\n",
        "\n",
        "* 기울기는 **방향성**을 가짐\n",
        "  + 이용할 미분 식 (수치 미분)  \n",
        "      $\\frac{df(x)}{dx} = \\lim_{x \\to \\infty} \\frac{f(x+h) - f(x-h)}{2h}$\n",
        "\n",
        "* [주의] $ \\ h \\ $는 아주 작은 수를 뜻하는데, 예를 들어 $\\ 10e-50 \\ $ 정도의 수를 하면 파이썬은 이를 $0.0$으로 인식\n",
        "* 따라서, 딥러닝에서 아주 작은 수를 정할 때 $\\ 1e-4\\ $ 정도로 설정해도 무방"
      ]
    },
    {
      "cell_type": "code",
      "metadata": {
        "id": "a4JMZezv_Gz2"
      },
      "source": [
        "def numerical_differential(f,x):\n",
        "  h = 1e-4\n",
        "  return (f(x+h)-f(x-h)) / (2*h)"
      ],
      "execution_count": null,
      "outputs": []
    },
    {
      "cell_type": "markdown",
      "metadata": {
        "id": "b08DMLsVAHiy"
      },
      "source": [
        "##### 함수 위의 점 $(a, b)$에서의 접선의 방정식\n",
        "\n",
        "  - 예제 : 점 (1, 7) 에서의 기울기\n"
      ]
    },
    {
      "cell_type": "code",
      "metadata": {
        "id": "RpmBem5Z_Gx7",
        "colab": {
          "base_uri": "https://localhost:8080/",
          "height": 291
        },
        "outputId": "a7c212dc-93b7-4469-e962-5d7bb79a0790"
      },
      "source": [
        "def my_func(x):\n",
        "  return 2*x**2 + 3*x + 2\n",
        "\n",
        "def linear_func(a,b, c, x):\n",
        "  return c*(x-a) + b\n",
        "\n",
        "c = numerical_differential(my_func, 1)\n",
        "\n",
        "x = np.arange(-5, 5, 0.01)\n",
        "y = linear_func(1, my_func(1), c,x)\n",
        "\n",
        "plt.xlabel('x')\n",
        "plt.ylabel('y')\n",
        "plt.scatter(1,my_func(1))\n",
        "plt.plot(x, my_func(x), x, y, 'r-')\n",
        "plt.title('f(x) & linear function')\n",
        "plt.show()"
      ],
      "execution_count": null,
      "outputs": [
        {
          "output_type": "display_data",
          "data": {
            "image/png": "[encoded data removed]",
            "text/plain": [
              "<Figure size 432x288 with 1 Axes>"
            ]
          },
          "metadata": {
            "tags": []
          }
        }
      ]
    },
    {
      "cell_type": "markdown",
      "metadata": {
        "id": "dy1dyV7hAhqe"
      },
      "source": [
        "##### 편미분\n",
        "- 변수가 1개짜리인 위의 수치미분과 달리, 변수가 2개 이상일 때의 미분법을 편미분이라 함\n",
        "- 다변수 함수에서 특정 변수를 제외한 나머지 변수는 상수로 처리하여 미분을 하는 것\n",
        "- 각 변수에 대해 미분 표시를 $\\sigma$를 통해 나타남\n",
        "- ex) $f(x_0, x_1) = x_0^2 + x_1^2$  \n"
      ]
    },
    {
      "cell_type": "code",
      "metadata": {
        "id": "tOk4Z8hZ_GpT",
        "colab": {
          "base_uri": "https://localhost:8080/",
          "height": 319
        },
        "outputId": "f6b7f0d5-d060-4d9b-fdca-ffb4a590b955"
      },
      "source": [
        "from mpl_toolkits.mplot3d import Axes3D\n",
        "\n",
        "def my_func2(x):\n",
        "  return (x[0]**2 + x[1] ** 2)\n",
        "\n",
        "x = np.arange(-4.0, 4.0, 0.4)\n",
        "y = np.arange(-4.0, 4.0, 0.4)\n",
        "X,Y = np.meshgrid(x, y)\n",
        "Z = X **2 + Y**2\n",
        "\n",
        "fig = plt.figure()\n",
        "ax = Axes3D(fig)\n",
        "ax.plot_surface(X,Y,Z, rstride=1, cstride=1, cmap = 'coolwarm')\n",
        "ax.set_title('f(x, y) = x**2 + y**2')\n",
        "plt.show()"
      ],
      "execution_count": null,
      "outputs": [
        {
          "output_type": "display_data",
          "data": {
            "image/png": "[encoded data removed]",
            "text/plain": [
              "<Figure size 432x288 with 1 Axes>"
            ]
          },
          "metadata": {
            "tags": []
          }
        }
      ]
    },
    {
      "cell_type": "markdown",
      "metadata": {
        "id": "tFAeJgghAnzt"
      },
      "source": [
        "- 예제1 : x0에 대한 편미분, $\\frac{\\sigma f}{\\sigma x_0}$"
      ]
    },
    {
      "cell_type": "code",
      "metadata": {
        "id": "TuQEesgO_Ggd",
        "colab": {
          "base_uri": "https://localhost:8080/",
          "height": 35
        },
        "outputId": "1ec4d061-b7d5-42de-f57c-1b249e8c6f6f"
      },
      "source": [
        "x = np.array([1,2])\n",
        "\n",
        "def f0_function(x0):\n",
        "  return (x0 ** 2) + (2**2)\n",
        "\n",
        "print(numerical_differential(f0_function, x[0]))"
      ],
      "execution_count": null,
      "outputs": [
        {
          "output_type": "stream",
          "text": [
            "1.9999999999997797\n"
          ],
          "name": "stdout"
        }
      ]
    },
    {
      "cell_type": "markdown",
      "metadata": {
        "id": "kC9BBcOPAqJ_"
      },
      "source": [
        "- 예제2 : x1에 대한 편미분, $\\frac{\\sigma f}{\\sigma x_1}$"
      ]
    },
    {
      "cell_type": "code",
      "metadata": {
        "id": "xli2kkOWApO5",
        "colab": {
          "base_uri": "https://localhost:8080/",
          "height": 35
        },
        "outputId": "2dd1c700-68ee-4e2d-af8a-3469f745843f"
      },
      "source": [
        "def f1_function(x1):\n",
        "  return (1 ** 2) + (x1**2)\n",
        "\n",
        "print(numerical_differential(f1_function, x[1]))"
      ],
      "execution_count": null,
      "outputs": [
        {
          "output_type": "stream",
          "text": [
            "4.000000000004\n"
          ],
          "name": "stdout"
        }
      ]
    },
    {
      "cell_type": "markdown",
      "metadata": {
        "id": "DNh2TtSwAuzl"
      },
      "source": [
        "##### 기울기(gradient)\n",
        "- 방향성을 가짐"
      ]
    },
    {
      "cell_type": "code",
      "metadata": {
        "id": "spMUYlpGAszI"
      },
      "source": [
        "def numerical_diff(f,x):\n",
        "  h = 1e-5\n",
        "  grad = np.zeros_like(x)\n",
        "\n",
        "  for i in range(x.size):\n",
        "    tmp = x[i]\n",
        "\n",
        "    x[i] = tmp + h\n",
        "    fxh1 = f(x)\n",
        "\n",
        "    x[i] = tmp - h\n",
        "    fxh2 = f(x)\n",
        "\n",
        "    grad[i] = (fxh1 - fxh2) / (2*h)\n",
        "    x[i] = tmp\n",
        "\n",
        "  return grad"
      ],
      "execution_count": null,
      "outputs": []
    },
    {
      "cell_type": "code",
      "metadata": {
        "id": "jvZJxSGPAyAI",
        "colab": {
          "base_uri": "https://localhost:8080/",
          "height": 71
        },
        "outputId": "0206774d-4bbc-4ac9-856c-97cef451da9a"
      },
      "source": [
        "print(numerical_diff(my_func2, np.array([3.0,4.0])))# [3,4]랑 [3.0,4.0] 이랑의 차이?\n",
        "print(numerical_diff(my_func2, np.array([1.0,2.0])))\n",
        "print(numerical_diff(my_func2, np.array([1,2])))"
      ],
      "execution_count": null,
      "outputs": [
        {
          "output_type": "stream",
          "text": [
            "[6. 8.]\n",
            "[2. 4.]\n",
            "[ 49999 150000]\n"
          ],
          "name": "stdout"
        }
      ]
    },
    {
      "cell_type": "markdown",
      "metadata": {
        "id": "kE2ei5qYA1cF"
      },
      "source": [
        "기울기의 의미를 그래프로 확인\n",
        "* 기울기가 가장 낮은 장소(가운데)로부터 거리가 멀어질수록 기울기가 커짐\n",
        "* 기울기가 커진다는 것은 영향을 많이 받는다는 의미  \n",
        "* 기울기가 작다는 것은 영향을 적게 받는다는 의미"
      ]
    },
    {
      "cell_type": "code",
      "metadata": {
        "id": "zohJoPnHA0tH",
        "colab": {
          "base_uri": "https://localhost:8080/",
          "height": 262
        },
        "outputId": "1e5cb001-3d50-43b7-9fcc-1cce7a06b379"
      },
      "source": [
        "X = np.arange(-20,20,2)\n",
        "Y = np.arange(-20,20,2)\n",
        "\n",
        "U,V = np.meshgrid(X,Y)\n",
        "\n",
        "fig,ax = plt.subplots()\n",
        "q = ax.quiver(X,Y,U,V)\n",
        "ax.quiverkey(q,X=0.4,Y=1.0,U=20,label='Quiver key', labelpos='E')\n",
        "plt.show()"
      ],
      "execution_count": null,
      "outputs": [
        {
          "output_type": "display_data",
          "data": {
            "image/png": "[encoded data removed]",
            "text/plain": [
              "<Figure size 432x288 with 1 Axes>"
            ]
          },
          "metadata": {
            "tags": []
          }
        }
      ]
    },
    {
      "cell_type": "markdown",
      "metadata": {
        "id": "yRIZN4llceAh"
      },
      "source": [
        "### 2.신경망 데이터 표현"
      ]
    },
    {
      "cell_type": "markdown",
      "metadata": {
        "id": "7Ic-YQ7xBQ9m"
      },
      "source": [
        "텐서(Tensor)\n",
        "- 일반적으로 텐서는 3차원 이상을 다룰 때 표현하는 방식이지만, 여기서는 어떠한 데이터를 표현할 때, 그 값 모두를 텐서라고 부르기로 함\n",
        "\n",
        "      a = np.array([1, 2])\n",
        "      b = np.array([[1, 2],\n",
        "                    [3, 4]])\n",
        "      c = np.array([10]) \n",
        "      d = np.array(3)  \n",
        "  \n",
        "    a, b, c, d 모두 텐서라고 지칭할 수 있음\n",
        "  \n",
        "- 랭크(rank): 텐서의 축을 나타내고, 넘파이(numpy)의 `ndim`으로 구할 수 있음\n",
        "\n",
        "      a = np.array([1, 2])\n",
        "        >> ndim = 1  \n",
        "      b = np.array([[1, 2],\n",
        "                    [3, 4]])\n",
        "        >> ndim = 2\n",
        "      d = np.array(3)\n",
        "        >> ndim = 0\n",
        "      \n",
        "    위의 예시에서 알 수 있듯이 대괄호( [ ] )의 개수가 곧 랭크(축)의 값\n",
        "    \n",
        "      \n",
        "- 크기(shape): 텐서의 각 축을 따라 얼마나 많은 차원이 있는지를 나타내며, 파이썬의 튜플(tuple) 형태\n"
      ]
    },
    {
      "cell_type": "markdown",
      "metadata": {
        "id": "ehzSlqdjBVxB"
      },
      "source": [
        "#### ㄱ.그림으로 이해하기\n",
        "\n",
        "![array](https://www.oreilly.com/library/view/elegant-scipy/9781491922927/assets/elsp_0105.png)\n",
        "<br /><sub>출처: https://www.oreilly.com/library/view/elegant-scipy/9781491922927/ch01.html</sub>"
      ]
    },
    {
      "cell_type": "markdown",
      "metadata": {
        "id": "AxZDqX5HBYMf"
      },
      "source": [
        "#### ㄴ.스칼라(0차원 텐서)\n",
        "- 하나의 숫자를 담고 있는 텐서(tensor)\n",
        "- 형상은 없음"
      ]
    },
    {
      "cell_type": "code",
      "metadata": {
        "id": "TicFogkHBPRW",
        "colab": {
          "base_uri": "https://localhost:8080/"
        },
        "outputId": "e1af31c7-bca9-4482-f968-22c59137f8e3"
      },
      "source": [
        "x = np.array(3)\n",
        "print(x)\n",
        "print(x.shape)\n",
        "print(np.ndim(x))"
      ],
      "execution_count": null,
      "outputs": [
        {
          "output_type": "stream",
          "text": [
            "3\n",
            "()\n",
            "0\n"
          ],
          "name": "stdout"
        }
      ]
    },
    {
      "cell_type": "markdown",
      "metadata": {
        "id": "rab-I4gyBeZw"
      },
      "source": [
        "#### ㄷ.벡터(1차원 텐서)\n",
        "- 숫자의 배열을 나타내는 텐서\n"
      ]
    },
    {
      "cell_type": "code",
      "metadata": {
        "id": "s4gm0mRVBZwa",
        "colab": {
          "base_uri": "https://localhost:8080/"
        },
        "outputId": "42330a02-c3c2-43e8-dcae-3adeed700a3a"
      },
      "source": [
        "x = np.array([1,2,3,4])\n",
        "print(x)\n",
        "print(x.shape)\n",
        "print(np.ndim(x))"
      ],
      "execution_count": null,
      "outputs": [
        {
          "output_type": "stream",
          "text": [
            "[1 2 3 4]\n",
            "(4,)\n",
            "1\n"
          ],
          "name": "stdout"
        }
      ]
    },
    {
      "cell_type": "markdown",
      "metadata": {
        "id": "-S3G7ym8Bh6I"
      },
      "source": [
        "##### 벡터의 합\n",
        "- 같은 형상(shape)일 때, 각 원소별로 계산"
      ]
    },
    {
      "cell_type": "code",
      "metadata": {
        "id": "6pzPyoNqBcgn",
        "colab": {
          "base_uri": "https://localhost:8080/"
        },
        "outputId": "43a1c74f-0f2c-40ba-acd4-a51c1e7f1ad0"
      },
      "source": [
        "a = np.array([1,2,3,4])\n",
        "b = np.array([5,6,7,8])\n",
        "c = a + b\n",
        "\n",
        "print(a)\n",
        "print(b)\n",
        "print(c)\n",
        "print(c.shape)\n",
        "print(np.ndim(c))"
      ],
      "execution_count": null,
      "outputs": [
        {
          "output_type": "stream",
          "text": [
            "[1 2 3 4]\n",
            "[5 6 7 8]\n",
            "[ 6  8 10 12]\n",
            "(4,)\n",
            "1\n"
          ],
          "name": "stdout"
        }
      ]
    },
    {
      "cell_type": "markdown",
      "metadata": {
        "id": "RqnBR8DyBla5"
      },
      "source": [
        "##### 벡터의 곱\n",
        "-  $A = (x_1, \\ x_2, \\ x3, \\ ..., \\ x_n)$  \n",
        "  $B = (y_1, \\ y_2, \\ y3, \\ ..., \\ y_n)$ 일 때,\n",
        "- 원소곱\n",
        "  - 같은 형상(shape)일 때, 각 원소별로 계산   \n",
        "   \n",
        "    $A \\times B = (x_1, \\ x_2, \\ x_3, \\ ..., \\ x_n) \\times (y_1, \\ y_2, \\ y_3, \\ ..., \\ y_n) \\\\   \n",
        "    \\qquad = (x_1y_1, \\ x_2y_2, \\ x_3y_3, \\ ... \\ ,  \\ x_ny_n)  $\n",
        "    \n",
        "- 벡터곱(product, dot)\n",
        "  - 두 1차원 벡터가 있을 때 **각각의 성분끼리의 곱을 모두 더하는 계산**  \n",
        "  \n",
        "    $A \\bullet B \\Rightarrow A \\times B^T = (x_1, \\ x_2, \\ x_3, \\ ..., \\ x_n) \\begin{pmatrix} y_1 \\\\ y_2 \\\\ y_3 \\\\ ... \\\\ y_n  \\end{pmatrix} \\\\  \n",
        "    \\qquad = (x_1y_1 + \\ x_2y_2 + \\ x_3y_3 + \\ ... + \\ x_ny_n)  $\n",
        "  "
      ]
    },
    {
      "cell_type": "code",
      "metadata": {
        "id": "kxcrUZPwBceX",
        "colab": {
          "base_uri": "https://localhost:8080/"
        },
        "outputId": "9bcdeac6-14da-41e2-c0d1-c3741c123651"
      },
      "source": [
        "a = np.array([1,2,3,4])\n",
        "b = np.array([5,6,7,8])\n",
        "c = a * b\n",
        "print(a)\n",
        "print(b)\n",
        "print(c)\n",
        "print(c.shape)\n",
        "print(np.ndim(c))\n",
        "print('--------------------------')\n",
        "x=np.array([1,2,0])\n",
        "y=np.array([0,2,1])\n",
        "z = np.dot(x,y)\n",
        "print(x)\n",
        "print(y)\n",
        "print(z)\n",
        "print(z.shape)\n",
        "print(np.ndim(z))"
      ],
      "execution_count": null,
      "outputs": [
        {
          "output_type": "stream",
          "text": [
            "[1 2 3 4]\n",
            "[5 6 7 8]\n",
            "[ 5 12 21 32]\n",
            "(4,)\n",
            "1\n",
            "--------------------------\n",
            "[1 2 0]\n",
            "[0 2 1]\n",
            "4\n",
            "()\n",
            "0\n"
          ],
          "name": "stdout"
        }
      ]
    },
    {
      "cell_type": "markdown",
      "metadata": {
        "id": "IIKrmykBBpn4"
      },
      "source": [
        "#### ㄷ.스칼라와 벡터의 곱\n"
      ]
    },
    {
      "cell_type": "code",
      "metadata": {
        "id": "CWNGJnA9BcaU",
        "colab": {
          "base_uri": "https://localhost:8080/"
        },
        "outputId": "7eb7a12c-d8ce-43ac-dc58-fb893b160bec"
      },
      "source": [
        "a = np.array(10)\n",
        "b = np.array([1,2,3])\n",
        "print( a* b)"
      ],
      "execution_count": null,
      "outputs": [
        {
          "output_type": "stream",
          "text": [
            "[10 20 30]\n"
          ],
          "name": "stdout"
        }
      ]
    },
    {
      "cell_type": "markdown",
      "metadata": {
        "id": "a_WUc48rBszu"
      },
      "source": [
        "#### ㄹ.2차원 텐서(행렬)\n",
        "- 2차원 텐서는 행렬로 생각할 수 있음\n",
        "    - (m, n) 형상의 배열\n",
        "\n",
        "\n"
      ]
    },
    {
      "cell_type": "markdown",
      "metadata": {
        "id": "OTR-4Hjkdjov"
      },
      "source": [
        "![matrix](https://upload.wikimedia.org/wikipedia/commons/thumb/4/4d/Matrix_ko.svg/570px-Matrix_ko.svg.png)\n",
        "<br /><sub>출처: https://ko.wikipedia.org/wiki/%ED%96%89%EB%A0%AC</sub>"
      ]
    },
    {
      "cell_type": "code",
      "metadata": {
        "id": "M6QQeHZJBcX6",
        "colab": {
          "base_uri": "https://localhost:8080/"
        },
        "outputId": "33a733f7-8293-45e6-c0fc-8324a5f333c7"
      },
      "source": [
        "matrix = np.array([[1,2,3],\n",
        "                  [4,5,6]])\n",
        "print(matrix)\n",
        "print(matrix.shape)\n",
        "print(np.ndim(matrix))\n",
        "print('------------------')\n",
        "matrix2 = np.array([[1,2,3,4]])\n",
        "print(matrix2)\n",
        "print(matrix2.shape)\n",
        "print(np.ndim(matrix2))"
      ],
      "execution_count": null,
      "outputs": [
        {
          "output_type": "stream",
          "text": [
            "[[1 2 3]\n",
            " [4 5 6]]\n",
            "(2, 3)\n",
            "2\n",
            "------------------\n",
            "[[1 2 3 4]]\n",
            "(1, 4)\n",
            "2\n"
          ],
          "name": "stdout"
        }
      ]
    },
    {
      "cell_type": "markdown",
      "metadata": {
        "id": "6LEedf9GB2G1"
      },
      "source": [
        "##### 행렬 원소곱\n",
        "- 같은 형상(shape)일 때 덧셈, 곱셈과 같은 연산은 원소별로 진행\n"
      ]
    },
    {
      "cell_type": "code",
      "metadata": {
        "id": "PchJ4TwyBcVc",
        "colab": {
          "base_uri": "https://localhost:8080/"
        },
        "outputId": "9fa167d2-8e62-4f1d-9df5-a71b60b458f4"
      },
      "source": [
        "A = np.array([[1,2],[3,4]])\n",
        "B = np.array([[10,10],[10,10]])\n",
        "\n",
        "print('행렬 A\\n',A)\n",
        "print('행렬 B\\n',B)\n",
        "print('A * B\\n',A*B)"
      ],
      "execution_count": null,
      "outputs": [
        {
          "output_type": "stream",
          "text": [
            "행렬 A\n",
            " [[1 2]\n",
            " [3 4]]\n",
            "행렬 B\n",
            " [[10 10]\n",
            " [10 10]]\n",
            "A * B\n",
            " [[10 20]\n",
            " [30 40]]\n"
          ],
          "name": "stdout"
        }
      ]
    },
    {
      "cell_type": "markdown",
      "metadata": {
        "id": "_cvFlhuCB5hz"
      },
      "source": [
        "##### 행렬 점곱(내적, product)\n",
        "- 1차원 벡터와 마찬가지로 앞 행렬의 열과 뒤 행렬의 행의 수가 같아야함"
      ]
    },
    {
      "cell_type": "code",
      "metadata": {
        "id": "452G60yvBcRr",
        "colab": {
          "base_uri": "https://localhost:8080/"
        },
        "outputId": "5a33d8a9-aaf2-44a6-8cb6-eddbb89d6bb0"
      },
      "source": [
        "M = np.array([[1,2],[3,4]])\n",
        "N = np.array([[2,3,4],[2,3,4]])\n",
        "print('행렬 M\\n',M)\n",
        "print('행렬 N\\n',N)\n",
        "L = np.dot(M,N)\n",
        "print('행렬 L\\n',L)\n",
        "print(L.shape)\n",
        "print(np.ndim(L))"
      ],
      "execution_count": null,
      "outputs": [
        {
          "output_type": "stream",
          "text": [
            "행렬 M\n",
            " [[1 2]\n",
            " [3 4]]\n",
            "행렬 N\n",
            " [[2 3 4]\n",
            " [2 3 4]]\n",
            "행렬 L\n",
            " [[ 6  9 12]\n",
            " [14 21 28]]\n",
            "(2, 3)\n",
            "2\n"
          ],
          "name": "stdout"
        }
      ]
    },
    {
      "cell_type": "code",
      "metadata": {
        "id": "oSgCXPJzBb0_",
        "colab": {
          "base_uri": "https://localhost:8080/"
        },
        "outputId": "4da5d42b-ed5f-4bc1-a9a4-1e14bd901fad"
      },
      "source": [
        "m = np.array([[1,2,3]])\n",
        "n = np.array([[1],[2],[3]])\n",
        "l = np.dot(m,n)\n",
        "\n",
        "print(m.shape)\n",
        "print(l)\n",
        "print(l.shape)\n",
        "print(np.ndim(l))"
      ],
      "execution_count": 4,
      "outputs": [
        {
          "output_type": "stream",
          "text": [
            "(1, 3)\n",
            "[[14]]\n",
            "(1, 1)\n",
            "2\n"
          ],
          "name": "stdout"
        }
      ]
    },
    {
      "cell_type": "markdown",
      "metadata": {
        "id": "gfWlP-BtCAzE"
      },
      "source": [
        "##### 역행렬\n",
        "- 어떤 행렬 A가 있을 때, 곱해서 단위행렬(E)를 만드는 행렬 B가 존재한다면, 행렬 B는 A의 역행렬"
      ]
    },
    {
      "cell_type": "code",
      "metadata": {
        "id": "0i_L09ggBbwa",
        "colab": {
          "base_uri": "https://localhost:8080/"
        },
        "outputId": "71d49b7e-e0db-4057-b3a4-452d2a1f22a7"
      },
      "source": [
        "A = np.array([[1,2],[3,4]])\n",
        "print(A)\n",
        "B = np.linalg.inv(A)\n",
        "print(B)\n",
        "print(np.dot(A,B))\n",
        "\n",
        "C = np.array([[3,3],[2,2]])\n",
        "print(np.linalg.inv(C)) #역행렬 존재 x"
      ],
      "execution_count": null,
      "outputs": [
        {
          "output_type": "stream",
          "text": [
            "[[1 2]\n",
            " [3 4]]\n",
            "[[-2.   1. ]\n",
            " [ 1.5 -0.5]]\n",
            "[[1.0000000e+00 0.0000000e+00]\n",
            " [8.8817842e-16 1.0000000e+00]]\n"
          ],
          "name": "stdout"
        }
      ]
    },
    {
      "cell_type": "markdown",
      "metadata": {
        "id": "G75LpaMmCGtW"
      },
      "source": [
        "##### 전치행렬\n",
        "- 행과 열을 바꾼 배열의 형태\n",
        "\n",
        "![](https://upload.wikimedia.org/wikipedia/commons/e/e4/Matrix_transpose.gif)\n",
        "<br /><sub>출처: https://ko.wikipedia.org/wiki/%EC%A0%84%EC%B9%98%ED%96%89%EB%A0%AC</sub>"
      ]
    },
    {
      "cell_type": "code",
      "metadata": {
        "id": "3QKPQKIjBbre",
        "colab": {
          "base_uri": "https://localhost:8080/"
        },
        "outputId": "1ba6f54a-f897-46e1-f7d1-6d94d4ab85b8"
      },
      "source": [
        "A = np.array([[1,2,3],[4,5,6]])\n",
        "print('A\\n',A)\n",
        "print('A.shape=n',A.shape)\n",
        "print('----------------------')\n",
        "A_ = A.T\n",
        "print('A의 전치행렬\\n',A_)\n",
        "print('(A.T).shape\\n',A_.shape)\n",
        "B = A_.T\n",
        "print(B)"
      ],
      "execution_count": null,
      "outputs": [
        {
          "output_type": "stream",
          "text": [
            "A\n",
            " [[1 2 3]\n",
            " [4 5 6]]\n",
            "A.shape=n (2, 3)\n",
            "----------------------\n",
            "A의 전치행렬\n",
            " [[1 4]\n",
            " [2 5]\n",
            " [3 6]]\n",
            "(A.T).shape\n",
            " (3, 2)\n",
            "[[1 2 3]\n",
            " [4 5 6]]\n"
          ],
          "name": "stdout"
        }
      ]
    },
    {
      "cell_type": "markdown",
      "metadata": {
        "id": "NubNYgh6CKpY"
      },
      "source": [
        "#### ㅁ.3차원 텐서\n",
        "- 보통 이미지를 나타낼 때 사용되는 텐서\n",
        "  - (width, height, channels)\n",
        "  - 일반적으로 Numpy array로 표현  \n"
      ]
    },
    {
      "cell_type": "markdown",
      "metadata": {
        "id": "2-qyERdcgpGs"
      },
      "source": [
        "![3d tensor](https://image.slidesharecdn.com/tensordecomposition-170301235239/95/a-brief-survey-of-tensors-5-638.jpg)\n",
        "<br /><sub>출처: https://www.slideshare.net/BertonEarnshaw/a-brief-survey-of-tensors</sub>\n",
        "- 시계열 데이터 또는 시퀀스(sequence) 데이터를 표현할 때도 사용\n",
        "  - (samples, timesteps, features)\n",
        "  - (예시) 주식 가격 데이터셋, 시간에 따른 질병 발병 건수  \n",
        "![](https://kr.mathworks.com/help/deeplearning/examples/timeseriesforecastingusingdeeplearningexample_01_ko_KR.png)\n",
        "<br /><sub>출처: https://kr.mathworks.com/help/deeplearning/examples/time-series-forecasting-using-deep-learning.html</sub>"
      ]
    },
    {
      "cell_type": "code",
      "metadata": {
        "id": "IvVjleI1Bbpn",
        "colab": {
          "base_uri": "https://localhost:8080/"
        },
        "outputId": "4863a388-577b-4f36-dc4a-22699f62ce39"
      },
      "source": [
        "X = np.array([[[5,3,2,1],\n",
        "               [5,5,3,1],\n",
        "               [6,1,2,3]],\n",
        "              [[1,1,1,1],\n",
        "               [3,4,7,5],\n",
        "               [1,8,3,4]],\n",
        "              [[10,9,3,9],\n",
        "               [5,4,3,2],\n",
        "               [7,6,3,4]]])\n",
        "\n",
        "print('X\\n', X, end='\\n\\n')\n",
        "print('X.shape',X.shape)\n",
        "print('X.nidm',X.ndim)"
      ],
      "execution_count": null,
      "outputs": [
        {
          "output_type": "stream",
          "text": [
            "X\n",
            " [[[ 5  3  2  1]\n",
            "  [ 5  5  3  1]\n",
            "  [ 6  1  2  3]]\n",
            "\n",
            " [[ 1  1  1  1]\n",
            "  [ 3  4  7  5]\n",
            "  [ 1  8  3  4]]\n",
            "\n",
            " [[10  9  3  9]\n",
            "  [ 5  4  3  2]\n",
            "  [ 7  6  3  4]]]\n",
            "\n",
            "X.shape (3, 3, 4)\n",
            "X.nidm 3\n"
          ],
          "name": "stdout"
        }
      ]
    },
    {
      "cell_type": "markdown",
      "metadata": {
        "id": "OoBfPQdhCPog"
      },
      "source": [
        "##### 3차원 텐서 활용 예시(이미지)\n",
        "- MNIST Dataset\n",
        "\n",
        "\n"
      ]
    },
    {
      "cell_type": "markdown",
      "metadata": {
        "id": "F7yZ_8iDg1VY"
      },
      "source": [
        "- 28x28 사이즈의 gray scale 이미지들로 구성  \n",
        "![이미지](https://upload.wikimedia.org/wikipedia/commons/thumb/2/27/MnistExamples.png/440px-MnistExamples.png)  \n",
        "<sub>출처: https://ko.wikipedia.org/wiki/MNIST_%EB%8D%B0%EC%9D%B4%ED%84%B0%EB%B2%A0%EC%9D%B4%EC%8A%A4</sub>\n",
        "\n",
        "  \n",
        "- gray scale: 0~255의 값을 통해 밝기를 표현 \n",
        "  0으로 갈수록 어두워지고, 255로 갈수록 밝아짐 \n",
        "![이미지](https://miro.medium.com/max/1400/1*euc4RxnNo78LFEGrb-QZ7w.jpeg)  \n",
        "<sub>출처: https://medium.com/@himnickson/converting-rgb-image-to-the-grayscale-image-in-java-9e1edc5bd6e7</sub>"
      ]
    },
    {
      "cell_type": "code",
      "metadata": {
        "id": "WlN4f8mmBbZI",
        "colab": {
          "base_uri": "https://localhost:8080/",
          "height": 262
        },
        "outputId": "654afe1e-2780-4d52-c1d9-dafd3a1980f3"
      },
      "source": [
        "from keras.datasets import mnist\n",
        "\n",
        "(train_images, train_labels), (test_images, test_labels) = mnist.load_data()\n",
        "\n",
        "print(train_images.ndim) # 4\n",
        "print(train_images.shape) # (60000, 28, 28)\n",
        "print(train_images.dtype) # uint8\n",
        "\n",
        "temp_image = train_images[3]\n",
        "plt.imshow(temp_image, cmap='gray')\n",
        "plt.show();"
      ],
      "execution_count": null,
      "outputs": [
        {
          "output_type": "display_data",
          "data": {
            "image/png": "[encoded data removed]",
            "text/plain": [
              "<Figure size 432x288 with 1 Axes>"
            ]
          },
          "metadata": {
            "tags": [],
            "needs_background": "light"
          }
        }
      ]
    },
    {
      "cell_type": "markdown",
      "metadata": {
        "id": "6zrYXjEoCnZG"
      },
      "source": [
        "#### ㅂ.브로드캐스팅(broadcasting)\n",
        "- 넘파이에서 다른 형상(shape)끼리 계산 가능\n",
        "\n"
      ]
    },
    {
      "cell_type": "markdown",
      "metadata": {
        "id": "UEiBERr-hPht"
      },
      "source": [
        "- 1차원 텐서\n",
        "\n",
        "![1d](https://numpy.org/doc/1.18/_images/theory.broadcast_1.gif)\n",
        "\n",
        "- 2차원 텐서\n",
        "\n",
        "![2d](https://numpy.org/doc/1.18/_images/theory.broadcast_2.gif)\n",
        "\n",
        "- 더 작은 형상(shape)이 형상이 더 큰 배열에 확장 가능해야함\n",
        "\n",
        "![broadcast](https://numpy.org/doc/1.18/_images/theory.broadcast_3.gif) \n",
        "\n",
        "- (참고) 아래의 경우도 가능\n",
        "\n",
        "![broadcast](https://numpy.org/doc/1.18/_images/theory.broadcast_4.gif)\n",
        "\n",
        "<br /><sub>https://numpy.org/doc/1.18/user/theory.broadcasting.html#array-broadcasting-in-numpy</sub>"
      ]
    },
    {
      "cell_type": "code",
      "metadata": {
        "id": "CvD1A-YzCnLj"
      },
      "source": [
        "a = np.array(10) #스칼라\n",
        "b = np.array([10,20,30]) #벡터\n",
        "print(np.dot(a,b)) #스칼라와 벡터 내적\n",
        "print(a * b)\n",
        "\n",
        "A  =np.array([[1,2],[3,4]]) #2차원 행렬\n",
        "B = np.array([10,20]) #1차원 행렬(?)\n",
        "print('A*B\\n',A*B)\n",
        "\n",
        "A = np.array([[[1,1,1],  #3차원 행렬\n",
        "               [2,2,2]],\n",
        "              [[3,3,3],\n",
        "               [4,4,4]]])\n",
        "B = np.array([[10,10,10]]) #2차원 행렬\n",
        "\n",
        "print('행렬 A\\n',A)\n",
        "print('행렬 A.shape\\n',A.shape)\n",
        "print('행렬 B\\n',B)\n",
        "print('행렬 B.shape\\n',B.shape)\n",
        "print('A*B\\n',A*B)"
      ],
      "execution_count": null,
      "outputs": []
    },
    {
      "cell_type": "markdown",
      "metadata": {
        "id": "oMdQuRrbCvHh"
      },
      "source": [
        "#### ㅅ.4, 5차원 텐서\n",
        "- Color Image Datasets(4차원)\n",
        "  - (samples, height, width, channels) ( Keras, Tensorflow )\n",
        "  - (samples, channels, height, width) ( Pytorch )\n",
        "\n",
        "\n",
        "- 동영상(5차원)\n",
        "  1. (samples, frames, height, width, channels)\n",
        "  2. (samples, frames, channels, height, width)\n",
        "  - 예시 1) (4, 300, 1920, 1080, 3) \n",
        "    - 1920x1080 사이즈 3채널의 300프레임 수를 가진 배치가 4개"
      ]
    },
    {
      "cell_type": "markdown",
      "metadata": {
        "id": "owYBNkzMCxaE"
      },
      "source": [
        "#### ㅇ.텐서 크기 변환\n",
        "- reshape로 텐서의 크기 변환 가능\n",
        "- **변환 전의 원소의 개수와 변환 이후의 텐서의 개수가 같아야** 함"
      ]
    },
    {
      "cell_type": "markdown",
      "metadata": {
        "id": "CHN5jR7vC8hO"
      },
      "source": [
        "- -1 을 통해 자동으로 형상을 지정 가능  \n",
        "  원소의 갯수에 맞게 넘파이가 자동으로 형상을 지정  \n",
        "      (2, 2, 3) -> (3, -1)     (O)\n",
        "                -> (2, 1, 6)   (O)\n",
        "                -> (2, -1, -1) (X)\n",
        "                -> (2, 5, -1)  (X) "
      ]
    },
    {
      "cell_type": "code",
      "metadata": {
        "id": "s9NyLg5GCxwF",
        "colab": {
          "base_uri": "https://localhost:8080/"
        },
        "outputId": "bed14147-efb9-461e-9269-620b4e9be949"
      },
      "source": [
        "A = np.array([[1,2,3],[4,5,6]])\n",
        "print('A.shape\\n',A.shape) #(2, 3)\n",
        "print('--------------------')\n",
        "A = A.reshape(6)\n",
        "print('A.shape:',A.shape) #(6,)\n",
        "\n",
        "============================================================================================================\n",
        "B = np.array([[[2,3,4],[2,3,4]],\n",
        "              [[1,1,1],[1,1,1]]])\n",
        "print('B.shape\\n',B.shape) # (2, 3)\n",
        "print('--------------------')\n",
        "B = B.reshape(3,4)\n",
        "print('B.shape:',B.shape) # (6,)"
      ],
      "execution_count": 18,
      "outputs": [
        {
          "output_type": "stream",
          "text": [
            "행렬 A\n",
            " [[1 2 3]\n",
            " [4 5 6]]\n",
            "A.shape\n",
            " (2, 3)\n",
            "--------------------\n",
            "A.shape: (6,)\n",
            "[1 2 3 4 5 6]\n"
          ],
          "name": "stdout"
        }
      ]
    },
    {
      "cell_type": "markdown",
      "metadata": {
        "id": "hY_NdBrfcjIz"
      },
      "source": [
        "### 3.신경망 구조"
      ]
    },
    {
      "cell_type": "markdown",
      "metadata": {
        "id": "o1JmxoQYcjI0"
      },
      "source": [
        "#### ㄱ.퍼셉트론(인공신경망의 한 종류)\n",
        "\n"
      ]
    },
    {
      "cell_type": "markdown",
      "metadata": {
        "id": "wiGgAAWUjHeY"
      },
      "source": [
        "![](https://cs231n.github.io/assets/nn1/neuron_model.jpeg)\n",
        "<br /><sub>출처: https://cs231n.github.io/convolutional-networks/</sub>\n",
        "- 다수의 입력($x_1, x_2, ..., x_n$)과 가중치($w_1, w_2, ..., w_n$)를 곱하여 그 값에 편향($bias$)을 더한 값이 어느 임계치 값($\\theta$)을 초과하면 활성화 함수를 통과한 출력값을 내보냄\n",
        "![perceptron](https://miro.medium.com/max/1400/1*ofVdu6L3BDbHyt1Ro8w07Q.png)\n",
        "<br /><sub>출처: https://towardsdatascience.com/rosenblatts-perceptron-the-very-first-neural-network-37a3ec09038a</sub>"
      ]
    },
    {
      "cell_type": "markdown",
      "metadata": {
        "id": "QTfUUcb7i2kL"
      },
      "source": [
        "#### ㄴ.뉴런의 수학적 표현\n",
        "\n"
      ]
    },
    {
      "cell_type": "markdown",
      "metadata": {
        "id": "lf7D3s5SjOpF"
      },
      "source": [
        "\n",
        "$\\qquad y = f(\\sum_{i} w_ix_i + b) \\quad $\n",
        "\n",
        "  - $f\\ $ : 활성화 함수\n",
        "    - 임계값($\\theta$)을 경계로 출력이 바뀜\n",
        "\n",
        "  - $b\\ \\ $ :  편향\n",
        "    - <u>결정 경계선을 원점에서부터 벗어나게 해줌</u>\n",
        "    - 따로 표현이 없어도 기본적으로 존재한다고 생각\n",
        "\n",
        "  - $\\sum_{i} w_ix_i$ :$\\quad $두 벡터의 내적으로 표현 가능\n",
        "     \n",
        "     $\\\\ \\quad x_1w_1 + x_2w_2 +\\ ... \\ + x_nw_n = w^Tx$"
      ]
    },
    {
      "cell_type": "markdown",
      "metadata": {
        "id": "thhT4CYXi2vn"
      },
      "source": [
        "#### ㄷ.완전 연결 계층(Fully-Connected Layer) 수학적 표현\n",
        "\n",
        "\n"
      ]
    },
    {
      "cell_type": "markdown",
      "metadata": {
        "id": "GcjoFqHyjX5F"
      },
      "source": [
        "![](https://miro.medium.com/max/620/1*ZBYO3waYUyPsLm0rb15sEQ.png)\n",
        "<br /><sub>출처: https://towardsdatascience.com/the-sparse-future-of-deep-learning-bce05e8e094a</sub>\n",
        "\n",
        "  $\\qquad  W = [w_0, w_1,\\ ..., \\ w_{M-1}]^T $  \n",
        "  $\\qquad $  각각의 $w_k$는 $N\\times 1$ 형태의 벡터  \n",
        "  $\\qquad W$는 $N \\times M$ 행렬\n",
        "\n",
        "  $ \\qquad b$ = $[b_0, b_1, \\ ..., \\ b_{M-1}]$  \n",
        "\n",
        "  $\\qquad y_0 = f(w_0^Tx + b_0)$  \n",
        "\n",
        "  $\\qquad y_1 = f(w_1^Tx + b_1)$  \n",
        "\n",
        "  $\\qquad y_2 = f(w_2^Tx + b_2)$  \n",
        "  \n",
        "  $\\qquad \\quad ...$\n",
        "\n",
        "  $\\qquad y_{M-1} = f(w_{M-1}^Tx + b_{M-1})$  \n",
        "\n",
        "  $\\quad  \\rightarrow y = f(Wx + b)$"
      ]
    },
    {
      "cell_type": "markdown",
      "metadata": {
        "id": "HAPix1pni23M"
      },
      "source": [
        "#### ㄹ.논리회로\n",
        "  * 논리 게이트(Logic Gates)\n",
        "    - AND\n",
        "    - OR\n",
        "    - NOT\n",
        "    - NAND\n",
        "    - NOR  \n"
      ]
    },
    {
      "cell_type": "markdown",
      "metadata": {
        "id": "hAxxC6MnjiWS"
      },
      "source": [
        "\n",
        "* 다이어그램과 진리표\n",
        "\n",
        "![](http://www.schoolphysics.co.uk/age14-16/Electronics/text/Logic_gates/images/1.png)\n",
        "<br /><sub>출처: http://www.schoolphysics.co.uk/age14-16/Electronics/text/Logic_gates/index.html</sub>"
      ]
    },
    {
      "cell_type": "markdown",
      "metadata": {
        "id": "o3pY4J8MezBm"
      },
      "source": [
        "##### AND 게이트\n",
        "\n",
        "- 두 입력이 모두 1일 때 1을 출력하는 논리회로   \n",
        "\n",
        "![](https://www.tutorialspoint.com/computer_logical_organization/images/and_logic.jpg)\n",
        "\n",
        "\n"
      ]
    },
    {
      "cell_type": "markdown",
      "metadata": {
        "id": "yL8id5QVj4qX"
      },
      "source": [
        "- 진리표\n",
        "\n",
        "![](https://www.tutorialspoint.com/computer_logical_organization/images/and_truthtable.jpg)\n",
        "<br /><sub>출처: https://www.tutorialspoint.com/computer_logical_organization/logic_gates.htm</sub>\n",
        "\n",
        "- AND 게이트를 만족시키는 가중치와 편향 구하기"
      ]
    },
    {
      "cell_type": "code",
      "metadata": {
        "id": "uDPqdCl1e6fV",
        "colab": {
          "base_uri": "https://localhost:8080/",
          "height": 266
        },
        "outputId": "a1eb6e8a-0084-46cf-c69e-2cd01647976d"
      },
      "source": [
        "def AND(a,b):\n",
        "  input = np.array([a,b])\n",
        "  weight = np.array([0.4,0.4])\n",
        "  bias = -0.6\n",
        "  value = np.sum(input * weight) + bias\n",
        "\n",
        "  if value <= 0:\n",
        "    return 0\n",
        "  else:\n",
        "    return 1\n",
        "    \n",
        "print(AND(0,0)) # 0\n",
        "print(AND(0,1)) # 0\n",
        "print(AND(1,0)) # 0\n",
        "print(AND(1,1)) # 1\n",
        "\n",
        "=============================================================================================================\n",
        "\n",
        "x1 = np.arange(-2,2,0.01)\n",
        "x2 = np.arange(-2,2,0.01)\n",
        "bias = -0.6\n",
        "\n",
        "y = (-0.4*x1 - bias) / 0.4\n",
        "\n",
        "plt.axvline(x=0)\n",
        "plt.axhline(y=0)\n",
        "\n",
        "plt.plot(x1,y,'r--')\n",
        "plt.scatter(0,0,color='orange',marker='o',s=150)\n",
        "plt.scatter(0,1,color='orange',marker='o',s=150)\n",
        "plt.scatter(1,0,color='orange',marker='o',s=150)\n",
        "plt.scatter(1,1,color='black',marker='^',s=150)\n",
        "plt.xlim(-0.5,1.5)\n",
        "plt.ylim(-0.5,1.5)\n",
        "plt.grid()\n",
        "plt.show();"
      ],
      "execution_count": null,
      "outputs": [
        {
          "output_type": "display_data",
          "data": {
            "image/png": "[encoded data removed]",
            "text/plain": [
              "<Figure size 432x288 with 1 Axes>"
            ]
          },
          "metadata": {
            "tags": []
          }
        }
      ]
    },
    {
      "cell_type": "markdown",
      "metadata": {
        "id": "_Gz29P-ve-jD"
      },
      "source": [
        "##### OR 게이트\n",
        "\n",
        "- 두 입력 중 하나라도 1이면 1을 출력하는 논리회로  \n",
        "  \n",
        "![](https://www.tutorialspoint.com/computer_logical_organization/images/or_logic.jpg)\n",
        "\n",
        "\n"
      ]
    },
    {
      "cell_type": "markdown",
      "metadata": {
        "id": "wCtdsP2pkHvN"
      },
      "source": [
        "- 진리표  \n",
        "\n",
        "![](https://www.tutorialspoint.com/computer_logical_organization/images/or_truthtable.jpg)\n",
        "<br /><sub>출처: https://www.tutorialspoint.com/computer_logical_organization/logic_gates.htm</sub>\n",
        "\n",
        "- OR 게이트를 만족시키는 가중치와 편향 구하기"
      ]
    },
    {
      "cell_type": "code",
      "metadata": {
        "id": "pR9RrNj4fOez",
        "colab": {
          "base_uri": "https://localhost:8080/",
          "height": 266
        },
        "outputId": "b5253839-ecce-46d6-f61d-b1e1eceeab28"
      },
      "source": [
        "def OR(a,b):\n",
        "  input = np.array([a,b])\n",
        "  weight = np.array([0.4,0.5])\n",
        "  bias=-0.3\n",
        "  value = np.sum(input*weight) + bias\n",
        "\n",
        "  if value <= 0:\n",
        "    return 0\n",
        "  else:\n",
        "    return 1\n",
        "\n",
        "print(OR(0,0)) # 0\n",
        "print(OR(0,1)) # 1\n",
        "print(OR(1,0)) # 1\n",
        "print(OR(1,1)) # 1\n",
        "\n",
        "=============================================================================================================\n",
        "x1 = np.arange(-2,2,0.01)\n",
        "x2 = np.arange(-2,2,0.01)\n",
        "bias = -0.3\n",
        "\n",
        "y = (-0.4*x1 - bias) / 0.5\n",
        "\n",
        "plt.axvline(x=0)\n",
        "plt.axhline(y=0)\n",
        "\n",
        "plt.plot(x1,y,'r--')\n",
        "plt.scatter(0,0,color='black',marker='o',s=150)\n",
        "plt.scatter(0,1,color='orange',marker='o',s=150)\n",
        "plt.scatter(1,0,color='orange',marker='o',s=150)\n",
        "plt.scatter(1,1,color='orange',marker='^',s=150)\n",
        "plt.xlim(-0.5,1.5)\n",
        "plt.ylim(-0.5,1.5)\n",
        "plt.grid()\n",
        "plt.show();"
      ],
      "execution_count": null,
      "outputs": [
        {
          "output_type": "display_data",
          "data": {
            "image/png": "[encoded data removed]",
            "text/plain": [
              "<Figure size 432x288 with 1 Axes>"
            ]
          },
          "metadata": {
            "tags": []
          }
        }
      ]
    },
    {
      "cell_type": "markdown",
      "metadata": {
        "id": "G3anpbTsfR7A"
      },
      "source": [
        "##### NAND 게이트\n",
        "\n",
        "\n",
        "- 두 입력이 모두 1일 때 0을 출력하는 논리회로\n",
        "\n",
        "![](https://www.tutorialspoint.com/computer_logical_organization/images/nand_logic.jpg)\n",
        "\n",
        "\n",
        "\n"
      ]
    },
    {
      "cell_type": "markdown",
      "metadata": {
        "id": "zFA2SBqwkYmW"
      },
      "source": [
        "- 진리표  \n",
        "\n",
        "![](https://www.tutorialspoint.com/computer_logical_organization/images/nand_truthtable.jpg)\n",
        "<br /><sub>출처: https://www.tutorialspoint.com/computer_logical_organization/logic_gates.htm</sub>\n",
        "\n",
        "- NAND 게이트를 만족시키는 가중치와 편향 구하기"
      ]
    },
    {
      "cell_type": "code",
      "metadata": {
        "id": "G6WDqUWefaeX",
        "colab": {
          "base_uri": "https://localhost:8080/",
          "height": 266
        },
        "outputId": "c4ce1b2b-1d04-4155-9756-0ca43bdd38ac"
      },
      "source": [
        "def NAND(a,b):\n",
        "  input = np.array([a,b])\n",
        "  weight = np.array([-0.6,-0.5])\n",
        "  bias=0.7\n",
        "  value = np.sum(input*weight) + bias\n",
        "\n",
        "  if value <= 0:\n",
        "    return 0\n",
        "  else:\n",
        "    return 1\n",
        "    \n",
        "print(NAND(0,0)) # 1\n",
        "print(NAND(0,1)) # 1\n",
        "print(NAND(1,0)) # 1\n",
        "print(NAND(1,1)) # 0\n",
        "\n",
        "=============================================================================================================\n",
        "x1 = np.arange(-2,2,0.01)\n",
        "x2 = np.arange(-2,2,0.01)\n",
        "bias = 0.7\n",
        "\n",
        "y = ( 0.6*x1 - bias) / -0.5\n",
        "\n",
        "plt.axvline(x=0)\n",
        "plt.axhline(y=0)\n",
        "\n",
        "plt.plot(x1,y,'r--')\n",
        "plt.scatter(0,0,color='black',marker='o',s=150)\n",
        "plt.scatter(0,1,color='black',marker='o',s=150)\n",
        "plt.scatter(1,0,color='black',marker='o',s=150)\n",
        "plt.scatter(1,1,color='orange',marker='^',s=150)\n",
        "plt.xlim(-0.5,1.5)\n",
        "plt.ylim(-0.5,1.5)\n",
        "plt.grid()\n",
        "plt.show();"
      ],
      "execution_count": null,
      "outputs": [
        {
          "output_type": "display_data",
          "data": {
            "image/png": "[encoded data removed]",
            "text/plain": [
              "<Figure size 432x288 with 1 Axes>"
            ]
          },
          "metadata": {
            "tags": []
          }
        }
      ]
    },
    {
      "cell_type": "markdown",
      "metadata": {
        "id": "ZWVJN3iTfenX"
      },
      "source": [
        "##### XOR 게이트\n",
        "\n",
        "- 인공지능 첫번째 겨울\n",
        "- 딥러닝의 첫번째 위기를 초래\n",
        "  - 마빈 민스키와 세이무어 페퍼트에 의해 문제 제기\n",
        "  - AND, NAND와 같은 선형문제는 퍼셉트론으로 해결 가능, 하지만 XOR은 어떻게? 직선(선형) 하나로는 불가능!\n",
        "\n",
        "![](http://ecee.colorado.edu/~ecen4831/lectures/xor2.gif)\n",
        "<br /><sub>출처: http://ecee.colorado.edu/~ecen4831/lectures/NNet3.html</sub>\n",
        "\n",
        "- **다층 퍼셉트론**으로 해결\n",
        "  - 비선형 문제를 해결할 수 있다!\n",
        "\n",
        "- AND, NAND, OR Gate를 조합"
      ]
    },
    {
      "cell_type": "markdown",
      "metadata": {
        "id": "72YNjl6Ri2_p"
      },
      "source": [
        "#### ㅁ.다층 퍼셉트론(Multi Layer Perceptron, MLP)  \n",
        "\n"
      ]
    },
    {
      "cell_type": "markdown",
      "metadata": {
        "id": "gLqkxieFkmTL"
      },
      "source": [
        "\n",
        "![](https://upload.wikimedia.org/wikipedia/commons/c/c2/MultiLayerNeuralNetworkBigger_english.png)\n",
        "<br /><sub>출처: https://commons.wikimedia.org/wiki/File:MultiLayerNeuralNetworkBigger_english.png</sub>"
      ]
    },
    {
      "cell_type": "markdown",
      "metadata": {
        "id": "-N6uSU0-L4Oi"
      },
      "source": [
        "##### 다층 퍼셉트론의 구성\n"
      ]
    },
    {
      "cell_type": "markdown",
      "metadata": {
        "id": "RPDI8ncnkzzS"
      },
      "source": [
        "\n",
        "  - 입력층(input layer)\n",
        "  - 은닉층(hidden layer)\n",
        "    - 1개 이상 존재\n",
        "    - 보통 5개 이상 존재하면 Deep Neural Network라고 칭함\n",
        "  - 출력층(output layer)  \n",
        "\n",
        "![](https://www.researchgate.net/profile/Sandip_Lahiri/publication/26614896/figure/fig1/AS:310007494135809@1450922954279/A-schematic-diagram-of-artificial-neural-network-and-architecture-of-the-feed-forward.png)\n",
        "<br /><sub>출처: https://www.researchgate.net/figure/A-schematic-diagram-of-artificial-neural-network-and-architecture-of-the-feed-forward_fig1_26614896</sub>\n",
        "\n",
        "  - 수식 \n",
        "\n",
        "    - (input layer $\\rightarrow$ hidden layer)   \n",
        "  $ \\quad z = f_L(W_Lx + b_L) $  \n",
        "\n",
        "    - (hidden layer $\\rightarrow$ output layer)   \n",
        "  $ \\quad y = a_K(W_Kz + b_K) $  "
      ]
    },
    {
      "cell_type": "markdown",
      "metadata": {
        "id": "38mOWdHzfsO_"
      },
      "source": [
        "##### XOR 게이트\n",
        "- 서로 다른 두 값이 입력으로 들어가면 1을 반환\n",
        "\n",
        "\n"
      ]
    },
    {
      "cell_type": "markdown",
      "metadata": {
        "id": "EkiOcVrQk2tR"
      },
      "source": [
        "- 진리표  \n",
        "\n",
        "![](https://www.tutorialspoint.com/computer_logical_organization/images/xor_truthtable.jpg)\n",
        "<br /><sub>출처: https://www.tutorialspoint.com/computer_logical_organization/logic_gates.htm</sub>"
      ]
    },
    {
      "cell_type": "code",
      "metadata": {
        "id": "KFcXlWJKfuLg",
        "colab": {
          "base_uri": "https://localhost:8080/",
          "height": 87
        },
        "outputId": "16c087d7-448d-4722-879c-df66fb1e299e"
      },
      "source": [
        "def XOR(x1,x2):\n",
        "  s1 = NAND(x1,x2)\n",
        "  s2 = OR(x1,x2)\n",
        "  y = AND(s1,s2)\n",
        "  return y\n",
        "\n",
        "print(XOR(0,0))\n",
        "print(XOR(0,1))\n",
        "print(XOR(1,0))\n",
        "print(XOR(1,1))"
      ],
      "execution_count": null,
      "outputs": [
        {
          "output_type": "stream",
          "text": [
            "0\n",
            "1\n",
            "1\n",
            "0\n"
          ],
          "name": "stdout"
        }
      ]
    },
    {
      "cell_type": "markdown",
      "metadata": {
        "id": "tjhx9CU7i3HN"
      },
      "source": [
        "#### ㅂ.활성화 함수(Activation Function)\n",
        "\n",
        "- 입력 신호의 총합을 출력 신호로 변환하는 함수\n",
        "- 활성화 함수에 따라 출력값이 결정\n",
        "- 단층, 다층 퍼셉트론 모두 사용\n",
        "\n",
        "\n",
        "\n",
        "\n"
      ]
    },
    {
      "cell_type": "markdown",
      "metadata": {
        "id": "dsZQ9X5rk9Op"
      },
      "source": [
        "- 대표적인 활성화 함수\n",
        "  - Sigmoid\n",
        "  - ReLU\n",
        "  - tanh \n",
        "  - Identity Function\n",
        "  - Softmax\n",
        "\n",
        "-  하나의 layer에서 다음 layer로 넘어갈 때는 항상 활성화 함수를 통과\n",
        "    \n",
        "- [참고] 여러가지 활성화 함수  \n",
        " https://en.wikipedia.org/wiki/Activation_function  "
      ]
    },
    {
      "cell_type": "markdown",
      "metadata": {
        "id": "sqLlBrSEf31I"
      },
      "source": [
        "##### Step Function(계단 함수)\n",
        "\n",
        "### $\\quad y = \\begin{cases}\n",
        "0 \\quad (x < 0) \\\\\n",
        "1 \\quad (x \\ge 0)\n",
        "\\end{cases} $   \n",
        "\n",
        "![](https://www.intmath.com/laplace-transformation/svg/svgphp-unit-step-functions-definition-1a-s1.svg)\n",
        "<br /><sub>출처: https://www.intmath.com/laplace-transformation/1a-unit-step-functions-definition.php</sub>\n",
        "  \n",
        "\n"
      ]
    },
    {
      "cell_type": "code",
      "metadata": {
        "id": "hQS9fxpfIZLS"
      },
      "source": [
        "def step_function(x):\n",
        "  if x > 0:\n",
        "    return 1\n",
        "  else:\n",
        "    return 0"
      ],
      "execution_count": null,
      "outputs": []
    },
    {
      "cell_type": "code",
      "metadata": {
        "id": "I9wJ-Ht1fvpi"
      },
      "source": [
        "def step_function_for_numpy(x):\n",
        "  y = x > 0\n",
        "  return y.astype(np.int)"
      ],
      "execution_count": null,
      "outputs": []
    },
    {
      "cell_type": "code",
      "metadata": {
        "id": "3eYjdSmUf5zm",
        "colab": {
          "base_uri": "https://localhost:8080/",
          "height": 70
        },
        "outputId": "38c99881-bfd6-48eb-dd87-43912353743f"
      },
      "source": [
        "print(step_function(-3))\n",
        "print(step_function(5))\n",
        "\n",
        "a = np.array([5,3,-4,2.0])\n",
        "print(step_function_for_numpy(a))"
      ],
      "execution_count": null,
      "outputs": [
        {
          "output_type": "stream",
          "text": [
            "0\n",
            "1\n",
            "[1 1 0 1]\n"
          ],
          "name": "stdout"
        }
      ]
    },
    {
      "cell_type": "markdown",
      "metadata": {
        "id": "5OKFVCMqf9uc"
      },
      "source": [
        "\n",
        "##### Sigmoid Function(시그모이드 함수)\n",
        "- 이진분류(binary classification)에 주로 사용\n",
        "  - 마지막 출력층의 활성화 함수로 사용\n",
        "- 출력값이 0~1 의 값이며, 이는 **확률**로 표현 가능\n",
        "\n",
        "\n",
        "$\\quad y = \\frac{1}{1 + e^{-x}}$\n",
        "\n",
        "![](https://media.geeksforgeeks.org/wp-content/uploads/20190911181329/Screenshot-2019-09-11-18.05.46.png)\n",
        "<br /><sub>출처: https://www.geeksforgeeks.org/implement-sigmoid-function-using-numpy/</sub>\n",
        "\n"
      ]
    },
    {
      "cell_type": "code",
      "metadata": {
        "id": "9Q7Ywp-Pf7gC"
      },
      "source": [
        "def sigmoid(x):\n",
        "  return 1 /(1 + np.exp(-x))"
      ],
      "execution_count": null,
      "outputs": []
    },
    {
      "cell_type": "markdown",
      "metadata": {
        "id": "s1x6bb83gFWv"
      },
      "source": [
        "##### 시그모이드 함수와 계단 함수 비교\n",
        "\n",
        "\n"
      ]
    },
    {
      "cell_type": "markdown",
      "metadata": {
        "id": "4CUnMnU8lS4W"
      },
      "source": [
        "- 공통점\n",
        "  - 출력값이 0~1 내의 범위\n",
        "  - 입력값의 정도에 따라 출력값의 정도가 달라짐 \n",
        "    즉, 입력이 중요하면(입력값이 크면) 큰 값을 출력\n",
        "    \n",
        "- 차이점  \n",
        " 계단함수에 비해 시그모이드 함수는 \n",
        "  - 입력에 따라 출력이 연속적으로 변화\n",
        "  - 출력이 '매끄러움'  \n",
        "    이는 모든 점에서 **미분 가능**함을 의미"
      ]
    },
    {
      "cell_type": "code",
      "metadata": {
        "id": "67UOGQfJgDg8",
        "colab": {
          "base_uri": "https://localhost:8080/",
          "height": 262
        },
        "outputId": "e1b119bc-9111-4def-d951-fcc4db8c215c"
      },
      "source": [
        "plt.grid()\n",
        "x= np.arange(-5.0,5.0,0.01)\n",
        "y1 = sigmoid(x)\n",
        "y2 = step_function_for_numpy(x)\n",
        "plt.plot(x,y1,'r-',x,y2,'b--')\n",
        "plt.show();"
      ],
      "execution_count": null,
      "outputs": [
        {
          "output_type": "display_data",
          "data": {
            "image/png": "[encoded data removed]",
            "text/plain": [
              "<Figure size 432x288 with 1 Axes>"
            ]
          },
          "metadata": {
            "tags": []
          }
        }
      ]
    },
    {
      "cell_type": "markdown",
      "metadata": {
        "id": "9q3FQagJgJDs"
      },
      "source": [
        "\n",
        "##### ReLU(Rectified Linear Unit)\n",
        "\n",
        "- 가장 많이 쓰이는 함수 중 하나  \n",
        "  \n",
        "  ### $ y = \\begin{cases}\n",
        "0 \\quad (x \\le 0) \\\\\n",
        "x \\quad (x > 0)\n",
        "\\end{cases} $\n",
        "\n",
        "![](https://3qeqpr26caki16dnhd19sv6by6v-wpengine.netdna-ssl.com/wp-content/uploads/2018/10/Line-Plot-of-Rectified-Linear-Activation-for-Negative-and-Positive-Inputs.png)\n",
        "<br /><sub>출처: https://machinelearningmastery.com/rectified-linear-activation-function-for-deep-learning-neural-networks/</sub>\n"
      ]
    },
    {
      "cell_type": "code",
      "metadata": {
        "id": "2cEsh_FqgHUr"
      },
      "source": [
        "def ReLU(x):\n",
        "  if x > 0:\n",
        "    return x\n",
        "  else:\n",
        "    return 0"
      ],
      "execution_count": null,
      "outputs": []
    },
    {
      "cell_type": "markdown",
      "metadata": {
        "id": "GWXjAqjngPi0"
      },
      "source": [
        "\n",
        "##### 하이퍼볼릭탄젠트 함수(Hyperbolic tangent function, tanh)\n",
        "\n",
        " ### $ \\quad y = \\frac{e^x - e^{-x}}{e^x + e^{-x}}$\n",
        "\n",
        "![](https://ww.namu.la/s/aeff20070260dc095f50d1ec74f1d4dd96bab65016ab1b01bed2145850e165e7c713734ff60047392c522e784bec9605782e4cacb2606725d782714917e2a47456d4c4a308c4b4bcc7f9a905b357556b912b404573385c42ba30e41a627dd31a)\n",
        "<br /><sub>출처: https://namu.wiki/w/%EC%8C%8D%EA%B3%A1%EC%84%A0%20%ED%95%A8%EC%88%98</sub>\n",
        "\n"
      ]
    },
    {
      "cell_type": "code",
      "metadata": {
        "id": "iF3lGXSegNZJ"
      },
      "source": [
        "def tanh(x):\n",
        "  return (np.exp(x) - np.exp(-x)) / (np.exp(x) + np.exp(-x))"
      ],
      "execution_count": null,
      "outputs": []
    },
    {
      "cell_type": "markdown",
      "metadata": {
        "id": "i2bVEk3GgVDL"
      },
      "source": [
        "##### Identity Function(항등 함수)\n",
        "- 회귀(Regression) 문제에서 주로 사용  \n",
        "  - 출력층의 활성화 함수로 활용\n",
        "\n",
        "- $y=x$\n",
        "\n",
        "- 입력값 그대로 출력하기 때문에 굳이 정의할 필요는 없지만  \n",
        "  신경망 중간 레이어 흐름과 통일하기 위해 사용\n",
        "\n",
        "![](https://math.info/image/394/identity_function.jpg)\n",
        "<br /><sub>출처: https://math.info/Algebra/Identity_Function/</sub>\n"
      ]
    },
    {
      "cell_type": "code",
      "metadata": {
        "id": "NC3M0oq_gTgY"
      },
      "source": [
        "def identify_function(x):\n",
        "  return x"
      ],
      "execution_count": null,
      "outputs": []
    },
    {
      "cell_type": "code",
      "metadata": {
        "id": "V50HKDVMgXgh",
        "colab": {
          "base_uri": "https://localhost:8080/",
          "height": 70
        },
        "outputId": "a7148443-8865-4aaa-f2c7-b8181a246e13"
      },
      "source": [
        "print(identify_function(4))\n",
        "print(identify_function(-4))\n",
        "\n",
        "X = np.array([2,4,5,-0.1])\n",
        "print(identify_function(X))"
      ],
      "execution_count": null,
      "outputs": [
        {
          "output_type": "stream",
          "text": [
            "4\n",
            "-4\n",
            "[ 2.   4.   5.  -0.1]\n"
          ],
          "name": "stdout"
        }
      ]
    },
    {
      "cell_type": "markdown",
      "metadata": {
        "id": "npL99RRugad-"
      },
      "source": [
        "##### Softmax\n",
        "\n",
        "- 다중 클래스 분류에 사용(Multi Class Classification)\n",
        "- 입력값의 영향을 크게 받음  \n",
        "  입력값이 크면 출력값도 큼\n",
        "- 출력값을 확률에 대응가능\n",
        "- 출력값의 **총합은 1**\n",
        "\n",
        "- 수식  \n",
        " ### $ y_k = \\frac{exp(a_k)}{\\sum_{i=1}{exp(a_i)}}$\n",
        "\n",
        "![](https://miro.medium.com/max/1400/1*670CdxchunD-yAuUWdI7Bw.png)\n",
        "<br /><sub>출처: https://medium.com/data-science-bootcamp/understand-the-softmax-function-in-minutes-f3a59641e86d</sub>"
      ]
    },
    {
      "cell_type": "code",
      "metadata": {
        "id": "6Ku0ucpygYrE"
      },
      "source": [
        "def softmax(a):\n",
        "  exp_a = np.exp(a)\n",
        "  sum_exp_a = np.sum(exp_a)\n",
        "  y = exp_a / sum_exp_a\n",
        "\n",
        "  return y"
      ],
      "execution_count": null,
      "outputs": []
    },
    {
      "cell_type": "code",
      "metadata": {
        "id": "HikF6Peigdew",
        "colab": {
          "base_uri": "https://localhost:8080/",
          "height": 52
        },
        "outputId": "57be2400-ac3f-43c9-bffa-85125ebe3a85"
      },
      "source": [
        "a = np.array([0.3,0.2,0.2,-1.2])\n",
        "print(softmax(a))\n",
        "print(np.sum(softmax(a)))"
      ],
      "execution_count": null,
      "outputs": [
        {
          "output_type": "stream",
          "text": [
            "[0.32972776 0.29835002 0.29835002 0.07357221]\n",
            "1.0\n"
          ],
          "name": "stdout"
        }
      ]
    },
    {
      "cell_type": "markdown",
      "metadata": {
        "id": "BYIgC71lghbo"
      },
      "source": [
        "##### 소프트맥스 함수 주의점\n",
        "- 오버플로우(overflow) 문제\n",
        "- 지수함수(exponential function)을 사용하기 때문에  \n",
        "  입력값이 너무 크면 무한대(inf)가 반환됨\n",
        "\n",
        "- 개선한 수식\n",
        " ## $y_k = \\frac{exp(a_k)}{\\sum_{i=1}{exp(a_i)}} = \\frac{Cexp(a_k)}{C\\sum_{i=1}{exp(a_i)}} \\\\\n",
        "  \\quad = \\frac{exp(a_k + logC)}{\\sum_{i=1}{exp(a_i + logC)}} \\\\\n",
        "  \\quad = \\frac{exp(a_k + C')}{\\sum_{i=1}{exp(a_i + C')}}\n",
        "  $"
      ]
    },
    {
      "cell_type": "code",
      "metadata": {
        "id": "tmuXmRY8gfWc",
        "colab": {
          "base_uri": "https://localhost:8080/",
          "height": 105
        },
        "outputId": "b25494e3-3639-4b5a-b2eb-025b5522c138"
      },
      "source": [
        "A = np.array([1000,900,1050,600])\n",
        "print(softmax(A))"
      ],
      "execution_count": null,
      "outputs": [
        {
          "output_type": "stream",
          "text": [
            "[nan nan nan  0.]\n"
          ],
          "name": "stdout"
        },
        {
          "output_type": "stream",
          "text": [
            "/usr/local/lib/python3.6/dist-packages/ipykernel_launcher.py:2: RuntimeWarning: overflow encountered in exp\n",
            "  \n",
            "/usr/local/lib/python3.6/dist-packages/ipykernel_launcher.py:4: RuntimeWarning: invalid value encountered in true_divide\n",
            "  after removing the cwd from sys.path.\n"
          ],
          "name": "stderr"
        }
      ]
    },
    {
      "cell_type": "code",
      "metadata": {
        "id": "RJADjg8Zgjab"
      },
      "source": [
        "def softmax(a):\n",
        "  C = np.max(a)\n",
        "  return (np.exp(a - C)) / np.sum(np.exp(a - C))"
      ],
      "execution_count": null,
      "outputs": []
    },
    {
      "cell_type": "code",
      "metadata": {
        "id": "OQTWqn2fgk42",
        "colab": {
          "base_uri": "https://localhost:8080/",
          "height": 34
        },
        "outputId": "f3aa4e6f-af56-472d-c1cd-523552304935"
      },
      "source": [
        "A = np.array([1000,900,1050,600])\n",
        "print(softmax(A))"
      ],
      "execution_count": null,
      "outputs": [
        {
          "output_type": "stream",
          "text": [
            "[1.92874985e-022 7.17509597e-066 1.00000000e+000 3.69388307e-196]\n"
          ],
          "name": "stdout"
        }
      ]
    },
    {
      "cell_type": "markdown",
      "metadata": {
        "id": "-1cWHyPbgoaH"
      },
      "source": [
        "##### 활성화 함수를 비선형 함수(non-linear function)로 사용하는 이유\n",
        "- 신경망을 깊게(deep) 하기 위함\n",
        "- 만약 활성화 함수를 선형함수(linear function)으로 하게 되면 은닉층의 갯수가 여러개이더라도 의미가 없어짐\n",
        "- 만약,$\\ h(x) = cx이고, 3개의 은닉층이 존재한다면 \n",
        "\\\\  \n",
        "y = h(h(h(x)))  \\\\\n",
        "\\ \\ = c*c*c*x \\\\\n",
        "\\ \\ = c^3x \\\\ $  \n",
        "이므로 결국에는 선형함수가 되어버림\n"
      ]
    },
    {
      "cell_type": "markdown",
      "metadata": {
        "id": "MD3C4UcVgrxk"
      },
      "source": [
        "##### 그 외의 활성화 함수(LeakyReLU, ELU)\n"
      ]
    },
    {
      "cell_type": "markdown",
      "metadata": {
        "id": "0QP11L87lxQG"
      },
      "source": [
        "- LeakyReLU\n",
        "\n",
        "$ \\ \\ f_a(x) = \\begin{cases}\n",
        "x \\quad (x \\ge 0) \\\\\n",
        "ax \\quad (x < 0)\n",
        "\\end{cases}$ \n",
        "\n",
        "![](https://i0.wp.com/knowhowspot.com/wp-content/uploads/2019/04/IMG_20190406_220045-1.jpg)\n",
        "<br /><sub>출처: https://knowhowspot.com/technology/ai-and-machine-learning/artificial-neural-network-activation-function/</sub>"
      ]
    },
    {
      "cell_type": "code",
      "metadata": {
        "id": "BigOia-QgmcF"
      },
      "source": [
        "def LeakyLeLU(x):\n",
        "  a = 0.01\n",
        "  return np.maximum(a*x,x)"
      ],
      "execution_count": null,
      "outputs": []
    },
    {
      "cell_type": "code",
      "metadata": {
        "id": "LY2YbDJ0g1Aw",
        "colab": {
          "base_uri": "https://localhost:8080/",
          "height": 34
        },
        "outputId": "63ae5f77-7fad-48b4-94a4-132311f5adb5"
      },
      "source": [
        "x = np.array([0.5,-1.4,3,0,-0.1])\n",
        "print(LeakyLeLU(x))"
      ],
      "execution_count": null,
      "outputs": [
        {
          "output_type": "stream",
          "text": [
            "[ 5.0e-01 -1.4e-02  3.0e+00  0.0e+00 -1.0e-03]\n"
          ],
          "name": "stdout"
        }
      ]
    },
    {
      "cell_type": "markdown",
      "metadata": {
        "id": "RDh7qyImg4me"
      },
      "source": [
        "- ELU(Exponential Linear Units)  \n",
        "\n",
        "  $ f(\\alpha, x) = \\begin{cases}\n",
        "\\alpha \\ (e^x - 1) \\quad (x \\le 0) \\\\\n",
        "x \\qquad \\qquad (x > 0)\n",
        "\\end{cases}$  \n",
        "\n",
        "![](https://www.researchgate.net/publication/331794632/figure/fig1/AS:736888264609792@1552699261431/Exponential-Linear-Unit-activation-function-input-output-mapping-The-activation-function.jpg)\n",
        "<br /><sub>출처: https://www.researchgate.net/figure/Exponential-Linear-Unit-activation-function-input-output-mapping-The-activation-function_fig1_331794632</sub>"
      ]
    },
    {
      "cell_type": "code",
      "metadata": {
        "id": "1nImmUf9g2lV"
      },
      "source": [
        "def eLU(x):\n",
        "  alpha = 1.0\n",
        "  return (x >= 0) * x + (x < 0) * alpha * (np.exp(x) - 1)"
      ],
      "execution_count": null,
      "outputs": []
    },
    {
      "cell_type": "code",
      "metadata": {
        "id": "1kZVCKTxg_RX",
        "colab": {
          "base_uri": "https://localhost:8080/",
          "height": 70
        },
        "outputId": "b287015d-d62e-4498-ffd9-43541aceb4b2"
      },
      "source": [
        "print(eLU(4))\n",
        "print(eLU(-.5))\n",
        "\n",
        "x = np.array([-2,0.1,4])\n",
        "print(eLU(x))"
      ],
      "execution_count": null,
      "outputs": [
        {
          "output_type": "stream",
          "text": [
            "4.0\n",
            "-0.3934693402873666\n",
            "[-0.86466472  0.1         4.        ]\n"
          ],
          "name": "stdout"
        }
      ]
    },
    {
      "cell_type": "markdown",
      "metadata": {
        "id": "ir3K7hhLhCf2"
      },
      "source": [
        "##### 활성화 함수 참고\n",
        "\n",
        "- 일반적인 사용 순서\n",
        "  1. ELU\n",
        "  2. LeakyReLU\n",
        "  3. ReLU\n",
        "  4. tanh \n",
        "  5. sigmoid 순으로 사용\n",
        "\n",
        "- 스탠포드 강의에서 언급한 사용 순서\n",
        "  1. ReLU\n",
        "  2. ReLU Family(LeakyReLU, ELU)\n",
        "  3. sigmoid는 사용 X  \n",
        "  "
      ]
    },
    {
      "cell_type": "markdown",
      "metadata": {
        "id": "FnF3Tj_ti3iY"
      },
      "source": [
        "#### ㅅ.3층 신경망 구현하기\n",
        "\n"
      ]
    },
    {
      "cell_type": "markdown",
      "metadata": {
        "id": "1glajJE-mgzM"
      },
      "source": [
        "![](http://ufldl.stanford.edu/tutorial/images/Network3322.png)\n",
        "<br /><sub>출처: http://deeplearning.stanford.edu/tutorial/supervised/MultiLayerNeuralNetworks/</sub>\n",
        "\n",
        "\n",
        "- 2클래스 분류\n",
        "- 입력층(Input Layer)\n",
        "  - 뉴런수: 3\n",
        "\n",
        "- 은닉층(Hidden Layers)\n",
        "  - 첫번째 은닉층\n",
        "    - 뉴런수: 3\n",
        "  - 두번째 은닉층\n",
        "    - 뉴런수: 2\n",
        "- 출력층(Output Layer)\n",
        "  - 뉴런수: 2  "
      ]
    },
    {
      "cell_type": "code",
      "metadata": {
        "id": "-94GRErJmlSP"
      },
      "source": [
        "# 활성화 함수 정의\n",
        "\n",
        "def sigmoid(X):\n",
        "  return 1 / ( 1 + np.exp(-X))\n",
        "\n",
        "# 레이어 정의\n",
        "X = np.array([1.0,0.5,0.4]) #X.shape 3,)\n",
        "\n",
        "# 1\n",
        "W1 = np.array([[0.1,0.3,0.5],[0.2,0.4,0.6],[0.3,0.5,0.7]]) #W1.shape (3, 3)\n",
        "B1 = np.array([1,1,1]) #B1.shape (3,)\n",
        "\n",
        "A1 = np.dot(X,W1) + B1 # [1.32 1.7  2.08]\n",
        "Z1 = sigmoid(A1) # [0.78918171 0.84553473 0.88894403]\n",
        "\n",
        "# 2\n",
        "W2 = np.array([[0.2,0.4,0.6],[0.1,0.3,0.5],[0.4,0.6,0.8]]) # W2.shape\n",
        "B2 = np.array([1,1,1]) # B2.shape\n",
        "\n",
        "A2 = np.dot(A1,W2)+B2 # [2.266 3.286 4.306]\n",
        "Z2 = sigmoid(A2) # [0.90602176 0.96394539 0.9866921 ]\n",
        "\n",
        "# 3\n",
        "W3 = np.array([[0.1,0.3],[-0.1,-0.5],[0.3,0.5]]) # (3, 2)\n",
        "B3 = np.array([1,1]) # (2,)\n",
        "\n",
        "A3 = np.dot(A2,W3) + B3 # [2.1898 2.1898]\n",
        "Z3 = sigmoid(A3) # [0.8993298 0.8993298]\n",
        "\n",
        "# 4\n",
        "W4 = np.array([[0.1,0.2],[0.3,0.5]]) # (2, 2)\n",
        "B4 = np.array([1,1]) # (2,)\n",
        "\n",
        "A4 = np.dot(A3,W4) + B4 # [1.87592 2.53286]\n",
        "Y = sigmoid(A4) # [0.86714179 0.92641356]\n",
        "\n",
        "# Network()\n",
        "def network():\n",
        "  network = {}\n",
        "\n",
        "  #첫번째\n",
        "  network['W1'] = np.array([[0.1,0.3,0.5],[0.2,0.4,0.6],[0.3,0.5,0.7]])\n",
        "  network['B1'] = np.array([1,1,1])\n",
        "\n",
        "  #두번째\n",
        "  network['W2'] = np.array([[0.2,0.4,0.6],[0.1,0.3,0.5],[0.4,0.6,0.8]])\n",
        "  network['B2'] = np.array([1,1,1])\n",
        "\n",
        "  #세번째\n",
        "  network['W3'] = np.array([[0.1,0.3],[-0.1,-0.5],[0.3,0.5]])\n",
        "  network['B3'] = np.array([1,1])\n",
        "\n",
        "  #네번째\n",
        "  network['W4'] = np.array([[0.1,0.2],[0.3,0.5]])\n",
        "  network['B4'] = np.array([1,1])\n",
        "\n",
        "  return network\n",
        "\n",
        "# forward\n",
        "def forward(network,x):\n",
        "  W1,W2,W3,W4 = network['W1'],network['W2'],network['W3'],network['W4']\n",
        "  B1,B2,B3,B4 = network['B1'],network['B2'],network['B3'],network['B4']\n",
        "\n",
        "  A1 = np.dot(x,W1) + B1\n",
        "  Z1 = sigmoid(A1)\n",
        "  \n",
        "  A2 = np.dot(Z1,W2) + B2\n",
        "  Z2 = sigmoid(A2)\n",
        "  \n",
        "  A3 = np.dot(Z2,W3) + B3\n",
        "  Z3 = sigmoid(A3)\n",
        "  \n",
        "  A4 = np.dot(Z3,W4) + B4\n",
        "  y = sigmoid(A4)\n",
        "\n",
        "  return y\n",
        "\n",
        "# 신경망 추론 실행 \n",
        "net = network()\n",
        "x = np.array([0.3,1.3,-2.2])\n",
        "y = forward(net,x)\n",
        "print(y) # [0.78781193 0.82428264]"
      ],
      "execution_count": null,
      "outputs": []
    },
    {
      "cell_type": "markdown",
      "metadata": {
        "id": "X8wdn2EpckzO"
      },
      "source": [
        "### 4."
      ]
    },
    {
      "cell_type": "markdown",
      "metadata": {
        "id": "mane9h0gckzO"
      },
      "source": [
        ""
      ]
    },
    {
      "cell_type": "markdown",
      "metadata": {
        "id": "0OGoXhK5cmEd"
      },
      "source": [
        "### 5."
      ]
    },
    {
      "cell_type": "markdown",
      "metadata": {
        "id": "UFaBrHYRcmEd"
      },
      "source": [
        ""
      ]
    }
  ]
}