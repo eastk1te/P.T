{
  "nbformat": 4,
  "nbformat_minor": 0,
  "metadata": {
    "colab": {
      "name": "Python.ipynb",
      "provenance": [],
      "collapsed_sections": [
        "TcAsMrcA_ML-"
      ],
      "authorship_tag": "ABX9TyOPM04aYToFik2fePAiUBnh",
      "include_colab_link": true
    },
    "kernelspec": {
      "name": "python3",
      "display_name": "Python 3"
    },
    "language_info": {
      "name": "python"
    }
  },
  "cells": [
    {
      "cell_type": "markdown",
      "metadata": {
        "id": "view-in-github",
        "colab_type": "text"
      },
      "source": [
        "<a href=\"https://colab.research.google.com/github/tjy2202/Personal_training/blob/main/Python.ipynb\" target=\"_parent\"><img src=\"https://colab.research.google.com/assets/colab-badge.svg\" alt=\"Open In Colab\"/></a>"
      ]
    },
    {
      "cell_type": "markdown",
      "metadata": {
        "id": "42WEqLJqCsks"
      },
      "source": [
        "### Python"
      ]
    },
    {
      "cell_type": "markdown",
      "metadata": {
        "id": "TcAsMrcA_ML-"
      },
      "source": [
        "### **Google Colab**"
      ]
    },
    {
      "cell_type": "code",
      "metadata": {
        "id": "Ylz5_qdg-5t1"
      },
      "source": [
        "import platform\n",
        "platform.platform() #플랫폼확인\n",
        "# 'Linux-4.19.104+-x86_64-with-Ubuntu-18.04-bionic'\n",
        "\n",
        "!cat /etc/issue.net #운영체제 확인\n",
        "!cat /proc/cpuinfo #CPU사양 확인\n",
        "!cat /proc/meminfo #메모리 사양 확인\n",
        "!df -h #디스크 사양 확인\n",
        "!python --version #파이썬 버전 확인\n",
        "!nvidia-smi #런타임 None : CPU, GPU, TPU"
      ],
      "execution_count": null,
      "outputs": []
    },
    {
      "cell_type": "code",
      "metadata": {
        "id": "plSm73IVAPoM"
      },
      "source": [
        "# text가 들어있는 test 파일 생성\n",
        "%%writefile test.txt \n",
        "text "
      ],
      "execution_count": null,
      "outputs": []
    },
    {
      "cell_type": "code",
      "metadata": {
        "id": "GHKWnficAZjL"
      },
      "source": [
        "!cat test.txt #test파일 보기\n",
        "\n",
        "from google.colab import files\n",
        "files.download('test.txt') #파일 다운로드\n",
        "upload = files.upload() #파일 업로드\n",
        "!ls #현재 지정된 파일목록 확인"
      ],
      "execution_count": null,
      "outputs": []
    },
    {
      "cell_type": "markdown",
      "metadata": {
        "id": "55hZajCS_MqK"
      },
      "source": [
        "#### 구글 드라이브 연동"
      ]
    },
    {
      "cell_type": "code",
      "metadata": {
        "id": "6uk3MpQnAs6r"
      },
      "source": [
        "from google.colab import drive\n",
        "drive.mount('/content/drive') #구글 드라이브 연동 코드\n",
        "\n",
        "!ls /content/drive #드라이브 확인"
      ],
      "execution_count": null,
      "outputs": []
    },
    {
      "cell_type": "markdown",
      "metadata": {
        "id": "pC-lw3kh_Mzz"
      },
      "source": [
        "#### Jupyter Notebook"
      ]
    },
    {
      "cell_type": "code",
      "metadata": {
        "id": "IjubF4d-A-f7"
      },
      "source": [
        "help(min)\n",
        "\n",
        "min?\n",
        "\n",
        "li = [\"one\",'two','three']\n",
        "li?\n",
        "li.count?\n",
        "\n",
        "def power(b,n):\n",
        "  \"\"\"b의 n승을 반환\"\"\"\n",
        "  return pow(b,m)\n",
        "\n",
        "power? #사용자 정의 함수의 정보 표기\n",
        "power?? #사용자 정의 함수의 source 표기\n",
        "\n",
        "#와일드 카드 매칭\n",
        "*Error? #단어의 마지막 글자로 매칭하여 속성 찾기\n",
        "str.*index*? #단어의 중간 글자로 매칭하여 속성 찾기\n",
        "\n",
        "#매직명령어 Jupyter notebook환경에서 파이썬 파일 저장 및 실행\n",
        "%%writefile test.py\n",
        "print('hello cola') #파이썬 파일 생성\n",
        "\n",
        "%run test.py #파이썬 파일 실행\n",
        "\n",
        "%%timeit #코드실행시간 측정\n",
        "%timeit li = [n ** n for n in range(10000)]\n",
        "%%timeit \n",
        "li = []\n",
        "for n in range(10000):\n",
        "  li.append(n ** n)\n",
        "\n",
        "In #이전 명령어 In[46]과 같이 슬라이싱 가능\n",
        "Out#이전 명령어의 결과물 Out[46]과 같이 슬라이싱 가능\n",
        "\n",
        "print(_) #이전 출력값\n",
        "print(__) #\n",
        "print(___) #\n",
        "_40 #40번째 출력값 확인\n",
        "%history -n 1-7 #1-7번까지의 입력 이력 살펴보기\n",
        "%rerun #이전 입력 이력 다시 실행"
      ],
      "execution_count": null,
      "outputs": []
    },
    {
      "cell_type": "markdown",
      "metadata": {
        "id": "NZI2aoDXE87E"
      },
      "source": [
        "#### 셀 명령어"
      ]
    },
    {
      "cell_type": "code",
      "metadata": {
        "colab": {
          "base_uri": "https://localhost:8080/"
        },
        "id": "9iwpdJxaEHQo",
        "outputId": "3401f809-7cab-41a9-efa8-7cc17035dada"
      },
      "source": [
        "!ls #디렉토리 리스트 보기\n",
        "!pwd #현재 경로 보기\n",
        "!cd KCase.log/ $$ ls #디렉토리 변경 !cd\n",
        "%cd sample_data/ #지속적인 디렉토리 변경 %cd\n",
        "!echo \"shell\" #화면 출력\n",
        "!mkdir tmp #디렉토리 생성\n",
        "!cat README.md # !cat 파일 보기\n",
        "!cp README.md tmp/ # !cp 디렉토리/파일 복사\n",
        "!rm -r tmp # 디렉토리/파일 삭제"
      ],
      "execution_count": 4,
      "outputs": [
        {
          "output_type": "execute_result",
          "data": {
            "text/plain": [
              "{}"
            ]
          },
          "metadata": {
            "tags": []
          },
          "execution_count": 4
        }
      ]
    },
    {
      "cell_type": "markdown",
      "metadata": {
        "id": "E4vcuNgXFp5q"
      },
      "source": [
        "#### 마크다운"
      ]
    },
    {
      "cell_type": "markdown",
      "metadata": {
        "id": "fSJ0j0Y8CsKW"
      },
      "source": [
        "1. 첫째\n",
        "2. 둘째\n",
        "* 1단계\n",
        "  + 2단계\n",
        "    - *3단계*\n"
      ]
    },
    {
      "cell_type": "markdown",
      "metadata": {
        "id": "Fu4Lk62RCivG"
      },
      "source": [
        "**bold**\n",
        "__bold__\n",
        "*itolic*"
      ]
    },
    {
      "cell_type": "markdown",
      "metadata": {
        "id": "gchOf72GD5lt"
      },
      "source": [
        "> 인용1\n",
        ">> 인 용2\n",
        ">>>인용3\n",
        "\n"
      ]
    },
    {
      "cell_type": "markdown",
      "metadata": {
        "id": "Km3c8In7GCsD"
      },
      "source": [
        "링크"
      ]
    },
    {
      "cell_type": "markdown",
      "metadata": {
        "id": "2NVoA14BEMqB"
      },
      "source": [
        "[google](https://www.google.com)"
      ]
    },
    {
      "cell_type": "markdown",
      "metadata": {
        "id": "6UogeoyKGCUf"
      },
      "source": [
        "이미지"
      ]
    },
    {
      "cell_type": "markdown",
      "metadata": {
        "id": "puOkShcgEnuq"
      },
      "source": [
        "![이미지](https://www.google.com/images/branding.googlelogo/1x/googlelogo_color_272x92dp.png)"
      ]
    },
    {
      "cell_type": "markdown",
      "metadata": {
        "id": "mVy5Qmd4Erlp"
      },
      "source": [
        "수평선\n",
        "\n",
        "\n"
      ]
    },
    {
      "cell_type": "markdown",
      "metadata": {
        "id": "VhNkI-8VEviE"
      },
      "source": [
        "---"
      ]
    },
    {
      "cell_type": "markdown",
      "metadata": {
        "id": "hBVgu-TnEyFt"
      },
      "source": [
        "표\n",
        "\n",
        "\n"
      ]
    },
    {
      "cell_type": "markdown",
      "metadata": {
        "id": "5X87z4qYFFF-"
      },
      "source": [
        "| C1 | C2 | C3  |\n",
        "|:---|---:|:---:|\n",
        "| D1 | D2 | D3 |"
      ]
    },
    {
      "cell_type": "markdown",
      "metadata": {
        "id": "hqpFpco_FMfT"
      },
      "source": [
        "코드\n",
        "\n",
        "\n",
        "\n",
        "\n"
      ]
    },
    {
      "cell_type": "markdown",
      "metadata": {
        "id": "uQXf54sq3NFu"
      },
      "source": [
        "`inline cod`\n",
        "\n",
        "```phthon\n",
        "def power(b,n)\n",
        " return pow(b,n)\n",
        "```\n"
      ]
    },
    {
      "cell_type": "markdown",
      "metadata": {
        "id": "QW_5tS9vGcjc"
      },
      "source": [
        "### a"
      ]
    },
    {
      "cell_type": "code",
      "metadata": {
        "id": "vMQfJ7SEGYxY"
      },
      "source": [
        ""
      ],
      "execution_count": null,
      "outputs": []
    }
  ]
}