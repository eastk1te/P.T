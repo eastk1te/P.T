{
  "nbformat": 4,
  "nbformat_minor": 0,
  "metadata": {
    "colab": {
      "name": "Python.ipynb",
      "provenance": [],
      "collapsed_sections": [
        "JzMxTcxf9q8W",
        "TjFDd65W9lCW",
        "Xcp1UYiB8rN7",
        "42WEqLJqCsks",
        "TcAsMrcA_ML-",
        "55hZajCS_MqK",
        "pC-lw3kh_Mzz",
        "NZI2aoDXE87E",
        "E4vcuNgXFp5q",
        "dInsfWas91TX",
        "mnfwYGLb96lC",
        "hwjmnj8QKcGf",
        "vqsRtzSqNwLV",
        "-Wn6cD5ZRrPW",
        "CSsDRyv8SXFY",
        "1uU1iAoRSW_h",
        "4kZB5ADTSWwb",
        "9Cs80Ml7mopS",
        "ck9e3tajmqgA"
      ],
      "authorship_tag": "ABX9TyMN228rtNBpi9P91dxdNXre",
      "include_colab_link": true
    },
    "kernelspec": {
      "name": "python3",
      "display_name": "Python 3"
    },
    "language_info": {
      "name": "python"
    }
  },
  "cells": [
    {
      "cell_type": "markdown",
      "metadata": {
        "id": "view-in-github",
        "colab_type": "text"
      },
      "source": [
        "<a href=\"https://colab.research.google.com/github/tjy2202/Personal_training/blob/main/Python.ipynb\" target=\"_parent\"><img src=\"https://colab.research.google.com/assets/colab-badge.svg\" alt=\"Open In Colab\"/></a>"
      ]
    },
    {
      "cell_type": "code",
      "metadata": {
        "id": "7Wt9QRW-_0jf"
      },
      "source": [
        "#github 컴퓨터 연동\n",
        "cmd -> git 입력시 상ㅇ 가능 확인\n",
        "git config --global user.name tjy2202 #컴퓨터에서 동일 옵션 사용하도록 셋팅\n",
        "git config --global user.email tjy2202@naver.com\n",
        "0. cd C:\\Github_Workspace\n",
        "1. git init \n",
        "\n",
        "git clone https://github.com/tjy2202/Home.git #파일 만들어짐\n",
        "cd tjy2202.github.io\n",
        "git add test.txt\n",
        "2. git add . \n",
        "git commit -m \"2020-07-02 00:08\" #나중에 롤백하기 위한 목적의 스냅샷 형태로 찍어 놓는 것\n",
        "git push #깃허브에 실제로 넣는 명령어\n",
        "4. git push -u origin master #or main\n",
        "asdasd"
      ],
      "execution_count": null,
      "outputs": []
    },
    {
      "cell_type": "markdown",
      "metadata": {
        "id": "JzMxTcxf9q8W"
      },
      "source": [
        "## 깃블로그 예시 : https://github.com/subinium"
      ]
    },
    {
      "cell_type": "markdown",
      "metadata": {
        "id": "TjFDd65W9lCW"
      },
      "source": [
        "---\n",
        "title : \"Basic of Evaluation\"\n",
        "category :\n",
        "  - ML\n",
        "tag :\n",
        "  - data\n",
        "  - Evaluation\n",
        "  - basic\n",
        "  - accuracy\n",
        "  - confusion_matrix\n",
        "  - precision\n",
        "  - recall\n",
        "  - f1\n",
        "  - roc auc\n",
        "  - 측정법\n",
        "  - 척도\n",
        "  - 재현율\n",
        "  - 정확도\n",
        "sidebar_main : true\n",
        "author_profile : true\n",
        "use_math : true\n",
        "header:\n",
        "  teaser : https://i.imgur.com/AwkwrNc.jpg\n",
        "  overlay_image : https://i.imgur.com/AwkwrNc.jpg\n",
        "published : true\n",
        "---\n",
        "머신러닝, 지표부터 차근차근\n",
        "\n",
        "공부할 때마다 혼돈이 와서 이번 기회에 확실하게 하자라는 마음으로 정리해봤습니다. 글을 쓰거나 강의를 찍으면 저도 정리되서 좋은 것 같습니다.\n",
        "\n",
        "### 머신러닝 평가 지표\n",
        "\n",
        "머신러닝에서는 다양한 방법으로 모델의 성능을 평가할 수 있습니다. 이번에 살펴볼 지표는 다음과 같습니다.\n",
        "\n",
        "- 정확도 (Accuracy)\n",
        "- 오차행렬 (Confusion Matrix)\n",
        "- 정밀도 (Precision)\n",
        "- 재현율 (Recall)\n",
        "- F1 스코어\n",
        "- ROC AUC\n",
        "\n",
        "이 지표들은 이진/다중 분류 모두에 적용되는 지표지만, 특히 이진 분류에서 더욱 중요하게 강조하는 지표입니다. 하나하나씩 살펴보도록 하겠습니다.\n",
        "\n",
        "## 1. 정확도 (Accuracy)\n",
        "\n",
        "### 설명\n",
        "\n",
        "**정확도** 는 **실제 데이터에서 예측 데이터가 얼마나 같은지** 를 판단하는 지표입니다.\n",
        "\n",
        "**정확도 = 예측 결과가 동일한 데이터 건수 / 전체 예측 데이터 건수**\n",
        "\n",
        "가장 직관적인 모델 예측 성능을 나타내는 평가 지표입니다. 예를 들면 다음과 같습니다.\n",
        "\n",
        "> 너 OX문제 몇 개 맞췄어? 10개 중에 8개 맞췄어.\n",
        "\n",
        "대부분의 사람들이 들었을 때, 어느 정도 수긍할 수 있는 수치입니다.\n",
        "하지만 데이터 과학을 하시는 분이라면, 통계를 다시 한 번 살펴볼 수 있어야합니다.\n",
        "\n",
        "제가 다닌 고등학교에서 학교의 여성비율은 133명 중에 7명이 여자였습니다.\n",
        "이때 이름만 듣고 남여를 맞추는 문제를 한다고 가정할 때, 모두 남자로만 찍어도 95% 정도의 정확도를 가집니다.\n",
        "\n",
        "머신러닝, 캐글에서 가장 유명한 예시 중 하나인 **타이타닉에서 생존자 예측** 문제만 살펴봐도 비슷합니다.\n",
        "타이타닉에서 생존자의 대다수는 여성입니다. 이때 머신러닝 알고리즘을 사용하지 않더라도 `여성=생존자`와 같이 코드를 작성하더라도 70%이상의 정확도를 가지는 것을 확인할 수 있습니다.\n",
        "\n",
        "불균형이 심할수록, 모델의 성능을 판단하기에 좋은 지표는 아닙니다.\n",
        "이런 한계점을 극복하기 위해 통계 선지자 분들은 많은 지표를 만들었습니다.\n",
        "우선 지표를 설명하기 위해 필요한 오차행렬을 알아봅시다.\n",
        "\n",
        "### Code\n",
        "\n",
        "저는 프로그래밍을 하면서 가장 어려운 부분은 사람들이 사용하는 암묵적으로 사용하는 변수명이었습니다.\n",
        "\n",
        "> 합은 `sum`, 리턴값은 `ret`과 같이 사용하는 것을 의미합니다.\n",
        "\n",
        "그래서 사이킷런(Scikit-Learn 라이브러리)을 기준으로 어떤 식으로 변수명을 정하는지 설명하고자 합니다.\n",
        "제가 읽은 캐글 코드와 책들을 바탕으로 조금 적어봤습니다.\n",
        "\n",
        "분류기(classifier)는 보통 `clf`라는 명칭으로 객체를 만듭니다.\n",
        "예를 들면 logistic regression이라면 첫 자와 clf를 합쳐 `lr_clf`와 같이 많이 사용합니다.\n",
        "\n",
        "- Train 데이터는 `X_train`과 `y_train`으로 입력값과 타겟값을 분류합니다.\n",
        "- Test 데이터는 `X_test`와 `y_test`로 입력값과 타겟값을 분류합니다.\n",
        "\n",
        "X는 대문자로 y는 소문자로 씁니다.\n",
        "\n",
        "- 보통 예측값(prediction)은 `pred`를 사용합니다.\n",
        "\n",
        "결론적으로 정확도를 측정하는 `accuracy_score()`는 다음과 같이 사용합니다.\n",
        "사용 전에 `sklearn.metrics`에서 불러오는 것을 잊지맙시다.\n",
        "같은 수의 정답과 예측값을 비교해 정확도를 측정합니다.\n",
        "\n",
        "``` python\n",
        "from sklearn.metrics import accuracy_score\n",
        "clf = MyClassifier()\n",
        "clf.fit(X_train, y_train)\n",
        "pred = clf.predict(X_test)\n",
        "accuracy_score(y_test, pred)\n",
        "```\n",
        "\n",
        "## 2. 오차행렬\n",
        "\n",
        "### 설명\n",
        "\n",
        "이진 분류에서 성능 지표로 잘 활용되는 **오차행렬(Confusion Matrix, 혼동행렬)** 은 학습된 분류 모델이 예측을 수행하면서 얼마나 헷갈리고 있는지도 함께 보여주는 지표입니다. 어떠한 유형의 예측 오류가 발생하는지를 확인할 수 있습니다.\n",
        "\n",
        "OX문제를 생각해보겠습니다. 여러분이 정답을 맞추는 케이스는 다음과 같습니다.\n",
        "\n",
        "- 정답이 O이고, 여러분의 답안이 O인 케이스\n",
        "- 정답이 X고, 여러분의 답안이 X인 케이스\n",
        "\n",
        "그렇다면 여러분이 정답을 틀리는 케이스는 다음과 같습니다.\n",
        "\n",
        "- 정답이 O이고, 여러분의 답안이 X인 케이스\n",
        "- 정답이 X고, 여러분의 답안이 O인 케이스\n",
        "\n",
        "이렇게 이진 분류 문제에서 케이스는 총 4가지가 나옵니다. (클래스가 N개인 다중 분류에서는 N^2개의 케이스가 나옵니다.) 그리고 모든 예측은 반드시 이 4가지 케이스에 포함됩니다.\n",
        "\n",
        "그렇다면 이를 값이 1일 때를 Positive, 0일 때를 Negative라고 생각하면 다음과 같이 행렬로 표현할 수 있습니다. (음성과 양성은 사용자에 따라 다르게 정의할 수 있습니다.)\n",
        "\n",
        "보통 중점적으로 찾아야 하는 매우 적은 수의 결괏값에 Positive(1)을 설정하고, 그렇지 않은 경우 Negative(1)을 부여하는 경우가 많습니다. 질병, 사기 등의 케이스에서 병에 걸린 상태, 사기 행위를 1로 설정하고 정상 케이스를 0으로 두는 것입니다.\n",
        "\n",
        "<figure>\n",
        "    <img src = \"https://i.imgur.com/IUrBHiD.png\">\n",
        "    <figcaption>오차행렬</figcaption>\n",
        "</figure>\n",
        "\n",
        "T와 F는 각각 True와 False로 실제 값과 예측 값이 같은지를 비교합니다.\n",
        "뒤의 N, P는 음성(Negative), 양성(Positive)를 의미하고, 이는 예측 값 기준입니다.\n",
        "\n",
        "표와 각각이 의미하는 알파벳이 무엇을 의미하는지 아는 것이 가장 중요합니다.\n",
        "\n",
        "그렇다면 정확도도 다시 정의할 수 있습니다. 정확도를 식으로 적어보면 다음과 같습니다.\n",
        "\n",
        "$$Accuracy = \\frac{TN+TP}{TN+FP+FN+TP}$$\n",
        "\n",
        "이제 이 표를 가지고 나머지 지표들도 살펴보겠습니다.\n",
        "\n",
        "### Code\n",
        "\n",
        "이번에도 `sklearn.metrics` 에서 함수를 가져옵니다.\n",
        "`confusion_matrix()`는 다음과 같이 사용할 수 있습니다. 결과에서 나오는 배열의 형태는 위의 그림과 같습니다. 행은 실제 클래스, 열은 예측 클래스를 나타냅니다.\n",
        "\n",
        "``` python\n",
        "from sklearn.metrics import confusion_matrix\n",
        "confusion_matrix(y_test, pred)\n",
        "```\n",
        "\n",
        "133명 중, 여학생이 7명인 케이스에 대해 모두 남자라고 예측한다면 다음과 같은 결과가 나옵니다.\n",
        "\n",
        "```\n",
        "array([[126, 0],    \n",
        "    [7,0]], dtype=int64)\n",
        "```\n",
        "\n",
        "## 3. 정밀도와 재현율\n",
        "\n",
        "### 설명\n",
        "\n",
        "불균형 데이터셋에서는 **정밀도(Precision)** 와 **재현율(Recall)** 을 많이 사용합니다. 예측 성능에 좀 더 초점을 맞춘 평가 지표입니다. 우선 공식으로 살펴보겠습니다.\n",
        "\n",
        "$$Precision = \\frac{TP}{FP+TP}$$\n",
        "\n",
        "$$Recall = \\frac{TP}{FN+TP}$$\n",
        "\n",
        "식을 읽어보면 다음과 같습니다.\n",
        "\n",
        "- 정확도는 Positive로 예측한 값들 중에 실제로 Positive한 값의 비율\n",
        "- 재현율은 실제 값이 Positive인 값들 중에 예측을 Positive로 한 값의 비율\n",
        "\n",
        "정확도은 양성 예측도, 재현율은 민감도(Sensitivity), TPR(True Positive Rate)라고도 불립니다.\n",
        "\n",
        "이 지표들은 특정 업무에 따라 중요한 지표가 될 수 있습니다. 케이스로 살펴봅시다.\n",
        "\n",
        "### Case Study\n",
        "\n",
        "재현율의 경우 다음과 같은 상황을 생각해보겠습니다. 암 판단 모델이 있습니다. 가장 최악의 경우는 무엇일까요?\n",
        "\n",
        "1. 암환자에게 암을 예측한 경우\n",
        "2. 암환자가 아닌 사람에게 암을 예측한 경우\n",
        "3. 암환자에게 암이 아니라고 예측한 경우\n",
        "4. 암환자가 아닌 사람에게 암이 아니라고 예측한 경우\n",
        "\n",
        "1번과 4번은 제대로 예측하였고 좋은 대처를 할 수 있습니다. 하지만 2, 3번의 경우에는 분명 힘든 상황이 발생할 수 있습니다. 가장 최악은 3번의 경우입니다. 모델의 판단 결과가 생명에 영향을 미칠 수 있는 상황이기 때문입니다.\n",
        "\n",
        "이런 케이스의 경우, 재현율을 사용합니다. 실제 암인 환자 중에서 암을 예측한 확률을 구하는 것입니다.\n",
        "\n",
        "그렇다면 정밀도는 어떤 케이스에서 중요할까요. 이번에는 스팸 메일 구분 모델이 있습니다. 가장 최악의 경우는 무엇일까요?\n",
        "\n",
        "1. 스팸 메일을 스팸으로 예측한 경우\n",
        "2. 정상 메일을 스팸으로 예측한 경우\n",
        "3. 스팸 메일을 정상으로 예측한 경우\n",
        "4. 정상 메일을 정상으로 예측한 경우\n",
        "\n",
        "이번에도 1, 4는 좋습니다. 3번의 경우는 번거로움 정도가 있을 수 있습니다. 하지만 2번의 경우에는 정상적인 업무가 불가능합니다.\n",
        "\n",
        "이런 케이스의 경우, 정밀도를 사용합니다. 스팸으로 예측한 확률 중, 실제 스팸인 확률을 구하는 것입니다.\n",
        "\n",
        "결론적으로 정밀도와 재현율은 모두 TP를 높이는 데 초점을 둡니다. 하지막 재현율은 FN, 정밀도는 FP를 낮추는 데 초점을 둔다는 차이점이 있습니다.\n",
        "\n",
        "가장 좋은 방향은 재현율과 정밀도 모두 높은 수치를 얻는 것입니다. 하지만 그것이 과연 가능할까요??\n",
        "\n",
        "### 정밀도/재현율 Trade-off\n",
        "\n",
        "분류하려는 업무의 특성에 따라 정밀도 또는 재현율을 강조하기 위한 방법 중 하나로 결정 임계값(Threshold)을 조정하는 방법이 있습니다. 하지만 정밀도와 재현율은 상호 보완적인 평가 지표이기에 강제로 하나를 올리면, 하나는 떨어지기 쉽습니다. (마치 오버피팅같은 느낌입니다.)\n",
        "\n",
        "이런 것을 정밀도/재현율의 트레이드오프라고 부릅니다.\n",
        "\n",
        "> 머신러닝에서 가장 고민이 되는 부분은 이런 트레이트 오프인 것 같습니다. 오버피팅과 언더피팅, 정밀도와 재현율 등등 중도를 찾기 위해 가장 많은 시간이 소모되는 것 같습니다.\n",
        "\n",
        "### 정밀도와 재현율의 거짓말\n",
        "\n",
        "하지만 정밀도와 재현율도 여러분에게 혼란을 줄 수 있습니다. 다음과 같은 케이스를 살펴보겠습니다.\n",
        "\n",
        "**정밀도가 100%??**\n",
        "\n",
        "FP를 0으로 만들면 됩니다. 즉, 정확도가 99%인 스팸메일만 스팸으로 예측하면 됩니다.\n",
        "그렇다면 식에 따라 정밀도는 100%가 됩니다.\n",
        "\n",
        "**재현율이 100%??**\n",
        "\n",
        "모든 환자를 암환자라고 예측하면 됩니다. 그렇다면 FN, 즉 암환자가 아니라고 한 케이스가 0이므로 무조건 재현율이 100%가 됩니다.\n",
        "\n",
        "이렇게 임계치로 여러분을 속이기는 쉽습니다. 그렇다면 이런 극단적인 경우를 방지하기 위해 이 둘을 조합해서 지표를 만들어보겠습니다. 그것이 바로 F1 Score입니다.\n",
        "\n",
        "넘어가기 전에 코드만 간략하게 소개하고 넘어가겠습니다.\n",
        "\n",
        "### Code\n",
        "\n",
        "각각은 `precision_score()`과 `recall_score()`으로 사용할 수 있습니다.\n",
        "역시 `sklearn.matrics`에서 불러와서 사용합니다.\n",
        "\n",
        "``` python\n",
        "from sklearn.metrics import precision_score, recall_score\n",
        "precision = precision_score(y_test, pred)\n",
        "recall = recall_score(y_test, pred)\n",
        "```\n",
        "\n",
        "임계 값의 변경은 다음과 같은 과정을 거쳐야합니다.\n",
        "\n",
        "1. 분류의 결과를 예측 값이 아닌 예측 확률 값을 변환\n",
        "2. 원하는 임계 값으로 예측 확률 값을 예측 값으로 변환\n",
        "3. 다시 오차 행렬에서 원하는 지표 사용\n",
        "\n",
        "각각의 단계는 다음과 같은 함수를 이용하여 할 수 있습니다.\n",
        "\n",
        "1. `predict_proba()`를 이용하여 예측 확률을 구합니다. 기존과 같은 포맷이지만 확률로 반환합니다.\n",
        "2. `sklearn.preprocessing`에서 `Binarizer` 객체를 불러와, `fit_transform()`으로 원하는 임계값으로 예측 값을 만듭니다.\n",
        "\n",
        "코드로 보면 다음과 같습니다.\n",
        "\n",
        "``` python\n",
        "from sklearn.preprocessing import Binarizer\n",
        "\n",
        "pred_proba = clf.predict_proba(X_test)\n",
        "\n",
        "# predict_proba는 첫 번째 칼럼에는 0인 확률, 두 번째 칼럼에는 1인 확률을 반환합니다.\n",
        "# 각 행마다 확률의 합은 1이 되겠죠??\n",
        "# 보다 필요한 값인 1인 확률만 따로 구해서 사용합니다.\n",
        "pred_proba_1 = pred_proba[:,1].reshape(-1, 1)\n",
        "\n",
        "# threshold값보다 작으면 0, 크면 1을 반환\n",
        "binarizer = Binarizer(threshold=1.5).fit(pred_proba_1)\n",
        "custom_predict = binarizer.fit_transform(pred_proba_1)\n",
        "\n",
        "# 원하는 지표 사용\n",
        "accuracy = accuracy_score(y_test, custom_predict)\n",
        "precision = precision_score(y_test, custom_predict)\n",
        "recall = recall_score(y_test, custom_predict)\n",
        "```\n",
        "\n",
        "## 4. F1 스코어\n",
        "\n",
        "### 설명\n",
        "\n",
        "F1 Score는 정밀도와 재현율을 결합한 지표입니다. 한 쪽으로 치우치지 않는 수치를 나타낼 때 상대적으로 높은 값을 가집니다. F1 스코어의 공식은 다음과 같습니다.\n",
        "\n",
        "$$F1 = \\frac{2}{\\frac{1}{recall} + \\frac{1}{precision}} = 2 \\times \\frac{precision \\cdot recall}{precision + recall}$$\n",
        "\n",
        "정밀도와 재현율의 조화평균 입니다. F1 스코어의 최댓값이 1인 것도 쉽게 알 수 있습니다.\n",
        "\n",
        "### Code\n",
        "\n",
        "`sklearn.metrics`의 `f1_score`함수를 사용하면 됩니다.\n",
        "\n",
        "``` python\n",
        "from sklearn.metrics import f1_score\n",
        "f1 = f1_score(y_test, pred)\n",
        "```\n",
        "\n",
        "## 5. ROC 곡선과 AUC\n",
        "\n",
        "### 설명\n",
        "\n",
        "이제 마지막으로 ROC곡선과 이에 기반한 AUC 스코어를 살펴보겠습니다.\n",
        "\n",
        "**ROC곡선** 은 **Receiver Operation Characteristic Curve** 입니다. 2차대전 때 통신 장비 성능 평가를 위해 고안된 수치로, 한국어로는 수신자 판단 곡선이라고 합니다.\n",
        "\n",
        "의학 분야에서 많이 사용하나, 머신러닝에서 지표로 많이 사용됩니다.\n",
        "ROC 곡선은 FPR(X축)과 TPR(Y축)의 관계를 그린 곡선입니다.\n",
        "\n",
        "- FPR : False Positive Rate\n",
        "- TPR : True Positive Rate (재현율)\n",
        "\n",
        "TPR은 이전에 봤던 재현율(민감도)입니다. 이와 대응하는 지표로 TNR이 있습니다. 이는 특이성(Specificity)라고 불립니다.\n",
        "\n",
        "특이성은 실제값 Negative가 정확히 예측돼야 하는 수준을 의미합니다. 수식으로 쓰면 다음과 같습니다.\n",
        "\n",
        "$$TNR = \\frac{TN}{FP+TN}$$\n",
        "\n",
        "그리고 이제 ROC에 사용할 FPR은 다음과 같습니다.\n",
        "\n",
        "$$FPR = \\frac{FP}{FP+TN} = 1 - TNR$$\n",
        "\n",
        "ROC 곡선의 예시를 보고 더 이야기해보겠습니다.\n",
        "\n",
        "<figure>\n",
        "    <img src = \"https://images.slideplayer.com/32/9873965/slides/slide_18.jpg\">\n",
        "    <figcaption>Example of ROC-AUC </figcaption>\n",
        "</figure>\n",
        "\n",
        "가운데 직선은 일반적인 수준(동전 던지기: 확률 50% 랜덤)의 분류 에서 ROC 곡선입니다. ROC 곡선이 직선에 가까울 수록 성능이 떨어지는 것이고, 멀어질수록 성능이 뛰어난 것입니다. 각각은 임계값을 변경하여 다음과 같은 그래프를 만듭니다.\n",
        "\n",
        "결론적으로 아래에 있는 면적 AUC(Area Under Curve)가 클수록 좋은 값입니다. 대부분의 분류 문제는 최소 0.5 값을 가집니다. 최대는 1로 사각형 전체일때 가능합니다.\n",
        "\n",
        "### Code\n",
        "\n",
        "`sklearn.metrics`의 `roc_auc_score`함수를 사용하면 됩니다.\n",
        "\n",
        "``` python\n",
        "from sklearn.metrics import roc_auc_score\n",
        "roc_auc = roc_auc_score(y_test, pred)\n",
        "```\n",
        "\n",
        "## Reference\n",
        "\n",
        "- 파이썬 머신러닝 완벽 가이드, 권철민 저, 위키북스"
      ]
    },
    {
      "cell_type": "markdown",
      "metadata": {
        "id": "Xcp1UYiB8rN7"
      },
      "source": [
        "## 피드백 내용"
      ]
    },
    {
      "cell_type": "code",
      "metadata": {
        "id": "dhqdua6TJZ1t"
      },
      "source": [
        "#html은 일종의 마크다운 언어\n",
        "import pandas as pd\n",
        "\n",
        "!pip install pyreadstat #spss 파일을 읽기 위한 pyreadstat install\n",
        "df_sas = pd.read_sas(\"d:/r_class/survey7b.dat\", format=\"sas7bdat\") #sas 파일\n",
        "df_spss = pd.read_spss(\"d:/r_class/survey_h.sav\") #spss 파일"
      ],
      "execution_count": null,
      "outputs": []
    },
    {
      "cell_type": "code",
      "metadata": {
        "colab": {
          "base_uri": "https://localhost:8080/"
        },
        "id": "IiRojvijWbtX",
        "outputId": "04b2ef2e-20fa-4c7f-c5c9-5d2c9de9bbb8"
      },
      "source": [
        "#2775번\n",
        "\n",
        "y = [1,2,3,4,5,6,7,8,9,10,11,12,13,14]\n",
        "for i in range(3):\n",
        "  x = y ## x가 y의 주소를 참조한 것이므로 x를 바꾸면 y의 값도 변함!\n",
        "  x[1] += 999\n",
        "\n",
        "  print(i+1,x)\n",
        "\n",
        "y = [1,2,3,4,5,6,7,8,9,10,11,12,13,14]\n",
        "for i in range(3):\n",
        "  x = y.copy() ### 차이점???\n",
        "  x[1] += 999\n",
        "\n",
        "  print(i+1,x)"
      ],
      "execution_count": null,
      "outputs": [
        {
          "output_type": "stream",
          "text": [
            "1 [1, 1001, 3, 4, 5, 6, 7, 8, 9, 10, 11, 12, 13, 14]\n",
            "2 [1, 2000, 3, 4, 5, 6, 7, 8, 9, 10, 11, 12, 13, 14]\n",
            "3 [1, 2999, 3, 4, 5, 6, 7, 8, 9, 10, 11, 12, 13, 14]\n",
            "1 [1, 1001, 3, 4, 5, 6, 7, 8, 9, 10, 11, 12, 13, 14]\n",
            "2 [1, 1001, 3, 4, 5, 6, 7, 8, 9, 10, 11, 12, 13, 14]\n",
            "3 [1, 1001, 3, 4, 5, 6, 7, 8, 9, 10, 11, 12, 13, 14]\n"
          ],
          "name": "stdout"
        }
      ]
    },
    {
      "cell_type": "markdown",
      "metadata": {
        "id": "42WEqLJqCsks"
      },
      "source": [
        "## **1. Python**"
      ]
    },
    {
      "cell_type": "markdown",
      "metadata": {
        "id": "TcAsMrcA_ML-"
      },
      "source": [
        "### **ㄱ. Google Colab**"
      ]
    },
    {
      "cell_type": "code",
      "metadata": {
        "id": "Ylz5_qdg-5t1"
      },
      "source": [
        "import platform\n",
        "platform.platform() #플랫폼확인\n",
        "# 'Linux-4.19.104+-x86_64-with-Ubuntu-18.04-bionic'\n",
        "\n",
        "!cat /etc/issue.net #운영체제 확인\n",
        "!cat /proc/cpuinfo #CPU사양 확인\n",
        "!cat /proc/meminfo #메모리 사양 확인\n",
        "!df -h #디스크 사양 확인\n",
        "!python --version #파이썬 버전 확인\n",
        "!nvidia-smi #런타임 None : CPU, GPU, TPU"
      ],
      "execution_count": null,
      "outputs": []
    },
    {
      "cell_type": "code",
      "metadata": {
        "id": "plSm73IVAPoM"
      },
      "source": [
        "# text가 들어있는 test 파일 생성\n",
        "%%writefile test.txt \n",
        "text "
      ],
      "execution_count": null,
      "outputs": []
    },
    {
      "cell_type": "code",
      "metadata": {
        "id": "GHKWnficAZjL"
      },
      "source": [
        "!cat test.txt #test파일 보기\n",
        "\n",
        "from google.colab import files\n",
        "files.download('test.txt') #파일 다운로드\n",
        "upload = files.upload() #파일 업로드\n",
        "!ls #현재 지정된 파일목록 확인"
      ],
      "execution_count": null,
      "outputs": []
    },
    {
      "cell_type": "markdown",
      "metadata": {
        "id": "55hZajCS_MqK"
      },
      "source": [
        "#### 구글 드라이브 연동"
      ]
    },
    {
      "cell_type": "code",
      "metadata": {
        "id": "6uk3MpQnAs6r"
      },
      "source": [
        "from google.colab import drive\n",
        "drive.mount('/content/drive') #구글 드라이브 연동 코드\n",
        "\n",
        "!ls /content/drive #드라이브 확인\n",
        "\n",
        "from google.colab import files #업로드\n",
        "files.upload()"
      ],
      "execution_count": null,
      "outputs": []
    },
    {
      "cell_type": "markdown",
      "metadata": {
        "id": "pC-lw3kh_Mzz"
      },
      "source": [
        "#### Jupyter Notebook"
      ]
    },
    {
      "cell_type": "code",
      "metadata": {
        "id": "IjubF4d-A-f7"
      },
      "source": [
        "help(min)\n",
        "\n",
        "min?\n",
        "\n",
        "li = [\"one\",'two','three']\n",
        "li?\n",
        "li.count?\n",
        "\n",
        "def power(b,n):\n",
        "  \"\"\"b의 n승을 반환\"\"\"\n",
        "  return pow(b,m)\n",
        "\n",
        "power? #사용자 정의 함수의 정보 표기\n",
        "power?? #사용자 정의 함수의 source 표기\n",
        "\n",
        "#와일드 카드 매칭\n",
        "*Error? #단어의 마지막 글자로 매칭하여 속성 찾기\n",
        "str.*index*? #단어의 중간 글자로 매칭하여 속성 찾기\n",
        "\n",
        "#매직명령어 Jupyter notebook환경에서 파이썬 파일 저장 및 실행\n",
        "%%writefile test.py\n",
        "print('hello cola') #파이썬 파일 생성\n",
        "\n",
        "%run test.py #파이썬 파일 실행\n",
        "\n",
        "%%timeit #코드실행시간 측정\n",
        "%timeit li = [n ** n for n in range(10000)]\n",
        "%%timeit \n",
        "li = []\n",
        "for n in range(10000):\n",
        "  li.append(n ** n)\n",
        "\n",
        "In #이전 명령어 In[46]과 같이 슬라이싱 가능\n",
        "Out#이전 명령어의 결과물 Out[46]과 같이 슬라이싱 가능\n",
        "\n",
        "print(_) #이전 출력값\n",
        "print(__) #\n",
        "print(___) #\n",
        "_40 #40번째 출력값 확인\n",
        "%history -n 1-7 #1-7번까지의 입력 이력 살펴보기\n",
        "%rerun #이전 입력 이력 다시 실행"
      ],
      "execution_count": null,
      "outputs": []
    },
    {
      "cell_type": "markdown",
      "metadata": {
        "id": "NZI2aoDXE87E"
      },
      "source": [
        "#### 셀 명령어"
      ]
    },
    {
      "cell_type": "code",
      "metadata": {
        "colab": {
          "base_uri": "https://localhost:8080/"
        },
        "id": "9iwpdJxaEHQo",
        "outputId": "3401f809-7cab-41a9-efa8-7cc17035dada"
      },
      "source": [
        "!ls #디렉토리 리스트 보기\n",
        "!pwd #현재 경로 보기\n",
        "!cd KCase.log/ $$ ls #디렉토리 변경 !cd\n",
        "%cd sample_data/ #지속적인 디렉토리 변경 %cd\n",
        "!echo \"shell\" #화면 출력\n",
        "!mkdir tmp #디렉토리 생성\n",
        "!cat README.md # !cat 파일 보기\n",
        "!cp README.md tmp/ # !cp 디렉토리/파일 복사\n",
        "!rm -r tmp # 디렉토리/파일 삭제"
      ],
      "execution_count": null,
      "outputs": [
        {
          "output_type": "execute_result",
          "data": {
            "text/plain": [
              "{}"
            ]
          },
          "metadata": {
            "tags": []
          },
          "execution_count": 4
        }
      ]
    },
    {
      "cell_type": "markdown",
      "metadata": {
        "id": "E4vcuNgXFp5q"
      },
      "source": [
        "#### 마크다운"
      ]
    },
    {
      "cell_type": "markdown",
      "metadata": {
        "id": "fSJ0j0Y8CsKW"
      },
      "source": [
        "1. 첫째\n",
        "2. 둘째\n",
        "* 1단계\n",
        "  + 2단계\n",
        "    - *3단계*\n",
        "\n",
        "$a^b$\n"
      ]
    },
    {
      "cell_type": "markdown",
      "metadata": {
        "id": "Fu4Lk62RCivG"
      },
      "source": [
        "**bold**\n",
        "__bold__\n",
        "*itolic*"
      ]
    },
    {
      "cell_type": "markdown",
      "metadata": {
        "id": "gchOf72GD5lt"
      },
      "source": [
        "> 인용1\n",
        ">> 인 용2\n",
        ">>>인용3\n",
        "\n"
      ]
    },
    {
      "cell_type": "markdown",
      "metadata": {
        "id": "Km3c8In7GCsD"
      },
      "source": [
        "링크"
      ]
    },
    {
      "cell_type": "markdown",
      "metadata": {
        "id": "2NVoA14BEMqB"
      },
      "source": [
        "[google](https://www.google.com)"
      ]
    },
    {
      "cell_type": "markdown",
      "metadata": {
        "id": "6UogeoyKGCUf"
      },
      "source": [
        "이미지"
      ]
    },
    {
      "cell_type": "markdown",
      "metadata": {
        "id": "puOkShcgEnuq"
      },
      "source": [
        "![이미지](https://www.google.com/images/branding.googlelogo/1x/googlelogo_color_272x92dp.png)"
      ]
    },
    {
      "cell_type": "markdown",
      "metadata": {
        "id": "mVy5Qmd4Erlp"
      },
      "source": [
        "수평선\n",
        "\n",
        "\n"
      ]
    },
    {
      "cell_type": "markdown",
      "metadata": {
        "id": "VhNkI-8VEviE"
      },
      "source": [
        "---"
      ]
    },
    {
      "cell_type": "markdown",
      "metadata": {
        "id": "hBVgu-TnEyFt"
      },
      "source": [
        "표\n",
        "\n",
        "\n"
      ]
    },
    {
      "cell_type": "markdown",
      "metadata": {
        "id": "5X87z4qYFFF-"
      },
      "source": [
        "| C1 | C2 | C3  |\n",
        "|:---|---:|:---:|\n",
        "| D1 | D2 | D3 |"
      ]
    },
    {
      "cell_type": "markdown",
      "metadata": {
        "id": "hqpFpco_FMfT"
      },
      "source": [
        "코드\n",
        "\n",
        "\n",
        "\n",
        "\n"
      ]
    },
    {
      "cell_type": "markdown",
      "metadata": {
        "id": "uQXf54sq3NFu"
      },
      "source": [
        "`inline cod`\n",
        "\n",
        "```phthon\n",
        "def power(b,n)\n",
        " return pow(b,n)\n",
        "```\n"
      ]
    },
    {
      "cell_type": "markdown",
      "metadata": {
        "id": "QW_5tS9vGcjc"
      },
      "source": [
        "### **ㄴ. python**"
      ]
    },
    {
      "cell_type": "markdown",
      "metadata": {
        "id": "dInsfWas91TX"
      },
      "source": [
        "#### 변수, 자료형, 연산자"
      ]
    },
    {
      "cell_type": "code",
      "metadata": {
        "id": "vMQfJ7SEGYxY"
      },
      "source": [
        "a = 0b #2진수\n",
        "a = 0o #8진수\n",
        "a = 0x #16진수\n",
        "\n",
        "complex(1.2) #복소수형 변환\n",
        "str() #문자형 변환\n",
        "eval('1+2') #문자형에 포함된 수식을 계산\n",
        "\n",
        "set() #중복 제거\n",
        "set().count() #요소 갯수\n",
        "frozenset() #수정 불가능한 집합 자료형\n",
        "\n",
        "chr() #정수를 문자로 변환\n",
        "ord() #문자를 정수형으로 변환\n",
        "bin() #정수를 2진수 문자열로 변환\n",
        "oct() #정수를 8진수 문자열로 변환\n",
        "\n",
        "divmod() #나눈 값과 나머지 쌍으로 반환\n",
        "pow() #지수승의 값\n",
        "\n",
        "#비트 연산\n",
        "&, |, ^, ~\n",
        "#멤버 연산\n",
        "in, not in\n",
        "#식별 연산\n",
        "is, is not"
      ],
      "execution_count": null,
      "outputs": []
    },
    {
      "cell_type": "markdown",
      "metadata": {
        "id": "mnfwYGLb96lC"
      },
      "source": [
        "#### 문자열"
      ]
    },
    {
      "cell_type": "code",
      "metadata": {
        "id": "Gi-LUtCX987Y"
      },
      "source": [
        "#문자열 더하기\n",
        "s1 = \"동해물과\"\n",
        "s2 = \"백두산이\"\n",
        "print(s1+ s2) #동해물과백두산이\n",
        "\n",
        "#문자열 곱하기\n",
        "s1 * 3 #동해물과동해물과동해물과\n",
        "\n",
        "#인덱싱 s[1]\n",
        "#슬라이싱 s[1:3]\n",
        "\n",
        "s1.capitalize() #첫 문자가 대문자인 String\n",
        "s1.casefold() #모든 문자가 소문자인 string\n",
        "s1.count('s') #s의 갯수\n",
        "s1.find('s') #rfind()\n",
        "s1.index('s') #rindex() 찾고자 하는 문자의 인덱스 번호\n",
        "s1.isalnum() #문자나 알파엣, 숫자가 1개 이상이면 True\n",
        "s1.isalpha() #문자나 알파벳 1개 이상이면 True\n",
        "s1.isdecimal() #문자열의 모든 문자가 10진수 문자열이면 True (isdigit, isidenifier, isspace, istitle, islower, isupper)\n",
        "\n",
        "'_'.join(s1) #s1문자 사이 마다 _ 입력\n",
        "s1.center(10) #너비 10에 해당하는 문자열 가운데 정렬 ljust, rjust\n",
        "s1.title() #첫 문자가 대문자\n",
        "s1.swapcase() #대문자는 소문자로 소문자는 대문자로\n",
        "s1.strip() #공백제거 lstrip, rstrip\n",
        "s1.partition('s') #문자 s 기준으로 분할\n",
        "s1.rpartition('S') #마지막 문자 S를 기준으로 분할\n",
        "s1.replace('s','t') #s를 t로 변환\n",
        "s1.split('_',1) # 문자 _로 구분 한번만\n",
        "s1.startswith() #endswith()\n",
        "'123'.zfill(8) #문자열 s1에서 너비 8만큼 늘리고 비어있는 부분에 0으로 채워진 문자열 00000123 반환\n",
        "\n",
        "print('a : %d, b : %s'%(2,'apple'))\n",
        "print('%8s' % 'hello') #8칸중 hello입력\n",
        "print('%8.2f' % 3.141592)\n",
        "print('%-8.2f' % 3.141592) # -는 왼쪽정렬 의미\n",
        "print('{n}'.format(n=2)) \n",
        "print('{0:~^8}'.format('hello')) # ~hello~~, > : 오른쪽 정렬, < : 왼쪽 정렬\n",
        "\n",
        "s = 'apple'\n",
        "n = 1\n",
        "print(f'나는 {s}가 {n}개 있다.')\n",
        "print(f'{'hello':~^8}')\n",
        "print(f'{3.141592:8.2f}')\n",
        "\n",
        "text = \"\"\"동해물과 백두산이 마르고 닳도록\n",
        "하느님이 보우하사 우리나라 만세.\"\"\"\n",
        "print(text)"
      ],
      "execution_count": null,
      "outputs": []
    },
    {
      "cell_type": "markdown",
      "metadata": {
        "id": "hwjmnj8QKcGf"
      },
      "source": [
        "#### 리스트, 튜플, 세트, 딕셔너리"
      ]
    },
    {
      "cell_type": "code",
      "metadata": {
        "id": "57HpwKH2KgxJ"
      },
      "source": [
        "###리스트###\n",
        "list = ([1,2,3,['one','two','three']])\n",
        "list[3][0] # 'one'\n",
        "\n",
        "list.append([1,2])\n",
        "list.sort()\n",
        "list.reverse()\n",
        "list.index(1) #리스트 요소 값의 인덱스 반환\n",
        "list.insert(0) #리스트에 삽입\n",
        "list.remove(0)\n",
        "del list[0] #제거\n",
        "list.pop(0) #방출\n",
        "list.count() #리시트 요소 갯수\n",
        "list.extend([10,20])\n",
        "\n",
        "###튜플###\n",
        "tuple = ('one','two','three')\n",
        "\n",
        "###세트### 중복을 허용하지 않는 구조\n",
        "set1 & set2 # &, |, -, ^\n",
        "\n",
        "set_1 = {10,20,30}\n",
        "set_2 = {10,20,40}\n",
        "set_1.intersection()\n",
        "set_1.union()\n",
        "set_1.difference()\n",
        "set_1.symmetric_difference() #여집합\n",
        "set_1.add() # .update(), .remove(), .discard() : 제거, .clear()\n",
        "\n",
        "###딕셔너리###\n",
        "dic = {1 : 'one', 2: 'two'}\n",
        "dic[3] = 'three' #추가\n",
        "del dic[3] #제거\n",
        "dic.keys()\n",
        "dic.values()\n",
        "dic.items()\n",
        "dic.get(2)\n",
        "dic.pop(3)\n",
        "dic.clear()"
      ],
      "execution_count": null,
      "outputs": []
    },
    {
      "cell_type": "markdown",
      "metadata": {
        "id": "vqsRtzSqNwLV"
      },
      "source": [
        "#### 제어문"
      ]
    },
    {
      "cell_type": "code",
      "metadata": {
        "id": "SjwkDJNHNwm_"
      },
      "source": [
        "if 10 > 5: \n",
        "  print(10)\n",
        "else:\n",
        "  pass #오류가 발생하지 않도록 넘어가는 기능\n",
        "\n",
        "#논리 연산\n",
        "and, or, not\n",
        "#멤버 연산\n",
        "in, not in\n",
        "#식별 연산\n",
        "is, is not\n",
        "\n",
        "score = 75\n",
        "line = '통과' if score <= 70 else '탈락' # 한 줄로 조건식 표현\n",
        "\n",
        "for _ in range(5): # _ 대신 n도 가능\n",
        "  print('a') # a를 5번 출력\n",
        "\n",
        "[i * 2 for i in range(10) if i % 2 == 0] #리스트 안에 for 문과 if 문 사용\n",
        "\n",
        "#ZeroDivisionError  #NameError  #TypeError  #ValueError\n",
        "\n",
        "\n",
        "try: #예외 발생 가능한 코드에 정의\n",
        "  print(2/20)\n",
        "except: #예외 처리 방법을 정의 -> 오류가 생기면 나오도록 하게 하는 방법\n",
        "  break\n",
        "  print('error')\n",
        "except ZeroDivisionError as e: #에러 분류에 따른 except 문\n",
        "  print(e)\n",
        "\n",
        "raise ZeroDivisionError(\"숫자는 0으로 나눔\") #직접적으로 에러발생, 에러 종류와 상황을 정의\n",
        "\n",
        "assert False, '에러 메세지' #검증을 위한 목적으로 작성, 검증식이 False일 경우 AssertionErro 발생"
      ],
      "execution_count": null,
      "outputs": []
    },
    {
      "cell_type": "markdown",
      "metadata": {
        "id": "-Wn6cD5ZRrPW"
      },
      "source": [
        "#### 입력과 출력"
      ]
    },
    {
      "cell_type": "code",
      "metadata": {
        "id": "tLjrpSgCRriO"
      },
      "source": [
        "import sys\n",
        "sys.stdin.readline() # for로 여러 행 을 받을 때 시간초과 발생 안함, 개행문자도 받아들여짐\n",
        "sys.stdin.readlines() #여러줄을 받을 수 있으며 종료시 ctrl + d이다.\n",
        "\n",
        "name = input(\"이름 : \")\n",
        "\n",
        "print(\"hello\",\"world\", sep = \"---\",end=' ') # hello---word 1 2 3\n",
        "print(1,2,3)\n",
        "\n",
        "###구구단 출력\n",
        "for i in range(2,10):\n",
        "  for j in range(1,10):\n",
        "    print('{0} x {1} = {2}'.format(i,j,i*j), end = '\\t')\n",
        "  print() # 각 단마다 횡으로 출력\n",
        "\n",
        "list = ['one\\n','two\\n']\n",
        "text = [str(text + '\\n') for text in input(\"여러 값 입력: \").split()]\n",
        "f = open('file.txt','w') # 'w' or 'r'\n",
        "f.write('hello')\n",
        "f.write(text)\n",
        "f.writelines(list)\n",
        "\n",
        "f = open('anthem.txt', 'r')\n",
        "lines = f.readlines()\n",
        "print(line)\n",
        "\n",
        "while True:\n",
        "  line = f.readline()\n",
        "  if not line: break\n",
        "  print(line)\n",
        "\n",
        "f.read() #텍스트 파일을 읽고 화면에 출력\n",
        "f.tell() #파일 포인터 위치 변경\n",
        "f.seek() #파일 포인터 위치 이동\n",
        "\n",
        "with open('file.txt','w') as f: #with문 항상 파일을 open()으로 열고 close()로 닫는 일처리를 자동으로 처리\n",
        "  f.write('hello')\n",
        "\n",
        "f.close()\n",
        "\n",
        "import os\n",
        "import shutil\n",
        "\n",
        "os.mkdir('test') #디렉토리 생성\n",
        "shutil.copy() #파일 복사\n",
        "shuyil.copytree('test','test2') #디렉토리 전체 복사\n",
        "\n",
        "import os.path\n",
        "print(os.path.isdir('test')) #디렉토리 존재확인\n",
        "print(os.path.isdir('test/1'))\n",
        "print(os.path.isfile('unnane.jpg')) #파일 존재 확인\n",
        "print(os.path.exists('test/3')) #디렉토리/파일 존재확인\n",
        "\n",
        "for dir_name, dir_list,file_names in os.walk('./'): #,/현재디렉토레이 대해서만 위치값 제공\n",
        "  for file_name in file_names:\n",
        "    print(os.path.join(dir_name, file_name))\n",
        "\n",
        "shutil.rmtree('text') #디렉토리 안에 있는 모든 파일/디렉토리 삭제\n",
        "os.remove('unname_1.jpg') #파일 삭제\n",
        "\n",
        "print(os.path.getsize('KakaoTalk_20200413_153217771.jpg')) #파일크기 바이트 단위로 출력\n",
        "\n",
        "import zipfile #파일 압축\n",
        "comp = zipfile.ZipFile('new.zip','w')\n",
        "comp.write('KakaoTalk_20200413_153217771.jpg')\n",
        "comp.close()\n",
        "\n",
        "decomp = zipfile.ZipFile('new.zip','r') #압축 파일 열기\n",
        "decomp.extractall('new')\n",
        "decomp.close()"
      ],
      "execution_count": null,
      "outputs": []
    },
    {
      "cell_type": "markdown",
      "metadata": {
        "id": "CSsDRyv8SXFY"
      },
      "source": [
        "####함수"
      ]
    },
    {
      "cell_type": "code",
      "metadata": {
        "id": "quVdjlFISdgo"
      },
      "source": [
        "def square(num): #num 매개변수\n",
        "  global a #전역변수 지정\n",
        "\n",
        "def sum(*args): # *args 가변매개변수\n",
        "\n",
        "def print_kwargs(**kwargs): # **kwargs 가변 키워드 매개변수\n",
        "\n",
        "def power(b=2,n=2): # default 설정\n",
        "\n",
        "def count(n): #재귀함수 자기 함수를 다시 부르는 함수\n",
        "  if n>= 1:\n",
        "    print(n, end= ' ')\n",
        "    count(n-1)\n",
        "\n",
        "add2 = lambda n1,n2 : n1 + n2 #람다 함수 : 한줄로 간결하게 표현\n",
        "\n",
        "li = [1,2,3,4,5]\n",
        "square = lambda n :n*n\n",
        "li = list(map(square, li)) # map, 람다를 사용하여 리스트 계산\n",
        "\n",
        "evens = filter(lambda n : n % 2 is 0,li) # 특정 조건에 해당하는 값으로 필터링\n",
        "\n",
        "import functools\n",
        "sum = functools.reduce(lambda x,y : x + y,li) #데이터를 축약하여 하나의 값으로 만들어 가는 과정\n",
        "\n",
        "def gen(): #함수 안에서 yield를 사용하면 제너레이터\n",
        "  yield 1 #함수를 끝내지 않고 값을 계속 반환\n",
        "  yield 2\n",
        "\n",
        "g = gen()\n",
        "print(next(g)) #1\n",
        "print(next(g)) #2\n",
        "\n",
        "##짝수만 생성하는 제너레이터\n",
        "'''\n",
        "def gen_even(n):\n",
        "  for i in range(n):\n",
        "    if i % 2 ==0:\n",
        "      yield i\n",
        "\n",
        "for i in gen_even(10):\n",
        " print(i)\n",
        "'''"
      ],
      "execution_count": null,
      "outputs": []
    },
    {
      "cell_type": "markdown",
      "metadata": {
        "id": "1uU1iAoRSW_h"
      },
      "source": [
        "####객체와 클래스"
      ]
    },
    {
      "cell_type": "code",
      "metadata": {
        "id": "An6dQjvwSdVM"
      },
      "source": [
        "class Book(object):\n",
        "  author = '' #인스턴스 속성\n",
        "  count = 0 #클래스 속성\n",
        "\n",
        "  def __init__(self, author):\n",
        "    self.author = author\n",
        "    Book.count += 1\n",
        "\n",
        "  def __str__(self): #print(b1) 시 나타나게 하는 문구\n",
        "    return('author : ' + self.author )\n",
        "\n",
        "  def print_info(self): #self는 실제적으로 book인스턴스를 의미, print_info : 메소드\n",
        "    print('author: ',self.author)\n",
        "    print('name: ', self.name) \n",
        "\n",
        "b1 = Book()\n",
        "Book.count += 1\n",
        "b1.author = 'Kim'\n",
        "\n",
        "class Line(object):\n",
        "  length = 0\n",
        "\n",
        "  def __init__(self,length):\n",
        "    self.length = length\n",
        "    print(self.length,'길이의 선 생성')\n",
        "\n",
        "  def __del__(self):\n",
        "    return print(self.length,'길이의 선 제거') #del(l1)\n",
        "\n",
        "  def __repr__(self):\n",
        "    return str(self.length)\n",
        "  \n",
        "  def __add__(self,other):\n",
        "    return self.length + other.length\n",
        "\n",
        "  def __lt__(self,other):\n",
        "    return self.length < other.length\n",
        "    \n",
        "  def __le__(self,other):\n",
        "    return self.length <= other.length\n",
        "    \n",
        "  def __gt__(self,other):\n",
        "    return self.length > other.length\n",
        "\n",
        "  def __ge__(self,other):\n",
        "    return self.length >= other.length\n",
        "    \n",
        "  def __eq__(self,other):\n",
        "    return self.length == other.length\n",
        "    \n",
        "  def __ne__(self,other):\n",
        "    return self.length != other.length\n",
        "\n",
        "l1 = Line(30)\n",
        "\n",
        "### __items 속성 ###\n",
        "class Box(object):\n",
        "  def __init__(self,name):\n",
        "    self.name = name\n",
        "    self.__items = []\n",
        "  \n",
        "  def add_item(self,item):\n",
        "    self.__items.append(item) #Box객체 외부에서 보이지 않도록 캡슐화와 정보 은닉이 가능\n",
        "    print('아이템 추가')\n",
        "  \n",
        "  def get_number_of_items(self):\n",
        "    return len(self.__items)\n",
        "\n",
        "### 클래스 상속 ###\n",
        "class SuperClass(object):\n",
        "  def method(self):\n",
        "    pass\n",
        "class SubClass(SuperClass):\n",
        "  pass\n",
        "\n",
        "sub = SubClass()\n",
        "sub.method() #오버라이딩\n",
        "\n"
      ],
      "execution_count": null,
      "outputs": []
    },
    {
      "cell_type": "markdown",
      "metadata": {
        "id": "4kZB5ADTSWwb"
      },
      "source": [
        "####모듈과 패키지"
      ]
    },
    {
      "cell_type": "code",
      "metadata": {
        "id": "avDkV7f3SdHv"
      },
      "source": [
        "#사용자 정의 모듈\n",
        "%%writefile Module.py \n",
        "def func1():\n",
        "  print('Module.py: func1()')"
      ],
      "execution_count": null,
      "outputs": []
    },
    {
      "cell_type": "code",
      "metadata": {
        "id": "W30lT8wPaWX9"
      },
      "source": [
        "%load Module.py\n",
        "%run Module.py\n",
        "\n",
        "import Module\n",
        "Module.func1()\n",
        "\n",
        "from Module import *\n",
        "Module.func1()\n",
        "\n",
        "import sys #파이썬 기본 모듈\n",
        "print(sys.builtin_module_names)\n",
        "sys.stdin.readline() #코랩에서는 안되는게 정상\n",
        "\n",
        "import time #시간 모듈\n",
        "print(dir(time))\n",
        "\n",
        "from datetime import date\n",
        "print(date(year = 2010, month = 1, day = 1)) # 2000-01-01\n",
        "today = date.today() #현재 날짜\n",
        "year = str(today.year)\n",
        "month = str(today.month)\n",
        "day = str(today.day)\n",
        "\n",
        "from datetime import time\n",
        "print(time(18,59,15,100000)) #18:59:15.100000\n",
        "now = time(20,40,15,2000) #현재 시간\n",
        "hour = str(now.hour)\n",
        "minute = str(now.minute)\n",
        "sec = str(now.second)\n",
        "msec = str(now.microsecond)\n",
        "\n",
        "from datetime import datetime\n",
        "now = datetime.now()\n",
        "print(now.strftime('%Y년 %m월 %d일 %H시 %M분 %S 초'))\n",
        "print(now.strftime('%y/%m/%d %p %l:%m:%S:%f'))\n",
        "\n",
        "import math\n",
        "print(math.factorial(3))\n",
        "print(math.gcd(12,24))\n",
        "print(math.floor(math.pi))\n",
        "print(math.ceil(math.pi))\n",
        "print(math.pow(2,10))\n",
        "print(math.sqrt(10))\n",
        "print(math.log(10,2))\n",
        "print(math.degrees(math.pi))\n",
        "print(math.radians(180))\n",
        "print(math.sin(math.radians(90)))\n",
        "print(math.cos(math.radians(180)))\n",
        "\n",
        "import itertools #곱집합, 순열, 조합등을 구하는 함수 제공\n",
        "list_1 = ['a','b','c']\n",
        "list_2 = [1,2]\n",
        "list_cp = list(itertools.product(list_1,list_2)) #곱집합\n",
        "list_p = list(itertools.permutations(list_1,2)) #순열\n",
        "list_c = list(itertools.combinations(list_1,2)) #조합\n",
        "list_cr = list(itertools.combinations_with_replacement(list_1,2)) #중복 조합\n",
        "\n",
        "import statistics\n",
        "values = [56,44,67,47,82,64,81,85,94]\n",
        "print(statistics.median(values)) #중간값\n",
        "print(statistics.mean(values)) #평균값\n",
        "print(statistics.harmonic_mean(values)) #조화평균\n",
        "print(statistics.stdev(values)) #표준편차\n",
        "print(statistics.variance(values)) #분산\n",
        "\n",
        "import random\n",
        "print(random.random()) #0과 1사이의 실수 하나\n",
        "print(random.randint(1,10)) #1~9사이의 정수\n",
        "print(random.randrange(0,10,2)) #0~9까지\n",
        "\n",
        "li = [10,20,30,40,50]\n",
        "print(random.choice(li)) #샘플 1개\n",
        "print(random.sample(li,2)) #샘플 n개\n",
        "random.shuffle(li) #순서 섞기"
      ],
      "execution_count": null,
      "outputs": []
    },
    {
      "cell_type": "markdown",
      "metadata": {
        "id": "UtQI1_gOmfom"
      },
      "source": [
        "## **2. 데이터 처리 및 시각화**"
      ]
    },
    {
      "cell_type": "markdown",
      "metadata": {
        "id": "9Cs80Ml7mopS"
      },
      "source": [
        "### Numpy"
      ]
    },
    {
      "cell_type": "code",
      "metadata": {
        "id": "Om90ayrumn29"
      },
      "source": [
        "a1.shape # (3,3,3)\n",
        "np.zeros(10)\n",
        "np.ones((3,3),dtype=int) # or bool, float\n",
        "np.full((3,3),1.23)\n",
        "np.eye(3) #단위 행렬\n",
        "np.tri(3) #삼각 행렬\n",
        "np.empty(10) #초기화 되지않는 배열 # _like : zeros_like, ones_like(a)\n",
        "\n",
        "np.arange(0,30,2) #정수 범위 배열\n",
        "np.linspace(0,1,5) #범위내 균등 간격 배열\n",
        "np.logspace(0.1,1,20) #범위내 균등 간격 로그 스케일\n",
        "\n",
        "np.random.random((3,3)) # 0~1 랜덤 배열\n",
        "np.random.randint(0,10,(3,3)) #일정구간 배열\n",
        "np.random.normal(0,1,size=(3,3)) #정규분포\n",
        "np.random.rand(3,3) #균등분포\n",
        "np.random.randn(3,3) #표준 정규분포\n",
        "\n",
        "date = np.array('2020-01-01',dtype=np.datetime64)\n",
        "datetime = np.datetime64('2020-06-01 12:00')\n",
        "datetime = np.datetime64('2020-06-01 12:00:12.34','ns')\n",
        "\n",
        "a1.ndim # .shape, dtype, size, itemsize, nbytes, strides\n",
        "\n",
        "a3[0,0,0]\n",
        "a3[::2] #2의 간격으로\n",
        "al([False,True,False,True,True]) #불리언 인덱싱\n",
        "ind = np.array([[0,1],\n",
        "               [2,0]])\n",
        "a1[ind] #팬시 인덱싱\n",
        "\n",
        "np.insert(a1,0,10, axis=0) #삽입\n",
        "np.delete(a1,1, axis=0) #삭제\n",
        "\n",
        "a2_sub[:,1] = 0 #리스트와 달리 배열의 슬라이즈는 복사본이 아닌 원본\n",
        "a2_sub_copy = a2[:2,:2].copy() # .copy() 함수로 복사본 생성\n",
        "\n",
        "a3.T #전치\n",
        "a2.swapaxes(1,0) #축변경\n",
        "n1.reshape(3,3) #형상 변경\n",
        "n1[np.newaxis,:5] #새로운 축 추가\n",
        "n2.resize((5,2 #배열 모양 변경, 남는 곳은 0으로\n",
        "           \n",
        "np.append(a2,b2, axis=0)  \n",
        "\n",
        "np.concatenate([a1,b1]) #튜플이나 배열의 리스트를 인수로 사용하여 배열 연결\n",
        "np.vstack([a2,a2]) #수직 스택 : 1차원 연결\n",
        "np.hstack([a2,a2]) #수평 스택 : 2차원 연결\n",
        "np.dstack([a2,a2]) #깊이 스택 : 3차원 연결\n",
        "np.stack([a2,a2]) #새로운 차원으로 연결\n",
        "\n",
        "b1,c1 =np.split(a1,[5]) #배열 분할\n",
        "b2,c2 = np.vsplit(a2,[2]) #수직 분할 [2]까지 인덱싱 번호\n",
        "b2,c2 = np.hsplit(a2,[2]) #수평 분할, 2차원 분할\n",
        "b3,c3 = np.dsplit(a3,[2]) #깊이 분할, 3차원 분할\n",
        "\n",
        "a1 = np.array([1,2,3])\n",
        "a2 = np.arange(1,10).reshape(3,3)\n",
        "print(a1 + b2) #벡터화 연산\n",
        "\n",
        "np.add(a1,10) # a1 + 10\n",
        "np.subtract(a2,10) #a2 - 10\n",
        "np.negative(a1) # -a1\n",
        "np.multiply(a1,2) # a1 * 2\n",
        "np.divide(a1,2) # a1 / 2\n",
        "np.power(a1,2) # a1 ** 2\n",
        "np.mod(a1,2) # a1 % 2\n",
        "# .abs(), .absolute(), .square(), .sqrt() : 제곱근, .exp(), .exp2(), .power(), .cumsum(), .sum(), .diff() \n",
        "# .log(), .log2(), .log10(), .sin(), .cos(), .tan(), .arccos() ..., .cumprod(), .prod()\n",
        "# .dot() : 점곱, .matmul() : 행렬곱, .tensordot() : 텐서곱, .cross() : 벡터 곱, .inner() : 내적, .outer() : 외적\n",
        "# .mean(), .std(), .var(), argmax() : 최대값 인덱스, .percentile() : 백분위수\n",
        "\n",
        "np.any(a2,axis=0)\n",
        "np.all(a2,axis=0)\n",
        "\n",
        "np.sort(a1)\n",
        "np.argsort(a1)\n",
        "a1.sort() # print(a1.sort()) 는 None 값이고 a1 자체가 정렬 됨\n",
        "np.partition(a1,3,axis=0) #부분정렬\n",
        "\n",
        "np.save('z',a2) #배열 저장 .npz 형태\n",
        "np.savez('ab',a2,b2) # .npy 형태\n",
        "np.load('z.npy')\n",
        "npz.files\n",
        "np.savetxt(\"b.csv\",b2,delimiter=',',fmt='%.2e',header='c1, c2, c3, c4, c5')\n",
        "np.loadtxt('a.csv',delimiter=',')"
      ],
      "execution_count": null,
      "outputs": []
    },
    {
      "cell_type": "markdown",
      "metadata": {
        "id": "ck9e3tajmqgA"
      },
      "source": [
        "### Pandas"
      ]
    },
    {
      "cell_type": "code",
      "metadata": {
        "id": "Eb9FBm3kmqgA"
      },
      "source": [
        "s = pd.Series([0,0.25,0.5,0.75,1.0],index=['a','b','c','d','e']) # s.values, s.index, s.unique(), s.value_counts()\n",
        "df.index\n",
        "df.columns\n",
        "df.dtypes\n",
        "df.values\n",
        "df.T\n",
        "df['서울특별시':'인천광역시']\n",
        "df.loc[(df.인구수 > 2500000) & (df.남여비율 > 100)]\n",
        "df.add(df_1)\n",
        "df.sub(df.iloc[0])\n",
        "df.mul(df.iloc[1]) # .div(), .divide(), truediv(), .mod(), .pow()\n",
        "\n",
        "s.keys()\n",
        "s.items() #list(s.items()) : ('a', 0.0) ...\n",
        "s[(s>0.4) & (s<0.8)]\n",
        "s[['a','b','c']]\n",
        "s.unstack()\n",
        "s.stack()\n",
        "\n",
        "s.iloc[2:4]\n",
        "s.reindex(range(10),method='bfill')\n",
        "\n",
        "midx = pd.MultiIndex.from_tuples(idx_tuples)\n",
        "\n",
        "###인덱스 연산\n",
        "idx1 = pd.Index([1,2,4,6,8])\n",
        "idx1.append(idx2))\n",
        "idx1.difference(idx2)\n",
        "idx1 - idx2\n",
        "idx1.intersection(idx2)\n",
        "idx1 & idx2\n",
        "idx1.union(idx2)\n",
        "idx1 | idx2\n",
        "idx1.delete(0)\n",
        "idx1.drop(1)\n",
        "idx1 ^ idx2\n",
        "\n",
        "###다중인덱스\n",
        "pd.DataFrame(np.random.rand(6,3), \n",
        "            index=[['a','a','b','b','c','c'],[1,2,1,2,1,2]],\n",
        "            columns=['c1','c2','c3'])\n",
        "pd.MultiIndex.from_arrays([['a','a','b','b','c','c'],[1,2,1,2,1,2]])\n",
        "pd.MultiIndex.from_tuples([('a',1),('a',2),('b',1),('b',2),('c',1),('c',2)])\n",
        "pd.MultiIndex.from_product([['a','b','c'],[1,2]])\n",
        "pd.MultiIndex(levels=[['a','b','c'],[1,2]],\n",
        "              codes = [[0,0,1,1,2,2],[0,1,0,1,0,1]])\n",
        "\n",
        "population.index.names = ['행정구역','년도']\n",
        "mdf.loc[:,('c2',1)] #모든 행, 'c2'열중 1열\n",
        "\n",
        "### 정렬\n",
        "df.sort_index()\n",
        "df.unstack(level=0)\n",
        "df.unstack(level=1)\n",
        "df.stack()\n",
        "df.reset_index(level=(0,1))\n",
        "\n",
        "s.sort_index()\n",
        "df.sort_values(by = 'A', axis=0)\n",
        "\n",
        "###랭킹\n",
        "s.rank(method='first') # 'max'\n",
        "\n",
        "###고성능 연산\n",
        "%timeit df1+df2+df3+df4 #10 loops, best of 3: 61.9 ms per loop\n",
        "%timeit pd.eval('df1 + df2 + df3 + df4')\n",
        "df.query('(A < 0.5) and (B < 0.5) and (C >0.5)')\n",
        "df.query(' A < @col_mean and B < @col_mean')\n",
        "\n",
        "###데이터 결합\n",
        "pd.concat([df1,df2],verify_integrity=True,ignore_index=True,keys=['X','Y'],join = 'inner')\n",
        "pd.merge(df1,df2,on='학생',left_on='학생',right_on='이름').drop('이름',axis=1)\n",
        "pd.merge(mdf1,mdf2,left_index=True,right_index=True,how='inner',suffixes=['_인기','_성적']) #'outer', 'left', 'right'\n",
        "mdf1.join(mdf2)\n",
        "\n",
        "#데이터 집계와 그룹 연산\n",
        "df.head() #.tail(), .descrive(), .idxmin(), .idxmax(), .std(), .var(), .skew(), .kurt(), .cumsum(), .unique()\n",
        "          #.cumprod(), .diff(), .quantile(), .pct_change(), .corr(), corrwith(), .cov(), .value_counts()\n",
        "df['c3'].groupby(df['c1'],as_index=False,group_keys=False).mean() #min(), max() , ...\n",
        "df['c4'].groupby([df['c1'],df['c2']]).mean().unstack() \n",
        "df.groupby(['c1','c2']).size()\n",
        "for (c1,c2), group in df.groupby(['c1','c2']):\n",
        "df.groupby('c1').apply(func)\n",
        "\n",
        "df.pivot_table(['c3','c4'],\n",
        "               index=['c1'],\n",
        "               columns=['c2'],\n",
        "               margins=True,\n",
        "               aggfunc=sum,\n",
        "               fill_value=0)\n",
        "pd.crosstab(df.c1,df.c2,values=df.c3,aggfunc=sum,margins=True)\n",
        "\n",
        "###범주형 자료\n",
        "s.take(code) #code 시리즈에 맞게 d\n",
        "c = df['c'].astype('category')\n",
        "pd.Categorical(['c1','c2','c3','c1','c2'])\n",
        "pd.Categorical.from_codes(codes,categories,ordered=True)\n",
        "c.values.categories #값 카테고리화(분류)\n",
        "c.values.codes\n",
        "c.as_ordered()\n",
        "c.set_categories(['c1','c2','c3','c4','c5'])\n",
        "c.value_counts()\n",
        "c[c.isin(['c1','c3'])] #cdp 'c1','c3'가 있으면 가져오기\n",
        "\n",
        "###문자열 연산자\n",
        "name_tuple = ['Kime','Dong','Yeon',None,'Bill Gates','Mark Zuckerberg']\n",
        "names.str.lower() #.len(), .split(), .[0:4], .split().str.get(-1), .repeat(2), .join('*')\n",
        "\n",
        "#정규표현식\n",
        "names.str.match('([A-Zz-z]*)')\n",
        "names.str.findall('([A-Zz-z]+)')\n",
        "\n",
        "###시계열 처리\n",
        "idx = pd.DatetimeIndex(['2019-01-01','2020-01-01','2020-02-01','2020-02-02','2020-03-01'])\n",
        "s = pd.Series([0,1,2,3,4],index=idx)\n",
        "\n",
        "from datetime import datetime\n",
        "dates = pd.to_datetime(['12-12-2019',datetime(2020,1,1),'2nd of feb, 2020','2020-mar-4','20200701'])\n",
        "dates.to_period('D')\n",
        "dates - dates[0] #TimedeltaIndex(['0 days', '20 days', '52 days', '83 days', '202 days'], dtype='timedelta64[ns]', freq=None)\n",
        "pd.date_range('2020-01-01',periods=7,freq='M') #월 # freq='H' : 시간\n",
        "idx = pd.to_datetime(['2020-01-01 12:00:00','2020-01-02 00:00:00'] + [None]) #idx[2] : NaT\n",
        "\n",
        "datetime(2020,1,1) #datetime.datetime(2020, 1, 1, 0, 0)\n",
        "pd.Series(np.random.randn(1000),\n",
        "          index=pd.date_range('2017-10-01',periods=1000)) # index : 2017-10-01 ~ 2020-06-26\n",
        "ts['2020'], ts['2020-06']\n",
        "ts.index.is_unique\n",
        "ts.groupby(level=0).mean()\n",
        "pd.date_range(start='2020-01-01',periods=10)\n",
        "pd.date_range('2020-01-01','2020-07-07',freq='B')\n",
        "\n",
        "#주기와 오프셋\n",
        "pd.timedelta_range(0,periods=12,freq='H') #freq='T', '1H30T', 'b', 2H', 'S', ...\n",
        "\n",
        "#시프트\n",
        "ts.shift(3,freq='B') #데이터 뒤로 밀기, freq='B'가 있으면 index 날짜 미루기 ,'W' : weekend\n",
        "\n",
        "#시간대 처리\n",
        "import pytz\n",
        "pytz.common_timezones\n",
        "tz = pytz.timezone('Asia/Seoul')\n",
        "pd.date_range('2020-01-01 09:00',periods=7,freq='B',tz='UTC')\n",
        "ts.tz_localize('UTC')\n",
        "ts_utc.index\n",
        "ts_utc.tz_convert('Asia/Seoul')\n",
        "ts.tz_localize('Asia/Seoul')\n",
        "ts_seoul.tz_convert('UTC')\n",
        "\n",
        "stamp = pd.Timestamp('2020-01-01 12:00')\n",
        "stamp_utc = stamp.tz_localize('UTC')\n",
        "stamp_utc.value\n",
        "stamp_utc.tz_convert('Asia/Seoul')\n",
        "stamp_utc.tz_convert('Asia/Seoul').value\n",
        "\n",
        "from pandas.tseries.offsets import Hour\n",
        "stamp + Hour() #Timestamp('2020-01-01 13:00:00+0900', tz='Asia/Seoul')\n",
        "\n",
        "#기간 연산\n",
        "p = pd.Period(2020,freq='A-JAN')\n",
        "p + 2 #Period('2022', 'A-JAN')\n",
        "\n",
        "p.asfreq('M',how='start') #,how='end'\n",
        "\n",
        "dr = pd.date_range('2020-01-01',periods=200,freq='D')\n",
        "ts.resample('M',kind='period').mean() #리샘플링 : 시계열의 빈도 반환\n",
        "ts.resample('2T',closed='left').sum() #다운샘플링 : 상위 빈도 데이터를 하위 빈도 데이터로 집계\n",
        "ts.resample('2T',closed='left').sum() #업샘플링 : 하위 빈도 데이터를 상위 빈도 데이터로 집계\n",
        "ts.resample('2T',closed='left') # ,closed='right'\n",
        "ts.resample('2T',closed='right',label='right',loffset='-1s').sum()\n",
        "ts.resample('2T').ohlc() #open, high, low, close 표로 표기\n",
        "df.resample('H').ffill()\n",
        "\n",
        "#무빙윈도우\n",
        "df.rolling(30).mean().plot()\n",
        "df.C1.rolling(60,min_periods=10).std().plot()\n",
        "df.rolling(60,min_periods=10).std().expanding().mean().plot()\n",
        "df.rolling(60).mean().plot(logy=True)\n",
        "df.C1.rolling(30,min_periods=20).mean().plot(style='--',label='Simple MA')\n",
        "df.C1.ewm(span=30).mean().plot(style='-',label='EWMA')\n",
        "\n",
        "### 데이터 읽기 및 저장\n",
        "pd.read_csv('example2.csv',names=['a','b','c','d','e','text'],index_col='text',skiprows=[0,2])\n",
        "pd.read_table('example3.txt',sep='\\s+')\n",
        "h = pd.HDFStore('date.h5')\n",
        "h.put('obj2',df,format='table')\n",
        "h.select('obj2',where=['index > 50 and index <= 60'])\n",
        "h.close()\n",
        "\n",
        "###데이터 정제\n",
        "np.nan, np.nansum(a),np.nanmin(a),np.nanmax(a) #None 누락 데이터, NaN 누락된 수치 데이터\n",
        "\n",
        "s.isnull()\n",
        "s[s.notnull()]\n",
        "s.dropna()\n",
        "df.dropna(axis='columns',how='all',thresh=3, subset=['칼럼명1','칼럼명2'])\n",
        "s.fillna(method='ffill') #'bfill'\n",
        "\n",
        "df.drop(columns='Club') #열 제거\n",
        "df.duplicated() #중복제거\n",
        "df.drop_duplicates()\n",
        "s.replace(-999,np.nan) #값 치환"
      ],
      "execution_count": null,
      "outputs": []
    },
    {
      "cell_type": "code",
      "metadata": {
        "id": "g8NG71H-G3_1",
        "colab": {
          "base_uri": "https://localhost:8080/",
          "height": 294
        },
        "outputId": "d7cb3ddb-328c-40ca-8b9a-d6651986b1d5"
      },
      "source": [
        "#df.rolling(30).mean().plot()"
      ],
      "execution_count": null,
      "outputs": [
        {
          "output_type": "execute_result",
          "data": {
            "text/plain": [
              "<matplotlib.axes._subplots.AxesSubplot at 0x7fb8cbe29208>"
            ]
          },
          "metadata": {
            "tags": []
          },
          "execution_count": 345
        },
        {
          "output_type": "display_data",
          "data": {
            "image/png": "[encoded data removed]",
            "text/plain": [
              "<Figure size 432x288 with 1 Axes>"
            ]
          },
          "metadata": {
            "tags": [],
            "needs_background": "light"
          }
        }
      ]
    },
    {
      "cell_type": "markdown",
      "metadata": {
        "id": "_JEzlgD_mqjb"
      },
      "source": [
        "### Matplotlib"
      ]
    },
    {
      "cell_type": "code",
      "metadata": {
        "id": "LCpd6uKumqjb"
      },
      "source": [
        "ㅁㄴㅇ"
      ],
      "execution_count": null,
      "outputs": []
    },
    {
      "cell_type": "markdown",
      "metadata": {
        "id": "G-sWdFxSmqms"
      },
      "source": [
        "### Seaborn"
      ]
    },
    {
      "cell_type": "code",
      "metadata": {
        "id": "A0bkWKE6HFGy"
      },
      "source": [
        ""
      ],
      "execution_count": null,
      "outputs": []
    },
    {
      "cell_type": "markdown",
      "metadata": {
        "id": "mNZl33PtFcym"
      },
      "source": [
        "### Plotly"
      ]
    },
    {
      "cell_type": "code",
      "metadata": {
        "id": "x_uPMowYFcyz"
      },
      "source": [
        ""
      ],
      "execution_count": null,
      "outputs": []
    },
    {
      "cell_type": "markdown",
      "metadata": {
        "id": "N7FqwBMJFdWs"
      },
      "source": [
        "### Folium"
      ]
    },
    {
      "cell_type": "code",
      "metadata": {
        "id": "7E7kNjw1FdWs"
      },
      "source": [
        ""
      ],
      "execution_count": null,
      "outputs": []
    },
    {
      "cell_type": "markdown",
      "metadata": {
        "id": "HTzJxB5dFdds"
      },
      "source": [
        "### Bokeh"
      ]
    },
    {
      "cell_type": "code",
      "metadata": {
        "id": "6WIDH9FLFddt"
      },
      "source": [
        ""
      ],
      "execution_count": null,
      "outputs": []
    },
    {
      "cell_type": "markdown",
      "metadata": {
        "id": "wUsXcUBl-Egt"
      },
      "source": [
        ""
      ]
    }
  ]
}