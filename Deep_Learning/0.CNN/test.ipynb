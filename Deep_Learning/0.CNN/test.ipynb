{
 "cells": [
  {
   "cell_type": "code",
   "execution_count": null,
   "metadata": {},
   "outputs": [],
   "source": [
    "from model import LeNet\n",
    "from utils import *\n",
    "import torch\n",
    "from torch.utils.data import DataLoader\n",
    "from dataset import MyDataset\n",
    "import torch.optim as optim\n",
    "from torch.utils.data import DataLoader\n",
    "from criterion import criterion\n",
    "\n",
    "opt = parse_opt()\n",
    "\n",
    "# 디바이스 설정\n",
    "device = torch.device('cuda' if torch.cuda.is_available() else 'cpu')\n",
    "\n",
    "model = LeNet(opt.n_classes).to(device)\n",
    "\n",
    "if opt.is_trained:\n",
    "    # 저장된 체크포인트 파일 경로\n",
    "    load_model(model, opt.checkpoint)\n",
    "\n",
    "\n",
    "# optimizer\n",
    "optimizer = optim.Adam(model.parameters(), lr=opt.lr)\n",
    "\n",
    "# load datasets\n",
    "train_dataset = MyDataset(train=True)\n",
    "test_dataset = MyDataset(train=False)\n",
    "\n",
    "train_dataloader = DataLoader(train_dataset, batch_size=opt.batch_size, shuffle=True)\n",
    "test_dataloader = DataLoader(test_dataset, batch_size=opt.batch_size, shuffle=True)\n",
    "\n",
    "CEcriterion = criterion()\n",
    "\n",
    "train_loop(opt, model, train_dataloader, test_dataloader, optimizer, CEcriterion , device)\n"
   ]
  }
 ],
 "metadata": {
  "kernelspec": {
   "display_name": "workspace-fwDpdXOR",
   "language": "python",
   "name": "python3"
  },
  "language_info": {
   "codemirror_mode": {
    "name": "ipython",
    "version": 3
   },
   "file_extension": ".py",
   "mimetype": "text/x-python",
   "name": "python",
   "nbconvert_exporter": "python",
   "pygments_lexer": "ipython3",
   "version": "3.10.11"
  },
  "orig_nbformat": 4
 },
 "nbformat": 4,
 "nbformat_minor": 2
}
