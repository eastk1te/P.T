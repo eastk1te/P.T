{
  "cells": [
    {
      "cell_type": "markdown",
      "metadata": {
        "id": "view-in-github",
        "colab_type": "text"
      },
      "source": [
        "<a href=\"https://colab.research.google.com/github/tjy2202/Personal_training/blob/main/Machine%20Learning/lab2.ipynb\" target=\"_parent\"><img src=\"https://colab.research.google.com/assets/colab-badge.svg\" alt=\"Open In Colab\"/></a>"
      ]
    },
    {
      "cell_type": "markdown",
      "metadata": {
        "id": "sVMZSR_bohK6"
      },
      "source": [
        "# Machine Learning - Lab Session 2\n",
        "\n",
        "This material is for educational uses only. Some contents are based on the material provided by other paper/book authors and may be copyrighted by them. \n",
        "\n",
        "**Note**: certain details are missing or ambiguous on purpose, in order to test your knowledge on the related materials. However, if you really feel that something essential is missing and cannot proceed to the next step, then contact the teaching staff with clear description of your problem.\n",
        "\n",
        "### Submitting your work:\n",
        "- <font color=red>**DO NOT clear the final outputs**</font> so that TAs can grade both your code and results.\n",
        "- Commit the `.ipynb` file on your github repository and submit URL on E-Ruri"
      ]
    },
    {
      "cell_type": "markdown",
      "metadata": {
        "id": "nbPO7auSohLA"
      },
      "source": [
        "## Load `diabetes` dataset for Linear Regression"
      ]
    },
    {
      "cell_type": "code",
      "execution_count": null,
      "metadata": {
        "id": "KKMg-XaUohLB"
      },
      "outputs": [],
      "source": [
        "import numpy as np\n",
        "from sklearn import datasets\n",
        "from sklearn.metrics import mean_squared_error, r2_score\n",
        "\n",
        "# Load the diabetes dataset\n",
        "X, y = datasets.load_diabetes(return_X_y=True)\n",
        "\n",
        "# Use only one feature\n",
        "X = X[:, np.newaxis, 2]\n",
        "\n",
        "# Split the data into training/testing sets\n",
        "X_train = X[:-20]\n",
        "X_test = X[-20:]\n",
        "\n",
        "# Split the targets into training/testing sets\n",
        "y_train = y[:-20]\n",
        "y_test = y[-20:]"
      ]
    },
    {
      "cell_type": "code",
      "source": [
        "# Show data size\n",
        "print('X: ' + str(X.shape))\n",
        "print('y: ' + str(y.shape))\n",
        "\n",
        "print('X_train: ' + str(X_train.shape))\n",
        "print('y_train: ' + str(y_train.shape))\n",
        "\n",
        "print('X_test: ' + str(X_test.shape))\n",
        "print('y_test: ' + str(y_test.shape))"
      ],
      "metadata": {
        "colab": {
          "base_uri": "https://localhost:8080/"
        },
        "id": "ErNryUFKqfT2",
        "outputId": "baf151a8-e783-41ef-f99a-cd5253b9ea9b"
      },
      "execution_count": null,
      "outputs": [
        {
          "output_type": "stream",
          "name": "stdout",
          "text": [
            "X: (442, 1)\n",
            "y: (442,)\n",
            "X_train: (422, 1)\n",
            "y_train: (422,)\n",
            "X_test: (20, 1)\n",
            "y_test: (20,)\n"
          ]
        }
      ]
    },
    {
      "cell_type": "markdown",
      "metadata": {
        "id": "tb3fmRd2ohLD"
      },
      "source": [
        "### <font color=blue>[Lab #2-1]</font>  Linear regression with sklearn (20 points)\n",
        "\n",
        "Use **linear_model** from Scikit-Learn [[reference](https://scikit-learn.org/stable/auto_examples/linear_model/plot_ols.html)]"
      ]
    },
    {
      "cell_type": "code",
      "execution_count": null,
      "metadata": {
        "colab": {
          "base_uri": "https://localhost:8080/"
        },
        "id": "S8cxUo75ohLD",
        "outputId": "b51de2c3-1c8c-4524-c5a4-d081c9033c6d"
      },
      "outputs": [
        {
          "output_type": "stream",
          "name": "stdout",
          "text": [
            "SK Parameters: 152.9189, 938.2379\n",
            "SK train MSE: 3955.0199\n",
            "SK test MSE: 2548.0724\n"
          ]
        }
      ],
      "source": [
        "from sklearn import linear_model\n",
        "import matplotlib.pyplot as plt\n",
        "%matplotlib inline\n",
        "\n",
        "# create model  \n",
        "# sk_lin_regr = ########\n",
        "sk_lin_regr = linear_model.LinearRegression()\n",
        "\n",
        "# train model\n",
        "sk_lin_regr.fit(X_train, y_train)\n",
        "print('SK Parameters: %.4f, %.4f' %\n",
        "      (sk_lin_regr.intercept_, np.squeeze(sk_lin_regr.coef_, axis=0)))\n",
        "\n",
        "# inferece with train data\n",
        "y_train_pred = sk_lin_regr.predict(X_train)\n",
        "print('SK train MSE: %.4f' %\n",
        "      mean_squared_error(y_train, y_train_pred) )\n",
        "\n",
        "# inferece with test data\n",
        "y_test_pred = sk_lin_regr.predict(X_test)\n",
        "print('SK test MSE: %.4f' %\n",
        "      mean_squared_error(y_test, y_test_pred) )"
      ]
    },
    {
      "cell_type": "code",
      "source": [
        "# plot outputs\n",
        "plt.scatter(X_test, y_test, color='black')\n",
        "plt.plot(X_test, y_test_pred, color='blue', linewidth=3)\n",
        "\n",
        "plt.xlabel('X')\n",
        "plt.ylabel('y')\n",
        "\n",
        "plt.xticks(())\n",
        "plt.yticks(())\n",
        "\n",
        "plt.show()"
      ],
      "metadata": {
        "colab": {
          "base_uri": "https://localhost:8080/",
          "height": 262
        },
        "id": "pVCczHKNsJFl",
        "outputId": "ab7bb8b7-775d-4ff3-afee-e1e220c3267c"
      },
      "execution_count": null,
      "outputs": [
        {
          "output_type": "display_data",
          "data": {
            "text/plain": [
              "<Figure size 432x288 with 1 Axes>"
            ],
            "image/png": "[encoded data removed]"
          },
          "metadata": {}
        }
      ]
    },
    {
      "cell_type": "markdown",
      "metadata": {
        "id": "q2PInhrLohLE"
      },
      "source": [
        "### <font color=blue>[Lab #2-2]</font> Linear regression without sklearn (20 points)\n",
        "1. Complete the following class definition.  \n",
        "2. You can write your code only within the marked with comments.\n",
        "\n",
        "**[hint]** You can use `numpy.linalg.inv` for inverse and `np.matmul` for matrix multiplication.\n",
        "$$\n",
        "\\mathbf{X}^\\dagger = (\\mathbf{X}^\\top\\mathbf{X})^{-1}\\mathbf{X}^\\top\n",
        "\\\\\n",
        "\\mathbf{w}_{\\textrm{lin}}=\\mathbf{X}^\\dagger y\n",
        "$$"
      ]
    },
    {
      "cell_type": "code",
      "execution_count": null,
      "metadata": {
        "id": "hJxgV0hmohLF"
      },
      "outputs": [],
      "source": [
        "from numpy.linalg import inv\n",
        "\n",
        "class LinearRegression():\n",
        "    def fit(self, X, y):\n",
        "        #linear regression\n",
        "        \n",
        "        self.X_psuedo_inv = np.dot(inv(np.dot(X.T, X)), X.T)\n",
        "        self.w = np.dot(self.X_psuedo_inv, y)\n",
        "        \n",
        "        '''\n",
        "        self.X_psuedo_inv = #########################\n",
        "        self.w = ####################\n",
        "        '''\n",
        "\n",
        "    def predict(self, X):\n",
        "        return  X @ self.w\n",
        "    \n",
        "    def get_weights(self):\n",
        "        return self.w"
      ]
    },
    {
      "cell_type": "markdown",
      "metadata": {
        "id": "60qrz1hPohLG"
      },
      "source": [
        "Extend $\\mathbf{X}$ with $\\mathbf{1}_d=(1,1,…,1)∈\\mathbb{R}^d$ using `add_one_column` method which we used in Lab 1.\n",
        "$$\n",
        "\\mathbf{X} = \\begin{bmatrix} x_1 \\\\\n",
        "x_2 \\\\\n",
        "\\vdots  \\\\\n",
        "x_d \\\\\n",
        "\\end{bmatrix}\n",
        "\\Rightarrow\n",
        "\\mathbf{X} = \\begin{bmatrix}\n",
        "1 & x_1 \\\\\n",
        "1 & x_2 \\\\\n",
        "\\vdots  & \\vdots  \\\\\n",
        "1 & x_d \\\\\n",
        "\\end{bmatrix}\n",
        "$$\n",
        "\n",
        "By using X, you should compute optimal weight, `w_lin`.\n",
        "\n",
        "**[hint]** compute pseudo-inverse of $\\mathbf{X}$"
      ]
    },
    {
      "cell_type": "code",
      "source": [
        "def add_one_column(data):\n",
        "    # number of data records\n",
        "    N = len(data) \n",
        "\n",
        "    # add column of ones for x_0\n",
        "    return np.c_[np.ones(N), data] "
      ],
      "metadata": {
        "id": "CgZcg-uqvrDk"
      },
      "execution_count": null,
      "outputs": []
    },
    {
      "cell_type": "code",
      "execution_count": null,
      "metadata": {
        "colab": {
          "base_uri": "https://localhost:8080/"
        },
        "id": "DxJOCbLyohLG",
        "outputId": "1615cf84-1d44-4fbd-eff5-e42994fe83af"
      },
      "outputs": [
        {
          "output_type": "stream",
          "name": "stdout",
          "text": [
            "X_train_extneded:  (422, 2)\n",
            "X_test_extneded:  (20, 2)\n"
          ]
        }
      ],
      "source": [
        "X_train_extended = add_one_column(X_train)\n",
        "X_test_extended = add_one_column(X_test)\n",
        "print('X_train_extneded: ', str(X_train_extended.shape))\n",
        "print('X_test_extneded: ', str(X_test_extended.shape))"
      ]
    },
    {
      "cell_type": "code",
      "source": [
        "# create model\n",
        "np_lin_regr = LinearRegression()\n",
        "\n",
        "# train model\n",
        "np_lin_regr.fit(X_train_extended, y_train)\n",
        "\n",
        "print('Numpy Parameters: %.4f, %.4f' %\n",
        "      (np_lin_regr.get_weights()[0], np_lin_regr.get_weights()[1]))"
      ],
      "metadata": {
        "colab": {
          "base_uri": "https://localhost:8080/"
        },
        "id": "4Pk4DGrCzcPK",
        "outputId": "16dd0112-6972-4d98-e29d-885157c0c8ef"
      },
      "execution_count": null,
      "outputs": [
        {
          "output_type": "stream",
          "name": "stdout",
          "text": [
            "Numpy Parameters: 152.9189, 938.2379\n"
          ]
        }
      ]
    },
    {
      "cell_type": "code",
      "source": [
        "# inferece with train data\n",
        "y_train_pred = np_lin_regr.predict(X_train_extended)\n",
        "print('NP train MSE: %.4f' %\n",
        "      mean_squared_error(y_train, y_train_pred) )\n",
        "\n",
        "# inferece with test data\n",
        "y_test_pred = np_lin_regr.predict(X_test_extended)\n",
        "print('NP test MSE: %.4f' %\n",
        "      mean_squared_error(y_test, y_test_pred) )"
      ],
      "metadata": {
        "colab": {
          "base_uri": "https://localhost:8080/"
        },
        "id": "VRs3NU6mzeWj",
        "outputId": "44a554a5-caad-47cd-a750-bd4d04f2df09"
      },
      "execution_count": null,
      "outputs": [
        {
          "output_type": "stream",
          "name": "stdout",
          "text": [
            "NP train MSE: 3955.0199\n",
            "NP test MSE: 2548.0724\n"
          ]
        }
      ]
    },
    {
      "cell_type": "code",
      "source": [
        "# plot outputs\n",
        "plt.scatter(X_test, y_test, color='black')\n",
        "plt.plot(X_test, y_test_pred, color='blue', linewidth=3)\n",
        "\n",
        "plt.xlabel('X')\n",
        "plt.ylabel('y')\n",
        "\n",
        "plt.xticks(())\n",
        "plt.yticks(())\n",
        "\n",
        "plt.show()"
      ],
      "metadata": {
        "colab": {
          "base_uri": "https://localhost:8080/",
          "height": 262
        },
        "id": "pl9GvuSHziIa",
        "outputId": "cea54747-c6c9-4530-e7b4-ecc0a0e10f52"
      },
      "execution_count": null,
      "outputs": [
        {
          "output_type": "display_data",
          "data": {
            "text/plain": [
              "<Figure size 432x288 with 1 Axes>"
            ],
            "image/png": "[encoded data removed]"
          },
          "metadata": {}
        }
      ]
    },
    {
      "cell_type": "markdown",
      "source": [
        "## Load `breast_cancer` data for Logistic Regression"
      ],
      "metadata": {
        "id": "iIIDaTRoDzXR"
      }
    },
    {
      "cell_type": "code",
      "source": [
        "from sklearn.datasets import load_breast_cancer\n",
        "\n",
        "data = load_breast_cancer()\n",
        "\n",
        "X = data.data[:, [0, 6]]\n",
        "y = data.target\n",
        "\n",
        "# show data size\n",
        "print('X: ' + str(X.shape))\n",
        "print('y: ' + str(y.shape))"
      ],
      "metadata": {
        "colab": {
          "base_uri": "https://localhost:8080/"
        },
        "id": "G4_Aksny2s6j",
        "outputId": "d4fccda3-23c5-4de6-c0d6-ce725d8a3b50"
      },
      "execution_count": null,
      "outputs": [
        {
          "output_type": "stream",
          "name": "stdout",
          "text": [
            "X: (569, 2)\n",
            "y: (569,)\n"
          ]
        }
      ]
    },
    {
      "cell_type": "markdown",
      "source": [
        "Split data into train and test set."
      ],
      "metadata": {
        "id": "oiKAGoHkE43J"
      }
    },
    {
      "cell_type": "code",
      "source": [
        "from sklearn.model_selection import train_test_split\n",
        "\n",
        "# Split the data into training/testing sets\n",
        "X_train, X_test, y_train, y_test = train_test_split(\n",
        "    X, y, test_size=0.33, random_state=42)\n",
        "\n",
        "# Show data size\n",
        "print('X_train: ' + str(X_train.shape))\n",
        "print('y_train: ' + str(y_train.shape))\n",
        "\n",
        "print('X_test: ' + str(X_test.shape))\n",
        "print('y_test: ' + str(y_test.shape))"
      ],
      "metadata": {
        "colab": {
          "base_uri": "https://localhost:8080/"
        },
        "id": "rnqtj6zV2yX6",
        "outputId": "11c371b4-b101-421c-d07e-104035c55db0"
      },
      "execution_count": null,
      "outputs": [
        {
          "output_type": "stream",
          "name": "stdout",
          "text": [
            "X_train: (381, 2)\n",
            "y_train: (381,)\n",
            "X_test: (188, 2)\n",
            "y_test: (188,)\n"
          ]
        }
      ]
    },
    {
      "cell_type": "markdown",
      "source": [
        "### <font color=blue>[Lab #2-3]</font> Logisitic regression with sklearn (20 points)\n",
        "Use **linear_model** from Scikit-Learn."
      ],
      "metadata": {
        "id": "K3r5414b1oXq"
      }
    },
    {
      "cell_type": "code",
      "source": [
        "from sklearn import linear_model\n",
        "# create model\n",
        "sk_logis_regr = linear_model.LogisticRegression()\n",
        "'''sk_logis_regr = ############################'''\n",
        "\n",
        "# train model\n",
        "sk_logis_regr.fit(X_train, y_train)\n",
        "\n",
        "print('SK Parameters: %.4f, %.4f, %.4f' %\n",
        "      (sk_logis_regr.intercept_,\n",
        "       sk_logis_regr.coef_[0, 0], sk_logis_regr.coef_[0, 1]))"
      ],
      "metadata": {
        "colab": {
          "base_uri": "https://localhost:8080/"
        },
        "id": "PV97BjCP3Zem",
        "outputId": "cc5f71cb-7bf5-4f6e-cd9d-84dcaf52385a"
      },
      "execution_count": null,
      "outputs": [
        {
          "output_type": "stream",
          "name": "stdout",
          "text": [
            "SK Parameters: 12.9441, -0.8589, -2.7129\n"
          ]
        }
      ]
    },
    {
      "cell_type": "code",
      "source": [
        "from sklearn.metrics import accuracy_score\n",
        "\n",
        "# inferece with train data\n",
        "y_train_pred = sk_logis_regr.predict(X_train)\n",
        "print('SK train accuracy: %.4f' %\n",
        "      accuracy_score(y_train, y_train_pred) )\n",
        "\n",
        "# inferece with test data\n",
        "y_test_pred = sk_logis_regr.predict(X_test)\n",
        "print('SK test accuracy: %.4f' %\n",
        "      accuracy_score(y_test, y_test_pred) )"
      ],
      "metadata": {
        "colab": {
          "base_uri": "https://localhost:8080/"
        },
        "id": "BlLUz6FS51g-",
        "outputId": "b4799a23-6edf-4185-a9d9-5b12a831b4e9"
      },
      "execution_count": null,
      "outputs": [
        {
          "output_type": "stream",
          "name": "stdout",
          "text": [
            "SK train accuracy: 0.8714\n",
            "SK test accuracy: 0.9149\n"
          ]
        }
      ]
    },
    {
      "cell_type": "markdown",
      "source": [
        "### <font color=blue>[Lab #2-4]</font> Logisitic regression with PyTorch (20 points)\n"
      ],
      "metadata": {
        "id": "Ud6F-YyO1ymU"
      }
    },
    {
      "cell_type": "markdown",
      "source": [
        "Import `PyTorch` packages"
      ],
      "metadata": {
        "id": "AIv8_PMg_u1d"
      }
    },
    {
      "cell_type": "code",
      "source": [
        "import torch"
      ],
      "metadata": {
        "id": "juou7sgD1mrl"
      },
      "execution_count": null,
      "outputs": []
    },
    {
      "cell_type": "markdown",
      "source": [
        "Convert data into `Tensor`, the inherence data type for `Pytorch`."
      ],
      "metadata": {
        "id": "5PoDfjiP_0ih"
      }
    },
    {
      "cell_type": "code",
      "source": [
        "X_train_tensor = torch.FloatTensor(X_train)\n",
        "y_train_tensor = torch.FloatTensor(y_train)\n",
        "\n",
        "X_test_tensor = torch.FloatTensor(X_test)\n",
        "y_test_tensor = torch.FloatTensor(y_test)"
      ],
      "metadata": {
        "id": "vGiWZoK49b5U"
      },
      "execution_count": null,
      "outputs": []
    },
    {
      "cell_type": "markdown",
      "source": [
        "Define LogisiticRegression with [`nn.Linear`](https://pytorch.org/docs/stable/generated/torch.nn.Linear.html) and [`sigmoid`](https://pytorch.org/docs/stable/generated/torch.sigmoid.html?highlight=sigmoid#torch.sigmoid)."
      ],
      "metadata": {
        "id": "n2zaGmJCAKSL"
      }
    },
    {
      "cell_type": "code",
      "source": [
        "X_train_tensor.shape"
      ],
      "metadata": {
        "colab": {
          "base_uri": "https://localhost:8080/"
        },
        "id": "tlfT4Yf_p7ez",
        "outputId": "31fefda9-1c11-4dde-d0a6-19c519eb11cd"
      },
      "execution_count": null,
      "outputs": [
        {
          "output_type": "execute_result",
          "data": {
            "text/plain": [
              "torch.Size([381, 2])"
            ]
          },
          "metadata": {},
          "execution_count": 17
        }
      ]
    },
    {
      "cell_type": "code",
      "source": [
        "from torch import sigmoid\n",
        "\n",
        "class LogisticRegression(torch.nn.Module):\n",
        "    def __init__(self):\n",
        "        super().__init__()\n",
        "        self.linear = torch.nn.Linear(2,1) # 수동적으로 입력만 해야하나?\n",
        "        '''self.linear = ###############'''\n",
        "    \n",
        "    def forward(self, x):\n",
        "        y_pred = sigmoid(self.linear(x))\n",
        "        '''y_pred = #############'''\n",
        "        return y_pred\n",
        "\n",
        "'''\n",
        "import torch\n",
        "class LogisticRegression(torch.nn.Module):\n",
        "     def __init__(self, input_dim, output_dim): # input_dim, output_dim 입력됨.\n",
        "         super(LogisticRegression, self).__init__()\n",
        "         self.linear = torch.nn.Linear(input_dim, output_dim)\n",
        "     def forward(self, x):\n",
        "         outputs = torch.sigmoid(self.linear(x))\n",
        "         return outputs\n",
        "'''"
      ],
      "metadata": {
        "id": "v_ESKjIY6IYM",
        "colab": {
          "base_uri": "https://localhost:8080/",
          "height": 54
        },
        "outputId": "c24b089e-9703-4c80-b73f-f924c6d01784"
      },
      "execution_count": null,
      "outputs": [
        {
          "output_type": "execute_result",
          "data": {
            "text/plain": [
              "'\\nimport torch\\nclass LogisticRegression(torch.nn.Module):\\n     def __init__(self, input_dim, output_dim): # input_dim, output_dim 입력됨.\\n         super(LogisticRegression, self).__init__()\\n         self.linear = torch.nn.Linear(input_dim, output_dim)\\n     def forward(self, x):\\n         outputs = torch.sigmoid(self.linear(x))\\n         return outputs\\n'"
            ],
            "application/vnd.google.colaboratory.intrinsic+json": {
              "type": "string"
            }
          },
          "metadata": {},
          "execution_count": 18
        }
      ]
    },
    {
      "cell_type": "code",
      "source": [
        "# set hyper-parameter\n",
        "NUM_EPOCH = 20000\n",
        "LEARNING_RATE = 0.1"
      ],
      "metadata": {
        "id": "y_3EJQdlCHsl"
      },
      "execution_count": null,
      "outputs": []
    },
    {
      "cell_type": "markdown",
      "source": [
        "Construct your learning precedure\n",
        "\n",
        "1.   Create model with your own model class `LogisticRegression`\n",
        "2.   Define error term with Binary Cross Entropy [[ref](https://pytorch.org/docs/stable/generated/torch.nn.BCELoss.html)]\n",
        "3.   Define optimizer with Stochastic Gradient Descent [[ref](https://pytorch.org/docs/stable/generated/torch.optim.SGD.html?highlight=sgd#torch.optim.SGD)]\n",
        "\n"
      ],
      "metadata": {
        "id": "2bluWKDVJq_W"
      }
    },
    {
      "cell_type": "code",
      "source": [
        "\n",
        "# create model\n",
        "torch_logis_regr = LogisticRegression()\n",
        "'''torch_logis_regr = #############'''\n",
        "\n",
        "# define error term\n",
        "criterion = torch.nn.BCELoss()\n",
        "'''criterion = #############'''\n",
        "\n",
        "# define optimizer technique \n",
        "optimizer = torch.optim.SGD(torch_logis_regr.parameters(), lr=LEARNING_RATE)\n",
        "'''optimizer = #############'''"
      ],
      "metadata": {
        "id": "OjnFJoem2Es6",
        "colab": {
          "base_uri": "https://localhost:8080/",
          "height": 35
        },
        "outputId": "8f7f75af-c1f9-4670-9a06-271fe43ac3af"
      },
      "execution_count": null,
      "outputs": [
        {
          "output_type": "execute_result",
          "data": {
            "text/plain": [
              "'optimizer = #############'"
            ],
            "application/vnd.google.colaboratory.intrinsic+json": {
              "type": "string"
            }
          },
          "metadata": {},
          "execution_count": 20
        }
      ]
    },
    {
      "cell_type": "code",
      "source": [
        "for epoch in range(NUM_EPOCH):\n",
        "    # inference\n",
        "    prob = torch_logis_regr(X_train_tensor)\n",
        "\n",
        "    # compute loss\n",
        "    loss = criterion(prob.squeeze(), y_train_tensor)\n",
        "   \n",
        "    # remove previous gradient\n",
        "    optimizer.zero_grad()\n",
        "    \n",
        "    # compute gradient\n",
        "    loss.backward()\n",
        "\n",
        "    # run optimizer\n",
        "    optimizer.step()\n",
        "\n",
        "    if not (epoch % 500):\n",
        "      print('epoch [%5d / %5d] %.4f' %\n",
        "            (epoch, NUM_EPOCH, loss.item()))"
      ],
      "metadata": {
        "colab": {
          "base_uri": "https://localhost:8080/"
        },
        "id": "EkdxBiwm6z08",
        "outputId": "f632d613-ef1e-4562-c71d-cfc86ac6f07f"
      },
      "execution_count": null,
      "outputs": [
        {
          "output_type": "stream",
          "name": "stdout",
          "text": [
            "epoch [    0 / 20000] 2.4782\n",
            "epoch [  500 / 20000] 2.4933\n",
            "epoch [ 1000 / 20000] 1.7163\n",
            "epoch [ 1500 / 20000] 1.0858\n",
            "epoch [ 2000 / 20000] 0.2878\n",
            "epoch [ 2500 / 20000] 0.2830\n",
            "epoch [ 3000 / 20000] 0.2809\n",
            "epoch [ 3500 / 20000] 0.2788\n",
            "epoch [ 4000 / 20000] 0.2768\n",
            "epoch [ 4500 / 20000] 0.2749\n",
            "epoch [ 5000 / 20000] 0.2731\n",
            "epoch [ 5500 / 20000] 0.2713\n",
            "epoch [ 6000 / 20000] 0.2696\n",
            "epoch [ 6500 / 20000] 0.2680\n",
            "epoch [ 7000 / 20000] 0.2664\n",
            "epoch [ 7500 / 20000] 0.2649\n",
            "epoch [ 8000 / 20000] 0.2634\n",
            "epoch [ 8500 / 20000] 0.2620\n",
            "epoch [ 9000 / 20000] 0.2607\n",
            "epoch [ 9500 / 20000] 0.2594\n",
            "epoch [10000 / 20000] 0.2581\n",
            "epoch [10500 / 20000] 0.2569\n",
            "epoch [11000 / 20000] 0.2557\n",
            "epoch [11500 / 20000] 0.2546\n",
            "epoch [12000 / 20000] 0.2535\n",
            "epoch [12500 / 20000] 0.2524\n",
            "epoch [13000 / 20000] 0.2514\n",
            "epoch [13500 / 20000] 0.2504\n",
            "epoch [14000 / 20000] 0.2495\n",
            "epoch [14500 / 20000] 0.2486\n",
            "epoch [15000 / 20000] 0.2477\n",
            "epoch [15500 / 20000] 0.2468\n",
            "epoch [16000 / 20000] 0.2460\n",
            "epoch [16500 / 20000] 0.2452\n",
            "epoch [17000 / 20000] 0.2445\n",
            "epoch [17500 / 20000] 0.2438\n",
            "epoch [18000 / 20000] 0.2430\n",
            "epoch [18500 / 20000] 0.2424\n",
            "epoch [19000 / 20000] 0.2417\n",
            "epoch [19500 / 20000] 0.2411\n"
          ]
        }
      ]
    },
    {
      "cell_type": "code",
      "source": [
        "# inferece with train data\n",
        "y_train_prob = torch_logis_regr(X_train_tensor)\n",
        "y_train_pred = y_train_prob > 0.5\n",
        "print('Torch train accuracy: %.4f' %\n",
        "      accuracy_score(y_train, y_train_pred) )\n",
        "\n",
        "# inferece with test data\n",
        "y_test_prob = torch_logis_regr(X_test_tensor)\n",
        "y_test_pred = y_test_prob > 0.5\n",
        "print('Torch train accuracy: %.4f' %\n",
        "      accuracy_score(y_test, y_test_pred) )"
      ],
      "metadata": {
        "colab": {
          "base_uri": "https://localhost:8080/"
        },
        "id": "pYsPsh8d8TA1",
        "outputId": "d6249689-9989-4d75-f997-8a73a73146e4"
      },
      "execution_count": null,
      "outputs": [
        {
          "output_type": "stream",
          "name": "stdout",
          "text": [
            "Torch train accuracy: 0.8976\n",
            "Torch train accuracy: 0.9255\n"
          ]
        }
      ]
    }
  ],
  "metadata": {
    "kernelspec": {
      "display_name": "Python 3",
      "language": "python",
      "name": "python3"
    },
    "language_info": {
      "codemirror_mode": {
        "name": "ipython",
        "version": 3
      },
      "file_extension": ".py",
      "mimetype": "text/x-python",
      "name": "python",
      "nbconvert_exporter": "python",
      "pygments_lexer": "ipython3",
      "version": "3.6.4"
    },
    "colab": {
      "name": "lab2.ipynb",
      "provenance": [],
      "collapsed_sections": [],
      "include_colab_link": true
    }
  },
  "nbformat": 4,
  "nbformat_minor": 0
}
