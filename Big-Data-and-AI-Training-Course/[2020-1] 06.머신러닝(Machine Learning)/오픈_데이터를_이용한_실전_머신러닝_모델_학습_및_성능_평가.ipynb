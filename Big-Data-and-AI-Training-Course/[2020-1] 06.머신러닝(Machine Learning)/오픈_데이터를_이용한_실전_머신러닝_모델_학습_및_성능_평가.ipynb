{
  "nbformat": 4,
  "nbformat_minor": 0,
  "metadata": {
    "colab": {
      "name": "오픈 데이터를 이용한 실전 머신러닝 모델 학습 및 성능 평가.ipynb",
      "provenance": [],
      "collapsed_sections": [
        "4_TUaOvvKTgX",
        "jmgtpCX_O8ey"
      ]
    },
    "kernelspec": {
      "name": "python3",
      "display_name": "Python 3"
    }
  },
  "cells": [
    {
      "cell_type": "markdown",
      "metadata": {
        "id": "4_TUaOvvKTgX",
        "colab_type": "text"
      },
      "source": [
        "# Kaggle 공공데이터 사용"
      ]
    },
    {
      "cell_type": "code",
      "metadata": {
        "id": "rMMYR3qtnGWR",
        "colab_type": "code",
        "colab": {
          "base_uri": "https://localhost:8080/",
          "height": 125
        },
        "outputId": "8cd58a2e-7dee-45d2-cc78-c5d49059b6ee"
      },
      "source": [
        "from google.colab import drive\n",
        "drive.mount('/content/drive')"
      ],
      "execution_count": 1,
      "outputs": [
        {
          "output_type": "stream",
          "text": [
            "Go to this URL in a browser: https://accounts.google.com/o/oauth2/auth?client_id=947318989803-6bn6qk8qdgf4n4g3pfee6491hc0brc4i.apps.googleusercontent.com&redirect_uri=urn%3aietf%3awg%3aoauth%3a2.0%3aoob&scope=email%20https%3a%2f%2fwww.googleapis.com%2fauth%2fdocs.test%20https%3a%2f%2fwww.googleapis.com%2fauth%2fdrive%20https%3a%2f%2fwww.googleapis.com%2fauth%2fdrive.photos.readonly%20https%3a%2f%2fwww.googleapis.com%2fauth%2fpeopleapi.readonly&response_type=code\n",
            "\n",
            "Enter your authorization code:\n",
            "··········\n",
            "Mounted at /content/drive\n"
          ],
          "name": "stdout"
        }
      ]
    },
    {
      "cell_type": "code",
      "metadata": {
        "id": "H4NCvGnanMp0",
        "colab_type": "code",
        "colab": {
          "base_uri": "https://localhost:8080/",
          "height": 391
        },
        "outputId": "862140b4-cd8a-45a8-b89a-d8f0c042b5ba"
      },
      "source": [
        "import numpy as np\n",
        "import pandas as pd\n",
        "\n",
        "insurance = pd.read_csv('/content/drive/My Drive/Classroom/data/insurance.csv', encoding='utf-8')\n",
        "insurance"
      ],
      "execution_count": 2,
      "outputs": [
        {
          "output_type": "execute_result",
          "data": {
            "text/html": [
              "<div>\n",
              "<style scoped>\n",
              "    .dataframe tbody tr th:only-of-type {\n",
              "        vertical-align: middle;\n",
              "    }\n",
              "\n",
              "    .dataframe tbody tr th {\n",
              "        vertical-align: top;\n",
              "    }\n",
              "\n",
              "    .dataframe thead th {\n",
              "        text-align: right;\n",
              "    }\n",
              "</style>\n",
              "<table border=\"1\" class=\"dataframe\">\n",
              "  <thead>\n",
              "    <tr style=\"text-align: right;\">\n",
              "      <th></th>\n",
              "      <th>age</th>\n",
              "      <th>sex</th>\n",
              "      <th>bmi</th>\n",
              "      <th>children</th>\n",
              "      <th>smoker</th>\n",
              "      <th>region</th>\n",
              "      <th>charges</th>\n",
              "    </tr>\n",
              "  </thead>\n",
              "  <tbody>\n",
              "    <tr>\n",
              "      <th>0</th>\n",
              "      <td>19</td>\n",
              "      <td>female</td>\n",
              "      <td>27.900</td>\n",
              "      <td>0</td>\n",
              "      <td>yes</td>\n",
              "      <td>southwest</td>\n",
              "      <td>16884.92400</td>\n",
              "    </tr>\n",
              "    <tr>\n",
              "      <th>1</th>\n",
              "      <td>18</td>\n",
              "      <td>male</td>\n",
              "      <td>33.770</td>\n",
              "      <td>1</td>\n",
              "      <td>no</td>\n",
              "      <td>southeast</td>\n",
              "      <td>1725.55230</td>\n",
              "    </tr>\n",
              "    <tr>\n",
              "      <th>2</th>\n",
              "      <td>28</td>\n",
              "      <td>male</td>\n",
              "      <td>33.000</td>\n",
              "      <td>3</td>\n",
              "      <td>no</td>\n",
              "      <td>southeast</td>\n",
              "      <td>4449.46200</td>\n",
              "    </tr>\n",
              "    <tr>\n",
              "      <th>3</th>\n",
              "      <td>33</td>\n",
              "      <td>male</td>\n",
              "      <td>22.705</td>\n",
              "      <td>0</td>\n",
              "      <td>no</td>\n",
              "      <td>northwest</td>\n",
              "      <td>21984.47061</td>\n",
              "    </tr>\n",
              "    <tr>\n",
              "      <th>4</th>\n",
              "      <td>32</td>\n",
              "      <td>male</td>\n",
              "      <td>28.880</td>\n",
              "      <td>0</td>\n",
              "      <td>no</td>\n",
              "      <td>northwest</td>\n",
              "      <td>3866.85520</td>\n",
              "    </tr>\n",
              "    <tr>\n",
              "      <th>...</th>\n",
              "      <td>...</td>\n",
              "      <td>...</td>\n",
              "      <td>...</td>\n",
              "      <td>...</td>\n",
              "      <td>...</td>\n",
              "      <td>...</td>\n",
              "      <td>...</td>\n",
              "    </tr>\n",
              "    <tr>\n",
              "      <th>1333</th>\n",
              "      <td>50</td>\n",
              "      <td>male</td>\n",
              "      <td>30.970</td>\n",
              "      <td>3</td>\n",
              "      <td>no</td>\n",
              "      <td>northwest</td>\n",
              "      <td>10600.54830</td>\n",
              "    </tr>\n",
              "    <tr>\n",
              "      <th>1334</th>\n",
              "      <td>18</td>\n",
              "      <td>female</td>\n",
              "      <td>31.920</td>\n",
              "      <td>0</td>\n",
              "      <td>no</td>\n",
              "      <td>northeast</td>\n",
              "      <td>2205.98080</td>\n",
              "    </tr>\n",
              "    <tr>\n",
              "      <th>1335</th>\n",
              "      <td>18</td>\n",
              "      <td>female</td>\n",
              "      <td>36.850</td>\n",
              "      <td>0</td>\n",
              "      <td>no</td>\n",
              "      <td>southeast</td>\n",
              "      <td>1629.83350</td>\n",
              "    </tr>\n",
              "    <tr>\n",
              "      <th>1336</th>\n",
              "      <td>21</td>\n",
              "      <td>female</td>\n",
              "      <td>25.800</td>\n",
              "      <td>0</td>\n",
              "      <td>no</td>\n",
              "      <td>southwest</td>\n",
              "      <td>2007.94500</td>\n",
              "    </tr>\n",
              "    <tr>\n",
              "      <th>1337</th>\n",
              "      <td>61</td>\n",
              "      <td>female</td>\n",
              "      <td>29.070</td>\n",
              "      <td>0</td>\n",
              "      <td>yes</td>\n",
              "      <td>northwest</td>\n",
              "      <td>29141.36030</td>\n",
              "    </tr>\n",
              "  </tbody>\n",
              "</table>\n",
              "<p>1338 rows × 7 columns</p>\n",
              "</div>"
            ],
            "text/plain": [
              "      age     sex     bmi  children smoker     region      charges\n",
              "0      19  female  27.900         0    yes  southwest  16884.92400\n",
              "1      18    male  33.770         1     no  southeast   1725.55230\n",
              "2      28    male  33.000         3     no  southeast   4449.46200\n",
              "3      33    male  22.705         0     no  northwest  21984.47061\n",
              "4      32    male  28.880         0     no  northwest   3866.85520\n",
              "...   ...     ...     ...       ...    ...        ...          ...\n",
              "1333   50    male  30.970         3     no  northwest  10600.54830\n",
              "1334   18  female  31.920         0     no  northeast   2205.98080\n",
              "1335   18  female  36.850         0     no  southeast   1629.83350\n",
              "1336   21  female  25.800         0     no  southwest   2007.94500\n",
              "1337   61  female  29.070         0    yes  northwest  29141.36030\n",
              "\n",
              "[1338 rows x 7 columns]"
            ]
          },
          "metadata": {
            "tags": []
          },
          "execution_count": 2
        }
      ]
    },
    {
      "cell_type": "code",
      "metadata": {
        "id": "NdrM9I1HsPK4",
        "colab_type": "code",
        "colab": {
          "base_uri": "https://localhost:8080/",
          "height": 391
        },
        "outputId": "d7fd0ea0-2f3e-4341-bf3b-9b3c7e87aee3"
      },
      "source": [
        "insurance_df = pd.DataFrame(data=insurance)\n",
        "insurance_df['sex'] = insurance_df['sex'].replace({'female':1,'male':0})\n",
        "insurance_df['smoker'] = insurance_df['smoker'].replace({'yes':1,'no':0})\n",
        "insurance_df['region'] = insurance_df['region'].replace({'southwest':0,'southeast':1,'northwest':2,'northeast':3})\n",
        "insurance_df"
      ],
      "execution_count": 3,
      "outputs": [
        {
          "output_type": "execute_result",
          "data": {
            "text/html": [
              "<div>\n",
              "<style scoped>\n",
              "    .dataframe tbody tr th:only-of-type {\n",
              "        vertical-align: middle;\n",
              "    }\n",
              "\n",
              "    .dataframe tbody tr th {\n",
              "        vertical-align: top;\n",
              "    }\n",
              "\n",
              "    .dataframe thead th {\n",
              "        text-align: right;\n",
              "    }\n",
              "</style>\n",
              "<table border=\"1\" class=\"dataframe\">\n",
              "  <thead>\n",
              "    <tr style=\"text-align: right;\">\n",
              "      <th></th>\n",
              "      <th>age</th>\n",
              "      <th>sex</th>\n",
              "      <th>bmi</th>\n",
              "      <th>children</th>\n",
              "      <th>smoker</th>\n",
              "      <th>region</th>\n",
              "      <th>charges</th>\n",
              "    </tr>\n",
              "  </thead>\n",
              "  <tbody>\n",
              "    <tr>\n",
              "      <th>0</th>\n",
              "      <td>19</td>\n",
              "      <td>1</td>\n",
              "      <td>27.900</td>\n",
              "      <td>0</td>\n",
              "      <td>1</td>\n",
              "      <td>0</td>\n",
              "      <td>16884.92400</td>\n",
              "    </tr>\n",
              "    <tr>\n",
              "      <th>1</th>\n",
              "      <td>18</td>\n",
              "      <td>0</td>\n",
              "      <td>33.770</td>\n",
              "      <td>1</td>\n",
              "      <td>0</td>\n",
              "      <td>1</td>\n",
              "      <td>1725.55230</td>\n",
              "    </tr>\n",
              "    <tr>\n",
              "      <th>2</th>\n",
              "      <td>28</td>\n",
              "      <td>0</td>\n",
              "      <td>33.000</td>\n",
              "      <td>3</td>\n",
              "      <td>0</td>\n",
              "      <td>1</td>\n",
              "      <td>4449.46200</td>\n",
              "    </tr>\n",
              "    <tr>\n",
              "      <th>3</th>\n",
              "      <td>33</td>\n",
              "      <td>0</td>\n",
              "      <td>22.705</td>\n",
              "      <td>0</td>\n",
              "      <td>0</td>\n",
              "      <td>2</td>\n",
              "      <td>21984.47061</td>\n",
              "    </tr>\n",
              "    <tr>\n",
              "      <th>4</th>\n",
              "      <td>32</td>\n",
              "      <td>0</td>\n",
              "      <td>28.880</td>\n",
              "      <td>0</td>\n",
              "      <td>0</td>\n",
              "      <td>2</td>\n",
              "      <td>3866.85520</td>\n",
              "    </tr>\n",
              "    <tr>\n",
              "      <th>...</th>\n",
              "      <td>...</td>\n",
              "      <td>...</td>\n",
              "      <td>...</td>\n",
              "      <td>...</td>\n",
              "      <td>...</td>\n",
              "      <td>...</td>\n",
              "      <td>...</td>\n",
              "    </tr>\n",
              "    <tr>\n",
              "      <th>1333</th>\n",
              "      <td>50</td>\n",
              "      <td>0</td>\n",
              "      <td>30.970</td>\n",
              "      <td>3</td>\n",
              "      <td>0</td>\n",
              "      <td>2</td>\n",
              "      <td>10600.54830</td>\n",
              "    </tr>\n",
              "    <tr>\n",
              "      <th>1334</th>\n",
              "      <td>18</td>\n",
              "      <td>1</td>\n",
              "      <td>31.920</td>\n",
              "      <td>0</td>\n",
              "      <td>0</td>\n",
              "      <td>3</td>\n",
              "      <td>2205.98080</td>\n",
              "    </tr>\n",
              "    <tr>\n",
              "      <th>1335</th>\n",
              "      <td>18</td>\n",
              "      <td>1</td>\n",
              "      <td>36.850</td>\n",
              "      <td>0</td>\n",
              "      <td>0</td>\n",
              "      <td>1</td>\n",
              "      <td>1629.83350</td>\n",
              "    </tr>\n",
              "    <tr>\n",
              "      <th>1336</th>\n",
              "      <td>21</td>\n",
              "      <td>1</td>\n",
              "      <td>25.800</td>\n",
              "      <td>0</td>\n",
              "      <td>0</td>\n",
              "      <td>0</td>\n",
              "      <td>2007.94500</td>\n",
              "    </tr>\n",
              "    <tr>\n",
              "      <th>1337</th>\n",
              "      <td>61</td>\n",
              "      <td>1</td>\n",
              "      <td>29.070</td>\n",
              "      <td>0</td>\n",
              "      <td>1</td>\n",
              "      <td>2</td>\n",
              "      <td>29141.36030</td>\n",
              "    </tr>\n",
              "  </tbody>\n",
              "</table>\n",
              "<p>1338 rows × 7 columns</p>\n",
              "</div>"
            ],
            "text/plain": [
              "      age  sex     bmi  children  smoker  region      charges\n",
              "0      19    1  27.900         0       1       0  16884.92400\n",
              "1      18    0  33.770         1       0       1   1725.55230\n",
              "2      28    0  33.000         3       0       1   4449.46200\n",
              "3      33    0  22.705         0       0       2  21984.47061\n",
              "4      32    0  28.880         0       0       2   3866.85520\n",
              "...   ...  ...     ...       ...     ...     ...          ...\n",
              "1333   50    0  30.970         3       0       2  10600.54830\n",
              "1334   18    1  31.920         0       0       3   2205.98080\n",
              "1335   18    1  36.850         0       0       1   1629.83350\n",
              "1336   21    1  25.800         0       0       0   2007.94500\n",
              "1337   61    1  29.070         0       1       2  29141.36030\n",
              "\n",
              "[1338 rows x 7 columns]"
            ]
          },
          "metadata": {
            "tags": []
          },
          "execution_count": 3
        }
      ]
    },
    {
      "cell_type": "code",
      "metadata": {
        "id": "dS6GcUHoHnyO",
        "colab_type": "code",
        "colab": {}
      },
      "source": [
        "target = []\n",
        "for i in insurance_df['charges']:\n",
        "  if i > 35000:\n",
        "    target.append(1)\n",
        "  elif i > 16639:\n",
        "    target.append(2)\n",
        "  elif i > 9382:\n",
        "    target.append(3)\n",
        "  else:\n",
        "    target.append(4)\n",
        "\n",
        "insurance_df['target'] = target"
      ],
      "execution_count": 5,
      "outputs": []
    },
    {
      "cell_type": "code",
      "metadata": {
        "id": "q4NAdRTQIeLc",
        "colab_type": "code",
        "colab": {
          "base_uri": "https://localhost:8080/",
          "height": 391
        },
        "outputId": "88881bcc-cd88-4898-84ac-759c55ca341c"
      },
      "source": [
        "insurance_df"
      ],
      "execution_count": 6,
      "outputs": [
        {
          "output_type": "execute_result",
          "data": {
            "text/html": [
              "<div>\n",
              "<style scoped>\n",
              "    .dataframe tbody tr th:only-of-type {\n",
              "        vertical-align: middle;\n",
              "    }\n",
              "\n",
              "    .dataframe tbody tr th {\n",
              "        vertical-align: top;\n",
              "    }\n",
              "\n",
              "    .dataframe thead th {\n",
              "        text-align: right;\n",
              "    }\n",
              "</style>\n",
              "<table border=\"1\" class=\"dataframe\">\n",
              "  <thead>\n",
              "    <tr style=\"text-align: right;\">\n",
              "      <th></th>\n",
              "      <th>age</th>\n",
              "      <th>sex</th>\n",
              "      <th>bmi</th>\n",
              "      <th>children</th>\n",
              "      <th>smoker</th>\n",
              "      <th>region</th>\n",
              "      <th>charges</th>\n",
              "      <th>target</th>\n",
              "    </tr>\n",
              "  </thead>\n",
              "  <tbody>\n",
              "    <tr>\n",
              "      <th>0</th>\n",
              "      <td>19</td>\n",
              "      <td>1</td>\n",
              "      <td>27.900</td>\n",
              "      <td>0</td>\n",
              "      <td>1</td>\n",
              "      <td>0</td>\n",
              "      <td>16884.92400</td>\n",
              "      <td>2</td>\n",
              "    </tr>\n",
              "    <tr>\n",
              "      <th>1</th>\n",
              "      <td>18</td>\n",
              "      <td>0</td>\n",
              "      <td>33.770</td>\n",
              "      <td>1</td>\n",
              "      <td>0</td>\n",
              "      <td>1</td>\n",
              "      <td>1725.55230</td>\n",
              "      <td>4</td>\n",
              "    </tr>\n",
              "    <tr>\n",
              "      <th>2</th>\n",
              "      <td>28</td>\n",
              "      <td>0</td>\n",
              "      <td>33.000</td>\n",
              "      <td>3</td>\n",
              "      <td>0</td>\n",
              "      <td>1</td>\n",
              "      <td>4449.46200</td>\n",
              "      <td>4</td>\n",
              "    </tr>\n",
              "    <tr>\n",
              "      <th>3</th>\n",
              "      <td>33</td>\n",
              "      <td>0</td>\n",
              "      <td>22.705</td>\n",
              "      <td>0</td>\n",
              "      <td>0</td>\n",
              "      <td>2</td>\n",
              "      <td>21984.47061</td>\n",
              "      <td>2</td>\n",
              "    </tr>\n",
              "    <tr>\n",
              "      <th>4</th>\n",
              "      <td>32</td>\n",
              "      <td>0</td>\n",
              "      <td>28.880</td>\n",
              "      <td>0</td>\n",
              "      <td>0</td>\n",
              "      <td>2</td>\n",
              "      <td>3866.85520</td>\n",
              "      <td>4</td>\n",
              "    </tr>\n",
              "    <tr>\n",
              "      <th>...</th>\n",
              "      <td>...</td>\n",
              "      <td>...</td>\n",
              "      <td>...</td>\n",
              "      <td>...</td>\n",
              "      <td>...</td>\n",
              "      <td>...</td>\n",
              "      <td>...</td>\n",
              "      <td>...</td>\n",
              "    </tr>\n",
              "    <tr>\n",
              "      <th>1333</th>\n",
              "      <td>50</td>\n",
              "      <td>0</td>\n",
              "      <td>30.970</td>\n",
              "      <td>3</td>\n",
              "      <td>0</td>\n",
              "      <td>2</td>\n",
              "      <td>10600.54830</td>\n",
              "      <td>3</td>\n",
              "    </tr>\n",
              "    <tr>\n",
              "      <th>1334</th>\n",
              "      <td>18</td>\n",
              "      <td>1</td>\n",
              "      <td>31.920</td>\n",
              "      <td>0</td>\n",
              "      <td>0</td>\n",
              "      <td>3</td>\n",
              "      <td>2205.98080</td>\n",
              "      <td>4</td>\n",
              "    </tr>\n",
              "    <tr>\n",
              "      <th>1335</th>\n",
              "      <td>18</td>\n",
              "      <td>1</td>\n",
              "      <td>36.850</td>\n",
              "      <td>0</td>\n",
              "      <td>0</td>\n",
              "      <td>1</td>\n",
              "      <td>1629.83350</td>\n",
              "      <td>4</td>\n",
              "    </tr>\n",
              "    <tr>\n",
              "      <th>1336</th>\n",
              "      <td>21</td>\n",
              "      <td>1</td>\n",
              "      <td>25.800</td>\n",
              "      <td>0</td>\n",
              "      <td>0</td>\n",
              "      <td>0</td>\n",
              "      <td>2007.94500</td>\n",
              "      <td>4</td>\n",
              "    </tr>\n",
              "    <tr>\n",
              "      <th>1337</th>\n",
              "      <td>61</td>\n",
              "      <td>1</td>\n",
              "      <td>29.070</td>\n",
              "      <td>0</td>\n",
              "      <td>1</td>\n",
              "      <td>2</td>\n",
              "      <td>29141.36030</td>\n",
              "      <td>2</td>\n",
              "    </tr>\n",
              "  </tbody>\n",
              "</table>\n",
              "<p>1338 rows × 8 columns</p>\n",
              "</div>"
            ],
            "text/plain": [
              "      age  sex     bmi  children  smoker  region      charges  target\n",
              "0      19    1  27.900         0       1       0  16884.92400       2\n",
              "1      18    0  33.770         1       0       1   1725.55230       4\n",
              "2      28    0  33.000         3       0       1   4449.46200       4\n",
              "3      33    0  22.705         0       0       2  21984.47061       2\n",
              "4      32    0  28.880         0       0       2   3866.85520       4\n",
              "...   ...  ...     ...       ...     ...     ...          ...     ...\n",
              "1333   50    0  30.970         3       0       2  10600.54830       3\n",
              "1334   18    1  31.920         0       0       3   2205.98080       4\n",
              "1335   18    1  36.850         0       0       1   1629.83350       4\n",
              "1336   21    1  25.800         0       0       0   2007.94500       4\n",
              "1337   61    1  29.070         0       1       2  29141.36030       2\n",
              "\n",
              "[1338 rows x 8 columns]"
            ]
          },
          "metadata": {
            "tags": []
          },
          "execution_count": 6
        }
      ]
    },
    {
      "cell_type": "code",
      "metadata": {
        "id": "kqasOwOSC2uN",
        "colab_type": "code",
        "colab": {
          "base_uri": "https://localhost:8080/",
          "height": 420
        },
        "outputId": "13acc1ee-c79e-4c10-98d6-375850d1cb95"
      },
      "source": [
        "import matplotlib.pyplot as plt\n",
        "plt.style.use(['seaborn-whitegrid'])\n",
        "\n",
        "f, ax = plt.subplots(1,1)\n",
        "ax.boxplot(insurance['charges']);\n",
        "\n",
        "insurance['charges'].describe()"
      ],
      "execution_count": 7,
      "outputs": [
        {
          "output_type": "execute_result",
          "data": {
            "text/plain": [
              "count     1338.000000\n",
              "mean     13270.422265\n",
              "std      12110.011237\n",
              "min       1121.873900\n",
              "25%       4740.287150\n",
              "50%       9382.033000\n",
              "75%      16639.912515\n",
              "max      63770.428010\n",
              "Name: charges, dtype: float64"
            ]
          },
          "metadata": {
            "tags": []
          },
          "execution_count": 7
        },
        {
          "output_type": "display_data",
          "data": {
            "image/png": "[encoded data removed]",
            "text/plain": [
              "<Figure size 432x288 with 1 Axes>"
            ]
          },
          "metadata": {
            "tags": []
          }
        }
      ]
    },
    {
      "cell_type": "code",
      "metadata": {
        "id": "BOZvglrnEU8W",
        "colab_type": "code",
        "colab": {
          "base_uri": "https://localhost:8080/",
          "height": 391
        },
        "outputId": "5ad09928-044a-403b-eb05-d00dd4ee74f9"
      },
      "source": [
        "insurance_df_raw = insurance_df.drop(columns='charges')\n",
        "insurance_df_raw = insurance_df_raw.drop(columns='target')\n",
        "insurance_df_raw"
      ],
      "execution_count": 10,
      "outputs": [
        {
          "output_type": "execute_result",
          "data": {
            "text/html": [
              "<div>\n",
              "<style scoped>\n",
              "    .dataframe tbody tr th:only-of-type {\n",
              "        vertical-align: middle;\n",
              "    }\n",
              "\n",
              "    .dataframe tbody tr th {\n",
              "        vertical-align: top;\n",
              "    }\n",
              "\n",
              "    .dataframe thead th {\n",
              "        text-align: right;\n",
              "    }\n",
              "</style>\n",
              "<table border=\"1\" class=\"dataframe\">\n",
              "  <thead>\n",
              "    <tr style=\"text-align: right;\">\n",
              "      <th></th>\n",
              "      <th>age</th>\n",
              "      <th>sex</th>\n",
              "      <th>bmi</th>\n",
              "      <th>children</th>\n",
              "      <th>smoker</th>\n",
              "      <th>region</th>\n",
              "    </tr>\n",
              "  </thead>\n",
              "  <tbody>\n",
              "    <tr>\n",
              "      <th>0</th>\n",
              "      <td>19</td>\n",
              "      <td>1</td>\n",
              "      <td>27.900</td>\n",
              "      <td>0</td>\n",
              "      <td>1</td>\n",
              "      <td>0</td>\n",
              "    </tr>\n",
              "    <tr>\n",
              "      <th>1</th>\n",
              "      <td>18</td>\n",
              "      <td>0</td>\n",
              "      <td>33.770</td>\n",
              "      <td>1</td>\n",
              "      <td>0</td>\n",
              "      <td>1</td>\n",
              "    </tr>\n",
              "    <tr>\n",
              "      <th>2</th>\n",
              "      <td>28</td>\n",
              "      <td>0</td>\n",
              "      <td>33.000</td>\n",
              "      <td>3</td>\n",
              "      <td>0</td>\n",
              "      <td>1</td>\n",
              "    </tr>\n",
              "    <tr>\n",
              "      <th>3</th>\n",
              "      <td>33</td>\n",
              "      <td>0</td>\n",
              "      <td>22.705</td>\n",
              "      <td>0</td>\n",
              "      <td>0</td>\n",
              "      <td>2</td>\n",
              "    </tr>\n",
              "    <tr>\n",
              "      <th>4</th>\n",
              "      <td>32</td>\n",
              "      <td>0</td>\n",
              "      <td>28.880</td>\n",
              "      <td>0</td>\n",
              "      <td>0</td>\n",
              "      <td>2</td>\n",
              "    </tr>\n",
              "    <tr>\n",
              "      <th>...</th>\n",
              "      <td>...</td>\n",
              "      <td>...</td>\n",
              "      <td>...</td>\n",
              "      <td>...</td>\n",
              "      <td>...</td>\n",
              "      <td>...</td>\n",
              "    </tr>\n",
              "    <tr>\n",
              "      <th>1333</th>\n",
              "      <td>50</td>\n",
              "      <td>0</td>\n",
              "      <td>30.970</td>\n",
              "      <td>3</td>\n",
              "      <td>0</td>\n",
              "      <td>2</td>\n",
              "    </tr>\n",
              "    <tr>\n",
              "      <th>1334</th>\n",
              "      <td>18</td>\n",
              "      <td>1</td>\n",
              "      <td>31.920</td>\n",
              "      <td>0</td>\n",
              "      <td>0</td>\n",
              "      <td>3</td>\n",
              "    </tr>\n",
              "    <tr>\n",
              "      <th>1335</th>\n",
              "      <td>18</td>\n",
              "      <td>1</td>\n",
              "      <td>36.850</td>\n",
              "      <td>0</td>\n",
              "      <td>0</td>\n",
              "      <td>1</td>\n",
              "    </tr>\n",
              "    <tr>\n",
              "      <th>1336</th>\n",
              "      <td>21</td>\n",
              "      <td>1</td>\n",
              "      <td>25.800</td>\n",
              "      <td>0</td>\n",
              "      <td>0</td>\n",
              "      <td>0</td>\n",
              "    </tr>\n",
              "    <tr>\n",
              "      <th>1337</th>\n",
              "      <td>61</td>\n",
              "      <td>1</td>\n",
              "      <td>29.070</td>\n",
              "      <td>0</td>\n",
              "      <td>1</td>\n",
              "      <td>2</td>\n",
              "    </tr>\n",
              "  </tbody>\n",
              "</table>\n",
              "<p>1338 rows × 6 columns</p>\n",
              "</div>"
            ],
            "text/plain": [
              "      age  sex     bmi  children  smoker  region\n",
              "0      19    1  27.900         0       1       0\n",
              "1      18    0  33.770         1       0       1\n",
              "2      28    0  33.000         3       0       1\n",
              "3      33    0  22.705         0       0       2\n",
              "4      32    0  28.880         0       0       2\n",
              "...   ...  ...     ...       ...     ...     ...\n",
              "1333   50    0  30.970         3       0       2\n",
              "1334   18    1  31.920         0       0       3\n",
              "1335   18    1  36.850         0       0       1\n",
              "1336   21    1  25.800         0       0       0\n",
              "1337   61    1  29.070         0       1       2\n",
              "\n",
              "[1338 rows x 6 columns]"
            ]
          },
          "metadata": {
            "tags": []
          },
          "execution_count": 10
        }
      ]
    },
    {
      "cell_type": "markdown",
      "metadata": {
        "id": "fAhobOfqK4N6",
        "colab_type": "text"
      },
      "source": [
        "#데이터 전처리"
      ]
    },
    {
      "cell_type": "code",
      "metadata": {
        "id": "XSoIeWLX60yS",
        "colab_type": "code",
        "colab": {}
      },
      "source": [
        "from sklearn.linear_model import LinearRegression,Ridge, Lasso, ElasticNet, OrthogonalMatchingPursuit, LogisticRegression\n",
        "from sklearn.preprocessing import PolynomialFeatures\n",
        "from sklearn.model_selection import train_test_split\n",
        "from sklearn.pipeline import make_pipeline\n",
        "\n",
        "X_train, X_test , y_train, y_test = train_test_split(insurance_df_raw,insurance_df.target, test_size=0.3, random_state=100) "
      ],
      "execution_count": 83,
      "outputs": []
    },
    {
      "cell_type": "code",
      "metadata": {
        "id": "iA4-fP7GPt0M",
        "colab_type": "code",
        "colab": {}
      },
      "source": [
        "from sklearn.preprocessing import MinMaxScaler\n",
        "\n",
        "scaler = MinMaxScaler()\n",
        "X_train_scale = scaler.fit_transform(X_train)\n",
        "X_test_scale = scaler.fit_transform(X_test)"
      ],
      "execution_count": null,
      "outputs": []
    },
    {
      "cell_type": "markdown",
      "metadata": {
        "id": "0j2gcec4O2dJ",
        "colab_type": "text"
      },
      "source": [
        "minmaxscaler 전처리"
      ]
    },
    {
      "cell_type": "markdown",
      "metadata": {
        "id": "jmgtpCX_O8ey",
        "colab_type": "text"
      },
      "source": [
        "#머신러닝 모델 선정"
      ]
    },
    {
      "cell_type": "code",
      "metadata": {
        "id": "vcMLhciSorJR",
        "colab_type": "code",
        "colab": {
          "base_uri": "https://localhost:8080/",
          "height": 140
        },
        "outputId": "5929ec32-faa9-40e5-c3bb-bab1c0d0ae86"
      },
      "source": [
        "model = LinearRegression(normalize=True)\n",
        "model.fit(X_train, y_train)\n",
        "\n",
        "print('전처리 전')\n",
        "print('학습 데이터 점수: {}'.format(model.score(X_train, y_train)))\n",
        "print('평가 데이터 점수: {}'.format(model.score(X_test, y_test)))\n",
        "\n",
        "model = LinearRegression(normalize=True)\n",
        "model.fit(X_train_scale, y_train)\n",
        "\n",
        "print('')\n",
        "print('전처리 후')\n",
        "print('학습 데이터 점수: {}'.format(model.score(X_train_scale, y_train)))\n",
        "print('평가 데이터 점수: {}'.format(model.score(X_test_scale, y_test)))"
      ],
      "execution_count": 89,
      "outputs": [
        {
          "output_type": "stream",
          "text": [
            "전처리 전\n",
            "학습 데이터 점수: 0.7020672573693341\n",
            "평가 데이터 점수: 0.7512487499502136\n",
            "\n",
            "전처리 후\n",
            "학습 데이터 점수: 0.7020672573693341\n",
            "평가 데이터 점수: 0.7506957968710029\n"
          ],
          "name": "stdout"
        }
      ]
    },
    {
      "cell_type": "code",
      "metadata": {
        "id": "wv9lG3MtLlIF",
        "colab_type": "code",
        "colab": {
          "base_uri": "https://localhost:8080/",
          "height": 140
        },
        "outputId": "f503572c-d412-4854-aa06-1343689b7419"
      },
      "source": [
        "model = Ridge(alpha=0.2)\n",
        "model.fit(X_train, y_train)\n",
        "\n",
        "print('전처리 전')\n",
        "print('학습 데이터 점수: {}'.format(model.score(X_train, y_train)))\n",
        "print('평가 데이터 점수: {}'.format(model.score(X_test, y_test)))\n",
        "\n",
        "model = Ridge(alpha=0.2)\n",
        "model.fit(X_train_scale, y_train)\n",
        "\n",
        "print('')\n",
        "print('전처리 후')\n",
        "print('학습 데이터 점수: {}'.format(model.score(X_train_scale, y_train)))\n",
        "print('평가 데이터 점수: {}'.format(model.score(X_test_scale, y_test)))"
      ],
      "execution_count": 62,
      "outputs": [
        {
          "output_type": "stream",
          "text": [
            "전처리 전\n",
            "학습 데이터 점수: 0.7020661363826155\n",
            "평가 데이터 점수: 0.7512935007038064\n",
            "\n",
            "전처리 후\n",
            "학습 데이터 점수: 0.7020650753345792\n",
            "평가 데이터 점수: 0.7507027486104656\n"
          ],
          "name": "stdout"
        }
      ]
    },
    {
      "cell_type": "code",
      "metadata": {
        "id": "aQZisPkoMciq",
        "colab_type": "code",
        "colab": {
          "base_uri": "https://localhost:8080/",
          "height": 140
        },
        "outputId": "d3c922ff-5684-4bef-9122-4c1ce9336fb7"
      },
      "source": [
        "model = Lasso(alpha=0.001)\n",
        "model.fit(X_train, y_train)\n",
        "\n",
        "print('전처리 전')\n",
        "print('학습 데이터 점수: {}'.format(model.score(X_train, y_train)))\n",
        "print('평가 데이터 점수: {}'.format(model.score(X_test, y_test)))\n",
        "\n",
        "model = Lasso(alpha=0.001)\n",
        "model.fit(X_train_scale, y_train)\n",
        "\n",
        "print('')\n",
        "print('전처리 후')\n",
        "print('학습 데이터 점수: {}'.format(model.score(X_train_scale, y_train)))\n",
        "print('평가 데이터 점수: {}'.format(model.score(X_test_scale, y_test)))"
      ],
      "execution_count": 63,
      "outputs": [
        {
          "output_type": "stream",
          "text": [
            "전처리 전\n",
            "학습 데이터 점수: 0.7020546555143117\n",
            "평가 데이터 점수: 0.7514327536993276\n",
            "\n",
            "전처리 후\n",
            "학습 데이터 점수: 0.7019843994119401\n",
            "평가 데이터 점수: 0.7505537619801425\n"
          ],
          "name": "stdout"
        }
      ]
    },
    {
      "cell_type": "code",
      "metadata": {
        "id": "Yd4RtT0FMhdU",
        "colab_type": "code",
        "colab": {
          "base_uri": "https://localhost:8080/",
          "height": 140
        },
        "outputId": "fe2717a8-021d-405e-bf30-246ab077cfdf"
      },
      "source": [
        "model = ElasticNet(alpha=0.01, l1_ratio=0.5)\n",
        "model.fit(X_train, y_train)\n",
        "\n",
        "print('전처리 전')\n",
        "print('학습 데이터 점수: {}'.format(model.score(X_train, y_train)))\n",
        "print('평가 데이터 점수: {}'.format(model.score(X_test, y_test)))\n",
        "\n",
        "model = ElasticNet(alpha=0.01, l1_ratio=0.5)\n",
        "model.fit(X_train_scale, y_train)\n",
        "\n",
        "print('')\n",
        "print('전처리 후')\n",
        "print('학습 데이터 점수: {}'.format(model.score(X_train_scale, y_train)))\n",
        "print('평가 데이터 점수: {}'.format(model.score(X_test_scale, y_test)))"
      ],
      "execution_count": 64,
      "outputs": [
        {
          "output_type": "stream",
          "text": [
            "전처리 전\n",
            "학습 데이터 점수: 0.70057160627721\n",
            "평가 데이터 점수: 0.751547133603405\n",
            "\n",
            "전처리 후\n",
            "학습 데이터 점수: 0.6974730228434218\n",
            "평가 데이터 점수: 0.7457820238203227\n"
          ],
          "name": "stdout"
        }
      ]
    },
    {
      "cell_type": "code",
      "metadata": {
        "id": "gsj5_2hiMlkE",
        "colab_type": "code",
        "colab": {
          "base_uri": "https://localhost:8080/",
          "height": 140
        },
        "outputId": "a8b212f8-6399-4289-fe37-18a7426e8100"
      },
      "source": [
        "model = OrthogonalMatchingPursuit(n_nonzero_coefs=3)\n",
        "model.fit(X_train, y_train)\n",
        "\n",
        "print('전처리 전')\n",
        "print('학습 데이터 점수: {}'.format(model.score(X_train, y_train)))\n",
        "print('평가 데이터 점수: {}'.format(model.score(X_test, y_test)))\n",
        "\n",
        "model = OrthogonalMatchingPursuit(n_nonzero_coefs=3)\n",
        "model.fit(X_train_scale, y_train)\n",
        "\n",
        "print('')\n",
        "print('전처리 후')\n",
        "print('학습 데이터 점수: {}'.format(model.score(X_train_scale, y_train)))\n",
        "print('평가 데이터 점수: {}'.format(model.score(X_test_scale, y_test)))"
      ],
      "execution_count": 65,
      "outputs": [
        {
          "output_type": "stream",
          "text": [
            "전처리 전\n",
            "학습 데이터 점수: 0.7000787590852533\n",
            "평가 데이터 점수: 0.7513486625888768\n",
            "\n",
            "전처리 후\n",
            "학습 데이터 점수: 0.7000787590852533\n",
            "평가 데이터 점수: 0.7509241174209125\n"
          ],
          "name": "stdout"
        }
      ]
    },
    {
      "cell_type": "code",
      "metadata": {
        "id": "AWQT69NnMoRs",
        "colab_type": "code",
        "colab": {
          "base_uri": "https://localhost:8080/",
          "height": 140
        },
        "outputId": "6d8221a2-1d1a-4cfc-b353-d1fbb6a8157c"
      },
      "source": [
        "model = make_pipeline(\n",
        "    PolynomialFeatures(degree=2),\n",
        "    LinearRegression()\n",
        ")\n",
        "model.fit(X_train, y_train)\n",
        "\n",
        "print('전처리 전')\n",
        "print('학습 데이터 점수: {}'.format(model.score(X_train, y_train)))\n",
        "print('평가 데이터 점수: {}'.format(model.score(X_test, y_test)))\n",
        "\n",
        "model = make_pipeline(\n",
        "    PolynomialFeatures(degree=2),\n",
        "    LinearRegression()\n",
        ")\n",
        "model.fit(X_train_scale, y_train)\n",
        "\n",
        "print('')\n",
        "print('전처리 후')\n",
        "print('학습 데이터 점수: {}'.format(model.score(X_train_scale, y_train)))\n",
        "print('평가 데이터 점수: {}'.format(model.score(X_test_scale, y_test)))"
      ],
      "execution_count": 66,
      "outputs": [
        {
          "output_type": "stream",
          "text": [
            "전처리 전\n",
            "학습 데이터 점수: 0.7607793207665604\n",
            "평가 데이터 점수: 0.7825203954380845\n",
            "\n",
            "전처리 후\n",
            "학습 데이터 점수: 0.7630474693820211\n",
            "평가 데이터 점수: 0.7816954772831176\n"
          ],
          "name": "stdout"
        }
      ]
    },
    {
      "cell_type": "code",
      "metadata": {
        "id": "Ph5_KzoO7x_I",
        "colab_type": "code",
        "colab": {
          "base_uri": "https://localhost:8080/",
          "height": 297
        },
        "outputId": "827afb28-64e9-47bd-cdd1-9d279d05124e"
      },
      "source": [
        "predicted = model.predict(X_test)\n",
        "expected = y_test\n",
        "plt.figure(figsize=(8,4))\n",
        "plt.scatter(expected, predicted)\n",
        "plt.tight_layout()"
      ],
      "execution_count": 13,
      "outputs": [
        {
          "output_type": "display_data",
          "data": {
            "image/png": "[encoded data removed]",
            "text/plain": [
              "<Figure size 576x288 with 1 Axes>"
            ]
          },
          "metadata": {
            "tags": []
          }
        }
      ]
    },
    {
      "cell_type": "code",
      "metadata": {
        "id": "YVogcXim7gpQ",
        "colab_type": "code",
        "colab": {
          "base_uri": "https://localhost:8080/",
          "height": 140
        },
        "outputId": "ae08b08b-1b42-4803-ff6a-3996f478b3a7"
      },
      "source": [
        "print('y = ' + str(model.intercept_) + ' ')\n",
        "for i,c in enumerate(model.coef_):\n",
        "  print(str(c) + ' * x' + str(i))"
      ],
      "execution_count": 69,
      "outputs": [
        {
          "output_type": "stream",
          "text": [
            "y = 4.343751981358323 \n",
            "-0.9840557836933204 * x0\n",
            "-0.02732254408724495 * x1\n",
            "-0.6558229802560299 * x2\n",
            "-0.07055215044874298 * x3\n",
            "-1.988524834146552 * x4\n",
            "-0.11265549219619667 * x5\n"
          ],
          "name": "stdout"
        }
      ]
    },
    {
      "cell_type": "markdown",
      "metadata": {
        "id": "Iugmg-15CjOs",
        "colab_type": "text"
      },
      "source": [
        "#다양체학습"
      ]
    },
    {
      "cell_type": "code",
      "metadata": {
        "id": "yKaG3M4ALrjL",
        "colab_type": "code",
        "colab": {}
      },
      "source": [
        "from sklearn import manifold, random_projection, datasets\n",
        "from sklearn.neighbors import KNeighborsClassifier\n",
        "from sklearn.svm import SVC\n",
        "from sklearn.tree import DecisionTreeClassifier\n",
        "from sklearn.ensemble import RandomForestClassifier\n",
        "from sklearn.model_selection import cross_val_score"
      ],
      "execution_count": 21,
      "outputs": []
    },
    {
      "cell_type": "code",
      "metadata": {
        "id": "AaLiigFLbRll",
        "colab_type": "code",
        "colab": {}
      },
      "source": [
        "def min_max_scale(x):\n",
        "  min_value, max_value = np.min(x,0) , np.max(x,0)\n",
        "  x = (x - min_value) / (max_value - min_value)\n",
        "  return x"
      ],
      "execution_count": 30,
      "outputs": []
    },
    {
      "cell_type": "code",
      "metadata": {
        "id": "EhBfzwRCoiJ8",
        "colab_type": "code",
        "colab": {}
      },
      "source": [
        "def plot_s_curve(s_curve, color, position, projection):\n",
        "  s_curve = min_max_scale(s_curve)\n",
        "  if projection == '3d':\n",
        "    ax = plt.subplot(position, projection=projection)\n",
        "    ax.scatter(s_curve[:,0], s_curve[:,1], s_curve[:,2],c=color, cmap= plt.cm.Spectral)\n",
        "    ax.view_init(4,-72)\n",
        "  elif projection == '2d':\n",
        "    ax = plt.subplot(position)\n",
        "    ax.scatter(s_curve[:,0], s_curve[:,1], c=color, cmap=plt.cm.Spectral)"
      ],
      "execution_count": 31,
      "outputs": []
    },
    {
      "cell_type": "code",
      "metadata": {
        "id": "hkQOJSvlQgJD",
        "colab_type": "code",
        "colab": {}
      },
      "source": [
        "def plot_insurance(insurance, labels, position, projection):\n",
        "  insurance = min_max_scale(insurance)\n",
        "  if projection == '3d':\n",
        "    ax = plt.subplot(position, projection = projection)\n",
        "    for i in range(insurance.shape[0]):\n",
        "      ax.text(insurance[i,0],insurance[i,1],insurance[i,2], str(labels[i]),\n",
        "              color=plt.cm.Set1(labels[i] / 10), fontdict={'weight':'bold','size':9})\n",
        "    ax.view_init(4,-72)\n",
        "  elif projection == '2d':\n",
        "    ax = plt.subplot(position)\n",
        "    for i in range(insurance.shape[0]):\n",
        "      ax.text(insurance[i,0],insurance[i,1], str(labels[i]),\n",
        "              color=plt.cm.Set1(labels[i] / 10), fontdict={'weight':'bold','size':9})"
      ],
      "execution_count": 32,
      "outputs": []
    },
    {
      "cell_type": "code",
      "metadata": {
        "id": "cQwc1jn8AK4l",
        "colab_type": "code",
        "colab": {}
      },
      "source": [
        "rand_proj = random_projection.SparseRandomProjection(n_components=3, random_state=0)\n",
        "projected_digits = rand_proj.fit_transform(X_train_scale)"
      ],
      "execution_count": 98,
      "outputs": []
    },
    {
      "cell_type": "code",
      "metadata": {
        "id": "XxlAlXYkLtRp",
        "colab_type": "code",
        "colab": {}
      },
      "source": [
        "s_curve, color = datasets.make_s_curve(1000, random_state=0)\n",
        "knn = KNeighborsClassifier()\n",
        "svm = SVC()\n",
        "decision_tree = DecisionTreeClassifier()\n",
        "random_forest = RandomForestClassifier()"
      ],
      "execution_count": 99,
      "outputs": []
    },
    {
      "cell_type": "code",
      "metadata": {
        "id": "FNH6krYmJO5B",
        "colab_type": "code",
        "colab": {
          "base_uri": "https://localhost:8080/",
          "height": 523
        },
        "outputId": "2a5bb556-2aa8-4ce0-b946-980c22e51d48"
      },
      "source": [
        "fig = plt.figure(figsize=(20,10))\n",
        "plot_s_curve(s_curve,color, 121, '3d')\n",
        "plot_insurance(projected_digits, insurance_df.target, 122, '3d')"
      ],
      "execution_count": 100,
      "outputs": [
        {
          "output_type": "display_data",
          "data": {
            "image/png": "[encoded data removed]",
            "text/plain": [
              "<Figure size 1440x720 with 2 Axes>"
            ]
          },
          "metadata": {
            "tags": []
          }
        }
      ]
    },
    {
      "cell_type": "code",
      "metadata": {
        "id": "gHzGrY7ZBCCl",
        "colab_type": "code",
        "colab": {}
      },
      "source": [
        "s_curve_lle = manifold.LocallyLinearEmbedding(n_neighbors=30, n_components=2,\n",
        "                                              method='standard',random_state=0).fit_transform(s_curve)\n",
        "insurance_lle = manifold.LocallyLinearEmbedding(n_neighbors=30,n_components=3,\n",
        "                                             method='standard', random_state=0).fit_transform(X_train_scale)"
      ],
      "execution_count": 101,
      "outputs": []
    },
    {
      "cell_type": "code",
      "metadata": {
        "id": "8RkJhMl0DDBr",
        "colab_type": "code",
        "colab": {
          "base_uri": "https://localhost:8080/",
          "height": 72
        },
        "outputId": "6ae09e45-e417-45c8-d74a-2d8af9e34180"
      },
      "source": [
        "insurance_lle = manifold.LocallyLinearEmbedding(n_neighbors=10,n_components=5,method='standard', random_state=0).fit_transform(X_train_scale)\n",
        "insurance_ltsa = manifold.LocallyLinearEmbedding(n_neighbors=10,n_components=3,method='ltsa', random_state=0).fit_transform(X_train_scale)\n",
        "insurance_mlle = manifold.LocallyLinearEmbedding(n_neighbors=10,n_components=3,method='modified', random_state=0).fit_transform(X_train_scale)\n",
        "insurance_mds = manifold.MDS(n_components=3, random_state=0).fit_transform(X_train_scale)\n",
        "insurance_spe = manifold.SpectralEmbedding(n_components=3, random_state=0).fit_transform(X_train_scale)\n",
        "insurance_tsne = manifold.TSNE(n_components=3, random_state=0).fit_transform(X_train_scale)"
      ],
      "execution_count": 103,
      "outputs": [
        {
          "output_type": "stream",
          "text": [
            "/usr/local/lib/python3.6/dist-packages/scipy/sparse/linalg/eigen/arpack/arpack.py:937: LinAlgWarning: Diagonal number 572 is exactly zero. Singular matrix.\n",
            "  self.M_lu = lu_factor(M)\n"
          ],
          "name": "stderr"
        }
      ]
    },
    {
      "cell_type": "code",
      "metadata": {
        "id": "Q7IcTXZ2MHhJ",
        "colab_type": "code",
        "colab": {
          "base_uri": "https://localhost:8080/",
          "height": 1000
        },
        "outputId": "37601ab4-3632-4f9f-ec45-378848ba47f8"
      },
      "source": [
        "e = [knn, svm, decision_tree, random_forest]\n",
        "h = [insurance_lle,insurance_ltsa,insurance_mlle,insurance_mds,insurance_spe,insurance_tsne]\n",
        "g = ['lle','ltsa','mlle','mds','spe','tsne']\n",
        "a = ['knn', 'svm', 'decision_tree', 'random_forest']\n",
        "\n",
        "b=0\n",
        "for r in e:\n",
        "  print(a[b])\n",
        "  score = cross_val_score(\n",
        "    estimator = r,\n",
        "    X=X_train, y=y_train,\n",
        "    cv=5\n",
        "  )\n",
        "  print('학습 전 mean cross val score: {} (+/- {})'.format(score.mean(),score.std()))\n",
        "  n=0\n",
        "  for i in h:\n",
        "    score = cross_val_score(\n",
        "        estimator = r,\n",
        "        X=i, y=y_train,\n",
        "        cv=5\n",
        "    )\n",
        "    print('{} mean cross val score: {} (+/- {})'.format(g[n],score.mean(),score.std()))\n",
        "    n += 1\n",
        "  b+=1\n",
        "  print('')\n"
      ],
      "execution_count": 104,
      "outputs": [
        {
          "output_type": "stream",
          "text": [
            "knn\n",
            "학습 전 mean cross val score: 0.6635055182614632 (+/- 0.03382720051197216)\n",
            "lle mean cross val score: 0.6282398452611219 (+/- 0.03262963571794732)\n",
            "ltsa mean cross val score: nan (+/- nan)\n",
            "mlle mean cross val score: 0.6026055296393219 (+/- 0.023275539545004026)\n",
            "mds mean cross val score: 0.801302764819661 (+/- 0.027391019760574953)\n"
          ],
          "name": "stdout"
        },
        {
          "output_type": "stream",
          "text": [
            "/usr/local/lib/python3.6/dist-packages/sklearn/model_selection/_validation.py:536: FitFailedWarning: Estimator fit failed. The score on this train-test partition for these parameters will be set to nan. Details: \n",
            "ValueError: Input contains NaN, infinity or a value too large for dtype('float64').\n",
            "\n",
            "  FitFailedWarning)\n",
            "/usr/local/lib/python3.6/dist-packages/sklearn/model_selection/_validation.py:536: FitFailedWarning: Estimator fit failed. The score on this train-test partition for these parameters will be set to nan. Details: \n",
            "ValueError: Input contains NaN, infinity or a value too large for dtype('float64').\n",
            "\n",
            "  FitFailedWarning)\n",
            "/usr/local/lib/python3.6/dist-packages/sklearn/model_selection/_validation.py:536: FitFailedWarning: Estimator fit failed. The score on this train-test partition for these parameters will be set to nan. Details: \n",
            "ValueError: Input contains NaN, infinity or a value too large for dtype('float64').\n",
            "\n",
            "  FitFailedWarning)\n",
            "/usr/local/lib/python3.6/dist-packages/sklearn/model_selection/_validation.py:536: FitFailedWarning: Estimator fit failed. The score on this train-test partition for these parameters will be set to nan. Details: \n",
            "ValueError: Input contains NaN, infinity or a value too large for dtype('float64').\n",
            "\n",
            "  FitFailedWarning)\n",
            "/usr/local/lib/python3.6/dist-packages/sklearn/model_selection/_validation.py:536: FitFailedWarning: Estimator fit failed. The score on this train-test partition for these parameters will be set to nan. Details: \n",
            "ValueError: Input contains NaN, infinity or a value too large for dtype('float64').\n",
            "\n",
            "  FitFailedWarning)\n"
          ],
          "name": "stderr"
        },
        {
          "output_type": "stream",
          "text": [
            "spe mean cross val score: 0.7243713733075434 (+/- 0.023418220419675364)\n",
            "tsne mean cross val score: 0.7863579474342929 (+/- 0.02520886751551132)\n",
            "\n",
            "svm\n",
            "학습 전 mean cross val score: 0.696603709181932 (+/- 0.010737534270093274)\n",
            "lle mean cross val score: 0.6153999317328479 (+/- 0.021085216746697357)\n",
            "ltsa mean cross val score: nan (+/- nan)\n",
            "mlle mean cross val score: 0.6154113095915348 (+/- 0.02391976353844823)\n",
            "mds mean cross val score: 0.7959665490954603 (+/- 0.021208600218883586)\n"
          ],
          "name": "stdout"
        },
        {
          "output_type": "stream",
          "text": [
            "/usr/local/lib/python3.6/dist-packages/sklearn/model_selection/_validation.py:536: FitFailedWarning: Estimator fit failed. The score on this train-test partition for these parameters will be set to nan. Details: \n",
            "ValueError: Input contains NaN, infinity or a value too large for dtype('float64').\n",
            "\n",
            "  FitFailedWarning)\n",
            "/usr/local/lib/python3.6/dist-packages/sklearn/model_selection/_validation.py:536: FitFailedWarning: Estimator fit failed. The score on this train-test partition for these parameters will be set to nan. Details: \n",
            "ValueError: Input contains NaN, infinity or a value too large for dtype('float64').\n",
            "\n",
            "  FitFailedWarning)\n",
            "/usr/local/lib/python3.6/dist-packages/sklearn/model_selection/_validation.py:536: FitFailedWarning: Estimator fit failed. The score on this train-test partition for these parameters will be set to nan. Details: \n",
            "ValueError: Input contains NaN, infinity or a value too large for dtype('float64').\n",
            "\n",
            "  FitFailedWarning)\n",
            "/usr/local/lib/python3.6/dist-packages/sklearn/model_selection/_validation.py:536: FitFailedWarning: Estimator fit failed. The score on this train-test partition for these parameters will be set to nan. Details: \n",
            "ValueError: Input contains NaN, infinity or a value too large for dtype('float64').\n",
            "\n",
            "  FitFailedWarning)\n",
            "/usr/local/lib/python3.6/dist-packages/sklearn/model_selection/_validation.py:536: FitFailedWarning: Estimator fit failed. The score on this train-test partition for these parameters will be set to nan. Details: \n",
            "ValueError: Input contains NaN, infinity or a value too large for dtype('float64').\n",
            "\n",
            "  FitFailedWarning)\n"
          ],
          "name": "stderr"
        },
        {
          "output_type": "stream",
          "text": [
            "spe mean cross val score: 0.6164751393787689 (+/- 0.022880576782521613)\n",
            "tsne mean cross val score: 0.7853168733644329 (+/- 0.03252808018621338)\n",
            "\n",
            "decision_tree\n",
            "학습 전 mean cross val score: 0.8002332461030834 (+/- 0.019082419377604413)\n",
            "lle mean cross val score: 0.5609170554101718 (+/- 0.035106518955948046)\n",
            "ltsa mean cross val score: nan (+/- nan)\n",
            "mlle mean cross val score: 0.6154113095915348 (+/- 0.02391976353844823)\n",
            "mds mean cross val score: 0.7372454204118785 (+/- 0.03924031791172462)\n",
            "spe mean cross val score: 0.6357094094891342 (+/- 0.03952830060535068)\n"
          ],
          "name": "stdout"
        },
        {
          "output_type": "stream",
          "text": [
            "/usr/local/lib/python3.6/dist-packages/sklearn/model_selection/_validation.py:536: FitFailedWarning: Estimator fit failed. The score on this train-test partition for these parameters will be set to nan. Details: \n",
            "ValueError: Input contains NaN, infinity or a value too large for dtype('float32').\n",
            "\n",
            "  FitFailedWarning)\n",
            "/usr/local/lib/python3.6/dist-packages/sklearn/model_selection/_validation.py:536: FitFailedWarning: Estimator fit failed. The score on this train-test partition for these parameters will be set to nan. Details: \n",
            "ValueError: Input contains NaN, infinity or a value too large for dtype('float32').\n",
            "\n",
            "  FitFailedWarning)\n",
            "/usr/local/lib/python3.6/dist-packages/sklearn/model_selection/_validation.py:536: FitFailedWarning: Estimator fit failed. The score on this train-test partition for these parameters will be set to nan. Details: \n",
            "ValueError: Input contains NaN, infinity or a value too large for dtype('float32').\n",
            "\n",
            "  FitFailedWarning)\n",
            "/usr/local/lib/python3.6/dist-packages/sklearn/model_selection/_validation.py:536: FitFailedWarning: Estimator fit failed. The score on this train-test partition for these parameters will be set to nan. Details: \n",
            "ValueError: Input contains NaN, infinity or a value too large for dtype('float32').\n",
            "\n",
            "  FitFailedWarning)\n",
            "/usr/local/lib/python3.6/dist-packages/sklearn/model_selection/_validation.py:536: FitFailedWarning: Estimator fit failed. The score on this train-test partition for these parameters will be set to nan. Details: \n",
            "ValueError: Input contains NaN, infinity or a value too large for dtype('float32').\n",
            "\n",
            "  FitFailedWarning)\n"
          ],
          "name": "stderr"
        },
        {
          "output_type": "stream",
          "text": [
            "tsne mean cross val score: 0.7190351575833429 (+/- 0.016438166998416527)\n",
            "\n",
            "random_forest\n",
            "학습 전 mean cross val score: 0.8686084878825804 (+/- 0.032808694252213444)\n",
            "lle mean cross val score: 0.632517920127432 (+/- 0.034250446564232075)\n",
            "ltsa mean cross val score: nan (+/- nan)\n"
          ],
          "name": "stdout"
        },
        {
          "output_type": "stream",
          "text": [
            "/usr/local/lib/python3.6/dist-packages/sklearn/model_selection/_validation.py:536: FitFailedWarning: Estimator fit failed. The score on this train-test partition for these parameters will be set to nan. Details: \n",
            "ValueError: Input contains NaN, infinity or a value too large for dtype('float32').\n",
            "\n",
            "  FitFailedWarning)\n",
            "/usr/local/lib/python3.6/dist-packages/sklearn/model_selection/_validation.py:536: FitFailedWarning: Estimator fit failed. The score on this train-test partition for these parameters will be set to nan. Details: \n",
            "ValueError: Input contains NaN, infinity or a value too large for dtype('float32').\n",
            "\n",
            "  FitFailedWarning)\n",
            "/usr/local/lib/python3.6/dist-packages/sklearn/model_selection/_validation.py:536: FitFailedWarning: Estimator fit failed. The score on this train-test partition for these parameters will be set to nan. Details: \n",
            "ValueError: Input contains NaN, infinity or a value too large for dtype('float32').\n",
            "\n",
            "  FitFailedWarning)\n",
            "/usr/local/lib/python3.6/dist-packages/sklearn/model_selection/_validation.py:536: FitFailedWarning: Estimator fit failed. The score on this train-test partition for these parameters will be set to nan. Details: \n",
            "ValueError: Input contains NaN, infinity or a value too large for dtype('float32').\n",
            "\n",
            "  FitFailedWarning)\n",
            "/usr/local/lib/python3.6/dist-packages/sklearn/model_selection/_validation.py:536: FitFailedWarning: Estimator fit failed. The score on this train-test partition for these parameters will be set to nan. Details: \n",
            "ValueError: Input contains NaN, infinity or a value too large for dtype('float32').\n",
            "\n",
            "  FitFailedWarning)\n"
          ],
          "name": "stderr"
        },
        {
          "output_type": "stream",
          "text": [
            "mlle mean cross val score: 0.6154113095915348 (+/- 0.02391976353844823)\n",
            "mds mean cross val score: 0.8034474911821595 (+/- 0.017330910318824805)\n",
            "spe mean cross val score: 0.7115485265673002 (+/- 0.01865988250178479)\n",
            "tsne mean cross val score: 0.7949027193082261 (+/- 0.028359650002736717)\n",
            "\n"
          ],
          "name": "stdout"
        }
      ]
    },
    {
      "cell_type": "code",
      "metadata": {
        "id": "a49NSSc7Nk0i",
        "colab_type": "code",
        "colab": {}
      },
      "source": [
        "fig = plt.figure(figsize=(20,10))\n",
        "plot_s_curve(s_curve_lle, color, 121, '2d')\n",
        "plot_insurance(insurance_lle, insurance_df.target, 122, '3d')"
      ],
      "execution_count": null,
      "outputs": []
    }
  ]
}