{
  "nbformat": 4,
  "nbformat_minor": 0,
  "metadata": {
    "colab": {
      "name": "다양한 데이터에 대한 다양체 학습.ipynb",
      "provenance": [],
      "collapsed_sections": []
    },
    "kernelspec": {
      "name": "python3",
      "display_name": "Python 3"
    }
  },
  "cells": [
    {
      "cell_type": "code",
      "metadata": {
        "id": "tk3IUwbak-7w",
        "colab_type": "code",
        "colab": {}
      },
      "source": [
        "import numpy as np\n",
        "import matplotlib.pyplot as plt\n",
        "plt.style.use(['seaborn-whitegrid'])\n",
        "\n",
        "from sklearn import manifold, random_projection, datasets\n",
        "from sklearn.neighbors import KNeighborsClassifier\n",
        "from sklearn.svm import SVC\n",
        "from sklearn.tree import DecisionTreeClassifier\n",
        "from sklearn.ensemble import RandomForestClassifier\n",
        "from sklearn.model_selection import cross_val_score\n",
        "from sklearn.datasets import load_iris, load_wine"
      ],
      "execution_count": 3,
      "outputs": []
    },
    {
      "cell_type": "code",
      "metadata": {
        "id": "ps4CFBjmkLOO",
        "colab_type": "code",
        "colab": {}
      },
      "source": [
        "s_curve, color = datasets.make_s_curve(1000, random_state=0)\n",
        "knn = KNeighborsClassifier()\n",
        "svm = SVC()\n",
        "decision_tree = DecisionTreeClassifier()\n",
        "random_forest = RandomForestClassifier()"
      ],
      "execution_count": 11,
      "outputs": []
    },
    {
      "cell_type": "code",
      "metadata": {
        "id": "F1U5J9P1nmDI",
        "colab_type": "code",
        "colab": {}
      },
      "source": [
        "iris, iris_target = load_iris(return_X_y=True)\n",
        "wine, wine_target = load_wine(return_X_y=True)"
      ],
      "execution_count": 19,
      "outputs": []
    },
    {
      "cell_type": "code",
      "metadata": {
        "id": "jUtvWvkcjeam",
        "colab_type": "code",
        "colab": {
          "base_uri": "https://localhost:8080/",
          "height": 72
        },
        "outputId": "9f575cfa-9dba-433e-f937-257cbfb3a904"
      },
      "source": [
        "iris_lle = manifold.LocallyLinearEmbedding(n_neighbors=30,n_components=3,\n",
        "                                             method='standard', random_state=0).fit_transform(iris)\n",
        "iris_ltsa = manifold.LocallyLinearEmbedding(n_neighbors=30,n_components=3,\n",
        "                                             method='ltsa', random_state=0).fit_transform(iris)\n",
        "iris_hes = manifold.LocallyLinearEmbedding(n_neighbors=30,n_components=3,\n",
        "                                             method='hessian', random_state=0).fit_transform(iris)\n",
        "iris_mlle = manifold.LocallyLinearEmbedding(n_neighbors=30,n_components=3,\n",
        "                                             method='modified', random_state=0).fit_transform(iris)\n",
        "iris_mds = manifold.MDS(n_components=3, random_state=0).fit_transform(iris)\n",
        "iris_spe = manifold.SpectralEmbedding(n_components=3, random_state=0).fit_transform(iris)\n",
        "iris_tsne = manifold.TSNE(n_components=3, random_state=0).fit_transform(iris)"
      ],
      "execution_count": 17,
      "outputs": [
        {
          "output_type": "stream",
          "text": [
            "/usr/local/lib/python3.6/dist-packages/sklearn/manifold/_spectral_embedding.py:236: UserWarning: Graph is not fully connected, spectral embedding may not work as expected.\n",
            "  warnings.warn(\"Graph is not fully connected, spectral embedding\"\n"
          ],
          "name": "stderr"
        }
      ]
    },
    {
      "cell_type": "code",
      "metadata": {
        "id": "qgwp1hcsztM9",
        "colab_type": "code",
        "colab": {}
      },
      "source": [
        "wine_lle = manifold.LocallyLinearEmbedding(n_neighbors=30,n_components=3,\n",
        "                                             method='standard', random_state=0).fit_transform(wine)\n",
        "wine_ltsa = manifold.LocallyLinearEmbedding(n_neighbors=30,n_components=3,\n",
        "                                             method='ltsa', random_state=0).fit_transform(wine)\n",
        "wine_hes = manifold.LocallyLinearEmbedding(n_neighbors=30,n_components=3,\n",
        "                                             method='hessian', random_state=0).fit_transform(wine)\n",
        "wine_mlle = manifold.LocallyLinearEmbedding(n_neighbors=30,n_components=3,\n",
        "                                             method='modified', random_state=0).fit_transform(wine)\n",
        "wine_mds = manifold.MDS(n_components=3, random_state=0).fit_transform(wine)\n",
        "wine_spe = manifold.SpectralEmbedding(n_components=3, random_state=0).fit_transform(wine)\n",
        "wine_tsne = manifold.TSNE(n_components=3, random_state=0).fit_transform(wine)"
      ],
      "execution_count": 34,
      "outputs": []
    },
    {
      "cell_type": "code",
      "metadata": {
        "id": "8cmP7TTpwL35",
        "colab_type": "code",
        "colab": {
          "base_uri": "https://localhost:8080/",
          "height": 717
        },
        "outputId": "0605c5f9-a24d-40e9-dbe9-0369e1c5d099"
      },
      "source": [
        "e = [knn, svm, decision_tree, random_forest]\n",
        "h = [iris_lle,iris_ltsa,iris_hes,iris_mlle,iris_mds,iris_spe,iris_tsne]\n",
        "g = ['lle','ltsa','hes','mlle','mds','spe','tsne']\n",
        "a = ['knn', 'svm', 'decision_tree', 'random_forest']\n",
        "\n",
        "b=0\n",
        "for r in e:\n",
        "  print(a[b])\n",
        "  score = cross_val_score(\n",
        "    estimator = r,\n",
        "    X=iris, y=iris_target,\n",
        "    cv=5\n",
        "  )\n",
        "  print('학습 전 mean cross val score: {} (+/- {})'.format(score.mean(),score.std()))\n",
        "  n=0\n",
        "  for i in h:\n",
        "    score = cross_val_score(\n",
        "        estimator = r,\n",
        "        X=i, y=iris_target,\n",
        "        cv=5\n",
        "    )\n",
        "    print('{} mean cross val score: {} (+/- {})'.format(g[n],score.mean(),score.std()))\n",
        "    n += 1\n",
        "  b+=1\n",
        "  print('')\n"
      ],
      "execution_count": 40,
      "outputs": [
        {
          "output_type": "stream",
          "text": [
            "knn\n",
            "학습 전 mean cross val score: 0.9733333333333334 (+/- 0.02494438257849294)\n",
            "lle mean cross val score: 0.96 (+/- 0.024944382578492935)\n",
            "ltsa mean cross val score: 0.8733333333333333 (+/- 0.07717224601860152)\n",
            "hes mean cross val score: 0.8733333333333333 (+/- 0.07717224601860152)\n",
            "mlle mean cross val score: 0.9 (+/- 0.059628479399994376)\n",
            "mds mean cross val score: 0.9666666666666668 (+/- 0.036514837167011066)\n",
            "spe mean cross val score: 0.9533333333333334 (+/- 0.039999999999999994)\n",
            "tsne mean cross val score: 0.8666666666666668 (+/- 0.055777335102271695)\n",
            "\n",
            "svm\n",
            "학습 전 mean cross val score: 0.9666666666666666 (+/- 0.02108185106778919)\n",
            "lle mean cross val score: 0.9666666666666668 (+/- 0.029814239699997188)\n",
            "ltsa mean cross val score: 0.8733333333333334 (+/- 0.03265986323710904)\n",
            "hes mean cross val score: 0.8733333333333334 (+/- 0.03265986323710904)\n",
            "mlle mean cross val score: 0.8666666666666668 (+/- 0.059628479399994376)\n",
            "mds mean cross val score: 0.9733333333333334 (+/- 0.02494438257849294)\n",
            "spe mean cross val score: 0.9000000000000001 (+/- 0.036514837167011066)\n",
            "tsne mean cross val score: 0.8400000000000001 (+/- 0.038873012632301994)\n",
            "\n",
            "decision_tree\n",
            "학습 전 mean cross val score: 0.9600000000000002 (+/- 0.03265986323710903)\n",
            "lle mean cross val score: 0.9 (+/- 0.06324555320336757)\n",
            "ltsa mean cross val score: 0.9199999999999999 (+/- 0.04521553322083511)\n",
            "hes mean cross val score: 0.9266666666666665 (+/- 0.05333333333333332)\n",
            "mlle mean cross val score: 0.8866666666666667 (+/- 0.05811865258054231)\n",
            "mds mean cross val score: 0.9400000000000001 (+/- 0.05333333333333332)\n",
            "spe mean cross val score: 0.9066666666666668 (+/- 0.024944382578492935)\n",
            "tsne mean cross val score: 0.7266666666666667 (+/- 0.048989794855663606)\n",
            "\n",
            "random_forest\n",
            "학습 전 mean cross val score: 0.9666666666666668 (+/- 0.02108185106778919)\n",
            "lle mean cross val score: 0.9266666666666667 (+/- 0.024944382578492942)\n",
            "ltsa mean cross val score: 0.9199999999999999 (+/- 0.05416025603090639)\n",
            "hes mean cross val score: 0.9133333333333333 (+/- 0.06531972647421808)\n",
            "mlle mean cross val score: 0.9266666666666667 (+/- 0.07118052168020873)\n",
            "mds mean cross val score: 0.96 (+/- 0.024944382578492935)\n",
            "spe mean cross val score: 0.9200000000000002 (+/- 0.03399346342395189)\n",
            "tsne mean cross val score: 0.8333333333333334 (+/- 0.036514837167011066)\n",
            "\n"
          ],
          "name": "stdout"
        }
      ]
    },
    {
      "cell_type": "code",
      "metadata": {
        "id": "ns1hiGnbvZuI",
        "colab_type": "code",
        "colab": {
          "base_uri": "https://localhost:8080/",
          "height": 717
        },
        "outputId": "e92615c1-fcbc-4c39-9251-b3bfd3c4cf57"
      },
      "source": [
        "e = [knn, svm, decision_tree, random_forest]\n",
        "h = [wine_lle,wine_ltsa,wine_hes,wine_mlle,wine_mds,wine_spe,wine_tsne]\n",
        "g = ['lle','ltsa','hes','mlle','mds','spe','tsne']\n",
        "a = ['knn', 'svm', 'decision_tree', 'random_forest']\n",
        "b=0\n",
        "\n",
        "for r in e:\n",
        "  print(a[b])\n",
        "  score = cross_val_score(\n",
        "    estimator = r,\n",
        "    X=wine, y=wine_target,\n",
        "    cv=5\n",
        "  )\n",
        "  print('학습 전 mean cross val score: {} (+/- {})'.format(score.mean(),score.std()))\n",
        "  \n",
        "  n=0\n",
        "  for i in h:\n",
        "    score = cross_val_score(\n",
        "        estimator = r,\n",
        "        X=i, y=wine_target,\n",
        "        cv=5\n",
        "    )\n",
        "    print('{} mean cross val score: {} (+/- {})'.format(g[n],score.mean(),score.std()))\n",
        "    n += 1\n",
        "  b+=1\n",
        "  print('')\n"
      ],
      "execution_count": 39,
      "outputs": [
        {
          "output_type": "stream",
          "text": [
            "knn\n",
            "학습 전 mean cross val score: 0.6912698412698413 (+/- 0.04877951071049148)\n",
            "lle mean cross val score: 0.7593650793650795 (+/- 0.08175358263785427)\n",
            "ltsa mean cross val score: 0.7142857142857142 (+/- 0.0663996921920941)\n",
            "hes mean cross val score: 0.7142857142857142 (+/- 0.0663996921920941)\n",
            "mlle mean cross val score: 0.7196825396825396 (+/- 0.06830636600777565)\n",
            "mds mean cross val score: 0.6855555555555555 (+/- 0.03992434265971428)\n",
            "spe mean cross val score: 0.6403174603174604 (+/- 0.058670926801964375)\n",
            "tsne mean cross val score: 0.703015873015873 (+/- 0.06916774808141123)\n",
            "\n",
            "svm\n",
            "학습 전 mean cross val score: 0.6634920634920635 (+/- 0.04636170738133653)\n",
            "lle mean cross val score: 0.7868253968253968 (+/- 0.036609933433448226)\n",
            "ltsa mean cross val score: 0.7528571428571429 (+/- 0.032489702227303456)\n",
            "hes mean cross val score: 0.7528571428571429 (+/- 0.032489702227303456)\n",
            "mlle mean cross val score: 0.7644444444444445 (+/- 0.05356384426030822)\n",
            "mds mean cross val score: 0.703015873015873 (+/- 0.06211482470978763)\n",
            "spe mean cross val score: 0.7026984126984127 (+/- 0.042581713422127875)\n",
            "tsne mean cross val score: 0.747936507936508 (+/- 0.05854884065677527)\n",
            "\n",
            "decision_tree\n",
            "학습 전 mean cross val score: 0.8652380952380951 (+/- 0.041062973594876345)\n",
            "lle mean cross val score: 0.6857142857142857 (+/- 0.06639969219209407)\n",
            "ltsa mean cross val score: 0.7084126984126985 (+/- 0.06104737967249542)\n",
            "hes mean cross val score: 0.696984126984127 (+/- 0.05299876161457227)\n",
            "mlle mean cross val score: 0.7252380952380951 (+/- 0.04536018057013781)\n",
            "mds mean cross val score: 0.6752380952380952 (+/- 0.09165398799146295)\n",
            "spe mean cross val score: 0.6406349206349207 (+/- 0.06197269369992149)\n",
            "tsne mean cross val score: 0.6182539682539683 (+/- 0.0715800862164636)\n",
            "\n",
            "random_forest\n",
            "학습 전 mean cross val score: 0.9665079365079364 (+/- 0.032368500562618134)\n",
            "lle mean cross val score: 0.7363492063492063 (+/- 0.08335736614905506)\n",
            "ltsa mean cross val score: 0.7138095238095239 (+/- 0.06172460557781201)\n",
            "hes mean cross val score: 0.7141269841269842 (+/- 0.07232314595038886)\n",
            "mlle mean cross val score: 0.714126984126984 (+/- 0.06207221957878286)\n",
            "mds mean cross val score: 0.6807936507936508 (+/- 0.08661839460356364)\n",
            "spe mean cross val score: 0.6406349206349206 (+/- 0.08211950438693513)\n",
            "tsne mean cross val score: 0.6582539682539683 (+/- 0.07816167002839444)\n",
            "\n"
          ],
          "name": "stdout"
        }
      ]
    }
  ]
}