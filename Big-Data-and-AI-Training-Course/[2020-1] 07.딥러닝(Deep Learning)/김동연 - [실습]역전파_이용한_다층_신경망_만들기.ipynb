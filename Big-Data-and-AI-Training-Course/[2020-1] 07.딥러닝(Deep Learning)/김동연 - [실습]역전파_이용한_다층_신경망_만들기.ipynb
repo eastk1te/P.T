{
  "nbformat": 4,
  "nbformat_minor": 0,
  "metadata": {
    "colab": {
      "name": "역전파 이용한 다층 신경망 만들기.ipynb",
      "provenance": []
    },
    "kernelspec": {
      "name": "python3",
      "display_name": "Python 3"
    }
  },
  "cells": [
    {
      "cell_type": "code",
      "metadata": {
        "id": "ZKtAhkm4J2Z3",
        "colab_type": "code",
        "colab": {}
      },
      "source": [
        "import tensorflow as tf\n",
        "import numpy as np\n",
        "import matplotlib.pyplot as plt\n",
        "plt.style.use(['seaborn-whitegrid'])\n",
        "from collections import OrderedDict"
      ],
      "execution_count": 5,
      "outputs": []
    },
    {
      "cell_type": "markdown",
      "metadata": {
        "id": "F1_2_jGMKGiT",
        "colab_type": "text"
      },
      "source": [
        "#### 데이터 로드"
      ]
    },
    {
      "cell_type": "code",
      "metadata": {
        "id": "S3SQq80sJ8mR",
        "colab_type": "code",
        "colab": {}
      },
      "source": [
        "np.random.seed(111)\n",
        "\n",
        "mnist = tf.keras.datasets.mnist\n",
        "\n",
        "(X_train, y_train), (X_test, y_test) = mnist.load_data()\n",
        "\n",
        "num_classes = 10"
      ],
      "execution_count": 6,
      "outputs": []
    },
    {
      "cell_type": "markdown",
      "metadata": {
        "id": "mv_pjKdxKKIy",
        "colab_type": "text"
      },
      "source": [
        "#### 데이터 전처리"
      ]
    },
    {
      "cell_type": "code",
      "metadata": {
        "id": "B95lI86tKIyY",
        "colab_type": "code",
        "colab": {}
      },
      "source": [
        "X_train, X_test = X_train.reshape(-1, 28*28).astype(np.float32), X_test.reshape(-1, 28*28).astype(np.float32)\n",
        "\n",
        "X_train /= .255\n",
        "X_test /= .255\n",
        "\n",
        "y_train = np.eye(num_classes)[y_train]"
      ],
      "execution_count": 7,
      "outputs": []
    },
    {
      "cell_type": "markdown",
      "metadata": {
        "id": "Oye4pC82KPbg",
        "colab_type": "text"
      },
      "source": [
        "#### Hyper Parameters"
      ]
    },
    {
      "cell_type": "code",
      "metadata": {
        "id": "rFeXORJjKM7s",
        "colab_type": "code",
        "colab": {}
      },
      "source": [
        "epochs = 1000\n",
        "learning_rate = 1e-3\n",
        "batch_size = 100\n",
        "train_size = X_train.shape[0]"
      ],
      "execution_count": 16,
      "outputs": []
    },
    {
      "cell_type": "markdown",
      "metadata": {
        "id": "cIdzuyRDKSm0",
        "colab_type": "text"
      },
      "source": [
        "#### Util Functions"
      ]
    },
    {
      "cell_type": "code",
      "metadata": {
        "id": "8E2_fN1dKRzv",
        "colab_type": "code",
        "colab": {}
      },
      "source": [
        "def softmax(x):\n",
        "  if x.ndim == 2:\n",
        "    x = x.T\n",
        "    x = x - np.max(x, axis=0)\n",
        "    y = np.exp(x) / np.sum(np.exp(x), axis=0)\n",
        "    return y.T\n",
        "\n",
        "  x = x - np.max(x)\n",
        "  return np.exp(x) / np.sum(np.exp(x))\n",
        "\n",
        "def mean_squared_error(pred_y, true_y):\n",
        "  return 0.5 * np.sum((pred_y - true_y)**2)\n",
        "\n",
        "def cross_entropy_error(pred_y, true_y):\n",
        "  if pred_y.ndim == 1:\n",
        "    true_y = true_y.reshape(1,true_y.size)\n",
        "    pred_y = pred_y.reshape(1,pred_y.size)\n",
        "  \n",
        "  if true_y.size == pred_y.size:\n",
        "    true_y = true_y.argmax(axis=1)\n",
        "\n",
        "  batch_size = pred_y.shape[0]\n",
        "  return -np.sum(np.log(pred_y[np.arange(batch_size), true_y] + 1e-7)) / batch_size\n",
        "\n",
        "def softmax_loss(X, true_y):\n",
        "  pred_y = softmax(X)\n",
        "  return cross_entropy_error(pred_y, true_y)\n"
      ],
      "execution_count": 17,
      "outputs": []
    },
    {
      "cell_type": "markdown",
      "metadata": {
        "id": "SBvWUNh-KY2R",
        "colab_type": "text"
      },
      "source": [
        "#### Util Classes"
      ]
    },
    {
      "cell_type": "markdown",
      "metadata": {
        "id": "rc0sLXWJs8Dq",
        "colab_type": "text"
      },
      "source": [
        "##### ReLU"
      ]
    },
    {
      "cell_type": "code",
      "metadata": {
        "id": "ej2m6Robs-uJ",
        "colab_type": "code",
        "colab": {}
      },
      "source": [
        "class ReLU():\n",
        "\n",
        "  def __init__(self):\n",
        "    self.out = None\n",
        "\n",
        "  def forward(self,x):\n",
        "    self.mask = (x < 0)\n",
        "    out = x.copy()\n",
        "    out[x<0] = 0\n",
        "    return out\n",
        "\n",
        "  def backward(self,dout):\n",
        "    dout[self.mask] = 0\n",
        "    dx = dout\n",
        "    return dx"
      ],
      "execution_count": 18,
      "outputs": []
    },
    {
      "cell_type": "markdown",
      "metadata": {
        "id": "RucLfG0EtYcf",
        "colab_type": "text"
      },
      "source": [
        "##### Sigmoid"
      ]
    },
    {
      "cell_type": "code",
      "metadata": {
        "id": "PltcdoGvX5hY",
        "colab_type": "code",
        "colab": {}
      },
      "source": [
        "class Sigmoid():\n",
        "\n",
        "  def __init__(self):\n",
        "    self.out = None\n",
        "\n",
        "  def forward(self,x):\n",
        "    out = 1 / ( 1 + np.exp(-x))\n",
        "    self.out = out\n",
        "    return out\n",
        "\n",
        "  def backward(self,dout):\n",
        "    dx = dout * (1.0 - self.out) * self.out\n",
        "    return dx"
      ],
      "execution_count": 61,
      "outputs": []
    },
    {
      "cell_type": "markdown",
      "metadata": {
        "id": "IZZeNtd-tuM5",
        "colab_type": "text"
      },
      "source": [
        "##### Layer"
      ]
    },
    {
      "cell_type": "code",
      "metadata": {
        "id": "NEcCZ4bFtzgq",
        "colab_type": "code",
        "colab": {}
      },
      "source": [
        "class Layer():\n",
        "\n",
        "  def __init__(self, W, b):\n",
        "    self.W = W\n",
        "    self.b = b\n",
        "\n",
        "    self.x = None\n",
        "    self.origin_x_shape = None\n",
        "\n",
        "    self.dL_dW = None\n",
        "    self.dL_db = None\n",
        "\n",
        "  def forward(self,x):\n",
        "    self.origin_x_shape = x.shape\n",
        "\n",
        "    x = x.reshape(x.shape[0], -1)\n",
        "    self.x = x\n",
        "\n",
        "    out = np.dot(self.x, self.W) + self.b\n",
        "    return out\n",
        "  def backward(self,dout):\n",
        "    dx = np.dot(dout, self.W.T)\n",
        "    self.dL_dW = np.dot(self.x.T,dout)\n",
        "    self.dL_db = np.sum(dout, axis=0)\n",
        "    dx = dx.reshape(*self.origin_x_shape)\n",
        "    return dx"
      ],
      "execution_count": 62,
      "outputs": []
    },
    {
      "cell_type": "markdown",
      "metadata": {
        "id": "s1Yqp7kVvOoD",
        "colab_type": "text"
      },
      "source": [
        "#### Softmax"
      ]
    },
    {
      "cell_type": "code",
      "metadata": {
        "id": "0RXBVEMdvP9r",
        "colab_type": "code",
        "colab": {}
      },
      "source": [
        "class SoftMax():\n",
        "  def __init__(self):\n",
        "    self.loss = None\n",
        "    self.y = None\n",
        "    self.t = None\n",
        "\n",
        "  def forward(self,x,t):\n",
        "    self.t = t\n",
        "    self.y = softmax(x)\n",
        "    self.loss = cross_entropy_error(self.y, self.t)\n",
        "\n",
        "    return self.loss\n",
        "\n",
        "  def backward(self,dout=1):\n",
        "    batch_size = self.t.shape[0]\n",
        "\n",
        "    if self.t.size == self.y.size:\n",
        "      dx = (self.y - self.t) / batch_size\n",
        "    else:\n",
        "      dx = self.y.copu()\n",
        "      dx[np.arange(batch_size), self.t] -= 1\n",
        "      dx = dx / batch_size\n",
        "\n",
        "    return dx"
      ],
      "execution_count": 63,
      "outputs": []
    },
    {
      "cell_type": "code",
      "metadata": {
        "id": "sX4I-bKfuRaq",
        "colab_type": "code",
        "colab": {}
      },
      "source": [
        "class MyModel():\n",
        "\n",
        "  def __init__(self, input_size, hidden_size_list, output_size, activation='relu'):\n",
        "    self.input_size = input_size\n",
        "    self.output_size = output_size\n",
        "    self.hidden_size_list = hidden_size_list\n",
        "    self.hidden_layer_num = len(hidden_size_list)\n",
        "    self.params = {}\n",
        "\n",
        "    self.__init_weights(activation)\n",
        "\n",
        "    activation_layer = {'sigmoid':Sigmoid,'relu':ReLU}\n",
        "    self.layers = OrderedDict()\n",
        "    for idx in range(1, self.hidden_layer_num + 1):\n",
        "      self.layers['Layer' + str(idx)] = Layer(self.params['W' + str(idx)], self.params['b'+str(idx)])\n",
        "      self.layers['Actiavation_function' + str(idx)] = activation_layer[activation]()\n",
        "\n",
        "    idx = self.hidden_layer_num + 1\n",
        "\n",
        "    self.layers['Layer' + str(idx)] = Layer(self.params['W' + str(idx)], self.params['b' + str(idx)])\n",
        "    self.last_layer = SoftMax()\n",
        "\n",
        "  def __init_weights(self, activation):\n",
        "    weight_std = None\n",
        "    all_size_list = [self.input_size] + self.hidden_size_list + [self.output_size]\n",
        "    for idx in range(1, len(all_size_list)):\n",
        "      if activation.lower() == 'relu':\n",
        "        weight_std = np.sqrt(2.0 / self.input_size)\n",
        "      elif activation.lower() == 'sigmoid':\n",
        "        weight_std = np.sqrt(1.0 / self.input_size)\n",
        "      self.params['W' + str(idx)] = weight_std * np.random.randn(all_size_list[idx-1], all_size_list[idx])\n",
        "      self.params['b' + str(idx)] = np.random.randn(all_size_list[idx])\n",
        "\n",
        "  def predict(self, x):\n",
        "    for layer in self.layers.values():\n",
        "      x = layer.forward(x)\n",
        "\n",
        "    return x\n",
        "\n",
        "  def loss(self, x, true_y):\n",
        "    pred_y = self.predict(x)\n",
        "\n",
        "    return self.last_layer.forward(pred_y, true_y)\n",
        "\n",
        "  def accuracy(self, x, true_y):\n",
        "    pred_y = self.predict(x)\n",
        "    pred_y = np.argmax(pred_y, axis=1)\n",
        "\n",
        "    if true_y.ndim != 1:\n",
        "      true_y = np.argmax(true_y, axis=1)\n",
        "    \n",
        "    accuracy = np.sum(pred_y == true_y) / float(x.shape[0])\n",
        "    return accuracy\n",
        "\n",
        "  def gradient(self, x, t):\n",
        "    self.loss(x,t)\n",
        "\n",
        "    dout = 1\n",
        "    dout = self.last_layer.backward(dout)\n",
        "\n",
        "    layers = list(self.layers.values())\n",
        "    layers.reverse()\n",
        "    for layer in layers:\n",
        "      dout = layer.backward(dout)\n",
        "    \n",
        "    grads = {}\n",
        "    for idx in range(1, self.hidden_layer_num + 2):\n",
        "      grads['W' + str(idx)] = self.layers['Layer' + str(idx)].dL_dW\n",
        "      grads['b' + str(idx)] = self.layers['Layer' + str(idx)].dL_db\n",
        "    return grads"
      ],
      "execution_count": 64,
      "outputs": []
    },
    {
      "cell_type": "markdown",
      "metadata": {
        "id": "LwyNo3TsyDZR",
        "colab_type": "text"
      },
      "source": [
        "#relu"
      ]
    },
    {
      "cell_type": "code",
      "metadata": {
        "id": "7kQnX25aZRRz",
        "colab_type": "code",
        "colab": {
          "base_uri": "https://localhost:8080/",
          "height": 367
        },
        "outputId": "46695d42-2b77-4688-c8d5-66f4e014858b"
      },
      "source": [
        "model = MyModel(28*28, [200,200,200,200,200],10,activation='relu')\n",
        "\n",
        "train_loss_list = []\n",
        "train_acc_list = []\n",
        "test_acc_list = []\n",
        "\n",
        "for epoch in range(epochs):\n",
        "  batch_mask = np.random.choice(train_size, batch_size)\n",
        "  x_batch = X_train[batch_mask]\n",
        "  y_batch = y_train[batch_mask]\n",
        "\n",
        "  grad = model.gradient(x_batch, y_batch)\n",
        "\n",
        "  for key in model.params.keys():\n",
        "    model.params[key] -= learning_rate * grad[key]\n",
        "  \n",
        "  loss = model.loss(x_batch, y_batch)\n",
        "  train_loss_list.append(loss)\n",
        "\n",
        "  if epoch % 50 == 0:\n",
        "    train_acc = model.accuracy(X_train, y_train)\n",
        "    test_acc = model.accuracy(X_test, y_test)\n",
        "    train_acc_list.append(train_acc)\n",
        "    test_acc_list.append(test_acc)\n",
        "    print('Epoch: {}, Train Accuracy: {:.4f}, Test Accuracy: {:.4f}'.format(epoch+1, train_acc,test_acc))"
      ],
      "execution_count": 26,
      "outputs": [
        {
          "output_type": "stream",
          "text": [
            "Epoch: 1, Train Accuracy: 0.1156, Test Accuracy: 0.1145\n",
            "Epoch: 51, Train Accuracy: 0.6688, Test Accuracy: 0.6766\n",
            "Epoch: 101, Train Accuracy: 0.7637, Test Accuracy: 0.7643\n",
            "Epoch: 151, Train Accuracy: 0.8012, Test Accuracy: 0.8020\n",
            "Epoch: 201, Train Accuracy: 0.8128, Test Accuracy: 0.8094\n",
            "Epoch: 251, Train Accuracy: 0.8347, Test Accuracy: 0.8324\n",
            "Epoch: 301, Train Accuracy: 0.8437, Test Accuracy: 0.8388\n",
            "Epoch: 351, Train Accuracy: 0.8622, Test Accuracy: 0.8548\n",
            "Epoch: 401, Train Accuracy: 0.8644, Test Accuracy: 0.8589\n",
            "Epoch: 451, Train Accuracy: 0.8752, Test Accuracy: 0.8691\n",
            "Epoch: 501, Train Accuracy: 0.8834, Test Accuracy: 0.8780\n",
            "Epoch: 551, Train Accuracy: 0.8877, Test Accuracy: 0.8840\n",
            "Epoch: 601, Train Accuracy: 0.8921, Test Accuracy: 0.8873\n",
            "Epoch: 651, Train Accuracy: 0.8942, Test Accuracy: 0.8866\n",
            "Epoch: 701, Train Accuracy: 0.8951, Test Accuracy: 0.8893\n",
            "Epoch: 751, Train Accuracy: 0.9014, Test Accuracy: 0.8919\n",
            "Epoch: 801, Train Accuracy: 0.9044, Test Accuracy: 0.8927\n",
            "Epoch: 851, Train Accuracy: 0.9088, Test Accuracy: 0.8986\n",
            "Epoch: 901, Train Accuracy: 0.9095, Test Accuracy: 0.8992\n",
            "Epoch: 951, Train Accuracy: 0.9152, Test Accuracy: 0.9019\n"
          ],
          "name": "stdout"
        }
      ]
    },
    {
      "cell_type": "code",
      "metadata": {
        "id": "3PdC3hFrZA4T",
        "colab_type": "code",
        "colab": {
          "base_uri": "https://localhost:8080/",
          "height": 367
        },
        "outputId": "ea4363ee-f209-48ee-b988-3ebca758c9e6"
      },
      "source": [
        "model = MyModel(28*28, [100,100,100,100,100],10,activation='relu')\n",
        "\n",
        "train_loss_list = []\n",
        "train_acc_list = []\n",
        "test_acc_list = []\n",
        "\n",
        "for epoch in range(epochs):\n",
        "  batch_mask = np.random.choice(train_size, batch_size)\n",
        "  x_batch = X_train[batch_mask]\n",
        "  y_batch = y_train[batch_mask]\n",
        "\n",
        "  grad = model.gradient(x_batch, y_batch)\n",
        "\n",
        "  for key in model.params.keys():\n",
        "    model.params[key] -= learning_rate * grad[key]\n",
        "  \n",
        "  loss = model.loss(x_batch, y_batch)\n",
        "  train_loss_list.append(loss)\n",
        "\n",
        "  if epoch % 50 == 0:\n",
        "    train_acc = model.accuracy(X_train, y_train)\n",
        "    test_acc = model.accuracy(X_test, y_test)\n",
        "    train_acc_list.append(train_acc)\n",
        "    test_acc_list.append(test_acc)\n",
        "    print('Epoch: {}, Train Accuracy: {:.4f}, Test Accuracy: {:.4f}'.format(epoch+1, train_acc,test_acc))"
      ],
      "execution_count": 25,
      "outputs": [
        {
          "output_type": "stream",
          "text": [
            "Epoch: 1, Train Accuracy: 0.0938, Test Accuracy: 0.0936\n",
            "Epoch: 51, Train Accuracy: 0.5484, Test Accuracy: 0.5500\n",
            "Epoch: 101, Train Accuracy: 0.6764, Test Accuracy: 0.6819\n",
            "Epoch: 151, Train Accuracy: 0.7320, Test Accuracy: 0.7416\n",
            "Epoch: 201, Train Accuracy: 0.7822, Test Accuracy: 0.7912\n",
            "Epoch: 251, Train Accuracy: 0.8063, Test Accuracy: 0.8134\n",
            "Epoch: 301, Train Accuracy: 0.8203, Test Accuracy: 0.8274\n",
            "Epoch: 351, Train Accuracy: 0.8283, Test Accuracy: 0.8338\n",
            "Epoch: 401, Train Accuracy: 0.8428, Test Accuracy: 0.8511\n",
            "Epoch: 451, Train Accuracy: 0.8517, Test Accuracy: 0.8548\n",
            "Epoch: 501, Train Accuracy: 0.8551, Test Accuracy: 0.8567\n",
            "Epoch: 551, Train Accuracy: 0.8515, Test Accuracy: 0.8540\n",
            "Epoch: 601, Train Accuracy: 0.8683, Test Accuracy: 0.8699\n",
            "Epoch: 651, Train Accuracy: 0.8643, Test Accuracy: 0.8668\n",
            "Epoch: 701, Train Accuracy: 0.8703, Test Accuracy: 0.8722\n",
            "Epoch: 751, Train Accuracy: 0.8803, Test Accuracy: 0.8815\n",
            "Epoch: 801, Train Accuracy: 0.8759, Test Accuracy: 0.8766\n",
            "Epoch: 851, Train Accuracy: 0.8914, Test Accuracy: 0.8916\n",
            "Epoch: 901, Train Accuracy: 0.8881, Test Accuracy: 0.8882\n",
            "Epoch: 951, Train Accuracy: 0.8871, Test Accuracy: 0.8877\n"
          ],
          "name": "stdout"
        }
      ]
    },
    {
      "cell_type": "code",
      "metadata": {
        "id": "J4jT_LWRZjZJ",
        "colab_type": "code",
        "colab": {
          "base_uri": "https://localhost:8080/",
          "height": 367
        },
        "outputId": "6082f0f6-790e-4793-d4ec-4585018e0a35"
      },
      "source": [
        "model = MyModel(28*28, [200,200,200,200],10,activation='relu')\n",
        "\n",
        "train_loss_list = []\n",
        "train_acc_list = []\n",
        "test_acc_list = []\n",
        "\n",
        "for epoch in range(epochs):\n",
        "  batch_mask = np.random.choice(train_size, batch_size)\n",
        "  x_batch = X_train[batch_mask]\n",
        "  y_batch = y_train[batch_mask]\n",
        "\n",
        "  grad = model.gradient(x_batch, y_batch)\n",
        "\n",
        "  for key in model.params.keys():\n",
        "    model.params[key] -= learning_rate * grad[key]\n",
        "  \n",
        "  loss = model.loss(x_batch, y_batch)\n",
        "  train_loss_list.append(loss)\n",
        "\n",
        "  if epoch % 50 == 0:\n",
        "    train_acc = model.accuracy(X_train, y_train)\n",
        "    test_acc = model.accuracy(X_test, y_test)\n",
        "    train_acc_list.append(train_acc)\n",
        "    test_acc_list.append(test_acc)\n",
        "    print('Epoch: {}, Train Accuracy: {:.4f}, Test Accuracy: {:.4f}'.format(epoch+1, train_acc,test_acc))"
      ],
      "execution_count": 27,
      "outputs": [
        {
          "output_type": "stream",
          "text": [
            "Epoch: 1, Train Accuracy: 0.0974, Test Accuracy: 0.0960\n",
            "Epoch: 51, Train Accuracy: 0.6857, Test Accuracy: 0.6823\n",
            "Epoch: 101, Train Accuracy: 0.7732, Test Accuracy: 0.7786\n",
            "Epoch: 151, Train Accuracy: 0.8016, Test Accuracy: 0.8025\n",
            "Epoch: 201, Train Accuracy: 0.8246, Test Accuracy: 0.8309\n",
            "Epoch: 251, Train Accuracy: 0.8283, Test Accuracy: 0.8308\n",
            "Epoch: 301, Train Accuracy: 0.8544, Test Accuracy: 0.8558\n",
            "Epoch: 351, Train Accuracy: 0.8634, Test Accuracy: 0.8602\n",
            "Epoch: 401, Train Accuracy: 0.8662, Test Accuracy: 0.8613\n",
            "Epoch: 451, Train Accuracy: 0.8787, Test Accuracy: 0.8760\n",
            "Epoch: 501, Train Accuracy: 0.8827, Test Accuracy: 0.8787\n",
            "Epoch: 551, Train Accuracy: 0.8866, Test Accuracy: 0.8823\n",
            "Epoch: 601, Train Accuracy: 0.8923, Test Accuracy: 0.8862\n",
            "Epoch: 651, Train Accuracy: 0.8976, Test Accuracy: 0.8906\n",
            "Epoch: 701, Train Accuracy: 0.8991, Test Accuracy: 0.8914\n",
            "Epoch: 751, Train Accuracy: 0.9031, Test Accuracy: 0.8977\n",
            "Epoch: 801, Train Accuracy: 0.9080, Test Accuracy: 0.8993\n",
            "Epoch: 851, Train Accuracy: 0.9081, Test Accuracy: 0.8988\n",
            "Epoch: 901, Train Accuracy: 0.9117, Test Accuracy: 0.9052\n",
            "Epoch: 951, Train Accuracy: 0.9150, Test Accuracy: 0.9079\n"
          ],
          "name": "stdout"
        }
      ]
    },
    {
      "cell_type": "code",
      "metadata": {
        "id": "rJ0iRsiVZj13",
        "colab_type": "code",
        "colab": {
          "base_uri": "https://localhost:8080/",
          "height": 367
        },
        "outputId": "57586348-4601-4bbf-a010-d0de26492640"
      },
      "source": [
        "model = MyModel(28*28, [100,100,100,100],10,activation='relu')\n",
        "\n",
        "train_loss_list = []\n",
        "train_acc_list = []\n",
        "test_acc_list = []\n",
        "\n",
        "for epoch in range(epochs):\n",
        "  batch_mask = np.random.choice(train_size, batch_size)\n",
        "  x_batch = X_train[batch_mask]\n",
        "  y_batch = y_train[batch_mask]\n",
        "\n",
        "  grad = model.gradient(x_batch, y_batch)\n",
        "\n",
        "  for key in model.params.keys():\n",
        "    model.params[key] -= learning_rate * grad[key]\n",
        "  \n",
        "  loss = model.loss(x_batch, y_batch)\n",
        "  train_loss_list.append(loss)\n",
        "\n",
        "  if epoch % 50 == 0:\n",
        "    train_acc = model.accuracy(X_train, y_train)\n",
        "    test_acc = model.accuracy(X_test, y_test)\n",
        "    train_acc_list.append(train_acc)\n",
        "    test_acc_list.append(test_acc)\n",
        "    print('Epoch: {}, Train Accuracy: {:.4f}, Test Accuracy: {:.4f}'.format(epoch+1, train_acc,test_acc))"
      ],
      "execution_count": 28,
      "outputs": [
        {
          "output_type": "stream",
          "text": [
            "Epoch: 1, Train Accuracy: 0.1147, Test Accuracy: 0.1165\n",
            "Epoch: 51, Train Accuracy: 0.5857, Test Accuracy: 0.5926\n",
            "Epoch: 101, Train Accuracy: 0.7022, Test Accuracy: 0.7048\n",
            "Epoch: 151, Train Accuracy: 0.7520, Test Accuracy: 0.7508\n",
            "Epoch: 201, Train Accuracy: 0.7722, Test Accuracy: 0.7714\n",
            "Epoch: 251, Train Accuracy: 0.8057, Test Accuracy: 0.8021\n",
            "Epoch: 301, Train Accuracy: 0.8237, Test Accuracy: 0.8196\n",
            "Epoch: 351, Train Accuracy: 0.8360, Test Accuracy: 0.8403\n",
            "Epoch: 401, Train Accuracy: 0.8472, Test Accuracy: 0.8437\n",
            "Epoch: 451, Train Accuracy: 0.8542, Test Accuracy: 0.8544\n",
            "Epoch: 501, Train Accuracy: 0.8603, Test Accuracy: 0.8603\n",
            "Epoch: 551, Train Accuracy: 0.8662, Test Accuracy: 0.8635\n",
            "Epoch: 601, Train Accuracy: 0.8711, Test Accuracy: 0.8717\n",
            "Epoch: 651, Train Accuracy: 0.8786, Test Accuracy: 0.8775\n",
            "Epoch: 701, Train Accuracy: 0.8807, Test Accuracy: 0.8793\n",
            "Epoch: 751, Train Accuracy: 0.8810, Test Accuracy: 0.8775\n",
            "Epoch: 801, Train Accuracy: 0.8876, Test Accuracy: 0.8839\n",
            "Epoch: 851, Train Accuracy: 0.8894, Test Accuracy: 0.8850\n",
            "Epoch: 901, Train Accuracy: 0.8919, Test Accuracy: 0.8900\n",
            "Epoch: 951, Train Accuracy: 0.8967, Test Accuracy: 0.8969\n"
          ],
          "name": "stdout"
        }
      ]
    },
    {
      "cell_type": "markdown",
      "metadata": {
        "id": "GYuj1UrqgVdw",
        "colab_type": "text"
      },
      "source": [
        "#sigmoid"
      ]
    },
    {
      "cell_type": "code",
      "metadata": {
        "id": "GUwkcCgLZoSR",
        "colab_type": "code",
        "colab": {
          "base_uri": "https://localhost:8080/",
          "height": 402
        },
        "outputId": "507d0875-5a64-44c9-d225-f925030978cc"
      },
      "source": [
        "model = MyModel(28*28, [200,200,200,200,200],10,activation='sigmoid')\n",
        "\n",
        "train_loss_list = []\n",
        "train_acc_list = []\n",
        "test_acc_list = []\n",
        "\n",
        "for epoch in range(epochs):\n",
        "  batch_mask = np.random.choice(train_size, batch_size)\n",
        "  x_batch = X_train[batch_mask]\n",
        "  y_batch = y_train[batch_mask]\n",
        "\n",
        "  grad = model.gradient(x_batch, y_batch)\n",
        "\n",
        "  for key in model.params.keys():\n",
        "    model.params[key] -= learning_rate * grad[key]\n",
        "  \n",
        "  loss = model.loss(x_batch, y_batch)\n",
        "  train_loss_list.append(loss)\n",
        "\n",
        "  if epoch % 50 == 0:\n",
        "    train_acc = model.accuracy(X_train, y_train)\n",
        "    test_acc = model.accuracy(X_test, y_test)\n",
        "    train_acc_list.append(train_acc)\n",
        "    test_acc_list.append(test_acc)\n",
        "    print('Epoch: {}, Train Accuracy: {:.4f}, Test Accuracy: {:.4f}'.format(epoch+1, train_acc,test_acc))"
      ],
      "execution_count": 65,
      "outputs": [
        {
          "output_type": "stream",
          "text": [
            "/usr/local/lib/python3.6/dist-packages/ipykernel_launcher.py:7: RuntimeWarning: overflow encountered in exp\n",
            "  import sys\n"
          ],
          "name": "stderr"
        },
        {
          "output_type": "stream",
          "text": [
            "Epoch: 1, Train Accuracy: 0.0986, Test Accuracy: 0.0958\n",
            "Epoch: 51, Train Accuracy: 0.0986, Test Accuracy: 0.0958\n",
            "Epoch: 101, Train Accuracy: 0.0986, Test Accuracy: 0.0958\n",
            "Epoch: 151, Train Accuracy: 0.0986, Test Accuracy: 0.0958\n",
            "Epoch: 201, Train Accuracy: 0.0986, Test Accuracy: 0.0958\n",
            "Epoch: 251, Train Accuracy: 0.0986, Test Accuracy: 0.0958\n",
            "Epoch: 301, Train Accuracy: 0.0986, Test Accuracy: 0.0958\n",
            "Epoch: 351, Train Accuracy: 0.0986, Test Accuracy: 0.0958\n",
            "Epoch: 401, Train Accuracy: 0.1022, Test Accuracy: 0.1010\n",
            "Epoch: 451, Train Accuracy: 0.1022, Test Accuracy: 0.1010\n",
            "Epoch: 501, Train Accuracy: 0.1022, Test Accuracy: 0.1010\n",
            "Epoch: 551, Train Accuracy: 0.1022, Test Accuracy: 0.1010\n",
            "Epoch: 601, Train Accuracy: 0.1022, Test Accuracy: 0.1010\n",
            "Epoch: 651, Train Accuracy: 0.1022, Test Accuracy: 0.1010\n",
            "Epoch: 701, Train Accuracy: 0.1022, Test Accuracy: 0.1010\n",
            "Epoch: 751, Train Accuracy: 0.1124, Test Accuracy: 0.1135\n",
            "Epoch: 801, Train Accuracy: 0.1124, Test Accuracy: 0.1135\n",
            "Epoch: 851, Train Accuracy: 0.1124, Test Accuracy: 0.1135\n",
            "Epoch: 901, Train Accuracy: 0.1124, Test Accuracy: 0.1135\n",
            "Epoch: 951, Train Accuracy: 0.1124, Test Accuracy: 0.1135\n"
          ],
          "name": "stdout"
        }
      ]
    },
    {
      "cell_type": "code",
      "metadata": {
        "id": "Fs74veOoZokG",
        "colab_type": "code",
        "colab": {
          "base_uri": "https://localhost:8080/",
          "height": 402
        },
        "outputId": "b06cdc7e-7d64-48d7-a588-325ec388be81"
      },
      "source": [
        "model = MyModel(28*28, [100,100,100,100,100],10,activation='sigmoid')\n",
        "\n",
        "train_loss_list = []\n",
        "train_acc_list = []\n",
        "test_acc_list = []\n",
        "\n",
        "for epoch in range(epochs):\n",
        "  batch_mask = np.random.choice(train_size, batch_size)\n",
        "  x_batch = X_train[batch_mask]\n",
        "  y_batch = y_train[batch_mask]\n",
        "\n",
        "  grad = model.gradient(x_batch, y_batch)\n",
        "\n",
        "  for key in model.params.keys():\n",
        "    model.params[key] -= learning_rate * grad[key]\n",
        "  \n",
        "  loss = model.loss(x_batch, y_batch)\n",
        "  train_loss_list.append(loss)\n",
        "\n",
        "  if epoch % 50 == 0:\n",
        "    train_acc = model.accuracy(X_train, y_train)\n",
        "    test_acc = model.accuracy(X_test, y_test)\n",
        "    train_acc_list.append(train_acc)\n",
        "    test_acc_list.append(test_acc)\n",
        "    print('Epoch: {}, Train Accuracy: {:.4f}, Test Accuracy: {:.4f}'.format(epoch+1, train_acc,test_acc))"
      ],
      "execution_count": 66,
      "outputs": [
        {
          "output_type": "stream",
          "text": [
            "/usr/local/lib/python3.6/dist-packages/ipykernel_launcher.py:7: RuntimeWarning: overflow encountered in exp\n",
            "  import sys\n"
          ],
          "name": "stderr"
        },
        {
          "output_type": "stream",
          "text": [
            "Epoch: 1, Train Accuracy: 0.1044, Test Accuracy: 0.1028\n",
            "Epoch: 51, Train Accuracy: 0.1044, Test Accuracy: 0.1028\n",
            "Epoch: 101, Train Accuracy: 0.1044, Test Accuracy: 0.1028\n",
            "Epoch: 151, Train Accuracy: 0.1044, Test Accuracy: 0.1028\n",
            "Epoch: 201, Train Accuracy: 0.1044, Test Accuracy: 0.1028\n",
            "Epoch: 251, Train Accuracy: 0.1044, Test Accuracy: 0.1028\n",
            "Epoch: 301, Train Accuracy: 0.1044, Test Accuracy: 0.1028\n",
            "Epoch: 351, Train Accuracy: 0.1044, Test Accuracy: 0.1028\n",
            "Epoch: 401, Train Accuracy: 0.1044, Test Accuracy: 0.1028\n",
            "Epoch: 451, Train Accuracy: 0.1044, Test Accuracy: 0.1028\n",
            "Epoch: 501, Train Accuracy: 0.1044, Test Accuracy: 0.1028\n",
            "Epoch: 551, Train Accuracy: 0.1044, Test Accuracy: 0.1028\n",
            "Epoch: 601, Train Accuracy: 0.1044, Test Accuracy: 0.1028\n",
            "Epoch: 651, Train Accuracy: 0.1044, Test Accuracy: 0.1028\n",
            "Epoch: 701, Train Accuracy: 0.1044, Test Accuracy: 0.1028\n",
            "Epoch: 751, Train Accuracy: 0.1044, Test Accuracy: 0.1028\n",
            "Epoch: 801, Train Accuracy: 0.1044, Test Accuracy: 0.1028\n",
            "Epoch: 851, Train Accuracy: 0.1044, Test Accuracy: 0.1028\n",
            "Epoch: 901, Train Accuracy: 0.1124, Test Accuracy: 0.1135\n",
            "Epoch: 951, Train Accuracy: 0.1124, Test Accuracy: 0.1135\n"
          ],
          "name": "stdout"
        }
      ]
    },
    {
      "cell_type": "code",
      "metadata": {
        "id": "EysB_OQ3Zo0B",
        "colab_type": "code",
        "colab": {
          "base_uri": "https://localhost:8080/",
          "height": 402
        },
        "outputId": "c9ab31f9-ee54-452a-b8d4-f38fa33396c3"
      },
      "source": [
        "model = MyModel(28*28, [200,200,200,200],10,activation='sigmoid')\n",
        "\n",
        "train_loss_list = []\n",
        "train_acc_list = []\n",
        "test_acc_list = []\n",
        "\n",
        "for epoch in range(epochs):\n",
        "  batch_mask = np.random.choice(train_size, batch_size)\n",
        "  x_batch = X_train[batch_mask]\n",
        "  y_batch = y_train[batch_mask]\n",
        "\n",
        "  grad = model.gradient(x_batch, y_batch)\n",
        "\n",
        "  for key in model.params.keys():\n",
        "    model.params[key] -= learning_rate * grad[key]\n",
        "  \n",
        "  loss = model.loss(x_batch, y_batch)\n",
        "  train_loss_list.append(loss)\n",
        "\n",
        "  if epoch % 50 == 0:\n",
        "    train_acc = model.accuracy(X_train, y_train)\n",
        "    test_acc = model.accuracy(X_test, y_test)\n",
        "    train_acc_list.append(train_acc)\n",
        "    test_acc_list.append(test_acc)\n",
        "    print('Epoch: {}, Train Accuracy: {:.4f}, Test Accuracy: {:.4f}'.format(epoch+1, train_acc,test_acc))"
      ],
      "execution_count": 67,
      "outputs": [
        {
          "output_type": "stream",
          "text": [
            "/usr/local/lib/python3.6/dist-packages/ipykernel_launcher.py:7: RuntimeWarning: overflow encountered in exp\n",
            "  import sys\n"
          ],
          "name": "stderr"
        },
        {
          "output_type": "stream",
          "text": [
            "Epoch: 1, Train Accuracy: 0.0992, Test Accuracy: 0.1009\n",
            "Epoch: 51, Train Accuracy: 0.0992, Test Accuracy: 0.1009\n",
            "Epoch: 101, Train Accuracy: 0.0992, Test Accuracy: 0.1009\n",
            "Epoch: 151, Train Accuracy: 0.0992, Test Accuracy: 0.1009\n",
            "Epoch: 201, Train Accuracy: 0.0992, Test Accuracy: 0.1009\n",
            "Epoch: 251, Train Accuracy: 0.0992, Test Accuracy: 0.1009\n",
            "Epoch: 301, Train Accuracy: 0.1124, Test Accuracy: 0.1135\n",
            "Epoch: 351, Train Accuracy: 0.1124, Test Accuracy: 0.1135\n",
            "Epoch: 401, Train Accuracy: 0.1124, Test Accuracy: 0.1135\n",
            "Epoch: 451, Train Accuracy: 0.1124, Test Accuracy: 0.1135\n",
            "Epoch: 501, Train Accuracy: 0.1124, Test Accuracy: 0.1135\n",
            "Epoch: 551, Train Accuracy: 0.1124, Test Accuracy: 0.1135\n",
            "Epoch: 601, Train Accuracy: 0.1124, Test Accuracy: 0.1135\n",
            "Epoch: 651, Train Accuracy: 0.1124, Test Accuracy: 0.1135\n",
            "Epoch: 701, Train Accuracy: 0.1124, Test Accuracy: 0.1135\n",
            "Epoch: 751, Train Accuracy: 0.1124, Test Accuracy: 0.1135\n",
            "Epoch: 801, Train Accuracy: 0.1124, Test Accuracy: 0.1135\n",
            "Epoch: 851, Train Accuracy: 0.1124, Test Accuracy: 0.1135\n",
            "Epoch: 901, Train Accuracy: 0.1124, Test Accuracy: 0.1135\n",
            "Epoch: 951, Train Accuracy: 0.1124, Test Accuracy: 0.1135\n"
          ],
          "name": "stdout"
        }
      ]
    },
    {
      "cell_type": "code",
      "metadata": {
        "id": "fOdmv1eTZpH2",
        "colab_type": "code",
        "colab": {
          "base_uri": "https://localhost:8080/",
          "height": 402
        },
        "outputId": "b730878f-fdeb-446b-e025-06015fcc1fd3"
      },
      "source": [
        "model = MyModel(28*28, [100,100,100,100],10,activation='sigmoid')\n",
        "\n",
        "train_loss_list = []\n",
        "train_acc_list = []\n",
        "test_acc_list = []\n",
        "\n",
        "for epoch in range(epochs):\n",
        "  batch_mask = np.random.choice(train_size, batch_size)\n",
        "  x_batch = X_train[batch_mask]\n",
        "  y_batch = y_train[batch_mask]\n",
        "\n",
        "  grad = model.gradient(x_batch, y_batch)\n",
        "\n",
        "  for key in model.params.keys():\n",
        "    model.params[key] -= learning_rate * grad[key]\n",
        "  \n",
        "  loss = model.loss(x_batch, y_batch)\n",
        "  train_loss_list.append(loss)\n",
        "\n",
        "  if epoch % 50 == 0:\n",
        "    train_acc = model.accuracy(X_train, y_train)\n",
        "    test_acc = model.accuracy(X_test, y_test)\n",
        "    train_acc_list.append(train_acc)\n",
        "    test_acc_list.append(test_acc)\n",
        "    print('Epoch: {}, Train Accuracy: {:.4f}, Test Accuracy: {:.4f}'.format(epoch+1, train_acc,test_acc))"
      ],
      "execution_count": 68,
      "outputs": [
        {
          "output_type": "stream",
          "text": [
            "/usr/local/lib/python3.6/dist-packages/ipykernel_launcher.py:7: RuntimeWarning: overflow encountered in exp\n",
            "  import sys\n"
          ],
          "name": "stderr"
        },
        {
          "output_type": "stream",
          "text": [
            "Epoch: 1, Train Accuracy: 0.0903, Test Accuracy: 0.0892\n",
            "Epoch: 51, Train Accuracy: 0.0903, Test Accuracy: 0.0892\n",
            "Epoch: 101, Train Accuracy: 0.0903, Test Accuracy: 0.0892\n",
            "Epoch: 151, Train Accuracy: 0.1022, Test Accuracy: 0.1010\n",
            "Epoch: 201, Train Accuracy: 0.1022, Test Accuracy: 0.1010\n",
            "Epoch: 251, Train Accuracy: 0.0979, Test Accuracy: 0.0968\n",
            "Epoch: 301, Train Accuracy: 0.1022, Test Accuracy: 0.1010\n",
            "Epoch: 351, Train Accuracy: 0.1022, Test Accuracy: 0.1010\n",
            "Epoch: 401, Train Accuracy: 0.1022, Test Accuracy: 0.1010\n",
            "Epoch: 451, Train Accuracy: 0.1022, Test Accuracy: 0.1010\n",
            "Epoch: 501, Train Accuracy: 0.1022, Test Accuracy: 0.1010\n",
            "Epoch: 551, Train Accuracy: 0.1022, Test Accuracy: 0.1010\n",
            "Epoch: 601, Train Accuracy: 0.1022, Test Accuracy: 0.1010\n",
            "Epoch: 651, Train Accuracy: 0.1022, Test Accuracy: 0.1010\n",
            "Epoch: 701, Train Accuracy: 0.1022, Test Accuracy: 0.1010\n",
            "Epoch: 751, Train Accuracy: 0.1022, Test Accuracy: 0.1010\n",
            "Epoch: 801, Train Accuracy: 0.1022, Test Accuracy: 0.1010\n",
            "Epoch: 851, Train Accuracy: 0.1022, Test Accuracy: 0.1010\n",
            "Epoch: 901, Train Accuracy: 0.1022, Test Accuracy: 0.1010\n",
            "Epoch: 951, Train Accuracy: 0.1022, Test Accuracy: 0.1010\n"
          ],
          "name": "stdout"
        }
      ]
    }
  ]
}