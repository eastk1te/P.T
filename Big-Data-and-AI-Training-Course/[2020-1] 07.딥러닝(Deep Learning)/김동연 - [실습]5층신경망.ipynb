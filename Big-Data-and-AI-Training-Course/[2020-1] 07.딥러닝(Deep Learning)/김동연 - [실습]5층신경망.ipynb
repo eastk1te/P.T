{
  "nbformat": 4,
  "nbformat_minor": 0,
  "metadata": {
    "colab": {
      "name": "5층신경망.ipynb",
      "provenance": []
    },
    "kernelspec": {
      "name": "python3",
      "display_name": "Python 3"
    }
  },
  "cells": [
    {
      "cell_type": "code",
      "metadata": {
        "id": "ReUrhm_HU9k6",
        "colab_type": "code",
        "colab": {}
      },
      "source": [
        "import numpy as np\n",
        "from collections import OrderedDict"
      ],
      "execution_count": 2,
      "outputs": []
    },
    {
      "cell_type": "code",
      "metadata": {
        "id": "zQvVLCGepAgS",
        "colab_type": "code",
        "colab": {}
      },
      "source": [
        "def sigmoid(X):\n",
        "  return 1 / ( 1 + np.exp(-X))"
      ],
      "execution_count": 78,
      "outputs": []
    },
    {
      "cell_type": "code",
      "metadata": {
        "id": "u_KlLxh5UutU",
        "colab_type": "code",
        "colab": {
          "base_uri": "https://localhost:8080/",
          "height": 199
        },
        "outputId": "044fca80-2fdc-4ab3-99eb-f0250214abf0"
      },
      "source": [
        "class model:\n",
        "  def network():\n",
        "    network = OrderedDict()\n",
        "    network['W1'] = np.random.randn(3,3)\n",
        "    network['W2'] = np.random.randn(3,3)\n",
        "    network['W3'] = np.random.randn(3,3)\n",
        "    network['W4'] = np.random.randn(3,2)\n",
        "    network['W5'] = np.random.randn(2,2)\n",
        "\n",
        "    network['B1'] = np.array([1,1,1])\n",
        "    network['B2'] = np.array([1,1,1])\n",
        "    network['B3'] = np.array([1,1,1])\n",
        "    network['B4'] = np.array([1,1])\n",
        "    network['B5'] = np.array([1,1])\n",
        "    return network\n",
        "\n",
        "\n",
        "  def forward(network,X):\n",
        "    W1,W2,W3,W4,W5 = network['W1'],network['W2'],network['W3'],network['W4'],network['W5']\n",
        "    B1,B2,B3,B4,B5 = network['B1'],network['B2'],network['B3'],network['B4'],network['B5']\n",
        "\n",
        "    A1 = np.dot(X,W1) + B1\n",
        "    print(A1)\n",
        "    Z1 = sigmoid(A1)\n",
        "    print(Z1)\n",
        "    \n",
        "    A2 = np.dot(Z1,W2) + B2\n",
        "    print(A2)\n",
        "    Z2 = sigmoid(A2)\n",
        "    \n",
        "    A3 = np.dot(Z2,W3) + B3\n",
        "    print(A3)\n",
        "    Z3 = sigmoid(A3)\n",
        "    \n",
        "    A4 = np.dot(Z3,W4) + B4\n",
        "    print(A4)\n",
        "    Z4 = sigmoid(A4)\n",
        "\n",
        "    A5 = np.dot(Z4,W5) + B5\n",
        "    print(A5)\n",
        "    y = sigmoid(A5)\n",
        "    return y\n",
        "\n",
        "  net = network()\n",
        "  X = np.array([0.3,1.3,-2.2])\n",
        "  print(X)\n",
        "  print('------------')\n",
        "  y = forward(net,X)\n",
        "  print('---------')\n",
        "  print(y)"
      ],
      "execution_count": 94,
      "outputs": [
        {
          "output_type": "stream",
          "text": [
            "[ 0.3  1.3 -2.2]\n",
            "------------\n",
            "[ 3.62533098  0.41136888 -4.3066853 ]\n",
            "[0.97405101 0.60141607 0.01329891]\n",
            "[-0.02324939  0.36624546  0.07111518]\n",
            "[1.5494941  2.30445414 0.95762762]\n",
            "[-2.7130728   0.51015249]\n",
            "[1.3658275  1.33979409]\n",
            "---------\n",
            "[0.79670519 0.79245608]\n"
          ],
          "name": "stdout"
        }
      ]
    }
  ]
}