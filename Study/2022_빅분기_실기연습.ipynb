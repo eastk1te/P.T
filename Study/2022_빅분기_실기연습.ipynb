{
  "nbformat": 4,
  "nbformat_minor": 0,
  "metadata": {
    "colab": {
      "name": "2022_빅분기_실기연습.ipynb",
      "provenance": [],
      "collapsed_sections": [],
      "authorship_tag": "ABX9TyOqL0FYtj8WRAJP+JrcWz1S",
      "include_colab_link": true
    },
    "kernelspec": {
      "name": "python3",
      "display_name": "Python 3"
    },
    "language_info": {
      "name": "python"
    }
  },
  "cells": [
    {
      "cell_type": "markdown",
      "metadata": {
        "id": "view-in-github",
        "colab_type": "text"
      },
      "source": [
        "<a href=\"https://colab.research.google.com/github/tjy2202/P.T/blob/main/Study/2022_%EB%B9%85%EB%B6%84%EA%B8%B0_%EC%8B%A4%EA%B8%B0%EC%97%B0%EC%8A%B5.ipynb\" target=\"_parent\"><img src=\"https://colab.research.google.com/assets/colab-badge.svg\" alt=\"Open In Colab\"/></a>"
      ]
    },
    {
      "cell_type": "code",
      "source": [
        "군집을 합칠때 사용하는 가중평균 -> 중심연결법\n",
        "계층적 군집분석 중에서 군집내 편차들의 제곱합을 사용하여 군집들을 병합시키는 방법은?\n",
        "답 : 와드연결법(Ward linkage)\n",
        "\n",
        "집계(Aggregation) : 그룹화 연산을 데이터에 적용\n",
        "\n",
        "데이터의 양이 적을 경우에는 의도적으로 기존의 데이터를 조금씩 변형하고 추가하여 데이터의 양을 늘리기도 하는데 이를 무엇이라고 하는가?\n",
        "답: 데이터 증강(Data Augmentation)\n",
        "\n",
        "SVM에서 완벽한 분리가 불가능할때 선형적으로 분류를 위해 허용된 오차를 위한 변수는 무엇이라고 하는가\n",
        "정답) 슬랙변수\n",
        "\n",
        "여러 개의 약한 학습기(weak learner)를 순차적으로 학습-예측하면서 잘못 예측한 데이터에 가중치를 부여해 오류를 개선해나가며 학습하는 방식\t\n",
        "부스팅\n",
        "\n",
        "학습모형중 경사하강법과 모멘텀을 합친 방법은?\n",
        "답: adam\n",
        "\n",
        "상관분석은 데이터 안의 두 변수 간의 관계를 알아보기 위해 사용한다. 두변수 간의 상관관계를 알아보기 위해 상관계수를 이용한다. 상관계수 중 서열척도인 변수간의 상관관계를 측정하는데 사용하는 상관계수는?\n",
        "정답 :스피어만 상관계수\n",
        "\n",
        "Bootstrap Aggregation의 약자이다. 샘플을 여러 번 뽑아(Bootstrap) 각 모델을 학습시켜 결과물을 집계(Aggregration)하는 방법이다.\t\n",
        "배깅(Bagging)\n",
        "\n",
        "귀무가설이 실제로 참이지만, 이에 불구하고 귀무가설을 기각하는 오류는?\n",
        "답: 1종 오류\n",
        "\n",
        "대용량 실시간 로그 처리를 위해 기존 메시징 시스템과 유사하게 레코드 스트림을 발행,구독하는 방식의 분산 스트리밍 플랫폼 기술? \n",
        "아파치 카프카\n",
        "\n",
        "개체들과 그 개체가 속하는 클러스터의 중심과의 평균 유칼리드 거리를 최소화하는 분할 클러스터링 알고리즘은?\n",
        "답) K-means 알고리즘\n",
        "\n",
        "기존 신경망의 문제점을 해결하는 방법 중 일정 비율의 뉴런을 임의로 삭제하여 학습에서 배제하는 방법은?\n",
        "답) 드롭아웃\n",
        "\n",
        "배깅의 개념과 속성의 임의선택을 결합한 앙상블 기법 예측변수들을 임의로 추출하고 추출된 변수 내에서 최적의 분할을 만들어나가는 방법을 사용하는 방식의 모델은? \n",
        "랜덤포레스트\n",
        "\n",
        "인공신경망에서 계산 결과와 실제값의 차이가 작아지도록 출력에서 입력 방향으로 가중치를 수정하는 방법.\n",
        "답: 오차역전파\n",
        "\n",
        "두 개 이상의 서로 다른 집단의 분산 값을 비교하여 만들어진 F분포로 가설을 검정하는 방법.\n",
        "답: ANOVA(분산 분석)\n",
        "\n",
        "데이터의 실제값과 모델의 예측값의 차이를 나타내는 지표. MSE, Cross Entropy등이 있다.\n",
        "답: 손실함수(Loss Function)\n",
        "\n",
        "주어진 데이터에서 마진을 최대화 하는 초평면을 구하는 방법으로 학습하는 알고리즘은? \n",
        "SVM\n",
        "\n",
        "처음 k개 중에서 임의로 하나의 단위를 추출하고, 이후 k번째 간격마다 하나씩 단위를 추출하여 표본을 구성하는 방법\n",
        "답) k계통추출법\n",
        "\n",
        "개체들을 유사성 또는 비유사성을 이용해 저차원에 점으로 표현하여 개체들 사이의 집단화를 시각화 하는 분석방법\n",
        "답: 다차원척도법(MDS)\n",
        "\n",
        "하둡의 맵리듀스 처리부분을 새롭게 만든 자원 관리 플랫폼, 리소스 매니저와 노드 매니저로 구성\n",
        "얀\n",
        "\n",
        "분류분석의 혼동행렬 평가지표 중, Positive로 예측한 것 중 실제로 Positive인 것을 나타내는 지표는 무엇인가?\n",
        "답 : 정밀도(Precision)\n",
        "\n",
        "다중회귀분석에서 설명변수들 사이에 선형관계가 존재하면 회귀계수의 정확한 추정이 난해해지는 성질\n",
        "다중공선성\n",
        "\n",
        "분석모형중 목표값이 없는 모델의 기준이 될수 있는 지표는?\n",
        "답 : 던지수, 실루엣계수\n",
        "\n",
        "연관성 분석중 하나로 시간의 개념을 포함시켜 순차적으로 구매 가능성이 큰 상품군을 찾아내는 분석 방법은?\n",
        "순차패턴 (Sequence Analysis)\n",
        "\n",
        "인공신경망 모델에서 입력신호의 총합을 출력신호로 변환하는 함수로, 입력받은 신호를 얼마나 출력할지 결정하고, 다음 단계에서 출력된 신호의 활성화 여부를 결정하는 함수\n",
        "활성화 함수 (Activation Function)\n",
        "\n",
        "저차원에서 함수의 계산만으로 원하는 풀이가 가능한 커널함수를 이용하여 고차원 공간으로 매핑할 경우에 증가하는 연산량의 문제를 해결하는 기법\n",
        "서포트 벡터 머신(SVM; Support Vector Machine)\n",
        "\n",
        "\n",
        "모델의 일반화 오차에 대해 신뢰할만한 추정치를 구하기 위해 훈련, 평가 데이터를 기반으로 하는 검증 기법\n",
        "교차검증(Cross Validation)\n",
        "\n",
        "분석모델에서 구한 분류의 예측 범주와 데이터의 실제 분류 범주를 교차표(Cross Table)형태로 정리한 행렬\n",
        "혼동행렬(Confusion Matrix)\n",
        "\n",
        "제1주성분에서 제k주성분까지의 주성분을 이용하여 설명할 수 있는 데이터의 전체 정보량의 비율\n",
        "주성분 기여율(Principal component contribution rate)\n",
        "\n",
        "\n",
        "현재 노드 위치와 먼 과거 상태를 사용한 문맥 처리가 어려운 문제\n",
        "장기의존성문제(the problems of long-term dependencies)\n",
        "\n",
        "\n",
        "이미지 추출시 왜곡 변형 같은 환경변화에 잘 적응하는 강인한 특징을 유도한 2차원 맵\n",
        "피처맵 (Feature Map)\n",
        "\n",
        "\n",
        "다중공선성을 측정하는 지표로 알려져 있으며, 독립 변수간 상관 관계가 있는지 정량적으로 나타내는 용어\n",
        "ㄴ 분산팽창요인\n",
        "\n",
        "\n",
        "상관관계가 있는 변수들을 결합하여 분산을 극대화 하는 성분을 만드는 방법\tPCA\n",
        "대표적인 차원축소 방법 가운데 하나로, 데이터 전체의 변동을 최대한 보존하는 방법은?\tPCA\n",
        "\n",
        "\n",
        "개별 알고리즘의 예측 결과 dataset을 최종적인 메타 dataset으로 만들어 별도 ML 알고리즘으로 최종 학습을 수행하고 테스트 데이터를 기반으로 다시 최종 예측을 수행하는 방식이다. 개별 모델의 예측된 dataset을 기반으로 학습하고 예측하는 방식을 메타 모델이라고 한다.\t\n",
        "스태킹(Stacking)\n",
        "\n",
        "현재의 상태(State)에서 어떤 행동(Action)을 취하는 것이 최적인지를 학습하는 것이다. 행동을 취할 때마다 외부 환경에서 보상(Reward)이 주어지는데, 이러한 보상을 최대화 하는 방향으로 학습한다.\t\n",
        "강화학습\n",
        "\n",
        "트랜스포머(transformer) 네트워크에서 self attention을 사용했을때의 이점은?\n",
        "답) layer간 계산복잡도 감소, 계산시 병렬 가능, path length 감소\n",
        "\n",
        "\n",
        "표준편차를 평균으로 나눈 것으로, 자료의 단위가 다른 두 집단 간의 산포를 비교할 때 가장 적합한 측도는?\n",
        "답) 변동계수\n",
        "\n",
        "\n",
        "\n",
        "정규성 또는 정상성을 만족하지 않는 데이터의 분포를 정규분포에 가깝게 만들거나 분산을 안정시키는 데이터 전처리 기법으로\n",
        "모든 데이터가 양수로 표현됐을 때만 사용가능한 기법은? Box-Cox(박스-칵스)변환\n",
        "데이터가 실수 범위인 경우 사용가능한 기법은? Yeo-Johnson(여 존슨)변환\n",
        "\n",
        "=================================================================================================================================\n",
        "3회 기출(출처 : https://ha2juo.tistory.com/10)\n",
        "\n",
        "연관성 분석에서 규칙이 우연히 나타난것이 아님을 확인하기 위한 척도\n",
        "답 : 향상도(리프트, Lift)\n",
        "\n",
        "그룹화를 의미하는 데이터 변환을 뭐라하는가(예시 : 일별 매출건수를 그룹화하여 월별 매출건수, 분기별 매출건수로 변환)\n",
        "답 : 총계 처리\n",
        "\n",
        "최대최소정규화의 경우 단점이 존재함 A학교 영어 성적 점수가 60점과 B학교 영어 성적 점수 60점의 경우 ( )이/가 상이한 점을 알수없음???\n",
        "답 : 분포(평균, 분산 등을 고민하다 분포를 적음)\n",
        "\n",
        "마지막 은닉층2개의 값 [0.2, -0.3] ,  첫번째 은닉층과 출력층 간 가중치 0.3, 두번쨰 은닉층과 출력층 간 가중치 0.1 , bias 0.1, 출력층 1개 출력값 (이번에는 2회와 다르게 조건이 없음)\n",
        "(빅데이터분석기사 실기 2회 문제 : 마지막 은닉층2개의 값 [0.2, -0.3] ,  가중치 [0.3, 0.1] , bias -0.05, 출력층 1개, f(x) = x , if x >= 0 , 그외 -1 일때 )\n",
        "답 : 0.13  ( 0.2 * 0.3 + ( -0.3 * 0.1) + 0.1)\n",
        "\n",
        "순서형이 아닌 명명된 이름의 척도\n",
        "답 : 범주형   -> 명목형 (책 다시보니 명목형이 정답인듯.. 문제에서 순서형 외인것을 명시했는데 왜그랬을까요..ㅜㅜ)\n",
        "\n",
        "군집분석에서 ( ) 기반의 ~~~?\n",
        "답 : 거리??\n",
        "\n",
        "분포를 모를때 0-1 사이의 값으로 정규화하는 방법으로 \n",
        "답 : 최대최소정규화(minmaxsclear)\n",
        "\n",
        "여러가지 동일한 종류 또는 상이한 모형의 예측/분류 결과를 종합하는\n",
        "답 : 앙상블 \n",
        "\n",
        "군집간 거리, 군집을 합칠때 사용하는 가중평균을 사용하는 방법은???? \n",
        "답 : 유클리디안??  (뭔지몰라서 그냥 적은.. 유클리디안)   ->  평균연결법????\n",
        "\n",
        "회귀, 분류 둘다 사용가능하며 지도학습 알고리즘으로 구부하는 경계와 데이터와 멀수록(최대일경우) 가장 좋은 모델로 선정하는 알고리즘은\n",
        "답 : SVM\n",
        "\n",
        "\n",
        "=================================================================================================================================\n",
        "2회 기출 출처 : https://ha2juo.tistory.com/5\n",
        "\n",
        "데이터 전처리 단계에서 발견하는 값으로 기존 값들과 상이한 값?? 답 : 이상치\n",
        "\n",
        "정답지, label이 없다, 대표적분석에 군집분석, 인공신경망, 해당 기법을 뭐라하는가?? 답 : 비지도학습\n",
        "\n",
        "모델을 생성시 사용자가 직접 변경해줘야하는 것이 무엇일까요?? 답 : 하이퍼파라미터\n",
        "\n",
        "마지막 은닉층2개의 값 [02, -03] ,  가중치 [03, 0.1] , bias -0.05, 출력층 1개 f(x) = x , if x >= 0 , 그외 -1 일때 답 : -1\n",
        "\n",
        "결측값을 대치 하는 방법 중 평균값을 사용해 대치하는 방법은?? 답 : 평균대치법\n",
        "\n",
        "변수 선택 방법 중 모든 변수를 활용해 하나씩 제거해 가는 방법은?? 답 : 후진제거법\n",
        "\n",
        "모델의 학습에서는 정확도가 높게 나오지만 테스트 셋에서는 정확도가 낮게 나오는 것을 무엇이라하는가??  답 : 오버피팅\n",
        "\n",
        "앙상블 기법 중 부스팅 종류, 약학습기??  답 : gbm(Gradient boosting)\n",
        "\n",
        "모델 학습시 잘못된 결과에 대해 가중치를 반영해 모델을 생성하는 방법??  답 : 부스팅 \n",
        "\n",
        "TPR , FPR 로 그려서 확인하는 곡선은  답 : ROC곡선"
      ],
      "metadata": {
        "id": "xTll6BlzOw09"
      },
      "execution_count": null,
      "outputs": []
    },
    {
      "cell_type": "markdown",
      "source": [
        "# 실기 연습 문제"
      ],
      "metadata": {
        "id": "TtfvTEH7OxkM"
      }
    },
    {
      "cell_type": "code",
      "source": [
        "\n",
        "# 필답형 : 여러 명의 사용자들이 컴퓨터에 저장된 많은 자료들을 쉽고 빠르게 조회, 추가, 수정, 삭제할 수 있도록 해주는 소프트웨어는 무엇인가?\n",
        "데이터 베이스\n",
        "\n",
        "# 작업 1형 : mtcars 데이터셋(data/mtcars.csv)의 qsec 컬럼을 최소최대 척도(Min-Max Scale)로 변환한 후 0.5보다 큰 값을 가지는 레코드 수 구하기\n",
        "import pandas as pd\n",
        "a = pd.read_csv('data/mtcars.csv', index_col=0)\n",
        "from sklearn.preprocessing import MinMaxScaler\n",
        "\n",
        "scaler = MinMaxScaler()\n",
        "df = pd.DataFrame(a.qsec)\n",
        "d = scaler.fit_transform(df)\n",
        "print(len(d[d > 0.5]))\n",
        "\n",
        "# 작업 2형\n",
        "import pandas as pd\n",
        "X_test = pd.read_csv(\"data/X_test.csv\")\n",
        "X_train = pd.read_csv(\"data/X_train.csv\")\n",
        "y_train = pd.read_csv(\"data/y_train.csv\")\n",
        "\n",
        "\n",
        "X_train.환불금액 = X_train.환불금액.fillna(0)\n",
        "X_test.환불금액 = X_test.환불금액.fillna(0)\n",
        "\n",
        "\n",
        "X_train = X_train.iloc[:,1:]\n",
        "X_test = X_test.iloc[:,1:]\n",
        "y_train = y_train.iloc[:,1:]\n",
        "\n",
        "from sklearn.preprocessing import LabelEncoder\n",
        "le = LabelEncoder()\n",
        "X_train.주구매상품 = le.fit_transform(X_train.주구매상품)\n",
        "X_train.주구매지점 = le.fit_transform(X_train.주구매지점)\n",
        "X_test.주구매상품 = le.fit_transform(X_test.주구매상품)\n",
        "X_test.주구매지점 = le.fit_transform(X_test.주구매지점)\n",
        "\n",
        "from sklearn.model_selection import train_test_split\n",
        "train_x, val_x, train_y, val_y = train_test_split(X_train, y_train, random_state=1)\n",
        "\n",
        "from sklearn.ensemble import RandomForestClassifier\n",
        "lr = RandomForestClassifier()\n",
        "lr.fit(train_x, train_y.values.ravel())\n",
        "print('RandomForestClassifier Accuracy : ', lr.score(train_x, train_y))\n",
        "print('RandomForestClassifier Accuracy : ', lr.score(val_x, val_y))\n",
        "\n",
        "from sklearn.metrics import roc_auc_score\n",
        "\n",
        "train_pred = lr.predict_proba(train_x)[:,1]\n",
        "val_pred  = lr.predict_proba(val_x)[:,1]\n",
        "print(roc_auc_score(train_y, train_pred))\n",
        "print(roc_auc_score(val_y, val_pred))\n",
        "\n",
        "from xgboost import XGBClassifier\n",
        "lr = XGBClassifier()\n",
        "lr.fit(train_x, train_y)\n",
        "print('RandomForestClassifier Accuracy : ', lr.score(val_x, val_y))\n",
        "\n",
        "from sklearn.metrics import roc_auc_score\n",
        "\n",
        "val_pred  = lr.predict_proba(val_x)[:,1]\n",
        "print(roc_auc_score(val_y, val_pred))"
      ],
      "metadata": {
        "id": "aHW-ZGiacqqZ"
      },
      "execution_count": null,
      "outputs": []
    },
    {
      "cell_type": "markdown",
      "source": [
        "# 실기 모의고사 1회\n",
        " - https://www.datamanim.com/dataset/practice/q1.html"
      ],
      "metadata": {
        "id": "fZX1wuXfRe-4"
      }
    },
    {
      "cell_type": "markdown",
      "source": [
        "작업 1형"
      ],
      "metadata": {
        "id": "_9ck5t6ZI7b_"
      }
    },
    {
      "cell_type": "code",
      "execution_count": null,
      "metadata": {
        "colab": {
          "base_uri": "https://localhost:8080/",
          "height": 270
        },
        "id": "Ds-732WsRJQf",
        "outputId": "fa3df360-9534-49f3-8b59-5cd5ccec5ca1"
      },
      "outputs": [
        {
          "output_type": "execute_result",
          "data": {
            "text/plain": [
              "      ID  age         job  marital  education default  balance housing loan  \\\n",
              "0  13829   29  technician   single   tertiary      no    18254      no   no   \n",
              "1  22677   26    services   single  secondary      no      512     yes  yes   \n",
              "2  10541   30  management   single  secondary      no      135      no   no   \n",
              "3  13689   41  technician  married    unknown      no       30     yes   no   \n",
              "4  11304   27      admin.   single  secondary      no      321      no  yes   \n",
              "\n",
              "    contact  day month  campaign  pdays  previous poutcome   y  \n",
              "0  cellular   11   may         2     -1         0  unknown  no  \n",
              "1   unknown    5   jun         3     -1         0  unknown  no  \n",
              "2  cellular   14   aug         2     -1         0  unknown  no  \n",
              "3  cellular   10   jul         1     -1         0  unknown  no  \n",
              "4   unknown    2   sep         1     -1         0  unknown  no  "
            ],
            "text/html": [
              "\n",
              "  <div id=\"df-f57d3a86-d258-4c8f-9da9-f6d6f7e4e747\">\n",
              "    <div class=\"colab-df-container\">\n",
              "      <div>\n",
              "<style scoped>\n",
              "    .dataframe tbody tr th:only-of-type {\n",
              "        vertical-align: middle;\n",
              "    }\n",
              "\n",
              "    .dataframe tbody tr th {\n",
              "        vertical-align: top;\n",
              "    }\n",
              "\n",
              "    .dataframe thead th {\n",
              "        text-align: right;\n",
              "    }\n",
              "</style>\n",
              "<table border=\"1\" class=\"dataframe\">\n",
              "  <thead>\n",
              "    <tr style=\"text-align: right;\">\n",
              "      <th></th>\n",
              "      <th>ID</th>\n",
              "      <th>age</th>\n",
              "      <th>job</th>\n",
              "      <th>marital</th>\n",
              "      <th>education</th>\n",
              "      <th>default</th>\n",
              "      <th>balance</th>\n",
              "      <th>housing</th>\n",
              "      <th>loan</th>\n",
              "      <th>contact</th>\n",
              "      <th>day</th>\n",
              "      <th>month</th>\n",
              "      <th>campaign</th>\n",
              "      <th>pdays</th>\n",
              "      <th>previous</th>\n",
              "      <th>poutcome</th>\n",
              "      <th>y</th>\n",
              "    </tr>\n",
              "  </thead>\n",
              "  <tbody>\n",
              "    <tr>\n",
              "      <th>0</th>\n",
              "      <td>13829</td>\n",
              "      <td>29</td>\n",
              "      <td>technician</td>\n",
              "      <td>single</td>\n",
              "      <td>tertiary</td>\n",
              "      <td>no</td>\n",
              "      <td>18254</td>\n",
              "      <td>no</td>\n",
              "      <td>no</td>\n",
              "      <td>cellular</td>\n",
              "      <td>11</td>\n",
              "      <td>may</td>\n",
              "      <td>2</td>\n",
              "      <td>-1</td>\n",
              "      <td>0</td>\n",
              "      <td>unknown</td>\n",
              "      <td>no</td>\n",
              "    </tr>\n",
              "    <tr>\n",
              "      <th>1</th>\n",
              "      <td>22677</td>\n",
              "      <td>26</td>\n",
              "      <td>services</td>\n",
              "      <td>single</td>\n",
              "      <td>secondary</td>\n",
              "      <td>no</td>\n",
              "      <td>512</td>\n",
              "      <td>yes</td>\n",
              "      <td>yes</td>\n",
              "      <td>unknown</td>\n",
              "      <td>5</td>\n",
              "      <td>jun</td>\n",
              "      <td>3</td>\n",
              "      <td>-1</td>\n",
              "      <td>0</td>\n",
              "      <td>unknown</td>\n",
              "      <td>no</td>\n",
              "    </tr>\n",
              "    <tr>\n",
              "      <th>2</th>\n",
              "      <td>10541</td>\n",
              "      <td>30</td>\n",
              "      <td>management</td>\n",
              "      <td>single</td>\n",
              "      <td>secondary</td>\n",
              "      <td>no</td>\n",
              "      <td>135</td>\n",
              "      <td>no</td>\n",
              "      <td>no</td>\n",
              "      <td>cellular</td>\n",
              "      <td>14</td>\n",
              "      <td>aug</td>\n",
              "      <td>2</td>\n",
              "      <td>-1</td>\n",
              "      <td>0</td>\n",
              "      <td>unknown</td>\n",
              "      <td>no</td>\n",
              "    </tr>\n",
              "    <tr>\n",
              "      <th>3</th>\n",
              "      <td>13689</td>\n",
              "      <td>41</td>\n",
              "      <td>technician</td>\n",
              "      <td>married</td>\n",
              "      <td>unknown</td>\n",
              "      <td>no</td>\n",
              "      <td>30</td>\n",
              "      <td>yes</td>\n",
              "      <td>no</td>\n",
              "      <td>cellular</td>\n",
              "      <td>10</td>\n",
              "      <td>jul</td>\n",
              "      <td>1</td>\n",
              "      <td>-1</td>\n",
              "      <td>0</td>\n",
              "      <td>unknown</td>\n",
              "      <td>no</td>\n",
              "    </tr>\n",
              "    <tr>\n",
              "      <th>4</th>\n",
              "      <td>11304</td>\n",
              "      <td>27</td>\n",
              "      <td>admin.</td>\n",
              "      <td>single</td>\n",
              "      <td>secondary</td>\n",
              "      <td>no</td>\n",
              "      <td>321</td>\n",
              "      <td>no</td>\n",
              "      <td>yes</td>\n",
              "      <td>unknown</td>\n",
              "      <td>2</td>\n",
              "      <td>sep</td>\n",
              "      <td>1</td>\n",
              "      <td>-1</td>\n",
              "      <td>0</td>\n",
              "      <td>unknown</td>\n",
              "      <td>no</td>\n",
              "    </tr>\n",
              "  </tbody>\n",
              "</table>\n",
              "</div>\n",
              "      <button class=\"colab-df-convert\" onclick=\"convertToInteractive('df-f57d3a86-d258-4c8f-9da9-f6d6f7e4e747')\"\n",
              "              title=\"Convert this dataframe to an interactive table.\"\n",
              "              style=\"display:none;\">\n",
              "        \n",
              "  <svg xmlns=\"http://www.w3.org/2000/svg\" height=\"24px\"viewBox=\"0 0 24 24\"\n",
              "       width=\"24px\">\n",
              "    <path d=\"M0 0h24v24H0V0z\" fill=\"none\"/>\n",
              "    <path d=\"M18.56 5.44l.94 2.06.94-2.06 2.06-.94-2.06-.94-.94-2.06-.94 2.06-2.06.94zm-11 1L8.5 8.5l.94-2.06 2.06-.94-2.06-.94L8.5 2.5l-.94 2.06-2.06.94zm10 10l.94 2.06.94-2.06 2.06-.94-2.06-.94-.94-2.06-.94 2.06-2.06.94z\"/><path d=\"M17.41 7.96l-1.37-1.37c-.4-.4-.92-.59-1.43-.59-.52 0-1.04.2-1.43.59L10.3 9.45l-7.72 7.72c-.78.78-.78 2.05 0 2.83L4 21.41c.39.39.9.59 1.41.59.51 0 1.02-.2 1.41-.59l7.78-7.78 2.81-2.81c.8-.78.8-2.07 0-2.86zM5.41 20L4 18.59l7.72-7.72 1.47 1.35L5.41 20z\"/>\n",
              "  </svg>\n",
              "      </button>\n",
              "      \n",
              "  <style>\n",
              "    .colab-df-container {\n",
              "      display:flex;\n",
              "      flex-wrap:wrap;\n",
              "      gap: 12px;\n",
              "    }\n",
              "\n",
              "    .colab-df-convert {\n",
              "      background-color: #E8F0FE;\n",
              "      border: none;\n",
              "      border-radius: 50%;\n",
              "      cursor: pointer;\n",
              "      display: none;\n",
              "      fill: #1967D2;\n",
              "      height: 32px;\n",
              "      padding: 0 0 0 0;\n",
              "      width: 32px;\n",
              "    }\n",
              "\n",
              "    .colab-df-convert:hover {\n",
              "      background-color: #E2EBFA;\n",
              "      box-shadow: 0px 1px 2px rgba(60, 64, 67, 0.3), 0px 1px 3px 1px rgba(60, 64, 67, 0.15);\n",
              "      fill: #174EA6;\n",
              "    }\n",
              "\n",
              "    [theme=dark] .colab-df-convert {\n",
              "      background-color: #3B4455;\n",
              "      fill: #D2E3FC;\n",
              "    }\n",
              "\n",
              "    [theme=dark] .colab-df-convert:hover {\n",
              "      background-color: #434B5C;\n",
              "      box-shadow: 0px 1px 3px 1px rgba(0, 0, 0, 0.15);\n",
              "      filter: drop-shadow(0px 1px 2px rgba(0, 0, 0, 0.3));\n",
              "      fill: #FFFFFF;\n",
              "    }\n",
              "  </style>\n",
              "\n",
              "      <script>\n",
              "        const buttonEl =\n",
              "          document.querySelector('#df-f57d3a86-d258-4c8f-9da9-f6d6f7e4e747 button.colab-df-convert');\n",
              "        buttonEl.style.display =\n",
              "          google.colab.kernel.accessAllowed ? 'block' : 'none';\n",
              "\n",
              "        async function convertToInteractive(key) {\n",
              "          const element = document.querySelector('#df-f57d3a86-d258-4c8f-9da9-f6d6f7e4e747');\n",
              "          const dataTable =\n",
              "            await google.colab.kernel.invokeFunction('convertToInteractive',\n",
              "                                                     [key], {});\n",
              "          if (!dataTable) return;\n",
              "\n",
              "          const docLinkHtml = 'Like what you see? Visit the ' +\n",
              "            '<a target=\"_blank\" href=https://colab.research.google.com/notebooks/data_table.ipynb>data table notebook</a>'\n",
              "            + ' to learn more about interactive tables.';\n",
              "          element.innerHTML = '';\n",
              "          dataTable['output_type'] = 'display_data';\n",
              "          await google.colab.output.renderOutput(dataTable, element);\n",
              "          const docLink = document.createElement('div');\n",
              "          docLink.innerHTML = docLinkHtml;\n",
              "          element.appendChild(docLink);\n",
              "        }\n",
              "      </script>\n",
              "    </div>\n",
              "  </div>\n",
              "  "
            ]
          },
          "metadata": {},
          "execution_count": 52
        }
      ],
      "source": [
        "import scipy.stats\n",
        "import pandas as pd\n",
        "df = pd.read_csv('https://raw.githubusercontent.com/Datamanim/datarepo/main/bank/train.csv')\n",
        "df.head()"
      ]
    },
    {
      "cell_type": "code",
      "source": [
        "# Q1 마케팅 응답 고객들의 나이를 10살 단위로 변환 했을 때, 가장 많은 인원을 가진 나이대는? (0~9 : 0 , 10~19 : 10)\n",
        "(df.age // 10 * 10).value_counts().index[0]"
      ],
      "metadata": {
        "colab": {
          "base_uri": "https://localhost:8080/"
        },
        "id": "8W2Vu800RcCU",
        "outputId": "955cd150-5b33-4db7-c1d9-1a80adf3b8ac"
      },
      "execution_count": null,
      "outputs": [
        {
          "output_type": "stream",
          "name": "stdout",
          "text": [
            "30\n"
          ]
        }
      ]
    },
    {
      "cell_type": "code",
      "source": [
        "# Question2 : 마케팅 응답 고객들의 나이를 10살 단위로 변환 했을 때, 가장 많은 나이대 구간의 인원은 몇명인가?\n",
        "\n",
        "a = df.age // 10 * 10\n",
        "a.value_counts()[30]"
      ],
      "metadata": {
        "colab": {
          "base_uri": "https://localhost:8080/"
        },
        "id": "zZfwYg5PUIYf",
        "outputId": "993880b5-87ff-4e5f-aad2-dab1d4d48d37"
      },
      "execution_count": null,
      "outputs": [
        {
          "output_type": "execute_result",
          "data": {
            "text/plain": [
              "5056"
            ]
          },
          "metadata": {},
          "execution_count": 51
        }
      ]
    },
    {
      "cell_type": "code",
      "source": [
        "# Question3 : 나이가 25살 이상 29살 미만인 응답 고객들중 housing컬럼의 값이 yes인 고객의 수는?\n",
        "len(df[(df.age >= 25) & (df.age < 29) & (df.housing == 'yes')])"
      ],
      "metadata": {
        "colab": {
          "base_uri": "https://localhost:8080/"
        },
        "id": "uw8deoPNVFme",
        "outputId": "1130b582-15e6-499f-c1ca-adfd9173b0af"
      },
      "execution_count": null,
      "outputs": [
        {
          "output_type": "execute_result",
          "data": {
            "text/plain": [
              "504"
            ]
          },
          "metadata": {},
          "execution_count": 56
        }
      ]
    },
    {
      "cell_type": "code",
      "source": [
        "# Question4 : numeric한 값을 가지지 않은 컬럼들중 unique한 값을 가장 많이 가지는 컬럼은?\n",
        "max = 0\n",
        "result = ''\n",
        "for i in list(set(df.columns) -  set(df.describe().columns)):\n",
        "    print(i, df[i].unique(), len(df[i].unique()))\n",
        "    if max < len(df[i].unique()):\n",
        "        max = len(df[i].unique())\n",
        "        result = i\n",
        "print(result)"
      ],
      "metadata": {
        "id": "eBuYFQebVqgz"
      },
      "execution_count": null,
      "outputs": []
    },
    {
      "cell_type": "code",
      "source": [
        "lst= [] \n",
        "for col in df.select_dtypes(exclude='int'):\n",
        "    target = df[col]\n",
        "    lst.append([col,target.nunique()])\n",
        "\n",
        "print(lst)\n",
        "result = pd.DataFrame(lst).sort_values(1,ascending=False).values[0][0]\n",
        "print(result)"
      ],
      "metadata": {
        "colab": {
          "base_uri": "https://localhost:8080/"
        },
        "id": "Ch-YEvKMXZeY",
        "outputId": "5b772b21-90fe-419b-92dc-aa6ce539724c"
      },
      "execution_count": null,
      "outputs": [
        {
          "output_type": "stream",
          "name": "stdout",
          "text": [
            "[['job', 12], ['marital', 3], ['education', 4], ['default', 2], ['housing', 2], ['loan', 2], ['contact', 3], ['month', 12], ['poutcome', 4], ['y', 2]]\n",
            "job\n"
          ]
        }
      ]
    },
    {
      "cell_type": "code",
      "source": [
        "# Question5 : balance 컬럼값들의 평균값 이상을 가지는 데이터를 ID값을 기준으로 내림차순 정렬했을때 상위 100개 데이터의 balance값의 평균은?\n",
        "df[df.balance >= df.balance.mean()].sort_values('ID', ascending=False)[:100].balance.mean()"
      ],
      "metadata": {
        "colab": {
          "base_uri": "https://localhost:8080/"
        },
        "id": "OilpGIGDVqeh",
        "outputId": "a217597c-3e2d-47e8-caf6-18e48cfab975"
      },
      "execution_count": null,
      "outputs": [
        {
          "output_type": "execute_result",
          "data": {
            "text/plain": [
              "3473.73"
            ]
          },
          "metadata": {},
          "execution_count": 96
        }
      ]
    },
    {
      "cell_type": "code",
      "source": [
        "# Question6 : 가장 많은 광고를 집행했던 날짜는 언제인가? (데이터 그대로 일(숫자),달(영문)으로 표기)\n",
        "df[['day','month']].value_counts().index[0]\n"
      ],
      "metadata": {
        "colab": {
          "base_uri": "https://localhost:8080/"
        },
        "id": "BnS7bP5-Vqbk",
        "outputId": "cc7205e3-a651-4075-bc39-dc08fd74b9e9"
      },
      "execution_count": null,
      "outputs": [
        {
          "output_type": "execute_result",
          "data": {
            "text/plain": [
              "(15, 'may')"
            ]
          },
          "metadata": {},
          "execution_count": 115
        }
      ]
    },
    {
      "cell_type": "code",
      "source": [
        "# Question7 : 데이터의 job이 unknown 상태인 고객들의 age 컬럼 값의 정규성을 검정하고자 한다. 샤피로 검정의 p-value값을 구하여라\n",
        "scipy.stats.shapiro(df[df.job == 'unknown'].age)[1]"
      ],
      "metadata": {
        "colab": {
          "base_uri": "https://localhost:8080/"
        },
        "id": "HusXbp_JVqZA",
        "outputId": "4f897302-f160-4db8-d9c5-c945ee077147"
      },
      "execution_count": null,
      "outputs": [
        {
          "output_type": "execute_result",
          "data": {
            "text/plain": [
              "0.1961131989955902"
            ]
          },
          "metadata": {},
          "execution_count": 136
        }
      ]
    },
    {
      "cell_type": "code",
      "source": [
        "# Question8 : age와 balance의 상관계수를 구하여라\n",
        "df[['age','balance']].corr().iloc[0,1]"
      ],
      "metadata": {
        "colab": {
          "base_uri": "https://localhost:8080/"
        },
        "id": "H59Va8KNVqWS",
        "outputId": "a5d4b04f-709f-4593-e308-08dcaad35786"
      },
      "execution_count": null,
      "outputs": [
        {
          "output_type": "execute_result",
          "data": {
            "text/plain": [
              "0.10198734763981462"
            ]
          },
          "metadata": {},
          "execution_count": 120
        }
      ]
    },
    {
      "cell_type": "code",
      "source": [
        "# Question9 : y 변수와 education 변수는 독립인지 카이제곱검정을 통해 확인하려한다. p-value값을 출력하라\n",
        "from scipy.stats import chi2_contingency\n",
        "v = pd.crosstab(df.y,df.education)\n",
        "print(v)\n",
        "chi2 , p ,dof, expected = chi2_contingency(v)\n",
        "display(v)\n",
        "print(p)\n"
      ],
      "metadata": {
        "colab": {
          "base_uri": "https://localhost:8080/",
          "height": 235
        },
        "id": "yHunEff9Vwxh",
        "outputId": "233dcf81-920d-4ede-89b7-0af13749f98c"
      },
      "execution_count": null,
      "outputs": [
        {
          "output_type": "stream",
          "name": "stdout",
          "text": [
            "education  primary  secondary  tertiary  unknown\n",
            "y                                               \n",
            "no            1424       4555      2559      365\n",
            "yes            456       1813      1516      182\n"
          ]
        },
        {
          "output_type": "display_data",
          "data": {
            "text/plain": [
              "education  primary  secondary  tertiary  unknown\n",
              "y                                               \n",
              "no            1424       4555      2559      365\n",
              "yes            456       1813      1516      182"
            ],
            "text/html": [
              "\n",
              "  <div id=\"df-a1c191a1-6879-4ea1-b401-71c791af7627\">\n",
              "    <div class=\"colab-df-container\">\n",
              "      <div>\n",
              "<style scoped>\n",
              "    .dataframe tbody tr th:only-of-type {\n",
              "        vertical-align: middle;\n",
              "    }\n",
              "\n",
              "    .dataframe tbody tr th {\n",
              "        vertical-align: top;\n",
              "    }\n",
              "\n",
              "    .dataframe thead th {\n",
              "        text-align: right;\n",
              "    }\n",
              "</style>\n",
              "<table border=\"1\" class=\"dataframe\">\n",
              "  <thead>\n",
              "    <tr style=\"text-align: right;\">\n",
              "      <th>education</th>\n",
              "      <th>primary</th>\n",
              "      <th>secondary</th>\n",
              "      <th>tertiary</th>\n",
              "      <th>unknown</th>\n",
              "    </tr>\n",
              "    <tr>\n",
              "      <th>y</th>\n",
              "      <th></th>\n",
              "      <th></th>\n",
              "      <th></th>\n",
              "      <th></th>\n",
              "    </tr>\n",
              "  </thead>\n",
              "  <tbody>\n",
              "    <tr>\n",
              "      <th>no</th>\n",
              "      <td>1424</td>\n",
              "      <td>4555</td>\n",
              "      <td>2559</td>\n",
              "      <td>365</td>\n",
              "    </tr>\n",
              "    <tr>\n",
              "      <th>yes</th>\n",
              "      <td>456</td>\n",
              "      <td>1813</td>\n",
              "      <td>1516</td>\n",
              "      <td>182</td>\n",
              "    </tr>\n",
              "  </tbody>\n",
              "</table>\n",
              "</div>\n",
              "      <button class=\"colab-df-convert\" onclick=\"convertToInteractive('df-a1c191a1-6879-4ea1-b401-71c791af7627')\"\n",
              "              title=\"Convert this dataframe to an interactive table.\"\n",
              "              style=\"display:none;\">\n",
              "        \n",
              "  <svg xmlns=\"http://www.w3.org/2000/svg\" height=\"24px\"viewBox=\"0 0 24 24\"\n",
              "       width=\"24px\">\n",
              "    <path d=\"M0 0h24v24H0V0z\" fill=\"none\"/>\n",
              "    <path d=\"M18.56 5.44l.94 2.06.94-2.06 2.06-.94-2.06-.94-.94-2.06-.94 2.06-2.06.94zm-11 1L8.5 8.5l.94-2.06 2.06-.94-2.06-.94L8.5 2.5l-.94 2.06-2.06.94zm10 10l.94 2.06.94-2.06 2.06-.94-2.06-.94-.94-2.06-.94 2.06-2.06.94z\"/><path d=\"M17.41 7.96l-1.37-1.37c-.4-.4-.92-.59-1.43-.59-.52 0-1.04.2-1.43.59L10.3 9.45l-7.72 7.72c-.78.78-.78 2.05 0 2.83L4 21.41c.39.39.9.59 1.41.59.51 0 1.02-.2 1.41-.59l7.78-7.78 2.81-2.81c.8-.78.8-2.07 0-2.86zM5.41 20L4 18.59l7.72-7.72 1.47 1.35L5.41 20z\"/>\n",
              "  </svg>\n",
              "      </button>\n",
              "      \n",
              "  <style>\n",
              "    .colab-df-container {\n",
              "      display:flex;\n",
              "      flex-wrap:wrap;\n",
              "      gap: 12px;\n",
              "    }\n",
              "\n",
              "    .colab-df-convert {\n",
              "      background-color: #E8F0FE;\n",
              "      border: none;\n",
              "      border-radius: 50%;\n",
              "      cursor: pointer;\n",
              "      display: none;\n",
              "      fill: #1967D2;\n",
              "      height: 32px;\n",
              "      padding: 0 0 0 0;\n",
              "      width: 32px;\n",
              "    }\n",
              "\n",
              "    .colab-df-convert:hover {\n",
              "      background-color: #E2EBFA;\n",
              "      box-shadow: 0px 1px 2px rgba(60, 64, 67, 0.3), 0px 1px 3px 1px rgba(60, 64, 67, 0.15);\n",
              "      fill: #174EA6;\n",
              "    }\n",
              "\n",
              "    [theme=dark] .colab-df-convert {\n",
              "      background-color: #3B4455;\n",
              "      fill: #D2E3FC;\n",
              "    }\n",
              "\n",
              "    [theme=dark] .colab-df-convert:hover {\n",
              "      background-color: #434B5C;\n",
              "      box-shadow: 0px 1px 3px 1px rgba(0, 0, 0, 0.15);\n",
              "      filter: drop-shadow(0px 1px 2px rgba(0, 0, 0, 0.3));\n",
              "      fill: #FFFFFF;\n",
              "    }\n",
              "  </style>\n",
              "\n",
              "      <script>\n",
              "        const buttonEl =\n",
              "          document.querySelector('#df-a1c191a1-6879-4ea1-b401-71c791af7627 button.colab-df-convert');\n",
              "        buttonEl.style.display =\n",
              "          google.colab.kernel.accessAllowed ? 'block' : 'none';\n",
              "\n",
              "        async function convertToInteractive(key) {\n",
              "          const element = document.querySelector('#df-a1c191a1-6879-4ea1-b401-71c791af7627');\n",
              "          const dataTable =\n",
              "            await google.colab.kernel.invokeFunction('convertToInteractive',\n",
              "                                                     [key], {});\n",
              "          if (!dataTable) return;\n",
              "\n",
              "          const docLinkHtml = 'Like what you see? Visit the ' +\n",
              "            '<a target=\"_blank\" href=https://colab.research.google.com/notebooks/data_table.ipynb>data table notebook</a>'\n",
              "            + ' to learn more about interactive tables.';\n",
              "          element.innerHTML = '';\n",
              "          dataTable['output_type'] = 'display_data';\n",
              "          await google.colab.output.renderOutput(dataTable, element);\n",
              "          const docLink = document.createElement('div');\n",
              "          docLink.innerHTML = docLinkHtml;\n",
              "          element.appendChild(docLink);\n",
              "        }\n",
              "      </script>\n",
              "    </div>\n",
              "  </div>\n",
              "  "
            ]
          },
          "metadata": {}
        },
        {
          "output_type": "stream",
          "name": "stdout",
          "text": [
            "7.901201277473551e-29\n"
          ]
        }
      ]
    },
    {
      "cell_type": "code",
      "source": [
        "# Question10 : 각 job에 따라 divorced/married 인원의 비율을 확인 했을 때 그 값이 가장 높은 값은?\n",
        "t = df.groupby(['job','marital']).size().reset_index()\n",
        "pivotdf = t.pivot_table(index='job',columns='marital')[0]\n",
        "pivotdf = pivotdf.fillna(0)\n",
        "pivotdf['ratio'] = pivotdf['divorced'] / pivotdf['married']\n",
        "\n",
        "result = pivotdf.sort_values('ratio').ratio.values[-1]\n",
        "print(result)"
      ],
      "metadata": {
        "id": "gloZNCOAVwvQ"
      },
      "execution_count": null,
      "outputs": []
    },
    {
      "cell_type": "markdown",
      "source": [
        "## 작업 2형"
      ],
      "metadata": {
        "id": "pPbn2IwbI_vO"
      }
    },
    {
      "cell_type": "code",
      "source": [
        "import pandas as pd\n",
        "train= pd.read_csv('https://raw.githubusercontent.com/Datamanim/datarepo/main/bank/train.csv')\n",
        "test= pd.read_csv('https://raw.githubusercontent.com/Datamanim/datarepo/main/bank/test.csv')\n",
        "submission= pd.read_csv('https://raw.githubusercontent.com/Datamanim/datarepo/main/bank/submission.csv')\n",
        "\n",
        "from sklearn.model_selection import train_test_split\n",
        "\n",
        "x = train.drop(columns =['ID','y'])\n",
        "xd = pd.get_dummies(x) # 범주화 변수 원핫인코딩\n",
        "y = train['y']\n",
        "\n",
        "x_train,x_test,y_train,y_test = train_test_split(xd,y,stratify =y ,random_state=1)\n",
        "\n",
        "from sklearn.ensemble import RandomForestClassifier\n",
        "rf = RandomForestClassifier()\n",
        "rf.fit(x_train,y_train)\n",
        "pred = rf.predict_proba(x_test)\n",
        "\n",
        "from sklearn.metrics import roc_auc_score,classification_report\n",
        "\n",
        "print('test roc score : ',roc_auc_score(y_test,pred[:,1]))\n",
        "\n",
        "\n",
        "test_pred = rf.predict_proba(pd.get_dummies(test.drop(columns=['ID'])))\n",
        "submission['predict'] = test_pred[:,1]\n",
        "\n",
        "print('submission file')\n",
        "display(submission.head())\n",
        "submission.to_csv('00000000000000.csv',index=False)"
      ],
      "metadata": {
        "colab": {
          "base_uri": "https://localhost:8080/",
          "height": 243
        },
        "id": "tGbxf24HVwqX",
        "outputId": "67f1bd39-eefc-4b92-9ccb-71564787119f"
      },
      "execution_count": null,
      "outputs": [
        {
          "output_type": "stream",
          "name": "stdout",
          "text": [
            "test roc score :  0.7786884020954699\n",
            "submission file\n"
          ]
        },
        {
          "output_type": "display_data",
          "data": {
            "text/plain": [
              "      ID  predict\n",
              "0  53608     0.78\n",
              "1  51055     0.80\n",
              "2  52573     0.01\n",
              "3  50458     0.23\n",
              "4  52272     0.38"
            ],
            "text/html": [
              "\n",
              "  <div id=\"df-61fe2e30-00a6-428e-9262-1cf8a0b531f3\">\n",
              "    <div class=\"colab-df-container\">\n",
              "      <div>\n",
              "<style scoped>\n",
              "    .dataframe tbody tr th:only-of-type {\n",
              "        vertical-align: middle;\n",
              "    }\n",
              "\n",
              "    .dataframe tbody tr th {\n",
              "        vertical-align: top;\n",
              "    }\n",
              "\n",
              "    .dataframe thead th {\n",
              "        text-align: right;\n",
              "    }\n",
              "</style>\n",
              "<table border=\"1\" class=\"dataframe\">\n",
              "  <thead>\n",
              "    <tr style=\"text-align: right;\">\n",
              "      <th></th>\n",
              "      <th>ID</th>\n",
              "      <th>predict</th>\n",
              "    </tr>\n",
              "  </thead>\n",
              "  <tbody>\n",
              "    <tr>\n",
              "      <th>0</th>\n",
              "      <td>53608</td>\n",
              "      <td>0.78</td>\n",
              "    </tr>\n",
              "    <tr>\n",
              "      <th>1</th>\n",
              "      <td>51055</td>\n",
              "      <td>0.80</td>\n",
              "    </tr>\n",
              "    <tr>\n",
              "      <th>2</th>\n",
              "      <td>52573</td>\n",
              "      <td>0.01</td>\n",
              "    </tr>\n",
              "    <tr>\n",
              "      <th>3</th>\n",
              "      <td>50458</td>\n",
              "      <td>0.23</td>\n",
              "    </tr>\n",
              "    <tr>\n",
              "      <th>4</th>\n",
              "      <td>52272</td>\n",
              "      <td>0.38</td>\n",
              "    </tr>\n",
              "  </tbody>\n",
              "</table>\n",
              "</div>\n",
              "      <button class=\"colab-df-convert\" onclick=\"convertToInteractive('df-61fe2e30-00a6-428e-9262-1cf8a0b531f3')\"\n",
              "              title=\"Convert this dataframe to an interactive table.\"\n",
              "              style=\"display:none;\">\n",
              "        \n",
              "  <svg xmlns=\"http://www.w3.org/2000/svg\" height=\"24px\"viewBox=\"0 0 24 24\"\n",
              "       width=\"24px\">\n",
              "    <path d=\"M0 0h24v24H0V0z\" fill=\"none\"/>\n",
              "    <path d=\"M18.56 5.44l.94 2.06.94-2.06 2.06-.94-2.06-.94-.94-2.06-.94 2.06-2.06.94zm-11 1L8.5 8.5l.94-2.06 2.06-.94-2.06-.94L8.5 2.5l-.94 2.06-2.06.94zm10 10l.94 2.06.94-2.06 2.06-.94-2.06-.94-.94-2.06-.94 2.06-2.06.94z\"/><path d=\"M17.41 7.96l-1.37-1.37c-.4-.4-.92-.59-1.43-.59-.52 0-1.04.2-1.43.59L10.3 9.45l-7.72 7.72c-.78.78-.78 2.05 0 2.83L4 21.41c.39.39.9.59 1.41.59.51 0 1.02-.2 1.41-.59l7.78-7.78 2.81-2.81c.8-.78.8-2.07 0-2.86zM5.41 20L4 18.59l7.72-7.72 1.47 1.35L5.41 20z\"/>\n",
              "  </svg>\n",
              "      </button>\n",
              "      \n",
              "  <style>\n",
              "    .colab-df-container {\n",
              "      display:flex;\n",
              "      flex-wrap:wrap;\n",
              "      gap: 12px;\n",
              "    }\n",
              "\n",
              "    .colab-df-convert {\n",
              "      background-color: #E8F0FE;\n",
              "      border: none;\n",
              "      border-radius: 50%;\n",
              "      cursor: pointer;\n",
              "      display: none;\n",
              "      fill: #1967D2;\n",
              "      height: 32px;\n",
              "      padding: 0 0 0 0;\n",
              "      width: 32px;\n",
              "    }\n",
              "\n",
              "    .colab-df-convert:hover {\n",
              "      background-color: #E2EBFA;\n",
              "      box-shadow: 0px 1px 2px rgba(60, 64, 67, 0.3), 0px 1px 3px 1px rgba(60, 64, 67, 0.15);\n",
              "      fill: #174EA6;\n",
              "    }\n",
              "\n",
              "    [theme=dark] .colab-df-convert {\n",
              "      background-color: #3B4455;\n",
              "      fill: #D2E3FC;\n",
              "    }\n",
              "\n",
              "    [theme=dark] .colab-df-convert:hover {\n",
              "      background-color: #434B5C;\n",
              "      box-shadow: 0px 1px 3px 1px rgba(0, 0, 0, 0.15);\n",
              "      filter: drop-shadow(0px 1px 2px rgba(0, 0, 0, 0.3));\n",
              "      fill: #FFFFFF;\n",
              "    }\n",
              "  </style>\n",
              "\n",
              "      <script>\n",
              "        const buttonEl =\n",
              "          document.querySelector('#df-61fe2e30-00a6-428e-9262-1cf8a0b531f3 button.colab-df-convert');\n",
              "        buttonEl.style.display =\n",
              "          google.colab.kernel.accessAllowed ? 'block' : 'none';\n",
              "\n",
              "        async function convertToInteractive(key) {\n",
              "          const element = document.querySelector('#df-61fe2e30-00a6-428e-9262-1cf8a0b531f3');\n",
              "          const dataTable =\n",
              "            await google.colab.kernel.invokeFunction('convertToInteractive',\n",
              "                                                     [key], {});\n",
              "          if (!dataTable) return;\n",
              "\n",
              "          const docLinkHtml = 'Like what you see? Visit the ' +\n",
              "            '<a target=\"_blank\" href=https://colab.research.google.com/notebooks/data_table.ipynb>data table notebook</a>'\n",
              "            + ' to learn more about interactive tables.';\n",
              "          element.innerHTML = '';\n",
              "          dataTable['output_type'] = 'display_data';\n",
              "          await google.colab.output.renderOutput(dataTable, element);\n",
              "          const docLink = document.createElement('div');\n",
              "          docLink.innerHTML = docLinkHtml;\n",
              "          element.appendChild(docLink);\n",
              "        }\n",
              "      </script>\n",
              "    </div>\n",
              "  </div>\n",
              "  "
            ]
          },
          "metadata": {}
        }
      ]
    },
    {
      "cell_type": "markdown",
      "source": [
        "# 2"
      ],
      "metadata": {
        "id": "cjyxkMkVo1h5"
      }
    },
    {
      "cell_type": "markdown",
      "source": [
        "## 작업 1형"
      ],
      "metadata": {
        "id": "bgPvP7yPI6LK"
      }
    },
    {
      "cell_type": "code",
      "source": [
        "import pandas as pd\n",
        "df = pd.read_csv('https://raw.githubusercontent.com/Datamanim/datarepo/main/stroke_/train.csv')"
      ],
      "metadata": {
        "id": "ZAybRjwao-y_"
      },
      "execution_count": 77,
      "outputs": []
    },
    {
      "cell_type": "code",
      "source": [
        "# Question1 : 성별이 Male인 환자들의 age의 평균값은 ?\n",
        "df.age = df.age.str.replace('*','').astype('int')\n",
        "df[df.gender == 'Male'].age.mean()"
      ],
      "metadata": {
        "id": "WkW9EFYpo-wF",
        "colab": {
          "base_uri": "https://localhost:8080/"
        },
        "outputId": "707ed963-dded-461e-d45e-0f140a4393de"
      },
      "execution_count": 17,
      "outputs": [
        {
          "output_type": "stream",
          "name": "stderr",
          "text": [
            "/usr/local/lib/python3.7/dist-packages/ipykernel_launcher.py:2: FutureWarning: The default value of regex will change from True to False in a future version. In addition, single character regular expressions will *not* be treated as literal strings when regex=True.\n",
            "  \n"
          ]
        },
        {
          "output_type": "execute_result",
          "data": {
            "text/plain": [
              "44.68623481781376"
            ]
          },
          "metadata": {},
          "execution_count": 17
        }
      ]
    },
    {
      "cell_type": "code",
      "source": [
        "# Question2 : bmi컬럼의 결측치를 bmi컬럼의 결측치를 제외한 나머지 값들의 중앙값으로 채웠을 경우 bmi 컬럼의 평균을 소숫점 이하 3자리 까지 구하여라\n",
        "print(round(df.bmi.fillna(df.bmi.median()).mean(), 3))"
      ],
      "metadata": {
        "id": "ZNyTb9I6o-ta",
        "colab": {
          "base_uri": "https://localhost:8080/"
        },
        "outputId": "ed668a89-9d23-4e5d-ff68-f1137d4bb3e1"
      },
      "execution_count": 69,
      "outputs": [
        {
          "output_type": "stream",
          "name": "stdout",
          "text": [
            "29.166\n"
          ]
        }
      ]
    },
    {
      "cell_type": "code",
      "source": [
        "# Question3 : bmi컬럼의 각 결측치들을 직전의 행의 bmi값으로 채웠을 경우 bmi 컬럼의 평균을 소숫점 이하 3자리 까지 구하여라\n",
        "fi = df['bmi'].fillna(method = 'ffill')\n",
        "result = round(fi.mean(),3)\n",
        "print(result)"
      ],
      "metadata": {
        "id": "58brxuoQo-oZ"
      },
      "execution_count": null,
      "outputs": []
    },
    {
      "cell_type": "code",
      "source": [
        "# Question4 : bmi컬럼의 각 결측치들을 결측치를 가진 환자 나이대(10단위)의 평균 bmi 값으로 대체한 후 대체된 bmi 컬럼의 평균을 소숫점 이하 3자리 까지 구하여라\n",
        "df = pd.read_csv('https://raw.githubusercontent.com/Datamanim/datarepo/main/stroke_/train.csv')\n",
        "df.age = df.age.str.replace('*','').astype('int')\n",
        "mean = df[df.bmi.notnull()].groupby(df.age//10*10).bmi.mean()\n",
        "dic = { x:y for x,y in mean.items()}\n",
        "idx =df.loc[df.bmi.isnull(),['age','bmi']].index\n",
        "# 결측치 매핑\n",
        "df.loc[df.bmi.isnull(),'bmi']  =(df[df.bmi.isnull()].age//10*10).map(lambda x : dic[x])\n",
        "\n",
        "result = df.bmi.mean()\n",
        "print(result)"
      ],
      "metadata": {
        "id": "awS9A4elo-l6",
        "colab": {
          "base_uri": "https://localhost:8080/"
        },
        "outputId": "146c9ed7-4e22-439d-e179-2ea4bbdc4e19"
      },
      "execution_count": 76,
      "outputs": [
        {
          "output_type": "stream",
          "name": "stdout",
          "text": [
            "29.2627029367386\n"
          ]
        },
        {
          "output_type": "stream",
          "name": "stderr",
          "text": [
            "/usr/local/lib/python3.7/dist-packages/ipykernel_launcher.py:3: FutureWarning: The default value of regex will change from True to False in a future version. In addition, single character regular expressions will *not* be treated as literal strings when regex=True.\n",
            "  This is separate from the ipykernel package so we can avoid doing imports until\n"
          ]
        }
      ]
    },
    {
      "cell_type": "code",
      "source": [
        "# Question5 : avg_glucose_level 컬럼의 값이 200이상인 데이터를 모두 199로 변경하고 stroke값이 1인 데이터의 avg_glucose_level값의 평균을 소수점이하 3자리 까지 구하여라\n",
        "df.avg_glucose_level = list(map(lambda x : 199 if x >= 200 else x, df.avg_glucose_level))\n",
        "print(round(df[df.stroke == 1].avg_glucose_level.mean(), 3))"
      ],
      "metadata": {
        "id": "AmR6SIHqo-jN",
        "colab": {
          "base_uri": "https://localhost:8080/"
        },
        "outputId": "bc6ab4d8-75d2-424c-dede-a5f09b2f92a9"
      },
      "execution_count": 79,
      "outputs": [
        {
          "output_type": "stream",
          "name": "stdout",
          "text": [
            "125.188\n"
          ]
        }
      ]
    },
    {
      "cell_type": "code",
      "source": [
        "# Question6 : Attack컬럼의 값을 기준으로 내림차순정렬 했을때 상위 400위까지 포켓몬들과 401~800위까지의 포켓몬들에서 전설포켓몬(Legendary컬럼)의 숫자 차이는?\n",
        "df = pd.read_csv('https://raw.githubusercontent.com/Datamanim/datarepo/main/pok/Pokemon.csv')\n",
        "\n",
        "u = df.sort_values('Attack', ascending=False).reset_index(drop=True)[:400]\n",
        "d = df.sort_values('Attack', ascending=False).reset_index(drop=True)[400:800]\n",
        "print(u.Legendary.sum() - d.Legendary.sum())"
      ],
      "metadata": {
        "id": "z8yBvfB3o-gb",
        "colab": {
          "base_uri": "https://localhost:8080/"
        },
        "outputId": "4c827c60-0efa-4593-ab10-e383e76d73fb"
      },
      "execution_count": 84,
      "outputs": [
        {
          "output_type": "stream",
          "name": "stdout",
          "text": [
            "57\n"
          ]
        }
      ]
    },
    {
      "cell_type": "code",
      "source": [
        "# Question7 : Type 1 컬럼의 종류에 따른 Total 컬럼의 평균값을 내림차순 정렬했을때 상위 3번째 Type 1은 무엇인가?\n",
        "\n",
        "df.groupby('Type 1').mean().Total.sort_values(ascending=False).index[2]"
      ],
      "metadata": {
        "colab": {
          "base_uri": "https://localhost:8080/",
          "height": 35
        },
        "id": "n46LL1v3I0RO",
        "outputId": "3a5d4e33-27c6-4549-ebbf-0abbef356ea7"
      },
      "execution_count": 94,
      "outputs": [
        {
          "output_type": "execute_result",
          "data": {
            "text/plain": [
              "'Flying'"
            ],
            "application/vnd.google.colaboratory.intrinsic+json": {
              "type": "string"
            }
          },
          "metadata": {},
          "execution_count": 94
        }
      ]
    },
    {
      "cell_type": "code",
      "source": [
        "# Question8 : 결측치가 존재하는 행을 모두 지운 후 처음부터 순서대로 60% 데이터를 추출하여 Defense컬럼의 1분위수를 구하여라\n",
        "df.dropna().iloc[:int(len(df.dropna()) * .6),:].Defense.quantile(.25)"
      ],
      "metadata": {
        "colab": {
          "base_uri": "https://localhost:8080/"
        },
        "id": "cksDKiL2I0M_",
        "outputId": "99f91dcb-886d-4ef0-dbe8-3532aa5373b6"
      },
      "execution_count": 100,
      "outputs": [
        {
          "output_type": "execute_result",
          "data": {
            "text/plain": [
              "50.0"
            ]
          },
          "metadata": {},
          "execution_count": 100
        }
      ]
    },
    {
      "cell_type": "code",
      "source": [
        "# Question9 : Type 1 컬럼의 속성이 Fire인 포켓몬들의 Attack의 평균이상인 Water속성의 포켓몬 수를 구하여라\n",
        "len(df[(df['Type 1'] == 'Water') & (df.Attack >= df[df['Type 1'] == 'Fire'].Attack.mean())])"
      ],
      "metadata": {
        "colab": {
          "base_uri": "https://localhost:8080/"
        },
        "id": "yKMW1z9OI03C",
        "outputId": "fd56a388-72a3-4771-ce70-a81322792d5a"
      },
      "execution_count": 101,
      "outputs": [
        {
          "output_type": "execute_result",
          "data": {
            "text/plain": [
              "37"
            ]
          },
          "metadata": {},
          "execution_count": 101
        }
      ]
    },
    {
      "cell_type": "code",
      "source": [
        "# Question10 : 각 세대 중(Generation 컬럼)의 Speed와 Defense 컬럼의 차이(절댓값)이 가장 큰 세대는?\n",
        "abs(df.groupby(['Generation'])[['Speed','Defense']].mean().T.diff().T).sort_values('Defense').index[-1]"
      ],
      "metadata": {
        "colab": {
          "base_uri": "https://localhost:8080/"
        },
        "id": "4fS_SJt9I0zA",
        "outputId": "b2c81ac2-510e-4d13-97ea-bca86738c5ce"
      },
      "execution_count": 116,
      "outputs": [
        {
          "output_type": "execute_result",
          "data": {
            "text/plain": [
              "<pandas.core.groupby.generic.DataFrameGroupBy object at 0x7fa955cf5050>"
            ]
          },
          "metadata": {},
          "execution_count": 116
        }
      ]
    },
    {
      "cell_type": "markdown",
      "source": [
        "## 작업 2형"
      ],
      "metadata": {
        "id": "4TvgHsUQI4JO"
      }
    },
    {
      "cell_type": "code",
      "source": [
        "from sklearn.model_selection import train_test_split\n",
        "from sklearn.metrics import roc_auc_score,classification_report\n",
        "from sklearn.ensemble import RandomForestClassifier\n",
        "\n",
        "import pandas as pd\n",
        "train= pd.read_csv('https://raw.githubusercontent.com/Datamanim/datarepo/main/stroke_/train.csv')\n",
        "test= pd.read_csv('https://raw.githubusercontent.com/Datamanim/datarepo/main/stroke_/test.csv')\n",
        "\n",
        "# 전처리\n",
        "\n",
        "train['age'] =train['age'].str.replace('*','').astype('int')\n",
        "train['bmi'] = train['bmi'].fillna(train['bmi'].mean())\n",
        "test['bmi'] = test['bmi'].fillna(test['bmi'].mean())\n",
        "x = train.drop(columns =['id','stroke'])\n",
        "xd = pd.get_dummies(x)\n",
        "y = train['stroke']\n",
        "\n",
        "\n",
        "#학습\n",
        "\n",
        "x_train,x_test,y_train,y_test = train_test_split(xd,y,stratify =y ,random_state=1)\n",
        "rf = RandomForestClassifier()\n",
        "rf.fit(x_train,y_train)\n",
        "pred = rf.predict_proba(x_test)\n",
        "print('test roc score : ',roc_auc_score(y_test,pred[:,1]))\n",
        "\n",
        "\n",
        "# one-hot encoding시 train셋에만 존재하는 컬럼이 존재\n",
        "test_preprocessing =pd.get_dummies(test.drop(columns=['id']))\n",
        "test_preprocessing[list(set(x_train.columns) -set(test_preprocessing))] =0\n",
        "test_preprocessing =test_preprocessing[x_train.columns]\n",
        "test_pred = rf.predict_proba(test_preprocessing)\n"
      ],
      "metadata": {
        "id": "kJVDovFmo-dY",
        "colab": {
          "base_uri": "https://localhost:8080/"
        },
        "outputId": "042ed4ae-c17e-43af-b93e-8eef110339c9"
      },
      "execution_count": 59,
      "outputs": [
        {
          "output_type": "stream",
          "name": "stderr",
          "text": [
            "/usr/local/lib/python3.7/dist-packages/ipykernel_launcher.py:11: FutureWarning: The default value of regex will change from True to False in a future version. In addition, single character regular expressions will *not* be treated as literal strings when regex=True.\n",
            "  # This is added back by InteractiveShellApp.init_path()\n"
          ]
        },
        {
          "output_type": "stream",
          "name": "stdout",
          "text": [
            "test roc score :  0.8623740332786501\n"
          ]
        }
      ]
    },
    {
      "cell_type": "code",
      "source": [
        "import pandas as pd\n",
        "train= pd.read_csv('https://raw.githubusercontent.com/Datamanim/datarepo/main/stroke_/train.csv')\n",
        "test= pd.read_csv('https://raw.githubusercontent.com/Datamanim/datarepo/main/stroke_/test.csv')\n",
        "\n",
        "train = train.dropna().iloc[:,1:]\n",
        "test = test.dropna().iloc[:,1:]\n",
        "\n",
        "print(train.age.unique())\n",
        "x_train = train.drop(columns=['stroke'])\n",
        "y_train = train.stroke\n",
        "\n",
        "print(x_train.isnull().sum())\n",
        "print(test.isnull().sum())\n",
        "\n",
        "x_train.age = x_train.age.str.replace('*','')\n",
        "type(test.age)\n",
        "\n",
        "\n",
        "x_train.gender = list(map(lambda x : 0 if x == 'Male' else 1, x_train.gender))\n",
        "test.gender = list(map(lambda x : 0 if x == 'Male' else 1, test.gender))\n",
        "\n",
        "x_train.ever_married = list(map(lambda x : 0 if x == 'No' else 1, x_train.ever_married))\n",
        "test.ever_married = list(map(lambda x : 0 if x == 'No' else 1, test.ever_married))\n",
        "\n",
        "from sklearn.preprocessing import LabelEncoder\n",
        "\n",
        "le1 = LabelEncoder()\n",
        "le1.fit(x_train.work_type)\n",
        "x_train.work_type = le1.transform(x_train.work_type)\n",
        "test.work_type = le1.transform(test.work_type)\n",
        "\n",
        "\n",
        "le2 = LabelEncoder()\n",
        "le2.fit(x_train.Residence_type)\n",
        "x_train.Residence_type = le2.transform(x_train.Residence_type)\n",
        "test.Residence_type = le2.transform(test.Residence_type)\n",
        "\n",
        "\n",
        "le3 = LabelEncoder()\n",
        "le3.fit(x_train.smoking_status)\n",
        "x_train.smoking_status = le3.transform(x_train.smoking_status)\n",
        "test.smoking_status = le3.transform(test.smoking_status)\n",
        "\n",
        "\n",
        "from sklearn.model_selection import train_test_split\n",
        "x_train, x_val, y_train, y_val = train_test_split(x_train, y_train)\n",
        "\n",
        "from sklearn.ensemble import RandomForestClassifier\n",
        "from sklearn.metrics import roc_auc_score\n",
        "\n",
        "rfc = RandomForestClassifier()\n",
        "print(x_train.describe())\n",
        "rfc.fit(x_train, y_train)\n",
        "print(rfc.score(x_val, y_val))\n",
        "\n",
        "pred = rfc.predict(x_val)\n",
        "print(pred)\n",
        "print(roc_auc_score(y_val, pred))\n"
      ],
      "metadata": {
        "id": "FnUwdJG3o-ZN"
      },
      "execution_count": null,
      "outputs": []
    },
    {
      "cell_type": "markdown",
      "source": [
        "# 3회차"
      ],
      "metadata": {
        "id": "Dw9pymnto7Ft"
      }
    },
    {
      "cell_type": "markdown",
      "source": [
        "## 작업 1"
      ],
      "metadata": {
        "id": "xIYCspeXNRJG"
      }
    },
    {
      "cell_type": "code",
      "source": [
        "import pandas as pd\n",
        "df = pd.read_csv('https://raw.githubusercontent.com/Datamanim/datarepo/main/spotify/spotify.csv')"
      ],
      "metadata": {
        "id": "YVPAyzwqo6FH"
      },
      "execution_count": 1,
      "outputs": []
    },
    {
      "cell_type": "code",
      "source": [
        "# Question1 : 데이터는 현재 년도별 100곡이 인기순으로 정렬되어 있다. 각 년도별 1~100위의 랭킹을 나타내는 rank컬럼을 만들고 매년도 1위의 bpm컬럼의 평균값을 구하여라\n",
        "df = df.dropna()\n",
        "df.loc[:,'rank'] = list(range(1,101))*10\n",
        "result = df[df['rank'] ==1].bpm.mean()\n",
        "print(result)"
      ],
      "metadata": {
        "id": "onq9CfezNWGu"
      },
      "execution_count": null,
      "outputs": []
    },
    {
      "cell_type": "code",
      "source": [
        "# Question2 : 2015년도에 가장많은 top100곡을 올린 artist는 누구인가?\n",
        "df[df['top year'] == 2015].groupby('artist').count().sort_values('title', ascending=False).index[0]"
      ],
      "metadata": {
        "colab": {
          "base_uri": "https://localhost:8080/",
          "height": 35
        },
        "id": "xhVyO3MbNWEf",
        "outputId": "d099280f-f86b-4b1b-ac20-fb69c1fc123b"
      },
      "execution_count": 8,
      "outputs": [
        {
          "output_type": "execute_result",
          "data": {
            "text/plain": [
              "'Taylor Swift'"
            ],
            "application/vnd.google.colaboratory.intrinsic+json": {
              "type": "string"
            }
          },
          "metadata": {},
          "execution_count": 8
        }
      ]
    },
    {
      "cell_type": "code",
      "source": [
        "# Question3 : 년도별 rank값이 1~10위 까지의 곡들 중 두번째로 많은 top genre는 무엇인가?"
      ],
      "metadata": {
        "id": "DvSNbdTLNWBr"
      },
      "execution_count": null,
      "outputs": []
    },
    {
      "cell_type": "code",
      "source": [
        "# Question4 : 피처링의 경우 title에 표시된다. 피처링을 가장 많이 해준 가수는 누구인가?"
      ],
      "metadata": {
        "id": "TxX3ke7RNV-w"
      },
      "execution_count": null,
      "outputs": []
    },
    {
      "cell_type": "code",
      "source": [
        "# Question5 : top year 년도를 기준으로 발매일(year released)과 top100에 진입한 일자 (top year)가 다른 곡의 숫자를 count 했을때 가장 많은 년도는?"
      ],
      "metadata": {
        "id": "xVClvfibNV75"
      },
      "execution_count": null,
      "outputs": []
    },
    {
      "cell_type": "code",
      "source": [
        "# Question6 : artist 컬럼의 값에 대소문자 상관없이 q 단어가 들어가는 아티스트는 몇명인가?"
      ],
      "metadata": {
        "id": "TOz6BKI8NV5E"
      },
      "execution_count": null,
      "outputs": []
    },
    {
      "cell_type": "code",
      "source": [
        "# Question7 : 년도 상관없이 전체데이터에서 1~50위와 51~100위간의 dur 컬럼의 평균값의 차이는?"
      ],
      "metadata": {
        "id": "yeFhcXN4NV2s"
      },
      "execution_count": null,
      "outputs": []
    },
    {
      "cell_type": "code",
      "source": [
        "# Question8 : title을 띄어쓰기 단어로 구분 했을때 가장 많이 나온 단어는 무엇인가? (대소문자 구분 x)"
      ],
      "metadata": {
        "id": "QIvdxcAFNVzr"
      },
      "execution_count": null,
      "outputs": []
    },
    {
      "cell_type": "code",
      "source": [
        "# Question9 : 년도별 nrgy값의 평균값을 구할때 최대 평균값과 최소 평균값의 차이를 구하여라"
      ],
      "metadata": {
        "id": "vkD2cFL4NVxD"
      },
      "execution_count": null,
      "outputs": []
    },
    {
      "cell_type": "code",
      "source": [
        "# Question10 : artist중 artist type 타입을 여러개 가지고 있는 artist는 누구인가"
      ],
      "metadata": {
        "id": "xp_YOpL2NeqH"
      },
      "execution_count": null,
      "outputs": []
    },
    {
      "cell_type": "markdown",
      "source": [
        "## 작업 2"
      ],
      "metadata": {
        "id": "1kGHjzN6NSyY"
      }
    },
    {
      "cell_type": "code",
      "source": [
        "import pandas as pd\n",
        "#데이터 로드\n",
        "x_train = pd.read_csv(\"https://raw.githubusercontent.com/Datamanim/datarepo/main/muscle/x_train.csv\")\n",
        "y_train = pd.read_csv(\"https://raw.githubusercontent.com/Datamanim/datarepo/main/muscle/y_train.csv\")\n",
        "test= pd.read_csv(\"https://raw.githubusercontent.com/Datamanim/datarepo/main/muscle/x_test.csv\")"
      ],
      "metadata": {
        "id": "wsDa8KNoNVd7"
      },
      "execution_count": null,
      "outputs": []
    },
    {
      "cell_type": "code",
      "source": [
        ""
      ],
      "metadata": {
        "id": "ly6AkwAqNVY0"
      },
      "execution_count": null,
      "outputs": []
    },
    {
      "cell_type": "code",
      "source": [
        ""
      ],
      "metadata": {
        "id": "6brljSJYNVTT"
      },
      "execution_count": null,
      "outputs": []
    },
    {
      "cell_type": "code",
      "source": [
        "from sklearn.preprocessing import StandardScaler\n",
        "from sklearn.model_selection import train_test_split\n",
        "from sklearn.linear_model import LogisticRegression\n",
        "from sklearn.metrics import roc_auc_score\n",
        "from sklearn.metrics import classification_report\n",
        "\n",
        "x = x_train.drop(columns = ['ID'])\n",
        "\n",
        "test_drop = test.drop(columns = ['ID'])\n",
        "\n",
        "\n",
        "\n",
        "sc = StandardScaler()\n",
        "sc.fit(x)\n",
        "\n",
        "\n",
        "xs = sc.transform(x)\n",
        "x_test_scaler = sc.transform(test_drop)\n",
        "\n",
        "X_train, X_test, y_train, y_test = train_test_split(xs, y_train['pose'], test_size=0.33, random_state=42)\n",
        "\n",
        "lr = LogisticRegression()\n",
        "lr.fit(X_train,y_train)\n",
        "\n",
        "pred = lr.predict_proba(X_test)\n",
        "print('validation_auc : ',roc_auc_score(y_test,pred[:,1]))"
      ],
      "metadata": {
        "id": "vleiWAaKNU-v"
      },
      "execution_count": null,
      "outputs": []
    }
  ]
}