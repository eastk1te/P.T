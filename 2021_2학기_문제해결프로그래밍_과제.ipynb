{
  "nbformat": 4,
  "nbformat_minor": 0,
  "metadata": {
    "colab": {
      "name": "2021_2학기_문제해결프로그래밍_과제.ipynb",
      "provenance": [],
      "collapsed_sections": [],
      "authorship_tag": "ABX9TyOESpiuLDr0vXHQdxwyhuj+",
      "include_colab_link": true
    },
    "kernelspec": {
      "name": "python3",
      "display_name": "Python 3"
    },
    "language_info": {
      "name": "python"
    }
  },
  "cells": [
    {
      "cell_type": "markdown",
      "metadata": {
        "id": "view-in-github",
        "colab_type": "text"
      },
      "source": [
        "<a href=\"https://colab.research.google.com/github/tjy2202/Personal_training/blob/main/2021_2%ED%95%99%EA%B8%B0_%EB%AC%B8%EC%A0%9C%ED%95%B4%EA%B2%B0%ED%94%84%EB%A1%9C%EA%B7%B8%EB%9E%98%EB%B0%8D_%EA%B3%BC%EC%A0%9C.ipynb\" target=\"_parent\"><img src=\"https://colab.research.google.com/assets/colab-badge.svg\" alt=\"Open In Colab\"/></a>"
      ]
    },
    {
      "cell_type": "markdown",
      "metadata": {
        "id": "swr8l3oAQIbG"
      },
      "source": [
        "# 1주차"
      ]
    },
    {
      "cell_type": "code",
      "metadata": {
        "id": "UMLzudxPQFQR"
      },
      "source": [
        "import sys\n",
        "\n",
        "l = []\n",
        "p = []\n",
        "for i in sys.stdin:\n",
        "\tl.append(i.rstrip('\\n'))\n",
        "\n",
        "for i in l:\n",
        "\ta = []\n",
        "\tb = 0\n",
        "\tc = len(i) - 1\n",
        "\tfor j in range(c + 1):\n",
        "\t\tif j == c:\n",
        "\t\t\tif i[j] == ' ':\n",
        "\t\t\t\ta.append(i[b:].rstrip(' '))\n",
        "\t\t\telif i[j] == '\\t':\n",
        "\t\t\t\ta.append(i[b:].rstrip('\\t'))\n",
        "\t\t\telse:\n",
        "\t\t\t\ta.append(i[b:])\n",
        "\t\telse:\n",
        "\t\t\tif i[j] == ' ':\n",
        "\t\t\t\ta.append(i[b:j+1].rstrip(' '))\n",
        "\t\t\t\tb = j + 1\n",
        "\t\t\tif i[j] == '\\t':\n",
        "\t\t\t\ta.append(i[b:j+1].rstrip('\\t'))\n",
        "\t\t\t\tb = j+1\n",
        "\t\t\n",
        "\tresult = [0,0]\n",
        "\tfor i in a:\n",
        "\t\tif not i:\n",
        "\t\t\tcontinue\n",
        "\t\tresult[1] = result[1] + 1\n",
        "\t\tresult[0] = result[0] + len(i)\n",
        "\t\n",
        "\tprint(*result)"
      ],
      "execution_count": null,
      "outputs": []
    },
    {
      "cell_type": "code",
      "metadata": {
        "id": "Sjpsv8FKv8oj"
      },
      "source": [
        "# -*- coding: utf-8 -*-\n",
        "# UTF-8 encoding when using korean\n",
        "import sys\n",
        "l = []\n",
        "for i in sys.stdin:\n",
        "\tl.append(i.rstrip('\\n').split(' '))\n",
        "p = [False] * 1000001\n",
        "\t\n",
        "for i in l:\n",
        "\ti = list(map(int,i))\n",
        "\t\n",
        "\td = 0\n",
        "\tif i[0] > i[1]:\n",
        "\t\tmax = i[0]\n",
        "\t\tmin = i[1]\n",
        "\telse:\n",
        "\t\tmax = i[1]\n",
        "\t\tmin = i[0]\n",
        "\t\n",
        "\tmax_num = 0\n",
        "\tfor j in range(min,max+1):\n",
        "\t\tt = 1\n",
        "\t\tn = j\n",
        "\t\twhile n != 1:\n",
        "\t\t\tif n % 2 == 0:\n",
        "\t\t\t\tn /= 2\n",
        "\t\t\t\tt += 1\n",
        "\t\t\telse:\n",
        "\t\t\t\tn = 3 * n + 1\n",
        "\t\t\t\tt += 1\n",
        "\t\t\t\n",
        "\t\tc = t\n",
        "\t\tif max_num < c:\n",
        "\t\t\tmax_num = c\n",
        "\t\n",
        "\tprint(i[0],i[1],max_num)\n",
        "\n"
      ],
      "execution_count": null,
      "outputs": []
    },
    {
      "cell_type": "code",
      "metadata": {
        "id": "-XzFzwtS5wc7"
      },
      "source": [
        "# -*- coding: utf-8 -*-\n",
        "# UTF-8 encoding when using korean\n",
        "\n",
        "import sys\n",
        "\n",
        "l = []\n",
        "for i in sys.stdin:\n",
        "\tl.append(i.rstrip('\\n'))\n",
        "\n",
        "for i in l:\n",
        "\tif i[0] == '0':\n",
        "\t\tprint(int(i,16))\n",
        "\telse:\n",
        "\t\tprint('0x'+hex(int(i))[2:].upper() )\n",
        "\t\t\t\n"
      ],
      "execution_count": null,
      "outputs": []
    },
    {
      "cell_type": "code",
      "metadata": {
        "id": "k7i2XiZF6LjQ"
      },
      "source": [
        "#4220 여행(The Trip) : 오일러OJ\n",
        "# -*- coding: utf-8 -*-\n",
        "# UTF-8 encoding when using korean\n",
        "n, m = list(map(int,input().split()))\n",
        "t = 1\n",
        "while (n != 0) & (m != 0):\n",
        "\t\n",
        "\tl = []\n",
        "\tp = []\n",
        "\tfor _ in range(n):\n",
        "\t\tl.append(input())\n",
        "\t\tp.append([False]*m)\n",
        "\t\n",
        "\tfor i in range(n):\n",
        "\t\tfor j in range(m):\n",
        "\t\t\tif l[i][j] == '*':\n",
        "\t\t\t\tp[i][j] = '*'\n",
        "\t\t\t\tcontinue\n",
        "\t\t\t\n",
        "\t\t\tcnt = 0\n",
        "\t\t\tfor x in range(i-1,i+2):\n",
        "\t\t\t\tif x < 0:\n",
        "\t\t\t\t\tcontinue\n",
        "\t\t\t\tif x > n-1:\n",
        "\t\t\t\t\tcontinue\n",
        "\t\t\t\t\n",
        "\t\t\t\tfor y in range(j-1, j+2):\n",
        "\t\t\t\t\tif y < 0:\n",
        "\t\t\t\t\t\tcontinue\n",
        "\t\t\t\t\tif y > m-1:\n",
        "\t\t\t\t\t\tcontinue\n",
        "\t\t\t\t\tif l[x][y] == '*':\n",
        "\t\t\t\t\t\tcnt += 1\n",
        "\t\t\t\t\n",
        "\t\t\tp[i][j] = cnt\n",
        "\t\t\n",
        "\tprint('Field #{0}:'.format(t))\n",
        "\tfor i in p:\n",
        "\t\ta = ''\n",
        "\t\tfor j in i:\n",
        "\t\t\ta = a + str(j)\n",
        "\t\tprint(a)\n",
        "\t\n",
        "\tprint('')\n",
        "\tn, m = list(map(int, input().split()))\n",
        "\tt += 1\n",
        "\t\t\t\t\n",
        "\t\t\t\t\t"
      ],
      "execution_count": null,
      "outputs": []
    },
    {
      "cell_type": "code",
      "metadata": {
        "colab": {
          "base_uri": "https://localhost:8080/",
          "height": 172
        },
        "id": "vCjnZ_nu6PON",
        "outputId": "77c71add-5164-4d5c-9486-df9146340420"
      },
      "source": [
        "# -*- coding: utf-8 -*-\n",
        "# UTF-8 encoding when using korean\n",
        "import math\n",
        "\n",
        "n = int(input())\n",
        "while n != 0:\n",
        "\tl = []\n",
        "\t\n",
        "\tsum = 0\n",
        "\tfor _ in range(n):\n",
        "\t\ta = float(input()) * 100\n",
        "\t\tl.append(a)\n",
        "\t\tsum += a\n",
        "\n",
        "\tl.sort(reverse=True)\n",
        "\t\n",
        "\tresult = 0\n",
        "\tif sum % n == 0:\n",
        "\t\tmean = int(sum / n)\n",
        "\t\tfor i in l:\n",
        "\t\t\tresult += abs(i - mean)\n",
        "\t\tresult /= 2\n",
        "\t\tprint('${0:.2f}'.format(result/100))\n",
        "\telse:\n",
        "\t\tcnt = int(sum % n)\n",
        "\t\tmean = int((sum-cnt)/n)\n",
        "\n",
        "\t\tp = [mean] * n\n",
        "\t\tfor i in range(cnt):\n",
        "\t\t\tp[i] += 1\n",
        "\t\t\n",
        "\t\tfor i in range(n):\n",
        "\t\t\tresult += abs(p[i] - l[i])\n",
        "\t\t\t\n",
        "\t\tprint('${0:.2f}'.format((result/2)/100))\n",
        "\t\n",
        "\tn = int(input())"
      ],
      "execution_count": null,
      "outputs": [
        {
          "output_type": "error",
          "ename": "NameError",
          "evalue": "ignored",
          "traceback": [
            "\u001b[0;31m---------------------------------------------------------------------------\u001b[0m",
            "\u001b[0;31mNameError\u001b[0m                                 Traceback (most recent call last)",
            "\u001b[0;32m<ipython-input-28-a6195360d62f>\u001b[0m in \u001b[0;36m<module>\u001b[0;34m()\u001b[0m\n\u001b[0;32m----> 1\u001b[0;31m \u001b[0mfloor\u001b[0m\u001b[0;34m(\u001b[0m\u001b[0;36m12.346\u001b[0m\u001b[0;34m,\u001b[0m\u001b[0;36m2\u001b[0m\u001b[0;34m)\u001b[0m\u001b[0;34m\u001b[0m\u001b[0;34m\u001b[0m\u001b[0m\n\u001b[0m",
            "\u001b[0;31mNameError\u001b[0m: name 'floor' is not defined"
          ]
        }
      ]
    },
    {
      "cell_type": "markdown",
      "metadata": {
        "id": "C3p2V_EE6HdA"
      },
      "source": [
        "# 2주차"
      ]
    },
    {
      "cell_type": "code",
      "metadata": {
        "id": "fB-sfw_g6Ile"
      },
      "source": [
        ""
      ],
      "execution_count": null,
      "outputs": []
    }
  ]
}