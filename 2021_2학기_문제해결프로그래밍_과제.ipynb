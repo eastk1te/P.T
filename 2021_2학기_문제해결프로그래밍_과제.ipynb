{
  "nbformat": 4,
  "nbformat_minor": 0,
  "metadata": {
    "colab": {
      "name": "2021_2학기_문제해결프로그래밍_과제.ipynb",
      "provenance": [],
      "collapsed_sections": [
        "swr8l3oAQIbG",
        "C3p2V_EE6HdA"
      ],
      "authorship_tag": "ABX9TyNBKd6d/D+KXJ0nIBV6rKig",
      "include_colab_link": true
    },
    "kernelspec": {
      "name": "python3",
      "display_name": "Python 3"
    },
    "language_info": {
      "name": "python"
    }
  },
  "cells": [
    {
      "cell_type": "markdown",
      "metadata": {
        "id": "view-in-github",
        "colab_type": "text"
      },
      "source": [
        "<a href=\"https://colab.research.google.com/github/tjy2202/Personal_training/blob/main/2021_2%ED%95%99%EA%B8%B0_%EB%AC%B8%EC%A0%9C%ED%95%B4%EA%B2%B0%ED%94%84%EB%A1%9C%EA%B7%B8%EB%9E%98%EB%B0%8D_%EA%B3%BC%EC%A0%9C.ipynb\" target=\"_parent\"><img src=\"https://colab.research.google.com/assets/colab-badge.svg\" alt=\"Open In Colab\"/></a>"
      ]
    },
    {
      "cell_type": "code",
      "metadata": {
        "id": "ROjLzqhoJAyD"
      },
      "source": [
        "IndentationError: unindent does not match any outer indentation level make: *** [cmd] Error 1\n",
        "# 띄어쓰기 오류"
      ],
      "execution_count": null,
      "outputs": []
    },
    {
      "cell_type": "markdown",
      "metadata": {
        "id": "swr8l3oAQIbG"
      },
      "source": [
        "# 1주차"
      ]
    },
    {
      "cell_type": "code",
      "metadata": {
        "id": "UMLzudxPQFQR"
      },
      "source": [
        "import sys\n",
        "\n",
        "l = []\n",
        "p = []\n",
        "for i in sys.stdin:\n",
        "\tl.append(i.rstrip('\\n'))\n",
        "\n",
        "for i in l:\n",
        "\ta = []\n",
        "\tb = 0\n",
        "\tc = len(i) - 1\n",
        "\tfor j in range(c + 1):\n",
        "\t\tif j == c:\n",
        "\t\t\tif i[j] == ' ':\n",
        "\t\t\t\ta.append(i[b:].rstrip(' '))\n",
        "\t\t\telif i[j] == '\\t':\n",
        "\t\t\t\ta.append(i[b:].rstrip('\\t'))\n",
        "\t\t\telse:\n",
        "\t\t\t\ta.append(i[b:])\n",
        "\t\telse:\n",
        "\t\t\tif i[j] == ' ':\n",
        "\t\t\t\ta.append(i[b:j+1].rstrip(' '))\n",
        "\t\t\t\tb = j + 1\n",
        "\t\t\tif i[j] == '\\t':\n",
        "\t\t\t\ta.append(i[b:j+1].rstrip('\\t'))\n",
        "\t\t\t\tb = j+1\n",
        "\t\t\n",
        "\tresult = [0,0]\n",
        "\tfor i in a:\n",
        "\t\tif not i:\n",
        "\t\t\tcontinue\n",
        "\t\tresult[1] = result[1] + 1\n",
        "\t\tresult[0] = result[0] + len(i)\n",
        "\t\n",
        "\tprint(*result)"
      ],
      "execution_count": null,
      "outputs": []
    },
    {
      "cell_type": "code",
      "metadata": {
        "id": "Sjpsv8FKv8oj"
      },
      "source": [
        "# -*- coding: utf-8 -*-\n",
        "# UTF-8 encoding when using korean\n",
        "import sys\n",
        "l = []\n",
        "for i in sys.stdin:\n",
        "\tl.append(i.rstrip('\\n').split(' '))\n",
        "p = [False] * 1000001\n",
        "\t\n",
        "for i in l:\n",
        "\ti = list(map(int,i))\n",
        "\t\n",
        "\td = 0\n",
        "\tif i[0] > i[1]:\n",
        "\t\tmax = i[0]\n",
        "\t\tmin = i[1]\n",
        "\telse:\n",
        "\t\tmax = i[1]\n",
        "\t\tmin = i[0]\n",
        "\t\n",
        "\tmax_num = 0\n",
        "\tfor j in range(min,max+1):\n",
        "\t\tt = 1\n",
        "\t\tn = j\n",
        "\t\twhile n != 1:\n",
        "\t\t\tif n % 2 == 0:\n",
        "\t\t\t\tn /= 2\n",
        "\t\t\t\tt += 1\n",
        "\t\t\telse:\n",
        "\t\t\t\tn = 3 * n + 1\n",
        "\t\t\t\tt += 1\n",
        "\t\t\t\n",
        "\t\tc = t\n",
        "\t\tif max_num < c:\n",
        "\t\t\tmax_num = c\n",
        "\t\n",
        "\tprint(i[0],i[1],max_num)\n",
        "\n"
      ],
      "execution_count": null,
      "outputs": []
    },
    {
      "cell_type": "code",
      "metadata": {
        "id": "-XzFzwtS5wc7"
      },
      "source": [
        "# -*- coding: utf-8 -*-\n",
        "# UTF-8 encoding when using korean\n",
        "\n",
        "import sys\n",
        "\n",
        "l = []\n",
        "for i in sys.stdin:\n",
        "\tl.append(i.rstrip('\\n'))\n",
        "\n",
        "for i in l:\n",
        "\tif i[0] == '0':\n",
        "\t\tprint(int(i,16))\n",
        "\telse:\n",
        "\t\tprint('0x'+hex(int(i))[2:].upper() )\n",
        "\t\t\t\n"
      ],
      "execution_count": null,
      "outputs": []
    },
    {
      "cell_type": "code",
      "metadata": {
        "id": "k7i2XiZF6LjQ"
      },
      "source": [
        "#4220 여행(The Trip) : 오일러OJ\n",
        "# -*- coding: utf-8 -*-\n",
        "# UTF-8 encoding when using korean\n",
        "n, m = list(map(int,input().split()))\n",
        "t = 1\n",
        "while (n != 0) & (m != 0):\n",
        "\t\n",
        "\tl = []\n",
        "\tp = []\n",
        "\tfor _ in range(n):\n",
        "\t\tl.append(input())\n",
        "\t\tp.append([False]*m)\n",
        "\t\n",
        "\tfor i in range(n):\n",
        "\t\tfor j in range(m):\n",
        "\t\t\tif l[i][j] == '*':\n",
        "\t\t\t\tp[i][j] = '*'\n",
        "\t\t\t\tcontinue\n",
        "\t\t\t\n",
        "\t\t\tcnt = 0\n",
        "\t\t\tfor x in range(i-1,i+2):\n",
        "\t\t\t\tif x < 0:\n",
        "\t\t\t\t\tcontinue\n",
        "\t\t\t\tif x > n-1:\n",
        "\t\t\t\t\tcontinue\n",
        "\t\t\t\t\n",
        "\t\t\t\tfor y in range(j-1, j+2):\n",
        "\t\t\t\t\tif y < 0:\n",
        "\t\t\t\t\t\tcontinue\n",
        "\t\t\t\t\tif y > m-1:\n",
        "\t\t\t\t\t\tcontinue\n",
        "\t\t\t\t\tif l[x][y] == '*':\n",
        "\t\t\t\t\t\tcnt += 1\n",
        "\t\t\t\t\n",
        "\t\t\tp[i][j] = cnt\n",
        "\t\t\n",
        "\tprint('Field #{0}:'.format(t))\n",
        "\tfor i in p:\n",
        "\t\ta = ''\n",
        "\t\tfor j in i:\n",
        "\t\t\ta = a + str(j)\n",
        "\t\tprint(a)\n",
        "\t\n",
        "\tprint('')\n",
        "\tn, m = list(map(int, input().split()))\n",
        "\tt += 1\n",
        "\t\t\t\t\n",
        "\t\t\t\t\t"
      ],
      "execution_count": null,
      "outputs": []
    },
    {
      "cell_type": "code",
      "metadata": {
        "colab": {
          "base_uri": "https://localhost:8080/",
          "height": 172
        },
        "id": "vCjnZ_nu6PON",
        "outputId": "77c71add-5164-4d5c-9486-df9146340420"
      },
      "source": [
        "# -*- coding: utf-8 -*-\n",
        "# UTF-8 encoding when using korean\n",
        "import math\n",
        "\n",
        "n = int(input())\n",
        "while n != 0:\n",
        "\tl = []\n",
        "\t\n",
        "\tsum = 0\n",
        "\tfor _ in range(n):\n",
        "\t\ta = float(input()) * 100\n",
        "\t\tl.append(a)\n",
        "\t\tsum += a\n",
        "\n",
        "\tl.sort(reverse=True)\n",
        "\t\n",
        "\tresult = 0\n",
        "\tif sum % n == 0:\n",
        "\t\tmean = int(sum / n)\n",
        "\t\tfor i in l:\n",
        "\t\t\tresult += abs(i - mean)\n",
        "\t\tresult /= 2\n",
        "\t\tprint('${0:.2f}'.format(result/100))\n",
        "\telse:\n",
        "\t\tcnt = int(sum % n)\n",
        "\t\tmean = int((sum-cnt)/n)\n",
        "\n",
        "\t\tp = [mean] * n\n",
        "\t\tfor i in range(cnt):\n",
        "\t\t\tp[i] += 1\n",
        "\t\t\n",
        "\t\tfor i in range(n):\n",
        "\t\t\tresult += abs(p[i] - l[i])\n",
        "\t\t\t\n",
        "\t\tprint('${0:.2f}'.format((result/2)/100))\n",
        "\t\n",
        "\tn = int(input())"
      ],
      "execution_count": null,
      "outputs": [
        {
          "output_type": "error",
          "ename": "NameError",
          "evalue": "ignored",
          "traceback": [
            "\u001b[0;31m---------------------------------------------------------------------------\u001b[0m",
            "\u001b[0;31mNameError\u001b[0m                                 Traceback (most recent call last)",
            "\u001b[0;32m<ipython-input-28-a6195360d62f>\u001b[0m in \u001b[0;36m<module>\u001b[0;34m()\u001b[0m\n\u001b[0;32m----> 1\u001b[0;31m \u001b[0mfloor\u001b[0m\u001b[0;34m(\u001b[0m\u001b[0;36m12.346\u001b[0m\u001b[0;34m,\u001b[0m\u001b[0;36m2\u001b[0m\u001b[0;34m)\u001b[0m\u001b[0;34m\u001b[0m\u001b[0;34m\u001b[0m\u001b[0m\n\u001b[0m",
            "\u001b[0;31mNameError\u001b[0m: name 'floor' is not defined"
          ]
        }
      ]
    },
    {
      "cell_type": "markdown",
      "metadata": {
        "id": "C3p2V_EE6HdA"
      },
      "source": [
        "# 2주차"
      ]
    },
    {
      "cell_type": "code",
      "metadata": {
        "id": "fB-sfw_g6Ile"
      },
      "source": [
        "import sys\n",
        "l = []\n",
        "for i in sys.stdin:\n",
        "\tl.append(list(map(int, i.rstrip('\\n').split())))\n",
        "\n",
        "for i in l:\n",
        "\tp = []\n",
        "\t\n",
        "\tfor j in range(1,i[0]):\n",
        "\t\tp.append(abs(i[j] - i[j+1]))\n",
        "\t\n",
        "\tq = [i for i in range(1,i[0])]\n",
        "\tp.sort()\n",
        "\tq.sort()\n",
        "\t\n",
        "\tif p == q:\n",
        "\t\tprint('Jolly')\n",
        "\telse:\n",
        "\t\tprint('Not jolly')"
      ],
      "execution_count": null,
      "outputs": []
    },
    {
      "cell_type": "code",
      "metadata": {
        "id": "82uEsgaR3ZdO"
      },
      "source": [
        "# -*- coding: utf-8 -*-\n",
        "# UTF-8 encoding when using korean\n",
        "import sys\n",
        "\n",
        "k = ['C','D','H','S']\n",
        "n = ['T','J','Q','K','A']\n",
        "\n",
        "def fo(x):\n",
        "\tb = 0\n",
        "\tfor j in range(4):\n",
        "\t\tif x[1] == k[j]:\n",
        "\t\t\tb += j+1\n",
        "\tfor j in range(5):\n",
        "\t\tif x[0] == n[j]:\n",
        "\t\t\tb += (10 + j) * 10\n",
        "\tif b < 5:\n",
        "\t\tb += int(x[0]) * 10\n",
        "\treturn b\n",
        "\n",
        "##########################################################################################\n",
        "def rank(x):\n",
        "\ty = []\n",
        "\tz = []\n",
        "\to = []\n",
        "\tg = [[2,3,4,5,14],[2,3,4,13,14], [2,3,12,13,14],[2,11,12,13,14]]\n",
        "\tfor i in x:\n",
        "\t\ty.append(i // 10)\n",
        "\t\tz.append(i % 10)\n",
        "\t\n",
        "\tfor i in range(4):\n",
        "\t\to.append(y[i+1]-y[i])\n",
        "\t\t\n",
        "\trank2 = y\n",
        "\n",
        "\tif (len(set(z)) == 1) and ((o == [1,1,1,1]) or (y in g)):\n",
        "\t\trank1 = 8\n",
        "\t\t\n",
        "\t\t\n",
        "\telif (o[:3] == [0,0,0]):\n",
        "\t\trank1 = 7\n",
        "\t\trank2 = y[:4]\n",
        "\telif (o[1:] == [0,0,0]):\n",
        "\t\trank1 = 7\n",
        "\t\trank2 = y[1:]\n",
        "\t\t\n",
        "\t\t\n",
        "\telif ((o[1] != 0) and (o[0] == 0) and (o[2:] == [0,0])):\n",
        "\t\trank1 = 6\n",
        "\t\trank2 = y[2:]\n",
        "\telif ((o[2] !=0) and (o[:2] == [0,0]) and (o[-1] == 0)):\n",
        "\t\trank1 = 6\n",
        "\t\trank2 = y[:3]\n",
        "\t\t\n",
        "\t\t\n",
        "\telif (len(set(z)) == 1):\n",
        "\t\trank1 = 5\n",
        "\t\t\n",
        "\t\t\n",
        "\telif ((o == [1,1,1,1]) or (y in g)):\n",
        "\t\trank1 = 4\n",
        "\t\t\n",
        "\t\t\n",
        "\telif (o[:2] == [0,0]):\n",
        "\t\trank1 = 3\n",
        "\t\trank2 = y[:3]\n",
        "\telif (o[1:3] == [0,0]): \n",
        "\t\trank1 = 3\n",
        "\t\trank2 = y[1:4]\n",
        "\telif (o[2:] == [0,0]):\n",
        "\t\trank1 = 3\n",
        "\t\trank2 = y[2:]\n",
        "\t\t\n",
        "\t\t\n",
        "\telif (o.count(0) == 2):\n",
        "\t\trank1 = 2\n",
        "\t\ta = []\n",
        "\t\tb = []\n",
        "\t\tfor i in y:\n",
        "\t\t\tif y.count(i) == 1:\n",
        "\t\t\t\ta.append(i)\n",
        "\t\t\telse:\n",
        "\t\t\t\tb.append(i)\n",
        "\n",
        "\t\tb.sort()\n",
        "\t\trank2 = a + b\n",
        "\t\n",
        "\t\n",
        "\telif (o.count(0) == 1):\n",
        "\t\trank1 = 1\n",
        "\t\ta = []\n",
        "\t\tb = []\n",
        "\t\tfor i in y:\n",
        "\t\t\tif y.count(i) == 1:\n",
        "\t\t\t\ta.append(i)\n",
        "\t\t\telse:\n",
        "\t\t\t\tb.append(i)\n",
        "\t\ta.sort()\n",
        "\t\tb.sort()\n",
        "\t\trank2 = a + b\n",
        "\t\t\n",
        "\t\t\n",
        "\telse:\n",
        "\t\trank1 = 0\n",
        "\t\n",
        "\treturn rank1, rank2\n",
        "\t\n",
        "\t\t\n",
        "\t\t\n",
        "\t\t\n",
        "\t\t\n",
        "#########################################################################################\n",
        "l = []\n",
        "for i in sys.stdin:\n",
        "\tl.append(list(map(fo, i.rstrip('\\n').split())))\n",
        "\n",
        "for i in l:\n",
        "\tbl = []\n",
        "\twh = []\n",
        "\tfor j in range(5):\n",
        "\t\tbl.append(i[j])\n",
        "\t\twh.append(i[j+5])\n",
        "\t\t\n",
        "\tbl.sort()\n",
        "\twh.sort()\n",
        "\t\n",
        "\tb1, b2 = rank(bl)\n",
        "\tw1, w2 = rank(wh)\n",
        "\n",
        "\tif b1 > w1:\n",
        "\t\tprint('Black wins.')\n",
        "\telif b1 < w1:\n",
        "\t\tprint('White wins.')\n",
        "\telse:\n",
        "\t\tfor j in range(-1,-(len(b2)+1),-1):\n",
        "\t\t\tif b2[j] > w2[j]:\n",
        "\t\t\t\tprint('Black wins.')\n",
        "\t\t\t\th = 1\n",
        "\t\t\t\tbreak\n",
        "\t\t\telif b2[j] < w2[j]:\n",
        "\t\t\t\tprint('White wins.')\n",
        "\t\t\t\th = 1\n",
        "\t\t\t\tbreak\n",
        "\t\t\telse:\n",
        "\t\t\t\th = 0\n",
        "\t\t\t\tcontinue\n",
        "\t\tif h == 0:\n",
        "\t\t\tprint('Tie.')"
      ],
      "execution_count": null,
      "outputs": []
    },
    {
      "cell_type": "code",
      "metadata": {
        "id": "hew2k600pCY6"
      },
      "source": [
        "# -*- coding: utf-8 -*-\n",
        "# UTF-8 encoding when using korean\n",
        "n = int(input())\n",
        "\n",
        "for _ in range(n):\n",
        "\td = int(input())\n",
        "\tp = int(input())\n",
        "\tl = []\n",
        "\tfor _ in range(p):\n",
        "\t\tl.append(int(input()))\n",
        "\t\n",
        "\tresult = []\n",
        "\t\n",
        "\ta = [i for i in range(6,d+1,7)]\n",
        "\tb = [i for i in range(7,d+1,7)]\n",
        "\ta = set(a + b)\n",
        "\tfor i in l:\n",
        "\t\tn = 1\n",
        "\t\twhile True:\n",
        "\t\t\tif i * n > d:\n",
        "\t\t\t\tbreak\n",
        "\t\t\telse:\n",
        "\t\t\t\tresult.append(n*i)\n",
        "\t\t\t\tn += 1\n",
        "\t\t\t\t\n",
        "\tresult = set(result)\n",
        "\tresult = result - a\n",
        "\tprint(len(result))"
      ],
      "execution_count": null,
      "outputs": []
    },
    {
      "cell_type": "markdown",
      "metadata": {
        "id": "vd-eMhd63UgY"
      },
      "source": [
        "# 3주차"
      ]
    },
    {
      "cell_type": "code",
      "metadata": {
        "id": "zCRqBiAYbyg1"
      },
      "source": [
        "# -*- coding: utf-8 -*-\n",
        "# UTF-8 encoding when using korean\n",
        "import sys\n",
        "\n",
        "x = int(input())\n",
        "t = [2,3,4,5,6,7,8,9,10,'Jack','Queen','King','Ace']\n",
        "shape = ['Clubs','Diamonds','Hearts','Spades']\n",
        "n = input()\n",
        "for v in range(x):\n",
        "\n",
        "\tn = int(input())\n",
        "\tl = []\n",
        "\tfor _ in range(n):\n",
        "\t\tl.append(list(map(int,input().split())))\n",
        "\t\n",
        "\tp = [i for i in range(1,53)]\n",
        "\t\n",
        "\tk = sys.stdin.readline().rstrip('\\n')\n",
        "\twhile k != '':\n",
        "\t\tk = int(k)\n",
        "\t\tf = [False] * 52\n",
        "\t\tfor j in range(52):\n",
        "\t\t\tf[j] = p[l[k-1][j]-1]\n",
        "\t\tp = f\n",
        "\t\tk = sys.stdin.readline().rstrip('\\n')\n",
        "\t\n",
        "\tfor i in p:\n",
        "\t\tif (i-1) // 13 == 4:\n",
        "\t\t\ta = shape[3]\n",
        "\t\telse:\n",
        "\t\t\ta = shape[(i-1) // 13]\n",
        "\t\tb = t[(i-1) % 13]\n",
        "\t\tprint('{0} of {1}'.format(b,a))\n",
        "\t\n",
        "\tif v != x-1:\n",
        "\t\tprint()"
      ],
      "execution_count": null,
      "outputs": []
    },
    {
      "cell_type": "code",
      "metadata": {
        "id": "N2YGWKCubycZ"
      },
      "source": [
        ""
      ],
      "execution_count": null,
      "outputs": []
    },
    {
      "cell_type": "code",
      "metadata": {
        "id": "KCI1IiAUbyYo"
      },
      "source": [
        ""
      ],
      "execution_count": null,
      "outputs": []
    },
    {
      "cell_type": "markdown",
      "metadata": {
        "id": "jMSD71De3W3X"
      },
      "source": [
        ""
      ]
    },
    {
      "cell_type": "markdown",
      "metadata": {
        "id": "fPdoPbDl3Xgt"
      },
      "source": [
        "# 3주차"
      ]
    },
    {
      "cell_type": "markdown",
      "metadata": {
        "id": "dlzbTplV3Xgt"
      },
      "source": [
        ""
      ]
    },
    {
      "cell_type": "markdown",
      "metadata": {
        "id": "Y-kWfKBI3XoK"
      },
      "source": [
        "# 3주차"
      ]
    },
    {
      "cell_type": "markdown",
      "metadata": {
        "id": "JsG0USmd3XoL"
      },
      "source": [
        ""
      ]
    },
    {
      "cell_type": "markdown",
      "metadata": {
        "id": "gPIJXHar3XrB"
      },
      "source": [
        "# 3주차"
      ]
    },
    {
      "cell_type": "markdown",
      "metadata": {
        "id": "pJcQ-39g3XrC"
      },
      "source": [
        ""
      ]
    },
    {
      "cell_type": "markdown",
      "metadata": {
        "id": "T5wbiAyw3Xt4"
      },
      "source": [
        "# 3주차"
      ]
    },
    {
      "cell_type": "markdown",
      "metadata": {
        "id": "SooRzl3n3Xt5"
      },
      "source": [
        ""
      ]
    },
    {
      "cell_type": "markdown",
      "metadata": {
        "id": "NL-eQgIq3Xxo"
      },
      "source": [
        "# 3주차"
      ]
    },
    {
      "cell_type": "markdown",
      "metadata": {
        "id": "9YR4fEo33Xxo"
      },
      "source": [
        ""
      ]
    }
  ]
}